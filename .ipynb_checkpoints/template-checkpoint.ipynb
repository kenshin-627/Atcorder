{
 "cells": [
  {
   "cell_type": "code",
   "execution_count": 2,
   "metadata": {},
   "outputs": [
    {
     "name": "stdout",
     "output_type": "stream",
     "text": [
      "1\n",
      "1\n"
     ]
    }
   ],
   "source": [
    "from itertools import combinations\n",
    "from itertools import permutations\n",
    "import bisect\n",
    "from collections import Counter\n",
    "from collections import deque\n",
    "from collections import defaultdict\n",
    "\n",
    "def main():\n",
    "    \n",
    "if __name__ == \"__main__\":\n",
    "    main()"
   ]
  },
  {
   "cell_type": "code",
   "execution_count": 64,
   "metadata": {},
   "outputs": [],
   "source": [
    "# 再帰回数の上限を変更\n",
    "import sys\n",
    "sys.setrecursionlimit(10**9)\n",
    "\n",
    "# メモ化再帰\n",
    "from functools import lru_cache\n",
    "@lru_cache\n",
    "def f(n):\n",
    "    if n == 0:\n",
    "        return 1\n",
    "    return f(n // 2) + f(n // 3)"
   ]
  },
  {
   "cell_type": "code",
   "execution_count": 33,
   "metadata": {},
   "outputs": [],
   "source": [
    "# 幅優先探索(BFS)\n",
    "\n",
    "# input\n",
    "# adjacency_list: 隣接リスト ([[], [2,3], [1], [1]]　これなら1-2，1-3がつながってる)\n",
    "# x: スタート\n",
    "# y: ゴール\n",
    "\n",
    "# return: xからyに行けるならxからyへのpath，無理なら-1\n",
    "\n",
    "from collections import deque\n",
    "\n",
    "def BFS(adjacency_list, x, y):\n",
    "    if x == y:\n",
    "        return [x]\n",
    "    if x < 0 or len(adjacency_list) <= x or y < 0 or len(adjacency_list) <= y:\n",
    "        return -1\n",
    "    # i番目の頂点の親が記録されてる変数\n",
    "    parent = [-1] * len(adjacency_list)\n",
    "    # 今後探索する頂点\n",
    "    dq_search = deque([x])\n",
    "    # 探索した頂点\n",
    "    seen_node = [0] * len(adjacency_list)\n",
    "    while(dq_search):\n",
    "        now_node = dq_search.popleft()\n",
    "        for next_node in adjacency_list[now_node]:\n",
    "            if seen_node[next_node] == 0:\n",
    "                parent[next_node] = now_node\n",
    "                if next_node == y:\n",
    "                    path = [y]\n",
    "                    tmp_node = y\n",
    "                    while(tmp_node != x):\n",
    "                        tmp_node = parent[tmp_node]\n",
    "                        path.append(tmp_node)\n",
    "                    path.reverse()\n",
    "                    return path\n",
    "                dq_search.append(next_node)\n",
    "                seen_node[next_node] = 1\n",
    "    return -1"
   ]
  },
  {
   "cell_type": "code",
   "execution_count": 32,
   "metadata": {},
   "outputs": [],
   "source": [
    "# 深さ優先探索(DFS)\n",
    "\n",
    "# input\n",
    "# adjacency_list: 隣接リスト ([[], [2,3], [1], [1]]　これなら1-2，1-3がつながってる)\n",
    "# x: スタート\n",
    "# y: ゴール\n",
    "\n",
    "# return: xからyに行けるならxからyへのpath，無理なら-1\n",
    "\n",
    "from collections import deque\n",
    "\n",
    "def DFS(adjacency_list, x, y):\n",
    "    if x == y:\n",
    "        return [x]\n",
    "    if x < 0 or len(adjacency_list) <= x or y < 0 or len(adjacency_list) <= y:\n",
    "        return -1\n",
    "    # i番目の頂点の親が記録されてる変数\n",
    "    parent = [-1] * len(adjacency_list)\n",
    "    # 今後探索する頂点\n",
    "    dq_search = deque([x])\n",
    "    # 探索した頂点\n",
    "    seen_node = [0] * len(adjacency_list)\n",
    "    while(dq_search):\n",
    "        now_node = dq_search.pop()\n",
    "        for next_node in adjacency_list[now_node]:\n",
    "            if seen_node[next_node] == 0:\n",
    "                parent[next_node] = now_node\n",
    "                if next_node == y:\n",
    "                    path = [y]\n",
    "                    tmp_node = y\n",
    "                    while(tmp_node != x):\n",
    "                        tmp_node = parent[tmp_node]\n",
    "                        path.append(tmp_node)\n",
    "                    path.reverse()\n",
    "                    return path\n",
    "                dq_search.append(next_node)\n",
    "                seen_node[next_node] = 1\n",
    "    return -1"
   ]
  },
  {
   "cell_type": "code",
   "execution_count": 38,
   "metadata": {},
   "outputs": [
    {
     "name": "stdout",
     "output_type": "stream",
     "text": [
      "[]\n",
      "['J']\n",
      "['Q']\n",
      "['J', 'Q']\n",
      "['K']\n",
      "['J', 'K']\n",
      "['Q', 'K']\n",
      "['J', 'Q', 'K']\n"
     ]
    }
   ],
   "source": [
    "# bit全探索\n",
    "cards = ['J', 'Q', 'K']\n",
    "n = len(cards)\n",
    "\n",
    "for bit in range(1 << n):\n",
    "    combination = [] \n",
    "    for i in range(n):\n",
    "        shift_i = 1 << i\n",
    "        if bit & shift_i > 0:\n",
    "            combination.append(cards[i])\n",
    "    print(combination)"
   ]
  },
  {
   "cell_type": "code",
   "execution_count": 40,
   "metadata": {},
   "outputs": [],
   "source": [
    "# 2次元配列の要素数をカウントする\n",
    "from collections import defaultdict\n",
    "\n",
    "def count_2dim(lis):\n",
    "    counter = defaultdict(int)\n",
    "    for i in lis:\n",
    "        for j in i:\n",
    "            counter[j] += 1\n",
    "    return counter"
   ]
  },
  {
   "cell_type": "code",
   "execution_count": 1,
   "metadata": {},
   "outputs": [
    {
     "name": "stdout",
     "output_type": "stream",
     "text": [
      "[1, 2, 3, 4, 6, 12]\n"
     ]
    }
   ],
   "source": [
    "# 約数列挙\n",
    "def make_divisors(n):\n",
    "    lower_divisors , upper_divisors = [], []\n",
    "    i = 1\n",
    "    while i*i <= n:\n",
    "        if n % i == 0:\n",
    "            lower_divisors.append(i)\n",
    "            if i != n // i:\n",
    "                upper_divisors.append(n//i)\n",
    "        i += 1\n",
    "    return lower_divisors + upper_divisors[::-1]\n",
    "print(make_divisors(12))"
   ]
  },
  {
   "cell_type": "code",
   "execution_count": 1,
   "metadata": {},
   "outputs": [
    {
     "name": "stdout",
     "output_type": "stream",
     "text": [
      "Counter({2: 2, 3: 1})\n"
     ]
    }
   ],
   "source": [
    "from collections import Counter\n",
    "\n",
    "# 素因数分解を行う関数\n",
    "def prime_factorization(n):\n",
    "    # Counterクラスを呼び出してオブジェクト生成\n",
    "    counter = Counter()\n",
    "    \n",
    "    # 素数で割り切れるかの判定\n",
    "    for p in range(2, int(n ** 0.5) + 1):\n",
    "        # １回割り切れるごとに+1カウントしていく\n",
    "        while n % p == 0:\n",
    "            counter[p] += 1\n",
    "            n //= p\n",
    "    # n が1より大きい数字として残っていれば、素数\n",
    "    if n != 1:\n",
    "        counter[n] += 1\n",
    "    return counter\n",
    "print(prime_factorization(12))"
   ]
  },
  {
   "cell_type": "code",
   "execution_count": null,
   "metadata": {},
   "outputs": [],
   "source": [
    "# 二分探索\n",
    "    left = 0\n",
    "    right = L\n",
    "    while(left < right):\n",
    "        mid = (left+right+1) // 2\n",
    "        if x >= mid:\n",
    "            left = mid\n",
    "        else:\n",
    "            right = mid - 1"
   ]
  },
  {
   "cell_type": "code",
   "execution_count": 1,
   "metadata": {},
   "outputs": [
    {
     "name": "stdout",
     "output_type": "stream",
     "text": [
      "ABCDEFGHIJKLMNOPQRSTUVWXYZ\n"
     ]
    }
   ],
   "source": [
    "import string\n",
    "string.octdigits='01234567'\n",
    "string.digits='0123456789'\n",
    "string.hexdigits='0123456789abcdefABCDEF'\n",
    "\n",
    "string.letters='abcdefghijklmnopqrstuvwxyzABCDEFGHIJKLMNOPQRSTUVWXYZ'\n",
    "string.lowercase='abcdefghijklmnopqrstuvwxyz'\n",
    "string.uppercase='ABCDEFGHIJKLMNOPQRSTUVWXYZ'\n",
    "\n",
    "string.printable='0123456789abcdefghijklmnopqrstuvwxyzABCDEFGHIJKLMNOPQRSTUVWXYZ!\"#$%&\\'()*+,-./:;<=>?@[\\\\]^_`{|}~ \\t\\n\\r\\x0b\\x0c'\n",
    "string.punctuation='!\"#$%&\\'()*+,-./:;<=>?@[\\\\]^_`{|}~'\n",
    "string.whitespace='\\t\\n\\x0b\\x0c\\r '"
   ]
  },
  {
   "cell_type": "code",
   "execution_count": 3,
   "metadata": {},
   "outputs": [
    {
     "name": "stdout",
     "output_type": "stream",
     "text": [
      "0.255403995513916\n",
      "0.39133715629577637\n",
      "10000000\n"
     ]
    }
   ],
   "source": [
    "import time\n",
    "st = time.time()\n",
    "for i in range(10000000):\n",
    "    i\n",
    "print(time.time()-st)\n",
    "st = time.time()\n",
    "i = 0\n",
    "while(i<10000000):\n",
    "    i += 1\n",
    "print(time.time()-st)\n",
    "print(i)\n",
    "st = 0\n",
    "i = 0\n",
    "while(True):\n",
    "    i += 1\n",
    "    if i == 100000000:\n",
    "        break\n",
    "        "
   ]
  },
  {
   "cell_type": "code",
   "execution_count": null,
   "metadata": {},
   "outputs": [],
   "source": [
    "# トポロジカルソート\n",
    "# adj_dict: 隣接辞書\n",
    "# into_num_dict: 入次数辞書 (例:1→2, 1→3, 2→3の有向辺があったら{1:0, 2:1, 3:2})\n",
    "# start_nodes: 入次数が0のノード集合\n",
    "def topological_sort(adj_dict, into_num_dict, start_nodes):\n",
    "    q = deque(start_nodes)\n",
    "    ans = []\n",
    "    while q:\n",
    "        now_node = q.popleft()\n",
    "        ans.append(now_node)\n",
    "        for next_node in adj_dict[now_node]:\n",
    "            into_num_dict[next_node] -= 1\n",
    "            if into_num_dict[next_node] == 0:\n",
    "                count += 1\n",
    "                q.append(next_node)\n",
    "    return ans"
   ]
  },
  {
   "cell_type": "code",
   "execution_count": null,
   "metadata": {},
   "outputs": [],
   "source": [
    "# UnionFind\n",
    "# n: 要素数 (0~n-1)\n",
    "# parents: 各要素の親要素の番号を格納するリスト(要素が根の場合はそのグループの要素数を返す)\n",
    "# find(x): 要素xが属するグループの根を返す\n",
    "# union(x, y): 要素xが属するグループと要素yが属するグループとを併合する\n",
    "# size(x): 要素xが属するグループのサイズ(要素数)を返す\n",
    "# members(x): 要素xが属するグループに属する要素をリストで返す\n",
    "# roots(): 全ての根の要素をリストで返す\n",
    "# group_count(): グループの数を返す\n",
    "# all_group_members(): {根: そのグループに含まれる要素のリスト, ....}のdefaultdictを返す\n",
    "# __str__(): print()での表示用\n",
    "from collections import defaultdict\n",
    "\n",
    "class UnionFind():\n",
    "    def __init__(self, n):\n",
    "        self.n = n\n",
    "        self.parents = [-1] * n\n",
    "\n",
    "    def find(self, x):\n",
    "        if self.parents[x] < 0:\n",
    "            return x\n",
    "        else:\n",
    "            self.parents[x] = self.find(self.parents[x])\n",
    "            return self.parents[x]\n",
    "\n",
    "    def union(self, x, y):\n",
    "        x = self.find(x)\n",
    "        y = self.find(y)\n",
    "\n",
    "        if x == y:\n",
    "            return\n",
    "\n",
    "        self.parents[x] += self.parents[y]\n",
    "        self.parents[y] = x\n",
    "\n",
    "    def size(self, x):\n",
    "        return -self.parents[self.find(x)]\n",
    "\n",
    "    def same(self, x, y):\n",
    "        return self.find(x) == self.find(y)\n",
    "\n",
    "    def members(self, x):\n",
    "        root = self.find(x)\n",
    "        return [i for i in range(self.n) if self.find(i) == root]\n",
    "\n",
    "    def roots(self):\n",
    "        return [i for i, x in enumerate(self.parents) if x < 0]\n",
    "\n",
    "    def group_count(self):\n",
    "        return len(self.roots())\n",
    "\n",
    "    def all_group_members(self):\n",
    "        group_members = defaultdict(list)\n",
    "        for member in range(self.n):\n",
    "            group_members[self.find(member)].append(member)\n",
    "        return group_members\n",
    "\n",
    "    def __str__(self):\n",
    "        return '\\n'.join(f'{r}: {m}' for r, m in self.all_group_members().items())"
   ]
  }
 ],
 "metadata": {
  "kernelspec": {
   "display_name": "Python 3 (ipykernel)",
   "language": "python",
   "name": "python3"
  },
  "language_info": {
   "codemirror_mode": {
    "name": "ipython",
    "version": 3
   },
   "file_extension": ".py",
   "mimetype": "text/x-python",
   "name": "python",
   "nbconvert_exporter": "python",
   "pygments_lexer": "ipython3",
   "version": "3.9.6"
  }
 },
 "nbformat": 4,
 "nbformat_minor": 4
}
