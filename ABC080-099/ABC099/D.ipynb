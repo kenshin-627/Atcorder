{
 "cells": [
  {
   "cell_type": "code",
   "execution_count": null,
   "metadata": {},
   "outputs": [],
   "source": [
    "from itertools import permutations\n",
    "from collections import defaultdict\n",
    "\n",
    "def main():\n",
    "    N,C = map(int,input().split())\n",
    "    D = [list(map(int,input().split())) for _ in range(C)]\n",
    "    c = [list(map(int,input().split())) for _ in range(N)]\n",
    "    c0 = defaultdict(int)\n",
    "    c1 = defaultdict(int)\n",
    "    c2 = defaultdict(int)\n",
    "    for i in range(N):\n",
    "        for j in range(N):\n",
    "            if (i+j)%3 == 0:\n",
    "                c0[c[i][j]] += 1\n",
    "            elif (i+j)%3 == 1:\n",
    "                c1[c[i][j]] += 1\n",
    "            else:\n",
    "                c2[c[i][j]] += 1\n",
    "    if N == 1:\n",
    "        print(0)\n",
    "        return\n",
    "    ans = float('inf')\n",
    "    # c0を全てi色にするときにかかるコスト\n",
    "    c0_cost = defaultdict(int)\n",
    "    # c1を全てi色にするときにかかるコスト\n",
    "    c1_cost = defaultdict(int)\n",
    "    # c2を全てi色にするときにかかるコスト\n",
    "    c2_cost = defaultdict(int)\n",
    "    for i in range(1,C+1):\n",
    "        for j in range(1,C+1):\n",
    "            # j色をi色にするときにかかるコスト\n",
    "            c0_cost[i] += D[j-1][i-1]*c0[j]\n",
    "            c1_cost[i] += D[j-1][i-1]*c1[j]\n",
    "            c2_cost[i] += D[j-1][i-1]*c2[j]\n",
    "    for i,j,k in permutations(range(1,C+1),3):\n",
    "        ans = min(ans,c0_cost[i]+c1_cost[j]+c2_cost[k])\n",
    "    print(ans)\n",
    "\n",
    "if __name__ == \"__main__\":\n",
    "    main()"
   ]
  }
 ],
 "metadata": {
  "language_info": {
   "name": "python"
  },
  "orig_nbformat": 4
 },
 "nbformat": 4,
 "nbformat_minor": 2
}
