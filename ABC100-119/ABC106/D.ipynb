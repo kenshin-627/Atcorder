{
 "cells": [
  {
   "cell_type": "code",
   "execution_count": 5,
   "metadata": {},
   "outputs": [
    {
     "name": "stdout",
     "output_type": "stream",
     "text": [
      "l_to_r: defaultdict(<class 'list'>, {1: [1, 2], 2: [2]})\n",
      "r_to_num: defaultdict(<class 'int'>, {1: 1, 2: 2})\n",
      "1 1\n",
      "0\n",
      "+\n",
      "1\n",
      "1\n",
      "\n",
      "1 2\n",
      "1\n",
      "+\n",
      "1\n",
      "2\n",
      "\n",
      "2 2\n",
      "0\n",
      "+\n",
      "0\n",
      "0\n",
      "\n",
      "2\n",
      "[[0, 0, 0], [0, 1, 2], [0, 0, 0]]\n"
     ]
    }
   ],
   "source": [
    "from collections import defaultdict\n",
    "\n",
    "def main():\n",
    "    N,M,Q = map(int,input().split())\n",
    "    # lスタートの列車がrまで行く\n",
    "    l_to_r = defaultdict(list)\n",
    "    # rで止まる列車の数\n",
    "    r_to_num = defaultdict(int)\n",
    "    for _ in [0]*M:\n",
    "        l,r = map(int,input().split())\n",
    "        l_to_r[l].append(r)\n",
    "        r_to_num[r] += 1\n",
    "    dp = [[0]*(N+1) for _ in [0]*(N+1)]\n",
    "    for l in range(1,N+1):\n",
    "        for r in range(l,N+1):\n",
    "            dp[l][r] = dp[l][r-1]\n",
    "            # rで止まる列車の数を足す\n",
    "            dp[l][r] += r_to_num[r]\n",
    "        if l in l_to_r:\n",
    "            for r in l_to_r[l]:\n",
    "                r_to_num[r] -= 1\n",
    "    for _ in [0]*Q:\n",
    "        p,q = map(int,input().split())\n",
    "        print(dp[p][q])\n",
    "    \n",
    "if __name__ == \"__main__\":\n",
    "    main()"
   ]
  },
  {
   "cell_type": "code",
   "execution_count": 1,
   "metadata": {},
   "outputs": [
    {
     "name": "stdout",
     "output_type": "stream",
     "text": [
      "1 1\n",
      "1 2\n",
      "1 3\n",
      "2 2\n",
      "2 3\n",
      "3 3\n"
     ]
    }
   ],
   "source": [
    "from itertools import combinations_with_replacement\n",
    "\n",
    "for i,j in combinations_with_replacement(range(1,4),2):\n",
    "    print(i,j)"
   ]
  },
  {
   "cell_type": "code",
   "execution_count": null,
   "metadata": {},
   "outputs": [],
   "source": []
  }
 ],
 "metadata": {
  "kernelspec": {
   "display_name": "Python 3",
   "language": "python",
   "name": "python3"
  },
  "language_info": {
   "codemirror_mode": {
    "name": "ipython",
    "version": 3
   },
   "file_extension": ".py",
   "mimetype": "text/x-python",
   "name": "python",
   "nbconvert_exporter": "python",
   "pygments_lexer": "ipython3",
   "version": "3.11.1"
  },
  "orig_nbformat": 4
 },
 "nbformat": 4,
 "nbformat_minor": 2
}
