{
 "cells": [
  {
   "cell_type": "code",
   "execution_count": null,
   "metadata": {},
   "outputs": [],
   "source": [
    "from itertools import accumulate\n",
    "\n",
    "def main():\n",
    "    N = int(input())\n",
    "    AN = list(map(int, input().split()))\n",
    "    # ANの奇数番目の数列\n",
    "    AN_odd = AN[::2]\n",
    "    # ANの偶数番目の数列\n",
    "    AN_even = AN[1::2]\n",
    "    # ANの偶数番目の数列の左からi番目までを，奇数番目の数列の左からi番目までとした時の差\n",
    "    AN_left_diff = [AN_odd[i] - AN_even[i] for i in range(N//2)]\n",
    "    # ANの偶数番目の数列の右からi番目までを，奇数番目の数列の右からi番目までとした時の差\n",
    "    AN_right_diff = [AN_odd[-(i+1)] - AN_even[-(i+1)] for i in range(N//2)]\n",
    "    # 累積和\n",
    "    AN_left_diff_cumsum = list(accumulate(AN_left_diff, initial=0))\n",
    "    AN_right_diff_cumsum = list(accumulate(AN_right_diff, initial=0))\n",
    "    # 累積最大値\n",
    "    AN_left_diff_cummax = list(accumulate(AN_left_diff_cumsum, func=max))\n",
    "    AN_right_diff_cummax = list(accumulate(AN_right_diff_cumsum, func=max))\n",
    "    # ANの偶数番目の合計\n",
    "    AN_even_sum = sum(AN_even)\n",
    "    if N % 2 == 0:\n",
    "        print(AN_even_sum + max(AN_left_diff_cummax))\n",
    "        return\n",
    "    ans = AN_even_sum\n",
    "    for left,right in zip(AN_left_diff_cummax, AN_right_diff_cummax[::-1]):\n",
    "        if ans < AN_even_sum + left + right:\n",
    "            ans = AN_even_sum + left + right\n",
    "    print(ans)\n",
    "    \n",
    "if __name__ == \"__main__\":\n",
    "    main()"
   ]
  },
  {
   "cell_type": "code",
   "execution_count": null,
   "metadata": {},
   "outputs": [],
   "source": []
  }
 ],
 "metadata": {
  "kernelspec": {
   "display_name": "Python 3",
   "language": "python",
   "name": "python3"
  },
  "language_info": {
   "codemirror_mode": {
    "name": "ipython",
    "version": 3
   },
   "file_extension": ".py",
   "mimetype": "text/x-python",
   "name": "python",
   "nbconvert_exporter": "python",
   "pygments_lexer": "ipython3",
   "version": "3.11.1"
  },
  "orig_nbformat": 4
 },
 "nbformat": 4,
 "nbformat_minor": 2
}
