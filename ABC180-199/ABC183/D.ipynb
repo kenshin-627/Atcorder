{
 "cells": [
  {
   "cell_type": "code",
   "execution_count": null,
   "metadata": {},
   "outputs": [],
   "source": [
    "from collections import Counter\n",
    "from itertools import permutations\n",
    "from itertools import combinations\n",
    "import math\n",
    "import heapq\n",
    "from collections import OrderedDict\n",
    "import bisect\n",
    "from collections import deque\n",
    "from collections import defaultdict\n",
    "\n",
    "def main():\n",
    "    N,W = map(int,input().split())\n",
    "    using_dict = defaultdict(int)\n",
    "    for _ in range(N):\n",
    "        S,T,P = map(int,input().split())\n",
    "        using_dict[S] += P\n",
    "        using_dict[T] -= P\n",
    "    now = 0\n",
    "    for key in sorted(using_dict.keys()):\n",
    "        now += using_dict[key]\n",
    "        if now > W:\n",
    "            print(\"No\")\n",
    "            return\n",
    "    print(\"Yes\")\n",
    "    \n",
    "if __name__ == \"__main__\":\n",
    "    main()"
   ]
  }
 ],
 "metadata": {
  "language_info": {
   "name": "python"
  },
  "orig_nbformat": 4
 },
 "nbformat": 4,
 "nbformat_minor": 2
}
