{
 "cells": [
  {
   "cell_type": "code",
   "execution_count": null,
   "metadata": {},
   "outputs": [],
   "source": [
    "from collections import Counter\n",
    "from itertools import permutations\n",
    "from itertools import combinations\n",
    "import math\n",
    "import heapq\n",
    "from collections import OrderedDict\n",
    "import bisect\n",
    "from collections import deque\n",
    "from collections import defaultdict\n",
    "\n",
    "def main():\n",
    "    N = int(input())\n",
    "    # 負けに遷移できる頂点は勝ち\n",
    "    # 遷移できる頂点が全て勝ちなら負け\n",
    "    # 向きを逆にする\n",
    "    # 入次数が0の頂点は負け\n",
    "    # 負けから遷移できる頂点は勝ち(頂点から遷移できる頂点の入次数を1減らす)\n",
    "    # key: 後ろ3文字, value: [前3文字]\n",
    "    go_dict = defaultdict(set)\n",
    "    for _ in [0]*N:\n",
    "        s = input()\n",
    "        go_dict[s[-3:]].add(s[:3])\n",
    "    \n",
    "    \n",
    "if __name__ == \"__main__\":\n",
    "    main()"
   ]
  }
 ],
 "metadata": {
  "language_info": {
   "name": "python"
  },
  "orig_nbformat": 4
 },
 "nbformat": 4,
 "nbformat_minor": 2
}
