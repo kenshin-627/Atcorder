{
 "cells": [
  {
   "cell_type": "code",
   "execution_count": 57,
   "id": "aeb4b6e2",
   "metadata": {},
   "outputs": [
    {
     "name": "stdout",
     "output_type": "stream",
     "text": [
      "100 10\n",
      "1 31\n",
      "2 41\n",
      "69\n",
      "1 59\n",
      "2 26\n",
      "31\n",
      "1 53\n",
      "2 58\n",
      "6\n",
      "1 97\n",
      "2 93\n",
      "38\n",
      "1 23\n",
      "2 84\n",
      "38\n"
     ]
    }
   ],
   "source": [
    "# listでやったら一個だけTLEになるけど，arrayでやったらAC\n",
    "# arrayのinsertが速いらしい\n",
    "import bisect\n",
    "import array\n",
    "\n",
    "def main():\n",
    "    L,Q = map(int, input().split())\n",
    "    cut_list = array.array(\"i\", [0, L])\n",
    "    for _ in range(Q):\n",
    "        c,x = map(int, input().split())\n",
    "        index = bisect.bisect(cut_list, x)\n",
    "        if c == 1:\n",
    "            cut_list.insert(index, x)\n",
    "        else:\n",
    "            print(cut_list[index] - cut_list[index-1])\n",
    "    \n",
    "if __name__ == \"__main__\":\n",
    "    main()"
   ]
  },
  {
   "cell_type": "code",
   "execution_count": null,
   "id": "06899b86",
   "metadata": {},
   "outputs": [],
   "source": []
  }
 ],
 "metadata": {
  "kernelspec": {
   "display_name": "Python 3 (ipykernel)",
   "language": "python",
   "name": "python3"
  },
  "language_info": {
   "codemirror_mode": {
    "name": "ipython",
    "version": 3
   },
   "file_extension": ".py",
   "mimetype": "text/x-python",
   "name": "python",
   "nbconvert_exporter": "python",
   "pygments_lexer": "ipython3",
   "version": "3.9.6"
  }
 },
 "nbformat": 4,
 "nbformat_minor": 5
}
