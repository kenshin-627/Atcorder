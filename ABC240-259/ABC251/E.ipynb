{
 "cells": [
  {
   "cell_type": "code",
   "execution_count": 4,
   "metadata": {},
   "outputs": [
    {
     "name": "stdout",
     "output_type": "stream",
     "text": [
      "3\n"
     ]
    }
   ],
   "source": [
    "def main():\n",
    "    N = int(input())\n",
    "    A = list(map(int, input().split()))\n",
    "    INF = 10**15\n",
    "    min_coost = INF\n",
    "    # 0文字目が連続して1回選ばれているとき\n",
    "    # dp[i][j]: i番目まで見てたときの最小コスト(j=0:連続して1回選んでいる，j=1:連続して2回選んでいる，j=2:選ばない)\n",
    "    dp = [[INF]*3 for _ in [0]*N]\n",
    "    dp[0][0] = A[0]\n",
    "    dp[0][1] = INF\n",
    "    dp[0][2] = INF\n",
    "    for i in range(1,N):\n",
    "        dp[i][0] = dp[i-1][2] + A[i]\n",
    "        dp[i][1] = dp[i-1][0] + A[i]\n",
    "        dp[i][2] = min(dp[i-1][0], dp[i-1][1])\n",
    "        if i == N-1:\n",
    "            min_coost = min(min_coost, dp[i][2])\n",
    "    # 0文字目が連続して2回選ばれているとき\n",
    "    dp = [[INF]*3 for _ in [0]*N]\n",
    "    dp[0][0] = INF\n",
    "    dp[0][1] = A[0]\n",
    "    dp[0][2] = INF\n",
    "    for i in range(1,N):\n",
    "        dp[i][0] = dp[i-1][2] + A[i]\n",
    "        dp[i][1] = dp[i-1][0] + A[i]\n",
    "        dp[i][2] = min(dp[i-1][0], dp[i-1][1])\n",
    "        if i == N-1:\n",
    "            min_coost = min(min_coost, dp[i][0])\n",
    "    # 0文字目が選ばれていないとき\n",
    "    dp = [[INF]*3 for _ in [0]*N]\n",
    "    dp[0][0] = INF\n",
    "    dp[0][1] = INF\n",
    "    dp[0][2] = 0\n",
    "    for i in range(1,N):\n",
    "        dp[i][0] = dp[i-1][2] + A[i]\n",
    "        dp[i][1] = dp[i-1][0] + A[i]\n",
    "        dp[i][2] = min(dp[i-1][0], dp[i-1][1])\n",
    "        if i == N-1:\n",
    "            min_coost = min(min_coost, dp[i][0], dp[i][1])\n",
    "    print(min_coost)\n",
    "    \n",
    "if __name__ == \"__main__\":\n",
    "    main()"
   ]
  },
  {
   "cell_type": "code",
   "execution_count": null,
   "metadata": {},
   "outputs": [],
   "source": [
    "def main():\n",
    "    N = int(input())\n",
    "    A = list(map(int, input().split()))\n",
    "    INF = 10**15\n",
    "    min_coost = INF\n",
    "    # 0番目を選ばないとき\n",
    "    # # dp[i][j]: i番目まで見たときの最小コスト(j=0:i番目は選ばない，j=1:i番目を選ぶ)\n",
    "    dp = [[INF]*2 for _ in [0]*N]\n",
    "    dp[0][0] = 0\n",
    "    dp[0][1] = INF\n",
    "    for i in range(1,N):\n",
    "        dp[i][0] = dp[i-1][1]\n",
    "        dp[i][1] = min(dp[i-1][0], dp[i-1][1]) + A[i]\n",
    "        if i == N-1:\n",
    "            min_coost = min(min_coost, dp[i][1])\n",
    "    # 0番目を選ぶとき\n",
    "    dp = [[INF]*2 for _ in [0]*N]\n",
    "    dp[0][0] = INF\n",
    "    dp[0][1] = A[0]\n",
    "    for i in range(1,N):\n",
    "        dp[i][0] = dp[i-1][1]\n",
    "        dp[i][1] = min(dp[i-1][0], dp[i-1][1]) + A[i]\n",
    "        if i == N-1:\n",
    "            min_coost = min(min_coost, dp[i][0], dp[i][1])\n",
    "    print(min_coost)\n",
    "    \n",
    "if __name__ == \"__main__\":\n",
    "    main()"
   ]
  }
 ],
 "metadata": {
  "kernelspec": {
   "display_name": "Python 3",
   "language": "python",
   "name": "python3"
  },
  "language_info": {
   "codemirror_mode": {
    "name": "ipython",
    "version": 3
   },
   "file_extension": ".py",
   "mimetype": "text/x-python",
   "name": "python",
   "nbconvert_exporter": "python",
   "pygments_lexer": "ipython3",
   "version": "3.11.1"
  },
  "orig_nbformat": 4
 },
 "nbformat": 4,
 "nbformat_minor": 2
}
