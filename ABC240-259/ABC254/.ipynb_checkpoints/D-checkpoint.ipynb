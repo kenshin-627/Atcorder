{
 "cells": [
  {
   "cell_type": "code",
   "execution_count": 37,
   "metadata": {},
   "outputs": [
    {
     "name": "stdout",
     "output_type": "stream",
     "text": [
      "50000\n",
      "336016\n",
      "1.9911777973175049\n"
     ]
    }
   ],
   "source": [
    "import time\n",
    "N = int(input())\n",
    "start = time.time()\n",
    "ans = 0\n",
    "for i in range(1,N+1):\n",
    "    k = i\n",
    "    d = 2\n",
    "    while True:\n",
    "        if d*d > k:\n",
    "            break\n",
    "        while k % (d*d) == 0:\n",
    "            k /= d*d\n",
    "        d += 1\n",
    "    d = 1\n",
    "    while True:\n",
    "        if k * d*d > N:\n",
    "            break\n",
    "        ans += 1\n",
    "        d += 1\n",
    "print(ans)\n",
    "print(time.time()-start)"
   ]
  },
  {
   "cell_type": "code",
   "execution_count": 64,
   "metadata": {},
   "outputs": [
    {
     "name": "stdout",
     "output_type": "stream",
     "text": [
      "50000\n",
      "336016\n",
      "1.978956937789917\n"
     ]
    }
   ],
   "source": [
    "import time\n",
    "import numpy as np\n",
    "N = int(input())\n",
    "start = time.time()\n",
    "array = np.zeros(200001)\n",
    "for i in range(1,N+1):\n",
    "    k = i\n",
    "    d = 2\n",
    "    while True:\n",
    "        if d*d > k:\n",
    "            break\n",
    "        while k % (d*d) == 0:\n",
    "            k /= d*d\n",
    "        d += 1\n",
    "    array[int(k)] += 1\n",
    "print(int(np.sum(array * array)))\n",
    "print(time.time()-start)"
   ]
  },
  {
   "cell_type": "code",
   "execution_count": 5,
   "metadata": {},
   "outputs": [
    {
     "name": "stdout",
     "output_type": "stream",
     "text": [
      "200000\n",
      "1512912\n",
      "0.7056500911712646\n"
     ]
    }
   ],
   "source": [
    "import time\n",
    "import numpy as np\n",
    "\n",
    "N = int(input())\n",
    "start = time.time()\n",
    "prime_list = [] # N以下の素数のリスト\n",
    "lpf = [None] * (N + 1) # i番目はiの最小素因数となるリスト\n",
    "for d in range(2, N + 1):\n",
    "    if lpf[d] is None:\n",
    "        lpf[d] = d\n",
    "        prime_list.append(d)\n",
    "    for p in prime_list:\n",
    "        if p * d > N or p > lpf[d]:\n",
    "            break\n",
    "        lpf[p * d] = p\n",
    "\n",
    "dp = [0, 1]\n",
    "ans = np.zeros(N+1)\n",
    "ans[1] = 1\n",
    "for i in range(2, N + 1):\n",
    "    if dp[int(i/lpf[i])] % lpf[i] == 0:\n",
    "        dp.append(dp[int(i/lpf[i])] / lpf[i])\n",
    "        ans[int(dp[int(i/lpf[i])] / lpf[i])] += 1\n",
    "    else:\n",
    "        dp.append(dp[int(i/lpf[i])] * lpf[i])\n",
    "        ans[int(dp[int(i/lpf[i])] * lpf[i])] += 1\n",
    "\n",
    "print(int(np.sum(ans*ans)))\n",
    "print(time.time() - start)"
   ]
  },
  {
   "cell_type": "code",
   "execution_count": 38,
   "metadata": {},
   "outputs": [
    {
     "name": "stdout",
     "output_type": "stream",
     "text": [
      "200000\n",
      "1512912\n",
      "2.773141860961914\n"
     ]
    }
   ],
   "source": [
    "from collections import defaultdict\n",
    "import time\n",
    "\n",
    "def main():\n",
    "    N = int(input())\n",
    "    st = time.time()\n",
    "    prime_dict = defaultdict(int)\n",
    "    for i in range(1, N+1):\n",
    "        prime_dict[prime_factorization(i)] += 1\n",
    "    ans = 0\n",
    "    for key in prime_dict.keys():\n",
    "        ans += prime_dict[key]**2\n",
    "    print(ans)\n",
    "    print(time.time()-st)\n",
    "\n",
    "# 素因数分解して指数部が奇数のタプルを返す関数\n",
    "def prime_factorization(n):\n",
    "    # 素因数分解して指数部が奇数のリスト\n",
    "    prime_list = list()\n",
    "    # 素数で割り切れるかの判定\n",
    "    for p in range(2, int(n ** 0.5) + 1):\n",
    "        # １回割り切れるごとに集合を更新する\n",
    "        # 割れた回数\n",
    "        wareta = 0\n",
    "        while n % p == 0:\n",
    "            wareta += 1\n",
    "            n //= p\n",
    "        if wareta % 2 == 1:\n",
    "            prime_list.append(p)\n",
    "    # n が1より大きい数字として残っていれば、集合を更新する\n",
    "    if n != 1:\n",
    "        prime_list.append(n)\n",
    "    return tuple(prime_list)\n",
    "    \n",
    "if __name__ == \"__main__\":\n",
    "    main()"
   ]
  },
  {
   "cell_type": "code",
   "execution_count": 41,
   "metadata": {},
   "outputs": [
    {
     "name": "stdout",
     "output_type": "stream",
     "text": [
      "200000\n",
      "1512912\n",
      "0.18558287620544434\n"
     ]
    }
   ],
   "source": [
    "import time\n",
    "\n",
    "def main():\n",
    "    N = int(input())\n",
    "    start = time.time()\n",
    "    prime_list = [] # N以下の素数のリスト\n",
    "    lpf = [None] * (N + 1) # i番目はiの最小素因数となるリスト\n",
    "    for d in range(2, N + 1):\n",
    "        if lpf[d] is None:\n",
    "            lpf[d] = d\n",
    "            prime_list.append(d)\n",
    "        for p in prime_list:\n",
    "            if p * d > N or p > lpf[d]:\n",
    "                break\n",
    "            lpf[p * d] = p\n",
    "\n",
    "    dp = [0, 1]\n",
    "    ans = [0] * (N+1)\n",
    "    ans[1] = 1\n",
    "    for i in range(2, N + 1):\n",
    "        if dp[int(i/lpf[i])] % lpf[i] == 0:\n",
    "            dp.append(dp[int(i/lpf[i])] / lpf[i])\n",
    "            ans[int(dp[int(i/lpf[i])] / lpf[i])] += 1\n",
    "        else:\n",
    "            dp.append(dp[int(i/lpf[i])] * lpf[i])\n",
    "            ans[int(dp[int(i/lpf[i])] * lpf[i])] += 1\n",
    "\n",
    "    print(sum(map(lambda x: x**2, ans)))\n",
    "    print(time.time() - start)\n",
    "    \n",
    "if __name__ == \"__main__\":\n",
    "    main()"
   ]
  },
  {
   "cell_type": "code",
   "execution_count": null,
   "metadata": {},
   "outputs": [],
   "source": []
  }
 ],
 "metadata": {
  "kernelspec": {
   "display_name": "Python 3 (ipykernel)",
   "language": "python",
   "name": "python3"
  },
  "language_info": {
   "codemirror_mode": {
    "name": "ipython",
    "version": 3
   },
   "file_extension": ".py",
   "mimetype": "text/x-python",
   "name": "python",
   "nbconvert_exporter": "python",
   "pygments_lexer": "ipython3",
   "version": "3.9.6"
  }
 },
 "nbformat": 4,
 "nbformat_minor": 4
}
