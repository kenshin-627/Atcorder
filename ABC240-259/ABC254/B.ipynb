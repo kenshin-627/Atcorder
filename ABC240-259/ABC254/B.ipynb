{
 "cells": [
  {
   "cell_type": "code",
   "execution_count": 4,
   "metadata": {},
   "outputs": [
    {
     "name": "stdout",
     "output_type": "stream",
     "text": [
      "10\n",
      "1\n",
      "1 1\n",
      "1 2 1\n",
      "1 3 3 1\n",
      "1 4 6 4 1\n",
      "1 5 10 10 5 1\n",
      "1 6 15 20 15 6 1\n",
      "1 7 21 35 35 21 7 1\n",
      "1 8 28 56 70 56 28 8 1\n",
      "1 9 36 84 126 126 84 36 9 1\n"
     ]
    }
   ],
   "source": [
    "N = int(input())\n",
    "tmp = [1]\n",
    "for i in range(N):\n",
    "    tmp_str = []\n",
    "    for j in tmp:\n",
    "        tmp_str.append(str(j))\n",
    "    print(\" \".join(tmp_str))\n",
    "    tmp.append(0)\n",
    "    new_tmp = []\n",
    "    for j in range(len(tmp)):\n",
    "        if j == 0:\n",
    "            new_tmp.append(1)\n",
    "        else:\n",
    "            new_tmp.append(tmp[j] + tmp[j-1])\n",
    "    tmp = new_tmp"
   ]
  },
  {
   "cell_type": "code",
   "execution_count": null,
   "metadata": {},
   "outputs": [],
   "source": []
  }
 ],
 "metadata": {
  "kernelspec": {
   "display_name": "Python 3",
   "language": "python",
   "name": "python3"
  },
  "language_info": {
   "codemirror_mode": {
    "name": "ipython",
    "version": 3
   },
   "file_extension": ".py",
   "mimetype": "text/x-python",
   "name": "python",
   "nbconvert_exporter": "python",
   "pygments_lexer": "ipython3",
   "version": "3.8.3"
  }
 },
 "nbformat": 4,
 "nbformat_minor": 4
}
