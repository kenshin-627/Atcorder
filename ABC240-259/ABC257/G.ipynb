{
 "cells": [
  {
   "cell_type": "code",
   "execution_count": 13,
   "metadata": {},
   "outputs": [
    {
     "name": "stdout",
     "output_type": "stream",
     "text": [
      "[4, 0, 2, 0, 0, 3, 0, 1, 0, 0, 9, 0, 2, 0, 0, 4, 0, 2, 0]\n"
     ]
    }
   ],
   "source": [
    "from collections import deque\n",
    "\n",
    "def z_algorithm(text, pattern):\n",
    "    s = pattern + \"$\" + text\n",
    "    n = len(s)\n",
    "    z = [0]*(n)\n",
    "    z[0] = n\n",
    "    i = 1\n",
    "    j = 0\n",
    "    while i < n:\n",
    "        while i+j < n and s[j] == s[i+j]:\n",
    "            j += 1\n",
    "        z[i] = j\n",
    "        if j == 0:\n",
    "            i += 1\n",
    "            continue\n",
    "        k = 1\n",
    "        while i+k < n and k+z[k] < j:\n",
    "            z[i+k] = z[k]\n",
    "            k += 1\n",
    "        i += k\n",
    "        j -= k\n",
    "    return z[len(pattern)+1:]\n",
    "\n",
    "def main():\n",
    "    S = input() # pattern\n",
    "    T = input() # text\n",
    "    z_array = z_algorithm(T, S) + [0]\n",
    "    seen = [0] * (len(T) + 1)\n",
    "    q = deque([(0,0)])\n",
    "    while q:\n",
    "        i,d = q.popleft()\n",
    "        if z_array[i] != 0:\n",
    "            if seen[i + z_array[i]] == 0:\n",
    "                if i + z_array[i] == len(T):\n",
    "                    print(d + 1)\n",
    "                    return\n",
    "                q.append((i + z_array[i], d + 1))\n",
    "                seen[i + z_array[i]] = 1\n",
    "        if i > 0:\n",
    "            if seen[i - 1] == 0:\n",
    "                q.append((i - 1, d))\n",
    "                seen[i - 1] = 1\n",
    "    print(-1)\n",
    "    \n",
    "if __name__ == \"__main__\":\n",
    "    main()"
   ]
  },
  {
   "cell_type": "code",
   "execution_count": null,
   "metadata": {},
   "outputs": [],
   "source": []
  }
 ],
 "metadata": {
  "kernelspec": {
   "display_name": "Python 3",
   "language": "python",
   "name": "python3"
  },
  "language_info": {
   "codemirror_mode": {
    "name": "ipython",
    "version": 3
   },
   "file_extension": ".py",
   "mimetype": "text/x-python",
   "name": "python",
   "nbconvert_exporter": "python",
   "pygments_lexer": "ipython3",
   "version": "3.11.1"
  },
  "orig_nbformat": 4
 },
 "nbformat": 4,
 "nbformat_minor": 2
}
