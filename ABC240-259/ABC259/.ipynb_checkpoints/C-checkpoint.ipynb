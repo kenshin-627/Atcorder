{
 "cells": [
  {
   "cell_type": "code",
   "execution_count": 33,
   "id": "b47bd8f1",
   "metadata": {},
   "outputs": [
    {
     "name": "stdout",
     "output_type": "stream",
     "text": [
      "aab\n",
      "aabb\n",
      "No\n"
     ]
    }
   ],
   "source": [
    "def main():\n",
    "    S = [*input()]\n",
    "    T = [*input()]\n",
    "    if len(S) > len(T):\n",
    "        print(\"No\")\n",
    "        return\n",
    "    before_chr = \"\"\n",
    "    is_same = False\n",
    "    add_T = 0\n",
    "    i = 0\n",
    "    while(i != len(S)):\n",
    "        if S[i] != T[i+add_T]:\n",
    "            if is_same and before_chr == T[i+add_T]:\n",
    "                add_T += 1\n",
    "                continue\n",
    "            else:\n",
    "                print(\"No\")\n",
    "                return\n",
    "        if before_chr == S[i]:\n",
    "            is_same = True\n",
    "        else:\n",
    "            is_same = False\n",
    "        if S[i] == T[i+add_T]:\n",
    "            before_chr = S[i]\n",
    "        i += 1\n",
    "    while(i+add_T != len(T)):\n",
    "        if is_same and before_chr == T[i+add_T]:\n",
    "            add_T += 1\n",
    "        else:\n",
    "            print(\"No\")\n",
    "            return\n",
    "    print(\"Yes\")\n",
    "    \n",
    "if __name__ == \"__main__\":\n",
    "    main()"
   ]
  },
  {
   "cell_type": "code",
   "execution_count": null,
   "id": "7208d69c",
   "metadata": {},
   "outputs": [],
   "source": []
  }
 ],
 "metadata": {
  "kernelspec": {
   "display_name": "Python 3 (ipykernel)",
   "language": "python",
   "name": "python3"
  },
  "language_info": {
   "codemirror_mode": {
    "name": "ipython",
    "version": 3
   },
   "file_extension": ".py",
   "mimetype": "text/x-python",
   "name": "python",
   "nbconvert_exporter": "python",
   "pygments_lexer": "ipython3",
   "version": "3.9.6"
  }
 },
 "nbformat": 4,
 "nbformat_minor": 5
}
