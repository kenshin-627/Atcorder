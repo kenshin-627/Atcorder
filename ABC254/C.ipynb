{
 "cells": [
  {
   "cell_type": "code",
   "execution_count": 15,
   "metadata": {},
   "outputs": [
    {
     "name": "stdout",
     "output_type": "stream",
     "text": [
      "5 2\n",
      "3 4 1 3 4\n",
      "[1, 3, 3, 4, 4]\n",
      "[1, 3, 3, 4, 4]\n",
      "True\n"
     ]
    }
   ],
   "source": [
    "N_K = input()\n",
    "N = int(N_K.split()[0])\n",
    "K = int(N_K.split()[1])\n",
    "a = input().split()\n",
    "a = [int(i) for i in a]\n",
    "same_column = []\n",
    "for i in range(K):\n",
    "    same_column.append([])\n",
    "for i in range(N):\n",
    "    same_column[i % K].append(a[i])\n",
    "ans_array = sorted(a)\n",
    "# print(ans_array)\n",
    "for i in range(K):\n",
    "    same_column[i] = sorted(same_column[i])\n",
    "can_array = []\n",
    "for i in range(N):\n",
    "    can_array.append(same_column[i % K][int(i / K)])\n",
    "# print(can_array)\n",
    "if ans_array == can_array:\n",
    "    print(\"Yes\")\n",
    "else:\n",
    "    print(\"No\")"
   ]
  },
  {
   "cell_type": "code",
   "execution_count": 12,
   "metadata": {},
   "outputs": [
    {
     "name": "stdout",
     "output_type": "stream",
     "text": [
      "1\n"
     ]
    }
   ],
   "source": [
    "print(int(2 / 2))"
   ]
  },
  {
   "cell_type": "code",
   "execution_count": null,
   "metadata": {},
   "outputs": [],
   "source": []
  }
 ],
 "metadata": {
  "kernelspec": {
   "display_name": "Python 3",
   "language": "python",
   "name": "python3"
  },
  "language_info": {
   "codemirror_mode": {
    "name": "ipython",
    "version": 3
   },
   "file_extension": ".py",
   "mimetype": "text/x-python",
   "name": "python",
   "nbconvert_exporter": "python",
   "pygments_lexer": "ipython3",
   "version": "3.8.3"
  }
 },
 "nbformat": 4,
 "nbformat_minor": 4
}
