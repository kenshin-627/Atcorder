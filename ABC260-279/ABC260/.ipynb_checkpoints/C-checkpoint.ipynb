{
 "cells": [
  {
   "cell_type": "code",
   "execution_count": 5,
   "id": "88f31727",
   "metadata": {},
   "outputs": [
    {
     "name": "stdout",
     "output_type": "stream",
     "text": [
      "10 5 5\n",
      "3942349900\n"
     ]
    }
   ],
   "source": [
    "from functools import lru_cache\n",
    "\n",
    "def main():\n",
    "    N,X,Y = map(int, input().split())\n",
    "    print(houseki(N, True, X, Y))\n",
    "    \n",
    "@lru_cache\n",
    "def houseki(level, is_red, X, Y):\n",
    "    if is_red:\n",
    "        if level == 1:\n",
    "            return 0\n",
    "        else:\n",
    "            return sum([houseki(level-1, True, X, Y)] + [houseki(level, False, X, Y) for _ in range(X)])\n",
    "    else:\n",
    "        if level == 1:\n",
    "            return 1\n",
    "        else:\n",
    "            return sum([houseki(level-1, True, X, Y)] + [houseki(level-1, False, X, Y) for _ in range(Y)])\n",
    "    \n",
    "if __name__ == \"__main__\":\n",
    "    main()"
   ]
  }
 ],
 "metadata": {
  "kernelspec": {
   "display_name": "Python 3 (ipykernel)",
   "language": "python",
   "name": "python3"
  },
  "language_info": {
   "codemirror_mode": {
    "name": "ipython",
    "version": 3
   },
   "file_extension": ".py",
   "mimetype": "text/x-python",
   "name": "python",
   "nbconvert_exporter": "python",
   "pygments_lexer": "ipython3",
   "version": "3.9.6"
  }
 },
 "nbformat": 4,
 "nbformat_minor": 5
}
