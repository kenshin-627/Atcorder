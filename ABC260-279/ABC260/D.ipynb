{
 "cells": [
  {
   "cell_type": "code",
   "execution_count": 17,
   "metadata": {},
   "outputs": [
    {
     "name": "stdout",
     "output_type": "stream",
     "text": [
      "SortedKeyList([[3]], key=<function <lambda> at 0x107a28180>)\n",
      "SortedKeyList([[3], [16]], key=<function <lambda> at 0x107a28180>)\n",
      "SortedKeyList([[3], [15], [16]], key=<function <lambda> at 0x107a28180>)\n",
      "[16]\n",
      "SortedKeyList([[3], [16, 9], [15]], key=<function <lambda> at 0x107a28180>)\n"
     ]
    }
   ],
   "source": [
    "from sortedcontainers import SortedList\n",
    "from collections import deque\n",
    "\n",
    "N, K = map(int, input().split())\n",
    "P = list(map(int, input().split()))\n",
    "\n",
    "ans = [-1] * N\n",
    "SL = SortedList(key=lambda x: x[-1])\n",
    "\n",
    "for i in range(N):\n",
    "    bis = SL.bisect_left([P[i]])\n",
    "\n",
    "    if bis >= len(SL):\n",
    "        if K == 1:\n",
    "            ans[P[i] - 1] = i + 1\n",
    "        else:\n",
    "            SL.add(deque([P[i]]))\n",
    "    else:\n",
    "        if len(SL[bis]) == K - 1:\n",
    "            for j in SL[bis]:\n",
    "                ans[j - 1] = i + 1\n",
    "            ans[P[i] - 1] = i + 1\n",
    "            SL.pop(bis)\n",
    "        else:\n",
    "            tmp = SL.pop(bis)\n",
    "            tmp.append(P[i])\n",
    "            SL.add(tmp)\n",
    "\n",
    "for i in range(N):\n",
    "    print(ans[i])"
   ]
  }
 ],
 "metadata": {
  "kernelspec": {
   "display_name": "Python 3",
   "language": "python",
   "name": "python3"
  },
  "language_info": {
   "codemirror_mode": {
    "name": "ipython",
    "version": 3
   },
   "file_extension": ".py",
   "mimetype": "text/x-python",
   "name": "python",
   "nbconvert_exporter": "python",
   "pygments_lexer": "ipython3",
   "version": "3.11.1"
  },
  "orig_nbformat": 4
 },
 "nbformat": 4,
 "nbformat_minor": 2
}
