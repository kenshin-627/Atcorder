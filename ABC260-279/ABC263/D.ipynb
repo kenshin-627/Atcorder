{
 "cells": [
  {
   "cell_type": "code",
   "execution_count": 3,
   "id": "6837c02f",
   "metadata": {},
   "outputs": [
    {
     "name": "stdout",
     "output_type": "stream",
     "text": [
      "10 -5 -3\n",
      "9 -6 10 -1 2 10 -1 7 -15 5\n",
      "-58\n"
     ]
    }
   ],
   "source": [
    "# dp defaultdictバージョン\n",
    "from collections import defaultdict\n",
    "\n",
    "def main():\n",
    "    N,L,R = map(int, input().split())\n",
    "    AN = [*map(int, input().split())]\n",
    "    dp_left = defaultdict(int)\n",
    "    dp_right = defaultdict(int)\n",
    "    dp_left[0] = 0\n",
    "    dp_right[0] = 0\n",
    "    for i in range(1, N+1):\n",
    "        dp_left[i] = min(dp_left[i-1]+AN[i-1], L*i)\n",
    "        dp_right[i] = min(dp_right[i-1]+AN[N-i], R*i)\n",
    "    ans = min([dp_left[i] + dp_right[N-i] for i in range(N+1)])\n",
    "    print(ans)\n",
    "    \n",
    "if __name__ == \"__main__\":\n",
    "    main()"
   ]
  },
  {
   "cell_type": "code",
   "execution_count": 4,
   "id": "926567a7",
   "metadata": {},
   "outputs": [
    {
     "name": "stdout",
     "output_type": "stream",
     "text": [
      "5 4 3\n",
      "5 5 0 6 3\n",
      "14\n"
     ]
    }
   ],
   "source": [
    "# dp listバージョン\n",
    "def main():\n",
    "    N,L,R = map(int, input().split())\n",
    "    AN = [*map(int, input().split())]\n",
    "    dp_left = [0] * (N+1)\n",
    "    dp_right = [0] * (N+1)\n",
    "    for i in range(1, N+1):\n",
    "        dp_left[i] = min(dp_left[i-1]+AN[i-1], L*i)\n",
    "        dp_right[i] = min(dp_right[i-1]+AN[N-i], R*i)\n",
    "    ans = min([dp_left[i] + dp_right[N-i] for i in range(N+1)])\n",
    "    print(ans)\n",
    "    \n",
    "if __name__ == \"__main__\":\n",
    "    main()"
   ]
  },
  {
   "cell_type": "code",
   "execution_count": null,
   "id": "4589115a",
   "metadata": {},
   "outputs": [],
   "source": []
  }
 ],
 "metadata": {
  "kernelspec": {
   "display_name": "Python 3 (ipykernel)",
   "language": "python",
   "name": "python3"
  },
  "language_info": {
   "codemirror_mode": {
    "name": "ipython",
    "version": 3
   },
   "file_extension": ".py",
   "mimetype": "text/x-python",
   "name": "python",
   "nbconvert_exporter": "python",
   "pygments_lexer": "ipython3",
   "version": "3.9.6"
  }
 },
 "nbformat": 4,
 "nbformat_minor": 5
}
