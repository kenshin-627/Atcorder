{
 "cells": [
  {
   "cell_type": "code",
   "execution_count": 1,
   "id": "df81d307",
   "metadata": {},
   "outputs": [
    {
     "name": "stdout",
     "output_type": "stream",
     "text": [
      "1 1\n",
      "7\n"
     ]
    }
   ],
   "source": [
    "def main():\n",
    "    R,C = map(int, input().split())\n",
    "    if int(pow((pow(R-8, 100)+pow(C-8, 100)),1/100)+0.2) % 2 == 1:\n",
    "        print(\"black\")\n",
    "    else:\n",
    "        print(\"white\")\n",
    "    \n",
    "if __name__ == \"__main__\":\n",
    "    main()"
   ]
  },
  {
   "cell_type": "code",
   "execution_count": null,
   "id": "a7afef2d",
   "metadata": {},
   "outputs": [],
   "source": []
  }
 ],
 "metadata": {
  "kernelspec": {
   "display_name": "Python 3 (ipykernel)",
   "language": "python",
   "name": "python3"
  },
  "language_info": {
   "codemirror_mode": {
    "name": "ipython",
    "version": 3
   },
   "file_extension": ".py",
   "mimetype": "text/x-python",
   "name": "python",
   "nbconvert_exporter": "python",
   "pygments_lexer": "ipython3",
   "version": "3.9.6"
  }
 },
 "nbformat": 4,
 "nbformat_minor": 5
}
