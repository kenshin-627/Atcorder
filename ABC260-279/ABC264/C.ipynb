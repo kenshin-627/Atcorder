{
 "cells": [
  {
   "cell_type": "code",
   "execution_count": 63,
   "id": "95c2bd2f",
   "metadata": {},
   "outputs": [
    {
     "name": "stdout",
     "output_type": "stream",
     "text": [
      "4 5\n",
      "1 2 3 4 5\n",
      "6 7 8 9 10\n",
      "11 12 13 14 15\n",
      "16 17 18 19 20\n",
      "2 3\n",
      "6 8 9\n",
      "16 18 19\n",
      "Yes\n"
     ]
    }
   ],
   "source": [
    "from itertools import combinations\n",
    "import numpy as np\n",
    "\n",
    "def main():\n",
    "    H1,W1 = map(int, input().split())\n",
    "    A = []\n",
    "    for _ in range(H1):\n",
    "        A.append([*map(int, input().split())])\n",
    "    A = np.array(A)\n",
    "    H2,W2 = map(int, input().split())\n",
    "    B = []\n",
    "    for _ in range(H2):\n",
    "        B.append([*map(int, input().split())])\n",
    "    B = np.array(B)\n",
    "    H_comb = [*combinations(range(H1), H1-H2)]\n",
    "    W_comb = [*combinations(range(W1), W1-W2)]\n",
    "    for h_comb in H_comb:\n",
    "        A_h_delete = np.delete(A, h_comb, 0)\n",
    "        for w_comb in W_comb:\n",
    "            A_hw_delete = np.delete(A_h_delete, w_comb, 1)\n",
    "            if (A_hw_delete == B).all():\n",
    "                print(\"Yes\")\n",
    "                return\n",
    "    print(\"No\")\n",
    "    \n",
    "if __name__ == \"__main__\":\n",
    "    main()"
   ]
  },
  {
   "cell_type": "code",
   "execution_count": null,
   "id": "35fb1fb2",
   "metadata": {},
   "outputs": [],
   "source": []
  }
 ],
 "metadata": {
  "kernelspec": {
   "display_name": "Python 3 (ipykernel)",
   "language": "python",
   "name": "python3"
  },
  "language_info": {
   "codemirror_mode": {
    "name": "ipython",
    "version": 3
   },
   "file_extension": ".py",
   "mimetype": "text/x-python",
   "name": "python",
   "nbconvert_exporter": "python",
   "pygments_lexer": "ipython3",
   "version": "3.9.6"
  }
 },
 "nbformat": 4,
 "nbformat_minor": 5
}
