{
 "cells": [
  {
   "cell_type": "code",
   "execution_count": 5,
   "id": "ede5ddd7",
   "metadata": {},
   "outputs": [
    {
     "name": "stdout",
     "output_type": "stream",
     "text": [
      "redocta\n",
      "21\n"
     ]
    }
   ],
   "source": [
    "def main():\n",
    "    S = [*input()]\n",
    "    ans = 0\n",
    "    for i, s in enumerate(S):\n",
    "        if s == \"a\":\n",
    "            for j in range(i, 0, -1):\n",
    "                S[j], S[j-1] = S[j-1], S[j]\n",
    "                ans += 1\n",
    "    for i, s in enumerate(S):\n",
    "        if s == \"t\":\n",
    "            for j in range(i, 1, -1):\n",
    "                S[j], S[j-1] = S[j-1], S[j]\n",
    "                ans += 1\n",
    "    for i, s in enumerate(S):\n",
    "        if s == \"c\":\n",
    "            for j in range(i, 2, -1):\n",
    "                S[j], S[j-1] = S[j-1], S[j]\n",
    "                ans += 1\n",
    "    for i, s in enumerate(S):\n",
    "        if s == \"o\":\n",
    "            for j in range(i, 3, -1):\n",
    "                S[j], S[j-1] = S[j-1], S[j]\n",
    "                ans += 1\n",
    "    for i, s in enumerate(S):\n",
    "        if s == \"d\":\n",
    "            for j in range(i, 4, -1):\n",
    "                S[j], S[j-1] = S[j-1], S[j]\n",
    "                ans += 1\n",
    "    for i, s in enumerate(S):\n",
    "        if s == \"e\":\n",
    "            for j in range(i, 5, -1):\n",
    "                S[j], S[j-1] = S[j-1], S[j]\n",
    "                ans += 1\n",
    "    for i, s in enumerate(S):\n",
    "        if s == \"r\":\n",
    "            for j in range(i, 6, -1):\n",
    "                S[j], S[j-1] = S[j-1], S[j]\n",
    "                ans += 1\n",
    "    print(ans)\n",
    "    \n",
    "if __name__ == \"__main__\":\n",
    "    main()"
   ]
  },
  {
   "cell_type": "code",
   "execution_count": null,
   "id": "9c732304",
   "metadata": {},
   "outputs": [],
   "source": []
  }
 ],
 "metadata": {
  "kernelspec": {
   "display_name": "Python 3 (ipykernel)",
   "language": "python",
   "name": "python3"
  },
  "language_info": {
   "codemirror_mode": {
    "name": "ipython",
    "version": 3
   },
   "file_extension": ".py",
   "mimetype": "text/x-python",
   "name": "python",
   "nbconvert_exporter": "python",
   "pygments_lexer": "ipython3",
   "version": "3.9.6"
  }
 },
 "nbformat": 4,
 "nbformat_minor": 5
}
