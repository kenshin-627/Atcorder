{
 "cells": [
  {
   "cell_type": "code",
   "execution_count": 4,
   "id": "c6e330f2",
   "metadata": {},
   "outputs": [
    {
     "name": "stdout",
     "output_type": "stream",
     "text": [
      "100 100 100\n",
      "3400\n"
     ]
    }
   ],
   "source": [
    "def main():\n",
    "    X,Y,N = map(int, input().split())\n",
    "    Y_ave = Y/3\n",
    "    ans = 0\n",
    "    if X <= Y_ave:\n",
    "        ans += N*X\n",
    "    else:\n",
    "        ans += Y * (N // 3)\n",
    "        ans += X * (N % 3)\n",
    "    print(ans)\n",
    "    \n",
    "if __name__ == \"__main__\":\n",
    "    main()"
   ]
  },
  {
   "cell_type": "code",
   "execution_count": null,
   "id": "f8b88075",
   "metadata": {},
   "outputs": [],
   "source": []
  }
 ],
 "metadata": {
  "kernelspec": {
   "display_name": "Python 3 (ipykernel)",
   "language": "python",
   "name": "python3"
  },
  "language_info": {
   "codemirror_mode": {
    "name": "ipython",
    "version": 3
   },
   "file_extension": ".py",
   "mimetype": "text/x-python",
   "name": "python",
   "nbconvert_exporter": "python",
   "pygments_lexer": "ipython3",
   "version": "3.9.6"
  }
 },
 "nbformat": 4,
 "nbformat_minor": 5
}
