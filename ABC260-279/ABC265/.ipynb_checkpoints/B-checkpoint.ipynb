{
 "cells": [
  {
   "cell_type": "code",
   "execution_count": 2,
   "id": "25372510",
   "metadata": {},
   "outputs": [
    {
     "name": "stdout",
     "output_type": "stream",
     "text": [
      "4 1 10\n",
      "5 7 5\n",
      "2 10\n",
      "Yes\n"
     ]
    }
   ],
   "source": [
    "from collections import defaultdict\n",
    "\n",
    "def main():\n",
    "    N,M,T = map(int, input().split())\n",
    "    AN = [*map(int, input().split())]\n",
    "    T_plus_dict = defaultdict(int)\n",
    "    for _ in range(M):\n",
    "        X,Y = map(int, input().split())\n",
    "        T_plus_dict[X] = Y\n",
    "    T += T_plus_dict[1]\n",
    "    for i, A in enumerate(AN):\n",
    "        T -= A\n",
    "        if T <= 0:\n",
    "            print(\"No\")\n",
    "            return\n",
    "        T += T_plus_dict[i+2]\n",
    "    print(\"Yes\")\n",
    "    \n",
    "if __name__ == \"__main__\":\n",
    "    main()"
   ]
  },
  {
   "cell_type": "code",
   "execution_count": null,
   "id": "6dac08e6",
   "metadata": {},
   "outputs": [],
   "source": []
  }
 ],
 "metadata": {
  "kernelspec": {
   "display_name": "Python 3 (ipykernel)",
   "language": "python",
   "name": "python3"
  },
  "language_info": {
   "codemirror_mode": {
    "name": "ipython",
    "version": 3
   },
   "file_extension": ".py",
   "mimetype": "text/x-python",
   "name": "python",
   "nbconvert_exporter": "python",
   "pygments_lexer": "ipython3",
   "version": "3.9.6"
  }
 },
 "nbformat": 4,
 "nbformat_minor": 5
}
