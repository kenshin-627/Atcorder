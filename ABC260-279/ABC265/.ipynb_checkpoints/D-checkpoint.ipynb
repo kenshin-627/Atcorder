{
 "cells": [
  {
   "cell_type": "code",
   "execution_count": 7,
   "id": "2a71bb28",
   "metadata": {},
   "outputs": [
    {
     "name": "stdout",
     "output_type": "stream",
     "text": [
      "10 5 7 5\n",
      "1 3 2 2 2 3 1 4 3 2\n",
      "[0, 1, 4, 6, 8, 10, 13, 14, 18, 21, 23]\n",
      "Yes\n"
     ]
    }
   ],
   "source": [
    "def main():\n",
    "    N,P,Q,R = map(int, input().split())\n",
    "    PQR = P+Q+R\n",
    "    AN = [*map(int, input().split())]\n",
    "    dp = [0] * (N+1)\n",
    "    for i in range(1, N+1):\n",
    "        dp[i] = dp[i-1] + AN[i-1]\n",
    "    left = 0\n",
    "    right = 1\n",
    "    while(right <= N):\n",
    "        if (dp[right] - dp[left]) == PQR:\n",
    "            p_left = left\n",
    "            p_right = left + 1\n",
    "            while(True):\n",
    "                if (dp[p_right] - dp[p_left]) == P:\n",
    "                    q_left = p_right\n",
    "                    q_right = p_right + 1\n",
    "                    while(True):\n",
    "                        if (dp[q_right] - dp[q_left]) == Q:\n",
    "                            print(\"Yes\")\n",
    "                            return\n",
    "                        elif (dp[q_right] - dp[q_left]) < Q:\n",
    "                            q_right += 1\n",
    "                        else:\n",
    "                            break\n",
    "                    break\n",
    "                elif (dp[p_right] - dp[p_left]) < P:\n",
    "                    p_right += 1\n",
    "                else:\n",
    "                    break\n",
    "            right += 1\n",
    "        elif (dp[right] - dp[left]) < PQR:\n",
    "            right += 1\n",
    "        else:\n",
    "            left += 1\n",
    "    print(\"No\")\n",
    "    \n",
    "if __name__ == \"__main__\":\n",
    "    main()"
   ]
  },
  {
   "cell_type": "code",
   "execution_count": null,
   "id": "3121727c",
   "metadata": {},
   "outputs": [],
   "source": []
  }
 ],
 "metadata": {
  "kernelspec": {
   "display_name": "Python 3 (ipykernel)",
   "language": "python",
   "name": "python3"
  },
  "language_info": {
   "codemirror_mode": {
    "name": "ipython",
    "version": 3
   },
   "file_extension": ".py",
   "mimetype": "text/x-python",
   "name": "python",
   "nbconvert_exporter": "python",
   "pygments_lexer": "ipython3",
   "version": "3.9.6"
  }
 },
 "nbformat": 4,
 "nbformat_minor": 5
}
