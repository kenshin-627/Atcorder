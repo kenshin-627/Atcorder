{
 "cells": [
  {
   "cell_type": "code",
   "execution_count": 8,
   "id": "b9186bf5",
   "metadata": {},
   "outputs": [
    {
     "name": "stdout",
     "output_type": "stream",
     "text": [
      "3\n",
      "1 4 1\n",
      "2 4 1\n",
      "3 4 1\n",
      "0\n"
     ]
    }
   ],
   "source": [
    "from collections import defaultdict\n",
    "\n",
    "def main():\n",
    "    N = int(input())\n",
    "    A_dict = defaultdict(int)\n",
    "    for _ in range(N):\n",
    "        T,X,A = map(int, input().split())\n",
    "        A_dict[(T,X)] = A\n",
    "    dp_dict = defaultdict(lambda: -1)\n",
    "    dp_dict[(0,0)] = 0\n",
    "    TN = [*A_dict.keys()][-1][0]\n",
    "    for i in range(1, TN+1):\n",
    "        for j in range(6):\n",
    "            dp_dict[(i,j)] = max(dp_dict[(i-1,j-1)], dp_dict[(i-1,j)], dp_dict[(i-1,j+1)])\n",
    "            if dp_dict[(i,j)] != -1:\n",
    "                dp_dict[(i,j)] += A_dict[(i,j)]\n",
    "    ans = 0\n",
    "    for j in range(6):\n",
    "        ans = max(ans, dp_dict[(TN, j)])\n",
    "    print(ans)\n",
    "    \n",
    "if __name__ == \"__main__\":\n",
    "    main()"
   ]
  }
 ],
 "metadata": {
  "kernelspec": {
   "display_name": "Python 3 (ipykernel)",
   "language": "python",
   "name": "python3"
  },
  "language_info": {
   "codemirror_mode": {
    "name": "ipython",
    "version": 3
   },
   "file_extension": ".py",
   "mimetype": "text/x-python",
   "name": "python",
   "nbconvert_exporter": "python",
   "pygments_lexer": "ipython3",
   "version": "3.9.6"
  }
 },
 "nbformat": 4,
 "nbformat_minor": 5
}
