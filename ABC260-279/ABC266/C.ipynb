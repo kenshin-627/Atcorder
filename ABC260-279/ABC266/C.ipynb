{
 "cells": [
  {
   "cell_type": "code",
   "execution_count": 2,
   "metadata": {},
   "outputs": [
    {
     "name": "stdout",
     "output_type": "stream",
     "text": [
      "1 0\n",
      "0 1\n",
      "-1 0\n",
      "0 -1\n",
      "2\n"
     ]
    }
   ],
   "source": [
    "def main():\n",
    "    Ax,Ay = map(int, input().split())\n",
    "    Bx,By = map(int, input().split())\n",
    "    Cx,Cy = map(int, input().split())\n",
    "    Dx,Dy = map(int, input().split())\n",
    "    da = (Ax-Dx, Ay-Dy)\n",
    "    ab = (Bx-Ax, By-Ay)\n",
    "    bc = (Cx-Bx, Cy-By)\n",
    "    cd = (Dx-Cx, Dy-Cy)\n",
    "    if gaiseki(da, ab) > 0 and gaiseki(ab, bc) > 0 and gaiseki(bc, cd) > 0 and gaiseki(cd, da) > 0:\n",
    "        print(\"Yes\")\n",
    "    else:\n",
    "        print(\"No\")\n",
    "\n",
    "def gaiseki(x, y):\n",
    "    return x[0]*y[1]-x[1]*y[0]\n",
    "    \n",
    "if __name__ == \"__main__\":\n",
    "    main()"
   ]
  },
  {
   "cell_type": "code",
   "execution_count": null,
   "metadata": {},
   "outputs": [],
   "source": []
  }
 ],
 "metadata": {
  "kernelspec": {
   "display_name": "Python 3",
   "language": "python",
   "name": "python3"
  },
  "language_info": {
   "codemirror_mode": {
    "name": "ipython",
    "version": 3
   },
   "file_extension": ".py",
   "mimetype": "text/x-python",
   "name": "python",
   "nbconvert_exporter": "python",
   "pygments_lexer": "ipython3",
   "version": "3.8.3"
  }
 },
 "nbformat": 4,
 "nbformat_minor": 4
}
