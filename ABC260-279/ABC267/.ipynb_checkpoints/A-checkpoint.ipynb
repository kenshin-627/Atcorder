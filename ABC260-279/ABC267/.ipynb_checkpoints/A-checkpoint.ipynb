{
 "cells": [
  {
   "cell_type": "code",
   "execution_count": 6,
   "id": "2e8c8dd5",
   "metadata": {},
   "outputs": [
    {
     "name": "stdout",
     "output_type": "stream",
     "text": [
      "Tuesday\n",
      "4\n"
     ]
    }
   ],
   "source": [
    "def main():\n",
    "    S = input()\n",
    "    if S[1] == \"o\":\n",
    "        print(5)\n",
    "    elif S[1] == \"u\":\n",
    "        print(4)\n",
    "    elif S[1] ==\"e\":\n",
    "        print(3)\n",
    "    elif S[1] == \"h\":\n",
    "        print(2)\n",
    "    else:\n",
    "        print(1)\n",
    "    \n",
    "if __name__ == \"__main__\":\n",
    "    main()"
   ]
  }
 ],
 "metadata": {
  "kernelspec": {
   "display_name": "Python 3 (ipykernel)",
   "language": "python",
   "name": "python3"
  },
  "language_info": {
   "codemirror_mode": {
    "name": "ipython",
    "version": 3
   },
   "file_extension": ".py",
   "mimetype": "text/x-python",
   "name": "python",
   "nbconvert_exporter": "python",
   "pygments_lexer": "ipython3",
   "version": "3.9.6"
  }
 },
 "nbformat": 4,
 "nbformat_minor": 5
}
