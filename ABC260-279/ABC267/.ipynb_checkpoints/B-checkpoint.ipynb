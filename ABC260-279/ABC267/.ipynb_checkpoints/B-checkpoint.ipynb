{
 "cells": [
  {
   "cell_type": "code",
   "execution_count": null,
   "id": "2ebfebe8",
   "metadata": {},
   "outputs": [],
   "source": [
    "def main():\n",
    "    S = input()\n",
    "    J = []\n",
    "    if S[6] == \"0\":\n",
    "        J.append(0)\n",
    "    else:\n",
    "        J.append(1)\n",
    "    if S[3] == \"0\":\n",
    "        J.append(0)\n",
    "    else:\n",
    "        J.append(1)\n",
    "    if S[1] == \"0\" and S[7] == \"0\":\n",
    "        J.append(0)\n",
    "    else:\n",
    "        J.append(1)\n",
    "    if S[0] == \"0\" and S[4] == \"0\":\n",
    "        J.append(0)\n",
    "    else:\n",
    "        J.append(1)\n",
    "    if S[2] == \"0\" and S[8] == \"0\":\n",
    "        J.append(0)\n",
    "    else:\n",
    "        J.append(1)\n",
    "    if S[5] == \"0\":\n",
    "        J.append(0)\n",
    "    else:\n",
    "        J.append(1)\n",
    "    if S[9] == \"0\":\n",
    "        J.append(0)\n",
    "    else:\n",
    "        J.append(1)\n",
    "    if S[0] == \"0\":\n",
    "        for i in range(1, 6):\n",
    "            if J[i] == 0:\n",
    "                if sum(J[:i]) * sum(J[i+1:]) >= 1:\n",
    "                    print(\"Yes\")\n",
    "                    return\n",
    "    print(\"No\")\n",
    "    \n",
    "if __name__ == \"__main__\":\n",
    "    main()"
   ]
  }
 ],
 "metadata": {
  "kernelspec": {
   "display_name": "Python 3 (ipykernel)",
   "language": "python",
   "name": "python3"
  },
  "language_info": {
   "codemirror_mode": {
    "name": "ipython",
    "version": 3
   },
   "file_extension": ".py",
   "mimetype": "text/x-python",
   "name": "python",
   "nbconvert_exporter": "python",
   "pygments_lexer": "ipython3",
   "version": "3.9.6"
  }
 },
 "nbformat": 4,
 "nbformat_minor": 5
}
