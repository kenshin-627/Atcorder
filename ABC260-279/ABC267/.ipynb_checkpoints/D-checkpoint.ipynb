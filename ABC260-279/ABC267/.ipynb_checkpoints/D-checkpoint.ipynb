{
 "cells": [
  {
   "cell_type": "code",
   "execution_count": 14,
   "id": "e05a10aa",
   "metadata": {},
   "outputs": [
    {
     "name": "stdout",
     "output_type": "stream",
     "text": [
      "10 4\n",
      "-3 1 -4 1 -5 9 -2 6 -5 3\n",
      "54\n"
     ]
    }
   ],
   "source": [
    "from collections import defaultdict\n",
    "\n",
    "def main():\n",
    "    N,M = map(int, input().split())\n",
    "    AN = [*map(int, input().split())]\n",
    "    # A1~Ai からj個選んだ部分列Bの Σi*Bi の最大値\n",
    "    dp_dict = defaultdict(lambda: -10**18)\n",
    "    dp_dict[(0,0)] = 0\n",
    "    for i in range(1, N+1):\n",
    "        for j in range(M+1):\n",
    "            if j == 0:\n",
    "                dp_dict[(i,0)] = 0\n",
    "            elif j > i:\n",
    "                continue\n",
    "            else:\n",
    "                dp_dict[(i,j)] = max(dp_dict[(i-1,j-1)] + (j)*AN[i-1], dp_dict[(i-1,j)])\n",
    "    print(dp_dict[(N,M)])\n",
    "    \n",
    "if __name__ == \"__main__\":\n",
    "    main()"
   ]
  }
 ],
 "metadata": {
  "kernelspec": {
   "display_name": "Python 3 (ipykernel)",
   "language": "python",
   "name": "python3"
  },
  "language_info": {
   "codemirror_mode": {
    "name": "ipython",
    "version": 3
   },
   "file_extension": ".py",
   "mimetype": "text/x-python",
   "name": "python",
   "nbconvert_exporter": "python",
   "pygments_lexer": "ipython3",
   "version": "3.9.6"
  }
 },
 "nbformat": 4,
 "nbformat_minor": 5
}
