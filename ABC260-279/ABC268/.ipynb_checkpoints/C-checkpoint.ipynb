{
 "cells": [
  {
   "cell_type": "code",
   "execution_count": 1,
   "metadata": {},
   "outputs": [
    {
     "name": "stdout",
     "output_type": "stream",
     "text": [
      "10\n",
      "3 9 6 1 7 2 8 0 5 4\n",
      "5\n"
     ]
    }
   ],
   "source": [
    "def main():\n",
    "    N = int(input())\n",
    "    PN = list(map(int, input().split()))\n",
    "    dis = []\n",
    "    ans = [0]*N\n",
    "    for i, pn in enumerate(PN):\n",
    "        if (pn-i-1) < 0:\n",
    "            ans[pn-i-1+N] += 1\n",
    "        else:\n",
    "            ans[pn-i-1] += 1\n",
    "        \n",
    "        if (pn-i) < 0:\n",
    "            ans[pn-i+N] += 1\n",
    "        else:\n",
    "            ans[pn-i] += 1\n",
    "        \n",
    "        if (pn-i+1) < 0:\n",
    "            ans[pn-i+1+N] += 1\n",
    "        elif (pn-i+1) == N:\n",
    "            ans[0] += 1\n",
    "        else:\n",
    "            ans[pn-i+1] += 1\n",
    "    print(max(ans))\n",
    "    \n",
    "if __name__ == \"__main__\":\n",
    "    main()"
   ]
  },
  {
   "cell_type": "code",
   "execution_count": null,
   "metadata": {},
   "outputs": [],
   "source": []
  }
 ],
 "metadata": {
  "kernelspec": {
   "display_name": "Python 3",
   "language": "python",
   "name": "python3"
  },
  "language_info": {
   "codemirror_mode": {
    "name": "ipython",
    "version": 3
   },
   "file_extension": ".py",
   "mimetype": "text/x-python",
   "name": "python",
   "nbconvert_exporter": "python",
   "pygments_lexer": "ipython3",
   "version": "3.8.3"
  }
 },
 "nbformat": 4,
 "nbformat_minor": 4
}
