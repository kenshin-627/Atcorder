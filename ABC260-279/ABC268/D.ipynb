{
 "cells": [
  {
   "cell_type": "code",
   "execution_count": 29,
   "metadata": {},
   "outputs": [
    {
     "name": "stdout",
     "output_type": "stream",
     "text": [
      "bb\n"
     ]
    }
   ],
   "source": [
    "from collections import deque\n",
    "from itertools import combinations_with_replacement\n",
    "from itertools import permutations\n",
    "\n",
    "def main():\n",
    "    N,M = map(int, input().split())\n",
    "    SN = [input() for _ in range(N)]\n",
    "    # 文字数\n",
    "    length = N-1\n",
    "    for s in SN:\n",
    "        length += len(s)\n",
    "    TM = set([input() for _ in range(M)])\n",
    "    for S in permutations(SN):\n",
    "        base = [S[0]]\n",
    "        for s in S[1:]:\n",
    "            base.append(\"_\")\n",
    "            base.append(s)\n",
    "        if \"\".join(base) not in TM:\n",
    "            if len(\"\".join(base)) >= 3:\n",
    "                print(\"\".join(base))\n",
    "                return\n",
    "        # i: 何個の重複組合せを選ぶか\n",
    "        for i in range(1, 17-length):\n",
    "            # js: 何番目の文字と文字の隙間に\"_\"を入れるかを決めるタプル, (1,3)なら1番目と3番目に\"_\"をいれる\n",
    "            for js in combinations_with_replacement(range(1,N), i):\n",
    "                tmp = base.copy()\n",
    "                for j in js[::-1]:\n",
    "                    tmp.insert(2*j, \"_\")\n",
    "                if \"\".join(tmp) not in TM:\n",
    "                    if len(\"\".join(base)) >= 3:\n",
    "                        print(\"\".join(tmp))\n",
    "                        return\n",
    "    print(-1)\n",
    "    \n",
    "if __name__ == \"__main__\":\n",
    "    main()"
   ]
  },
  {
   "cell_type": "code",
   "execution_count": 23,
   "metadata": {},
   "outputs": [
    {
     "name": "stdout",
     "output_type": "stream",
     "text": [
      "(1, 1)\n",
      "(1, 2)\n",
      "(1, 3)\n",
      "(2, 2)\n",
      "(2, 3)\n",
      "(3, 3)\n"
     ]
    }
   ],
   "source": [
    "from itertools import combinations_with_replacement\n",
    "from itertools import permutations\n",
    "\n",
    "A = [1,2,3]\n",
    "for a in combinations_with_replacement(A, 2):\n",
    "    print(a)"
   ]
  },
  {
   "cell_type": "code",
   "execution_count": 17,
   "metadata": {},
   "outputs": [
    {
     "name": "stdout",
     "output_type": "stream",
     "text": [
      "16\n"
     ]
    }
   ],
   "source": [
    "a = \"choku________dai\"\n",
    "print(len(a))"
   ]
  },
  {
   "cell_type": "code",
   "execution_count": null,
   "metadata": {},
   "outputs": [],
   "source": []
  }
 ],
 "metadata": {
  "kernelspec": {
   "display_name": "Python 3",
   "language": "python",
   "name": "python3"
  },
  "language_info": {
   "codemirror_mode": {
    "name": "ipython",
    "version": 3
   },
   "file_extension": ".py",
   "mimetype": "text/x-python",
   "name": "python",
   "nbconvert_exporter": "python",
   "pygments_lexer": "ipython3",
   "version": "3.11.1"
  }
 },
 "nbformat": 4,
 "nbformat_minor": 4
}
