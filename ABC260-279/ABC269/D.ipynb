{
 "cells": [
  {
   "cell_type": "code",
   "execution_count": null,
   "metadata": {},
   "outputs": [],
   "source": [
    "from collections import deque\n",
    "\n",
    "def main():\n",
    "    N = int(input())\n",
    "    dq = deque()\n",
    "    not_seen = set()\n",
    "    for _ in range(N):\n",
    "        x, y = map(int, input().split())\n",
    "        not_seen.add((x, y))\n",
    "    ans = 0\n",
    "    while(not_seen):\n",
    "        dq.append(not_seen.pop())\n",
    "        while(dq):\n",
    "            now_node = dq.popleft()\n",
    "            x, y = now_node\n",
    "            next_nodes = [(x-1,y-1), (x-1,y), (x,y-1), (x,y+1), (x+1,y), (x+1,y+1)]\n",
    "            for next_node in next_nodes:\n",
    "                if next_node in not_seen:\n",
    "                    not_seen.remove(next_node)\n",
    "                    dq.append(next_node)\n",
    "        ans += 1\n",
    "    print(ans)\n",
    "    \n",
    "if __name__ == \"__main__\":\n",
    "    main()"
   ]
  }
 ],
 "metadata": {
  "kernelspec": {
   "display_name": "Python 3",
   "language": "python",
   "name": "python3"
  },
  "language_info": {
   "codemirror_mode": {
    "name": "ipython",
    "version": 3
   },
   "file_extension": ".py",
   "mimetype": "text/x-python",
   "name": "python",
   "nbconvert_exporter": "python",
   "pygments_lexer": "ipython3",
   "version": "3.8.3"
  }
 },
 "nbformat": 4,
 "nbformat_minor": 4
}
