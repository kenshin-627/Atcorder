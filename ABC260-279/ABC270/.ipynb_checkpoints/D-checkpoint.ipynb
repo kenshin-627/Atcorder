{
 "cells": [
  {
   "cell_type": "code",
   "execution_count": 12,
   "id": "967fa9f3",
   "metadata": {},
   "outputs": [
    {
     "name": "stdout",
     "output_type": "stream",
     "text": [
      "10000 10\n",
      "1 2 4 8 16 32 64 128 256 512\n",
      "5136\n"
     ]
    }
   ],
   "source": [
    "# 貪欲法\n",
    "def main():\n",
    "    N, K = map(int, input().split())\n",
    "    A_K = [*map(int, input().split())]\n",
    "    ans = 0\n",
    "    mod2 = 0\n",
    "    for i in reversed(A_K):\n",
    "        while(N >= i):\n",
    "            N -= i\n",
    "            if mod2 % 2 == 0:    \n",
    "                ans += i\n",
    "                mod2 += 1\n",
    "            else:\n",
    "                mod2 += 1\n",
    "    print(ans)\n",
    "    \n",
    "if __name__ == \"__main__\":\n",
    "    main()"
   ]
  },
  {
   "cell_type": "code",
   "execution_count": 29,
   "id": "56e563f5",
   "metadata": {},
   "outputs": [
    {
     "name": "stdout",
     "output_type": "stream",
     "text": [
      "10 3\n",
      "1 3 4\n",
      "6\n"
     ]
    }
   ],
   "source": [
    "# AC\n",
    "# dp i個からスタートしたら先手後手が何個取れるか\n",
    "from collections import deque\n",
    "\n",
    "def main():\n",
    "    N, K = map(int, input().split())\n",
    "    A_K = [*map(int, input().split())]\n",
    "    dp = [(0,0)]*(N+1)\n",
    "    for i in range(1, N+1):\n",
    "        que = deque([(0,0)])\n",
    "        for A in A_K:\n",
    "            if (i - A) >= 0:\n",
    "                que.append((A+dp[i-A][1], 0+dp[i-A][0]))\n",
    "            else:\n",
    "                break\n",
    "        dp[i] = max(que)\n",
    "    print(dp[N][0])\n",
    "    \n",
    "if __name__ == \"__main__\":\n",
    "    main()"
   ]
  },
  {
   "cell_type": "code",
   "execution_count": null,
   "id": "ea156a7e",
   "metadata": {},
   "outputs": [],
   "source": []
  }
 ],
 "metadata": {
  "kernelspec": {
   "display_name": "Python 3 (ipykernel)",
   "language": "python",
   "name": "python3"
  },
  "language_info": {
   "codemirror_mode": {
    "name": "ipython",
    "version": 3
   },
   "file_extension": ".py",
   "mimetype": "text/x-python",
   "name": "python",
   "nbconvert_exporter": "python",
   "pygments_lexer": "ipython3",
   "version": "3.9.6"
  }
 },
 "nbformat": 4,
 "nbformat_minor": 5
}
