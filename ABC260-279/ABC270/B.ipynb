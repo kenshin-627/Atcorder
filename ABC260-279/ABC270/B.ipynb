{
 "cells": [
  {
   "cell_type": "code",
   "execution_count": 3,
   "id": "23f443dc",
   "metadata": {},
   "outputs": [
    {
     "name": "stdout",
     "output_type": "stream",
     "text": [
      "100 1 1000\n",
      "-1\n"
     ]
    }
   ],
   "source": [
    "def main():\n",
    "    X,Y,Z = map(int, input().split())\n",
    "    if 0 <= Y <= X or X <= Y <= 0:\n",
    "        if 0 <= Y <= Z or Z <= Y <= 0:\n",
    "            print(-1)\n",
    "            return\n",
    "        else:\n",
    "            print(abs(Z) + abs(Z-X))\n",
    "            return\n",
    "    else:\n",
    "        print(abs(X))\n",
    "        return\n",
    "    \n",
    "if __name__ == \"__main__\":\n",
    "    main()"
   ]
  },
  {
   "cell_type": "code",
   "execution_count": null,
   "id": "e15b3e94",
   "metadata": {},
   "outputs": [],
   "source": []
  }
 ],
 "metadata": {
  "kernelspec": {
   "display_name": "Python 3 (ipykernel)",
   "language": "python",
   "name": "python3"
  },
  "language_info": {
   "codemirror_mode": {
    "name": "ipython",
    "version": 3
   },
   "file_extension": ".py",
   "mimetype": "text/x-python",
   "name": "python",
   "nbconvert_exporter": "python",
   "pygments_lexer": "ipython3",
   "version": "3.9.6"
  }
 },
 "nbformat": 4,
 "nbformat_minor": 5
}
