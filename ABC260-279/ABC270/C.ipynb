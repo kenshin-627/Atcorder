{
 "cells": [
  {
   "cell_type": "code",
   "execution_count": 1,
   "metadata": {},
   "outputs": [
    {
     "name": "stdout",
     "output_type": "stream",
     "text": [
      "5 2 5\n",
      "1 2\n",
      "1 3\n",
      "3 4\n",
      "3 5\n",
      "2 1 3 5\n"
     ]
    }
   ],
   "source": [
    "from collections import deque\n",
    "\n",
    "def main():\n",
    "    # N頂点，XからYへの単純パス\n",
    "    N, X, Y = map(int, input().split())\n",
    "    \n",
    "    # 隣接リスト作る(0行目は[])\n",
    "    edges = [[] for _ in range(N+1)]\n",
    "    for _ in range(N-1):\n",
    "        Ui, Vi = map(int, input().split())\n",
    "        edges[Ui].append(Vi)\n",
    "        edges[Vi].append(Ui)\n",
    "    ans = DFS(edges, X, Y)\n",
    "    print(*ans, sep=\" \")\n",
    "    \n",
    "def DFS(adjacency_list, x, y):\n",
    "    if x == y:\n",
    "        return [x]\n",
    "    if x < 0 or len(adjacency_list) <= x or y < 0 or len(adjacency_list) <= y:\n",
    "        return -1\n",
    "    # i番目の頂点の親が記録されてる変数\n",
    "    parent = [-1] * len(adjacency_list)\n",
    "    # 今後探索する頂点\n",
    "    dq_search = deque([x])\n",
    "    # 探索した頂点\n",
    "    seen_node = [0] * len(adjacency_list)\n",
    "    while(dq_search):\n",
    "        now_node = dq_search.pop()\n",
    "        seen_node[now_node] = 1\n",
    "        for next_node in adjacency_list[now_node]:\n",
    "            if seen_node[next_node] == 0:\n",
    "                parent[next_node] = now_node\n",
    "                if next_node == y:\n",
    "                    path = [y]\n",
    "                    tmp_node = y\n",
    "                    while(tmp_node != x):\n",
    "                        tmp_node = parent[tmp_node]\n",
    "                        path.append(tmp_node)\n",
    "                    path.reverse()\n",
    "                    return path\n",
    "                dq_search.append(next_node)\n",
    "    return -1\n",
    "    \n",
    "if __name__ == \"__main__\":\n",
    "    main()"
   ]
  },
  {
   "cell_type": "code",
   "execution_count": null,
   "metadata": {},
   "outputs": [],
   "source": []
  }
 ],
 "metadata": {
  "kernelspec": {
   "display_name": "Python 3",
   "language": "python",
   "name": "python3"
  },
  "language_info": {
   "codemirror_mode": {
    "name": "ipython",
    "version": 3
   },
   "file_extension": ".py",
   "mimetype": "text/x-python",
   "name": "python",
   "nbconvert_exporter": "python",
   "pygments_lexer": "ipython3",
   "version": "3.8.3"
  }
 },
 "nbformat": 4,
 "nbformat_minor": 4
}
