{
 "cells": [
  {
   "cell_type": "code",
   "execution_count": 36,
   "metadata": {},
   "outputs": [
    {
     "name": "stdout",
     "output_type": "stream",
     "text": [
      "0 1 0\n"
     ]
    }
   ],
   "source": [
    "def main():\n",
    "    N,K = map(int,input().split())\n",
    "    A = list(map(int,input().split()))\n",
    "    num_to_ind = []\n",
    "    for i,a in enumerate(A):\n",
    "        num_to_ind.append([a,i])\n",
    "    num_to_ind.sort()\n",
    "    nums,inds = map(list, zip(*num_to_ind))\n",
    "    nums_0= [0] + nums\n",
    "    # numsの階差数列\n",
    "    diff = [nums_0[i+1]-nums_0[i] for i in range(N)]\n",
    "    ans_diff = [0]*N\n",
    "    # print(nums,inds)\n",
    "    # print(diff)\n",
    "    for i in range(N):\n",
    "        if diff[i] == 0:\n",
    "            continue\n",
    "        if (N-i)*diff[i] <= K:\n",
    "            ans_diff[i] = -diff[i]\n",
    "            K -= (N-i)*diff[i]\n",
    "        else:\n",
    "            ans_diff[i] = -(K//(N-i))\n",
    "            K -= (N-i)*(K//(N-i))\n",
    "            break\n",
    "    # print(ans_diff)\n",
    "    ans = [0]*N\n",
    "    diff_sum = 0\n",
    "    for i in range(N):\n",
    "        diff_sum += ans_diff[i]\n",
    "        ans[inds[i]] = nums[i] + diff_sum\n",
    "    # 最後一周1引く\n",
    "    # print(*ans)\n",
    "    for i in range(N):\n",
    "        if K == 0:\n",
    "            break\n",
    "        if ans[i] > 0:\n",
    "            ans[i] -= 1\n",
    "            K -= 1\n",
    "    print(*ans)\n",
    "    \n",
    "if __name__ == \"__main__\":\n",
    "    main()"
   ]
  },
  {
   "cell_type": "code",
   "execution_count": null,
   "metadata": {},
   "outputs": [],
   "source": []
  }
 ],
 "metadata": {
  "kernelspec": {
   "display_name": "Python 3",
   "language": "python",
   "name": "python3"
  },
  "language_info": {
   "codemirror_mode": {
    "name": "ipython",
    "version": 3
   },
   "file_extension": ".py",
   "mimetype": "text/x-python",
   "name": "python",
   "nbconvert_exporter": "python",
   "pygments_lexer": "ipython3",
   "version": "3.11.1"
  },
  "orig_nbformat": 4
 },
 "nbformat": 4,
 "nbformat_minor": 2
}
