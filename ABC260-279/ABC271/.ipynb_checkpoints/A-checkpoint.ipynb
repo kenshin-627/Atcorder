{
 "cells": [
  {
   "cell_type": "code",
   "execution_count": 2,
   "id": "08b36569",
   "metadata": {},
   "outputs": [
    {
     "name": "stdout",
     "output_type": "stream",
     "text": [
      "255\n",
      "FF\n"
     ]
    }
   ],
   "source": [
    "def main():\n",
    "    N = int(input())\n",
    "    i = 0\n",
    "    while(N >= 16):\n",
    "        N -= 16\n",
    "        i += 1\n",
    "    print(to_16str(i) + to_16str(N))\n",
    "\n",
    "def to_16str(a):\n",
    "    if a == 0:\n",
    "        return \"0\"\n",
    "    elif a == 1:\n",
    "        return \"1\"\n",
    "    elif a == 2:\n",
    "        return \"2\"\n",
    "    elif a == 3:\n",
    "        return \"3\"\n",
    "    elif a == 4:\n",
    "        return \"4\"\n",
    "    elif a == 5:\n",
    "        return \"5\"\n",
    "    elif a == 6:\n",
    "        return \"6\"\n",
    "    elif a == 7:\n",
    "        return \"7\"\n",
    "    elif a == 8:\n",
    "        return \"8\"\n",
    "    elif a == 9:\n",
    "        return \"9\"\n",
    "    elif a == 10:\n",
    "        return \"A\"\n",
    "    elif a == 11:\n",
    "        return \"B\"\n",
    "    elif a == 12:\n",
    "        return \"C\"\n",
    "    elif a == 13:\n",
    "        return \"D\"\n",
    "    elif a == 14:\n",
    "        return \"E\"\n",
    "    elif a == 15:\n",
    "        return \"F\"\n",
    "    \n",
    "if __name__ == \"__main__\":\n",
    "    main()"
   ]
  },
  {
   "cell_type": "code",
   "execution_count": null,
   "id": "b76ed6c8",
   "metadata": {},
   "outputs": [],
   "source": []
  }
 ],
 "metadata": {
  "kernelspec": {
   "display_name": "Python 3 (ipykernel)",
   "language": "python",
   "name": "python3"
  },
  "language_info": {
   "codemirror_mode": {
    "name": "ipython",
    "version": 3
   },
   "file_extension": ".py",
   "mimetype": "text/x-python",
   "name": "python",
   "nbconvert_exporter": "python",
   "pygments_lexer": "ipython3",
   "version": "3.9.6"
  }
 },
 "nbformat": 4,
 "nbformat_minor": 5
}
