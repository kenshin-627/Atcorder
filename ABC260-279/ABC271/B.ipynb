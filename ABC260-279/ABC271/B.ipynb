{
 "cells": [
  {
   "cell_type": "code",
   "execution_count": 3,
   "id": "029bfca7",
   "metadata": {},
   "outputs": [
    {
     "name": "stdout",
     "output_type": "stream",
     "text": [
      "2 2\n",
      "3 1 4 7\n",
      "2 5 9\n",
      "1 3\n",
      "7\n",
      "2 1\n",
      "5\n"
     ]
    }
   ],
   "source": [
    "def main():\n",
    "    N,Q = map(int, input().split())\n",
    "    L = []\n",
    "    for _ in range(N):\n",
    "        Li = [*map(int, input().split())]\n",
    "        Li.pop(0)\n",
    "        L.append(Li)\n",
    "    for _ in range(Q):\n",
    "        i, j = map(int, input().split())\n",
    "        print(L[i-1][j-1])\n",
    "    \n",
    "if __name__ == \"__main__\":\n",
    "    main()"
   ]
  },
  {
   "cell_type": "code",
   "execution_count": null,
   "id": "ff9f80b8",
   "metadata": {},
   "outputs": [],
   "source": []
  }
 ],
 "metadata": {
  "kernelspec": {
   "display_name": "Python 3 (ipykernel)",
   "language": "python",
   "name": "python3"
  },
  "language_info": {
   "codemirror_mode": {
    "name": "ipython",
    "version": 3
   },
   "file_extension": ".py",
   "mimetype": "text/x-python",
   "name": "python",
   "nbconvert_exporter": "python",
   "pygments_lexer": "ipython3",
   "version": "3.9.6"
  }
 },
 "nbformat": 4,
 "nbformat_minor": 5
}
