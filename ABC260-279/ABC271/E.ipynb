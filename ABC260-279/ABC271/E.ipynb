{
 "cells": [
  {
   "cell_type": "code",
   "execution_count": 1,
   "metadata": {},
   "outputs": [
    {
     "name": "stdout",
     "output_type": "stream",
     "text": [
      "[{2: 1, 1: 2, 4: 0}, {2: 1, 1: 2}, {2: 3, 1: 2}, {2: 3}]\n"
     ]
    }
   ],
   "source": [
    "from collections import deque\n",
    "from collections import defaultdict\n",
    "\n",
    "def main():\n",
    "    N,M,K = map(int,input().split())\n",
    "    adj_dict = defaultdict(list)\n",
    "    for i in range(1,M+1):\n",
    "        a,b,c = map(int,input().split())\n",
    "        # bからcへの道iがある\n",
    "        adj_dict[a].append((b,c,i))\n",
    "        adj_dict[b].append((a,c,i))\n",
    "    E = list(map(int,input().split()))\n",
    "    # Eのi番目以降(i番目含める)で初めてkey(道番号)が出てくるindexがvalueになってる\n",
    "    E_dict = [dict() for _ in [0]*K]\n",
    "    for i in range(K-1,-1,-1):\n",
    "        if i == K-1:\n",
    "            E_dict[i][E[i]] = i\n",
    "        else:\n",
    "            E_dict[i] = E_dict[i+1].copy()\n",
    "            E_dict[i][E[i]] = i\n",
    "    # (長さの合計, 部分列での自分の位置，自分のノード番号, 通ったノード番号の集合)\n",
    "    q = deque([(0,0,1,set([1]))])\n",
    "    ans = float(\"inf\")\n",
    "    while q:\n",
    "        d_sum, i, node, seen = q.popleft()\n",
    "        for next_node, d, j in adj_dict[node]:\n",
    "            if j not in E_dict[i]:\n",
    "                continue\n",
    "            elif next_node in seen:\n",
    "                continue\n",
    "            else:\n",
    "                if next_node == N:\n",
    "                    if ans > d_sum+d:\n",
    "                        ans = d_sum+d\n",
    "                else:\n",
    "                    q.append((d_sum+d, E_dict[i][j]+1, next_node, seen|set([next_node])))\n",
    "    print(ans if ans != float(\"inf\") else -1)\n",
    "    \n",
    "if __name__ == \"__main__\":\n",
    "    main()"
   ]
  },
  {
   "cell_type": "code",
   "execution_count": null,
   "metadata": {},
   "outputs": [],
   "source": []
  }
 ],
 "metadata": {
  "kernelspec": {
   "display_name": "Python 3",
   "language": "python",
   "name": "python3"
  },
  "language_info": {
   "codemirror_mode": {
    "name": "ipython",
    "version": 3
   },
   "file_extension": ".py",
   "mimetype": "text/x-python",
   "name": "python",
   "nbconvert_exporter": "python",
   "pygments_lexer": "ipython3",
   "version": "3.11.1"
  },
  "orig_nbformat": 4
 },
 "nbformat": 4,
 "nbformat_minor": 2
}
