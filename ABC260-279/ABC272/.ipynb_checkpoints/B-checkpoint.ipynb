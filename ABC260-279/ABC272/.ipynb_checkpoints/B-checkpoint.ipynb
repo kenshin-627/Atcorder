{
 "cells": [
  {
   "cell_type": "code",
   "execution_count": 3,
   "id": "5e3cacbe",
   "metadata": {},
   "outputs": [
    {
     "name": "stdout",
     "output_type": "stream",
     "text": [
      "4 2\n",
      "3 1 2 4\n",
      "3 2 3 4\n",
      "No\n"
     ]
    }
   ],
   "source": [
    "from collections import defaultdict\n",
    "\n",
    "def main():\n",
    "    N,M = map(int, input().split())\n",
    "    together_dict = defaultdict(set)\n",
    "    for i in range(M):\n",
    "        xi = [*map(int, input().split())]\n",
    "        xi.pop(0)\n",
    "        xi_set = set(xi)\n",
    "        for xij in xi:\n",
    "            together_dict[xij] |= xi_set\n",
    "    i = 0\n",
    "    for value in together_dict.values():\n",
    "        i += 1\n",
    "        if len(value) != N:\n",
    "            print(\"No\")\n",
    "            return\n",
    "    if i == N:\n",
    "        print(\"Yes\")\n",
    "    else:\n",
    "        print(\"No\")\n",
    "    \n",
    "if __name__ == \"__main__\":\n",
    "    main()"
   ]
  },
  {
   "cell_type": "code",
   "execution_count": null,
   "id": "fe349056",
   "metadata": {},
   "outputs": [],
   "source": []
  }
 ],
 "metadata": {
  "kernelspec": {
   "display_name": "Python 3 (ipykernel)",
   "language": "python",
   "name": "python3"
  },
  "language_info": {
   "codemirror_mode": {
    "name": "ipython",
    "version": 3
   },
   "file_extension": ".py",
   "mimetype": "text/x-python",
   "name": "python",
   "nbconvert_exporter": "python",
   "pygments_lexer": "ipython3",
   "version": "3.9.6"
  }
 },
 "nbformat": 4,
 "nbformat_minor": 5
}
