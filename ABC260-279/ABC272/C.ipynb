{
 "cells": [
  {
   "cell_type": "code",
   "execution_count": 8,
   "metadata": {},
   "outputs": [
    {
     "name": "stdout",
     "output_type": "stream",
     "text": [
      "2\n",
      "1 0\n",
      "-1\n"
     ]
    }
   ],
   "source": [
    "from collections import deque\n",
    "import numpy as np\n",
    "\n",
    "def main():\n",
    "    N = int(input())\n",
    "    A_N = [*map(int, input().split())]\n",
    "    A_even = sorted([i for i in A_N if i % 2 == 0])\n",
    "    A_odd = sorted([i for i in A_N if i % 2])\n",
    "    if len(A_even) < 2 and len(A_odd) < 2:\n",
    "        print(-1)\n",
    "        return\n",
    "    even_max = 0\n",
    "    odd_max = 0\n",
    "    if len(A_even) >= 2:\n",
    "        even_max = A_even[-1] + A_even[-2]\n",
    "    if len(A_odd) >= 2:\n",
    "        odd_max = A_odd[-1] + A_odd[-2]\n",
    "    print(max(even_max, odd_max))\n",
    "        \n",
    "    \n",
    "if __name__ == \"__main__\":\n",
    "    main()"
   ]
  }
 ],
 "metadata": {
  "kernelspec": {
   "display_name": "Python 3",
   "language": "python",
   "name": "python3"
  },
  "language_info": {
   "codemirror_mode": {
    "name": "ipython",
    "version": 3
   },
   "file_extension": ".py",
   "mimetype": "text/x-python",
   "name": "python",
   "nbconvert_exporter": "python",
   "pygments_lexer": "ipython3",
   "version": "3.8.3"
  }
 },
 "nbformat": 4,
 "nbformat_minor": 4
}
