{
 "cells": [
  {
   "cell_type": "code",
   "execution_count": 14,
   "metadata": {},
   "outputs": [
    {
     "name": "stdout",
     "output_type": "stream",
     "text": [
      "5 5 4 4\n",
      "3\n",
      "5 3\n",
      "2 2\n",
      "1 4\n",
      "4\n",
      "L 2\n",
      "2 4\n",
      "U 3\n",
      "2 3\n",
      "L 2\n",
      "0 3\n",
      "R 4\n",
      "4 3\n"
     ]
    }
   ],
   "source": [
    "def main():\n",
    "    H_ = input().split()\n",
    "    H = int(H_[0])\n",
    "    W = int(H_[1])\n",
    "    rs = int(H_[2])\n",
    "    cs = int(H_[3])\n",
    "    \n",
    "    N = int(input())\n",
    "    wall = set()\n",
    "    for i, _ in enumerate(range(N)):\n",
    "        rc = input().split()\n",
    "        wall.add((int(rc[0]), int(rc[1])))\n",
    "    \n",
    "    Q = int(input())\n",
    "    for i, _ in enumerate(range(Q)):\n",
    "        dl = input().split()\n",
    "        d = dl[0]\n",
    "        l = int(dl[1])\n",
    "        for j, _ in enumerate(range(l)):\n",
    "            nx_r = rs\n",
    "            nx_c = cs\n",
    "            if d == \"R\":\n",
    "                # cplus\n",
    "                nx_c += 1\n",
    "            elif d == \"L\":\n",
    "                # cminus\n",
    "                nx_c -= 1\n",
    "            elif d == \"D\":\n",
    "                # rplus\n",
    "                nx_r += 1\n",
    "            else:\n",
    "                # rminus\n",
    "                nx_r -= 1\n",
    "            if (nx_r, nx_c) in wall or nx_r <= 0 or nx_c <= 0 or nx_r > H or nx_c > W:\n",
    "                break\n",
    "            else:\n",
    "                rs = nx_r\n",
    "                cs = nx_c\n",
    "        print(str(rs) + \" \" + str(cs))\n",
    "        \n",
    "    \n",
    "if __name__ == \"__main__\":\n",
    "    main()"
   ]
  },
  {
   "cell_type": "code",
   "execution_count": null,
   "metadata": {},
   "outputs": [],
   "source": [
    "from collections import defaultdict\n",
    "import bisect\n",
    "\n",
    "def main():\n",
    "    H,W,rs,cs = map(int, input().split())\n",
    "    N = int(input())\n",
    "    # 各行の何番目に壁があるかを表す辞書(0とW+1には元から壁があるものとする) {1:[2,4], 3:[1]}なら(1,2),(1,4),(3,1)に壁がある\n",
    "    wall_r_dict = defaultdict(lambda:[0,W+1])\n",
    "    # 各行の壁のlistがソートされてるかどうか 0ならソートされてない,1ならソートされてる\n",
    "    wall_r_sorted = defaultdict(int)\n",
    "    # 列バージョン\n",
    "    wall_c_dict = defaultdict(lambda:[0,H+1])\n",
    "    wall_c_sorted = defaultdict(int)\n",
    "    for _ in range(N):\n",
    "        r,c = map(int, input().split())\n",
    "        wall_r_dict[r].append(c)\n",
    "        wall_c_dict[c].append(r)\n",
    "    Q = int(input())\n",
    "    for _ in range(Q):\n",
    "        d,l = input().split()\n",
    "        l = int(l)\n",
    "        if d == \"R\" or d == \"L\":\n",
    "            if not wall_r_sorted[rs]:\n",
    "                wall_r_dict[rs].sort()\n",
    "                wall_r_sorted[rs] = 1\n",
    "            index_right = bisect.bisect(wall_r_dict[rs], cs)\n",
    "            if d == \"R\":\n",
    "                cs += l\n",
    "                if wall_r_dict[rs][index_right] <= cs:\n",
    "                    cs = wall_r_dict[rs][index_right] - 1\n",
    "            else:\n",
    "                cs -= l\n",
    "                if cs <= wall_r_dict[rs][index_right - 1]:\n",
    "                    cs = wall_r_dict[rs][index_right - 1] + 1\n",
    "        else:\n",
    "            if not wall_c_sorted[cs]:\n",
    "                wall_c_dict[cs].sort()\n",
    "                wall_c_sorted[cs] = 1\n",
    "            index_down = bisect.bisect(wall_c_dict[cs], rs)\n",
    "            if d == \"D\":\n",
    "                rs += l\n",
    "                if wall_c_dict[cs][index_down] <= rs:\n",
    "                    rs = wall_c_dict[cs][index_down] - 1\n",
    "            else:\n",
    "                rs -= l\n",
    "                if rs <= wall_c_dict[cs][index_down - 1]:\n",
    "                    rs = wall_c_dict[cs][index_down -1 ] + 1\n",
    "        print(f\"{rs} {cs}\")\n",
    "    \n",
    "if __name__ == \"__main__\":\n",
    "    main()"
   ]
  },
  {
   "cell_type": "code",
   "execution_count": 1,
   "metadata": {},
   "outputs": [
    {
     "name": "stdout",
     "output_type": "stream",
     "text": [
      "1\n"
     ]
    }
   ],
   "source": [
    "if 1:\n",
    "    print(1)\n",
    "if 0:\n",
    "    print(0)"
   ]
  },
  {
   "cell_type": "code",
   "execution_count": 4,
   "metadata": {},
   "outputs": [
    {
     "name": "stdout",
     "output_type": "stream",
     "text": [
      "[0, 3]\n"
     ]
    }
   ],
   "source": [
    "from collections import defaultdict\n",
    "a = defaultdict(lambda: [0,3])\n",
    "print(a[1])"
   ]
  },
  {
   "cell_type": "code",
   "execution_count": null,
   "metadata": {},
   "outputs": [],
   "source": []
  }
 ],
 "metadata": {
  "kernelspec": {
   "display_name": "Python 3 (ipykernel)",
   "language": "python",
   "name": "python3"
  },
  "language_info": {
   "codemirror_mode": {
    "name": "ipython",
    "version": 3
   },
   "file_extension": ".py",
   "mimetype": "text/x-python",
   "name": "python",
   "nbconvert_exporter": "python",
   "pygments_lexer": "ipython3",
   "version": "3.9.6"
  }
 },
 "nbformat": 4,
 "nbformat_minor": 4
}
