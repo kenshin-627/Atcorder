{
 "cells": [
  {
   "cell_type": "code",
   "execution_count": 1,
   "metadata": {},
   "outputs": [
    {
     "name": "stdout",
     "output_type": "stream",
     "text": [
      "3 4 5\n",
      "1 2 3 4\n",
      "No\n"
     ]
    }
   ],
   "source": [
    "def main():\n",
    "    N_x_y = input().split()\n",
    "    N = int(N_x_y[0])\n",
    "    x = int(N_x_y[1])\n",
    "    y = int(N_x_y[2])\n",
    "    A_N = list(map(int, input().split()))\n",
    "    \n",
    "    A_x = []\n",
    "    A_y = []\n",
    "    for i, A in enumerate(A_N):\n",
    "        if i % 2 == 0:\n",
    "            A_x.append(A)\n",
    "        else:\n",
    "            A_y.append(A)\n",
    "    \n",
    "    now_xs = set()\n",
    "    for i, A in enumerate(A_x):\n",
    "        if i == 0:\n",
    "            now_xs.add(A)\n",
    "            continue\n",
    "        tmp = set()\n",
    "        for now_x in now_xs:\n",
    "            tmp.add(now_x+A)\n",
    "            tmp.add(now_x-A)\n",
    "        now_xs = tmp\n",
    "    if x not in now_xs:\n",
    "        print(\"No\")\n",
    "    else:\n",
    "        now_ys = set()\n",
    "        for i, A in enumerate(A_y):\n",
    "            if i == 0:\n",
    "                now_ys.add(A)\n",
    "                now_ys.add(-A)\n",
    "                continue\n",
    "            tmp = set()\n",
    "            for now_y in now_ys:\n",
    "                tmp.add(now_y+A)\n",
    "                tmp.add(now_y-A)\n",
    "            now_ys = tmp\n",
    "        if y in now_ys:\n",
    "            print(\"Yes\")\n",
    "        else:\n",
    "            print(\"No\")\n",
    "    \n",
    "if __name__ == \"__main__\":\n",
    "    main()"
   ]
  },
  {
   "cell_type": "code",
   "execution_count": 17,
   "metadata": {},
   "outputs": [
    {
     "name": "stdout",
     "output_type": "stream",
     "text": [
      "bit: 0b0\n",
      "mask: 0b1\n",
      "&: 0b0\n",
      "\n",
      "bit: 0b0\n",
      "mask: 0b10\n",
      "&: 0b0\n",
      "\n",
      "bit: 0b0\n",
      "mask: 0b100\n",
      "&: 0b0\n",
      "\n",
      "bit: 0b1\n",
      "mask: 0b1\n",
      "&: 0b1\n",
      "\n",
      "bit: 0b1\n",
      "mask: 0b10\n",
      "&: 0b0\n",
      "\n",
      "bit: 0b1\n",
      "mask: 0b100\n",
      "&: 0b0\n",
      "\n",
      "bit: 0b10\n",
      "mask: 0b1\n",
      "&: 0b0\n",
      "\n",
      "bit: 0b10\n",
      "mask: 0b10\n",
      "&: 0b10\n",
      "\n",
      "bit: 0b10\n",
      "mask: 0b100\n",
      "&: 0b0\n",
      "\n",
      "bit: 0b11\n",
      "mask: 0b1\n",
      "&: 0b1\n",
      "\n",
      "bit: 0b11\n",
      "mask: 0b10\n",
      "&: 0b10\n",
      "\n",
      "bit: 0b11\n",
      "mask: 0b100\n",
      "&: 0b0\n",
      "\n",
      "bit: 0b100\n",
      "mask: 0b1\n",
      "&: 0b0\n",
      "\n",
      "bit: 0b100\n",
      "mask: 0b10\n",
      "&: 0b0\n",
      "\n",
      "bit: 0b100\n",
      "mask: 0b100\n",
      "&: 0b100\n",
      "\n",
      "bit: 0b101\n",
      "mask: 0b1\n",
      "&: 0b1\n",
      "\n",
      "bit: 0b101\n",
      "mask: 0b10\n",
      "&: 0b0\n",
      "\n",
      "bit: 0b101\n",
      "mask: 0b100\n",
      "&: 0b100\n",
      "\n",
      "bit: 0b110\n",
      "mask: 0b1\n",
      "&: 0b0\n",
      "\n",
      "bit: 0b110\n",
      "mask: 0b10\n",
      "&: 0b10\n",
      "\n",
      "bit: 0b110\n",
      "mask: 0b100\n",
      "&: 0b100\n",
      "\n",
      "bit: 0b111\n",
      "mask: 0b1\n",
      "&: 0b1\n",
      "\n",
      "bit: 0b111\n",
      "mask: 0b10\n",
      "&: 0b10\n",
      "\n",
      "bit: 0b111\n",
      "mask: 0b100\n",
      "&: 0b100\n",
      "\n"
     ]
    }
   ],
   "source": [
    "for bit in range(1<<3):\n",
    "    for i in range(3):\n",
    "        mask = 1 << i\n",
    "        \n",
    "        print(f\"bit: {bin(bit)}\")\n",
    "        print(f\"mask: {bin(mask)}\")\n",
    "        print(f\"&: {bin(bit&mask)}\")\n",
    "        print()"
   ]
  },
  {
   "cell_type": "code",
   "execution_count": 12,
   "metadata": {},
   "outputs": [
    {
     "name": "stdout",
     "output_type": "stream",
     "text": [
      "True\n"
     ]
    }
   ],
   "source": [
    "a = [1,2,3]\n",
    "print(1 in a)"
   ]
  },
  {
   "cell_type": "code",
   "execution_count": 26,
   "metadata": {},
   "outputs": [
    {
     "name": "stdout",
     "output_type": "stream",
     "text": [
      "{1, 2}\n",
      "{1, 3, 4}\n",
      "{1, 2, 3, 4}\n",
      "{1, 2, 3, 4}\n"
     ]
    }
   ],
   "source": [
    "a = set()\n",
    "a.add(1)\n",
    "a.add(2)\n",
    "print(a)\n",
    "b = set()\n",
    "b.add(3)\n",
    "b.add(4)\n",
    "b.add(1)\n",
    "print(b)\n",
    "a = a | b\n",
    "print(a)\n",
    "a.add(1)\n",
    "print(a)"
   ]
  },
  {
   "cell_type": "code",
   "execution_count": null,
   "metadata": {},
   "outputs": [],
   "source": []
  }
 ],
 "metadata": {
  "kernelspec": {
   "display_name": "Python 3",
   "language": "python",
   "name": "python3"
  },
  "language_info": {
   "codemirror_mode": {
    "name": "ipython",
    "version": 3
   },
   "file_extension": ".py",
   "mimetype": "text/x-python",
   "name": "python",
   "nbconvert_exporter": "python",
   "pygments_lexer": "ipython3",
   "version": "3.8.3"
  }
 },
 "nbformat": 4,
 "nbformat_minor": 4
}
