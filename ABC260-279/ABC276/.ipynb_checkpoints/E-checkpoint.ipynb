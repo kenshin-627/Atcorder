{
 "cells": [
  {
   "cell_type": "code",
   "execution_count": 23,
   "metadata": {},
   "outputs": [
    {
     "name": "stdout",
     "output_type": "stream",
     "text": [
      "5 7\n",
      ".#...#.\n",
      "..#.#..\n",
      "...S...\n",
      "..#.#..\n",
      ".#...#.\n",
      "No\n"
     ]
    }
   ],
   "source": [
    "from collections import deque\n",
    "\n",
    "def main():\n",
    "    H,W = map(int, input().split())\n",
    "    C = [[\"#\"] * (W+2)]\n",
    "    Sx = 0\n",
    "    Sy = 0\n",
    "    for i in range(H):\n",
    "        CW= [*input()]\n",
    "        if \"S\" in CW:\n",
    "            Sx = CW.index(\"S\")+1\n",
    "            Sy = i+1\n",
    "        CW = [\"#\"] + CW + [\"#\"]\n",
    "        C.append(CW)\n",
    "    C.append([\"#\"] * (W+2))\n",
    "    goal_set = set()\n",
    "    # スタートの左右上下確認してゴールに追加\n",
    "    if C[Sy+1][Sx] == \".\":\n",
    "        goal_set.add((Sy+1, Sx))\n",
    "    if C[Sy-1][Sx] == \".\":\n",
    "        goal_set.add((Sy-1, Sx))\n",
    "    if C[Sy][Sx+1] == \".\":\n",
    "        goal_set.add((Sy, Sx+1))\n",
    "    if C[Sy][Sx-1] == \".\":\n",
    "        goal_set.add((Sy, Sx-1))\n",
    "    \n",
    "    # Sの周り4方向からそこ以外のゴール目指して探索\n",
    "    for start_tuple in goal_set:\n",
    "        now_goal_set = goal_set - set([start_tuple])\n",
    "        q = deque([start_tuple])\n",
    "        seen_set = set([start_tuple])\n",
    "        while q:\n",
    "            now_y, now_x = q.pop()\n",
    "            next_nodes = []\n",
    "            if C[now_y+1][now_x] == \".\":\n",
    "                next_nodes.append((now_y+1, now_x))\n",
    "            if C[now_y-1][now_x] == \".\":\n",
    "                next_nodes.append((now_y-1, now_x))\n",
    "            if C[now_y][now_x+1] == \".\":\n",
    "                next_nodes.append((now_y, now_x+1))\n",
    "            if C[now_y][now_x-1] == \".\":\n",
    "                next_nodes.append((now_y, now_x-1))\n",
    "            for next_node in next_nodes:\n",
    "                if next_node in seen_set:\n",
    "                    continue\n",
    "                if next_node in now_goal_set:\n",
    "                    print(\"Yes\")\n",
    "                    return\n",
    "                seen_set.add(next_node)\n",
    "                q.append(next_node)\n",
    "    print(\"No\")\n",
    "    \n",
    "if __name__ == \"__main__\":\n",
    "    main()"
   ]
  },
  {
   "cell_type": "code",
   "execution_count": null,
   "metadata": {},
   "outputs": [],
   "source": []
  }
 ],
 "metadata": {
  "kernelspec": {
   "display_name": "Python 3 (ipykernel)",
   "language": "python",
   "name": "python3"
  },
  "language_info": {
   "codemirror_mode": {
    "name": "ipython",
    "version": 3
   },
   "file_extension": ".py",
   "mimetype": "text/x-python",
   "name": "python",
   "nbconvert_exporter": "python",
   "pygments_lexer": "ipython3",
   "version": "3.9.6"
  }
 },
 "nbformat": 4,
 "nbformat_minor": 4
}
