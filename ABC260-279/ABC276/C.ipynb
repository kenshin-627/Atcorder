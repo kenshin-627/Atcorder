{
 "cells": [
  {
   "cell_type": "code",
   "execution_count": 12,
   "metadata": {},
   "outputs": [
    {
     "name": "stdout",
     "output_type": "stream",
     "text": [
      "3\n",
      "3 1 2\n",
      "2 3 1\n"
     ]
    }
   ],
   "source": [
    "def main():\n",
    "    N = int(input())\n",
    "    P = [*map(int, input().split())]\n",
    "    i = 0\n",
    "    while(True):\n",
    "        i += 1\n",
    "        tmp_P = P[-i:]\n",
    "        if tmp_P != sorted(tmp_P):\n",
    "            max_j = 0\n",
    "            first = tmp_P[0]\n",
    "            for j in tmp_P:\n",
    "                if j < first:\n",
    "                    max_j = max(max_j, j)\n",
    "            tmp_P.remove(max_j)\n",
    "            ans = P[:-i] + [max_j] + sorted(tmp_P, reverse=True)\n",
    "            print(\" \".join([*map(str, ans)]))\n",
    "            return\n",
    "    \n",
    "if __name__ == \"__main__\":\n",
    "    main()"
   ]
  },
  {
   "cell_type": "code",
   "execution_count": null,
   "metadata": {},
   "outputs": [],
   "source": []
  }
 ],
 "metadata": {
  "kernelspec": {
   "display_name": "Python 3",
   "language": "python",
   "name": "python3"
  },
  "language_info": {
   "codemirror_mode": {
    "name": "ipython",
    "version": 3
   },
   "file_extension": ".py",
   "mimetype": "text/x-python",
   "name": "python",
   "nbconvert_exporter": "python",
   "pygments_lexer": "ipython3",
   "version": "3.8.3"
  }
 },
 "nbformat": 4,
 "nbformat_minor": 4
}
