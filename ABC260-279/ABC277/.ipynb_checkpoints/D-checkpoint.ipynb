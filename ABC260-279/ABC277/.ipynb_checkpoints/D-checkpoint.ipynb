{
 "cells": [
  {
   "cell_type": "code",
   "execution_count": 12,
   "metadata": {},
   "outputs": [
    {
     "name": "stdout",
     "output_type": "stream",
     "text": [
      "5 6\n",
      "1 1 0 1 5 3\n",
      "Counter({1: 3, 0: 1, 5: 1, 3: 1})\n",
      "[8, 3]\n"
     ]
    }
   ],
   "source": [
    "from collections import deque\n",
    "from collections import Counter\n",
    "\n",
    "def main():\n",
    "    N,M = map(int, input().split())\n",
    "    A = [*map(int, input().split())]\n",
    "    counter = Counter(A)\n",
    "    sorted_key = sorted(counter.keys())\n",
    "    tmp_key = sorted_key[0]\n",
    "    i = -1\n",
    "    lis = []\n",
    "    for key in sorted_key:\n",
    "        if tmp_key+1 == key:\n",
    "            lis[i] = lis[i] + key*counter[key]\n",
    "        else:\n",
    "            lis.append(key * counter[key])\n",
    "            i += 1\n",
    "        tmp_key = key\n",
    "    if sorted_key[0] == 0 and sorted_key[-1] == M-1 and i != 0:\n",
    "        lis[0] = lis[0] + lis[-1]\n",
    "        lis.pop(-1)\n",
    "    print(sum(lis)-max(lis))\n",
    "    \n",
    "if __name__ == \"__main__\":\n",
    "    main()"
   ]
  },
  {
   "cell_type": "code",
   "execution_count": null,
   "metadata": {},
   "outputs": [],
   "source": []
  }
 ],
 "metadata": {
  "kernelspec": {
   "display_name": "Python 3",
   "language": "python",
   "name": "python3"
  },
  "language_info": {
   "codemirror_mode": {
    "name": "ipython",
    "version": 3
   },
   "file_extension": ".py",
   "mimetype": "text/x-python",
   "name": "python",
   "nbconvert_exporter": "python",
   "pygments_lexer": "ipython3",
   "version": "3.8.3"
  }
 },
 "nbformat": 4,
 "nbformat_minor": 4
}
