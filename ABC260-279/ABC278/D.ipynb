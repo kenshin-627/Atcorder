{
 "cells": [
  {
   "cell_type": "code",
   "execution_count": 10,
   "metadata": {},
   "outputs": [
    {
     "name": "stdout",
     "output_type": "stream",
     "text": [
      "5\n",
      "3 1 4 1 5\n",
      "6\n",
      "3 2\n",
      "1\n",
      "2 3 4\n",
      "3 3\n",
      "8\n",
      "1 1\n",
      "2 3 4\n",
      "3 3\n",
      "5\n"
     ]
    }
   ],
   "source": [
    "def main():\n",
    "    N = int(input())\n",
    "    AN = [*map(int, input().split())]\n",
    "    Q = int(input())\n",
    "    ini = None\n",
    "    changed = set()\n",
    "    ans = []\n",
    "    for _ in range(Q):\n",
    "        q1,*q23 = map(int, input().split())\n",
    "        if q1 == 1:\n",
    "            ini = q23[0]\n",
    "            changed = set()\n",
    "        elif q1 == 2:\n",
    "            q2,q3 = q23\n",
    "            q2 -= 1\n",
    "            if q2 in changed or ini == None:\n",
    "                AN[q2] += q3\n",
    "            else:\n",
    "                AN[q2] = ini + q3\n",
    "            changed.add(q2)\n",
    "        else:\n",
    "            q2 = q23[0] - 1\n",
    "            if q2 in changed or ini == None:\n",
    "                ans.append(AN[q2])\n",
    "            else:\n",
    "                ans.append(ini)\n",
    "    for a in ans:\n",
    "      print(a)\n",
    "    \n",
    "if __name__ == \"__main__\":\n",
    "    main()"
   ]
  },
  {
   "cell_type": "code",
   "execution_count": 12,
   "metadata": {},
   "outputs": [
    {
     "name": "stdout",
     "output_type": "stream",
     "text": [
      "[1, 2, 4]\n"
     ]
    }
   ],
   "source": [
    "a = [1,2,3]\n",
    "a[2] += 1\n",
    "print("
   ]
  },
  {
   "cell_type": "code",
   "execution_count": null,
   "metadata": {},
   "outputs": [],
   "source": []
  }
 ],
 "metadata": {
  "kernelspec": {
   "display_name": "Python 3",
   "language": "python",
   "name": "python3"
  },
  "language_info": {
   "codemirror_mode": {
    "name": "ipython",
    "version": 3
   },
   "file_extension": ".py",
   "mimetype": "text/x-python",
   "name": "python",
   "nbconvert_exporter": "python",
   "pygments_lexer": "ipython3",
   "version": "3.8.3"
  }
 },
 "nbformat": 4,
 "nbformat_minor": 4
}
