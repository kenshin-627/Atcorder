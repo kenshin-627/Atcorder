{
 "cells": [
  {
   "cell_type": "code",
   "execution_count": 10,
   "metadata": {},
   "outputs": [
    {
     "name": "stdout",
     "output_type": "stream",
     "text": [
      "1000000000000000000 100\n",
      "[-9717301.39449968 +7060032.28462429j -9717301.39449968 -7060032.28462429j\n",
      "  3711678.02459252+11423372.19819367j  3711678.02459252-11423372.19819367j\n",
      " 12011243.73981433       +0.j        ]\n",
      "288541174376191.44\n"
     ]
    }
   ],
   "source": [
    "import numpy as np\n",
    "import math\n",
    "\n",
    "def main():\n",
    "    A,B = map(int, input().split())\n",
    "    kais = np.roots([4, 12, 12, 4, 0, -A**2])\n",
    "    print(kais)\n",
    "    ns = []\n",
    "    for kai in kais:\n",
    "        if kai.imag == 0 and kai.real >= 0:\n",
    "            ns.append(math.floor(kai.real))\n",
    "            ns.append(math.floor(kai.real) + 1)\n",
    "    min_ans = A\n",
    "    for n in ns:\n",
    "        min_ans = min(min_ans, (n*B + A/np.sqrt(n+1)))\n",
    "    print(min_ans)\n",
    "    \n",
    "if __name__ == \"__main__\":\n",
    "    main()"
   ]
  },
  {
   "cell_type": "code",
   "execution_count": 23,
   "metadata": {},
   "outputs": [
    {
     "name": "stdout",
     "output_type": "stream",
     "text": [
      "1000000000000000000 100\n",
      "[-1.46200887e+10+2.53227364e+10j -1.46200887e+10-2.53227364e+10j\n",
      "  2.92401774e+10+0.00000000e+00j]\n",
      "8772053214538.598\n"
     ]
    }
   ],
   "source": [
    "# AC\n",
    "import numpy as np\n",
    "import math\n",
    "\n",
    "def main():\n",
    "    A,B = map(int, input().split())\n",
    "    kais = np.roots([1,3,3,1-A**2/(4*B**2)])\n",
    "    ns = []\n",
    "    for kai in kais:\n",
    "        if kai.imag == 0 and kai.real >= 0:\n",
    "            ns.append(math.floor(kai.real))\n",
    "            ns.append(math.floor(kai.real) + 1)\n",
    "    min_ans = A\n",
    "    for n in ns:\n",
    "        min_ans = min(min_ans, (n*B + A/np.sqrt(n+1)))\n",
    "    print(min_ans)\n",
    "    \n",
    "if __name__ == \"__main__\":\n",
    "    main()"
   ]
  }
 ],
 "metadata": {
  "kernelspec": {
   "display_name": "Python 3",
   "language": "python",
   "name": "python3"
  },
  "language_info": {
   "codemirror_mode": {
    "name": "ipython",
    "version": 3
   },
   "file_extension": ".py",
   "mimetype": "text/x-python",
   "name": "python",
   "nbconvert_exporter": "python",
   "pygments_lexer": "ipython3",
   "version": "3.8.3"
  }
 },
 "nbformat": 4,
 "nbformat_minor": 4
}
