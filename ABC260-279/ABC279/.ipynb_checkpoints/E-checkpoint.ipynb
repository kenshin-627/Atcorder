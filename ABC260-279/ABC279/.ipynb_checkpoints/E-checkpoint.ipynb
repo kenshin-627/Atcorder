{
 "cells": [
  {
   "cell_type": "code",
   "execution_count": 6,
   "id": "fdfcc997",
   "metadata": {},
   "outputs": [
    {
     "name": "stdout",
     "output_type": "stream",
     "text": [
      "10 10\n",
      "1 1 1 9 4 4 2 1 3 3\n",
      "2\n",
      "2\n",
      "2\n",
      "3\n",
      "3\n",
      "3\n",
      "1\n",
      "3\n",
      "4\n",
      "4\n"
     ]
    }
   ],
   "source": [
    "from collections import deque\n",
    "from collections import defaultdict\n",
    "\n",
    "def main():\n",
    "    N,M = map(int, input().split())\n",
    "    AM = [*map(int, input().split())]\n",
    "    BM = [*range(1, N+1)]\n",
    "    swap_q = deque()\n",
    "    for A in AM:\n",
    "        swap_q.append((BM[A-1], BM[A]))\n",
    "        BM[A-1], BM[A] = BM[A], BM[A-1]\n",
    "    index_dict = defaultdict(int)\n",
    "    for i, B in enumerate(BM):\n",
    "        index_dict[B] = i+1\n",
    "    while(swap_q):\n",
    "        swap_tuple = swap_q.popleft()\n",
    "        if swap_tuple[0] == 1:\n",
    "            print(index_dict[swap_tuple[1]])\n",
    "        elif swap_tuple[1] == 1:\n",
    "            print(index_dict[swap_tuple[0]])\n",
    "        else:\n",
    "            print(index_dict[1])\n",
    "            \n",
    "if __name__ == \"__main__\":\n",
    "    main()"
   ]
  },
  {
   "cell_type": "code",
   "execution_count": null,
   "id": "a51df16d",
   "metadata": {},
   "outputs": [],
   "source": []
  }
 ],
 "metadata": {
  "kernelspec": {
   "display_name": "Python 3 (ipykernel)",
   "language": "python",
   "name": "python3"
  },
  "language_info": {
   "codemirror_mode": {
    "name": "ipython",
    "version": 3
   },
   "file_extension": ".py",
   "mimetype": "text/x-python",
   "name": "python",
   "nbconvert_exporter": "python",
   "pygments_lexer": "ipython3",
   "version": "3.9.6"
  }
 },
 "nbformat": 4,
 "nbformat_minor": 5
}
