{
 "cells": [
  {
   "cell_type": "code",
   "execution_count": 2,
   "metadata": {},
   "outputs": [
    {
     "name": "stdout",
     "output_type": "stream",
     "text": [
      "4 2\n",
      "5 4 -1 8\n",
      "15\n"
     ]
    }
   ],
   "source": [
    "def main():\n",
    "    N,M = map(int, input().split())\n",
    "    AN = list(map(int, input().split()))\n",
    "    ans = 0\n",
    "    for i in range(N-M+1):\n",
    "        tmp = 0\n",
    "        for j in range(M):\n",
    "            tmp += (j+1)*AN[i+j]\n",
    "        if i == 0:\n",
    "            ans = tmp\n",
    "        else:\n",
    "            ans = max(ans, tmp)\n",
    "    print(ans)\n",
    "    \n",
    "if __name__ == \"__main__\":\n",
    "    main()"
   ]
  },
  {
   "cell_type": "code",
   "execution_count": 10,
   "metadata": {},
   "outputs": [
    {
     "name": "stdout",
     "output_type": "stream",
     "text": [
      "4 2\n",
      "5 4 -1 8\n",
      "15\n"
     ]
    }
   ],
   "source": [
    "# AC\n",
    "# (1*A1 + 2*A2 + 3*A3) - (A1 + A2 + A3) + 3*A4 でA2~A4の答えを出すみたいな感じで解いた\n",
    "def main():\n",
    "    N,M = map(int, input().split())\n",
    "    AN = list(map(int, input().split()))\n",
    "    A_sig = []\n",
    "    A_sig_0 = 0\n",
    "    for i in range(M):\n",
    "        A_sig_0 += AN[i]\n",
    "    A_sig.append(A_sig_0)\n",
    "    for i in range(N-M):\n",
    "        A_sig.append(A_sig[i] - AN[i] + AN[i+M])\n",
    "    ans = []\n",
    "    ans_0 = 0\n",
    "    for i in range(M):\n",
    "        ans_0 += (i+1) * AN[i]\n",
    "    ans.append(ans_0)\n",
    "    for i in range(N-M):\n",
    "        ans.append(ans[i] - A_sig[i] + M*AN[i+M])\n",
    "    print(max(ans))\n",
    "    \n",
    "if __name__ == \"__main__\":\n",
    "    main()"
   ]
  },
  {
   "cell_type": "code",
   "execution_count": null,
   "metadata": {},
   "outputs": [],
   "source": []
  }
 ],
 "metadata": {
  "kernelspec": {
   "display_name": "Python 3",
   "language": "python",
   "name": "python3"
  },
  "language_info": {
   "codemirror_mode": {
    "name": "ipython",
    "version": 3
   },
   "file_extension": ".py",
   "mimetype": "text/x-python",
   "name": "python",
   "nbconvert_exporter": "python",
   "pygments_lexer": "ipython3",
   "version": "3.8.3"
  }
 },
 "nbformat": 4,
 "nbformat_minor": 4
}
