{
 "cells": [
  {
   "cell_type": "code",
   "execution_count": 5,
   "metadata": {},
   "outputs": [
    {
     "name": "stdout",
     "output_type": "stream",
     "text": [
      "3\n",
      "? 1 2 1 3\n",
      "2\n",
      "? 1 3 1 2\n",
      "2\n",
      "! 3 3\n"
     ]
    }
   ],
   "source": [
    "def main():\n",
    "    N = int(input())\n",
    "    \n",
    "    A = 1\n",
    "    B = N\n",
    "    C = 1\n",
    "    D = N\n",
    "    \n",
    "    i = 0\n",
    "    j = 0\n",
    "    \n",
    "    while A < B:\n",
    "        m = (A + B) // 2\n",
    "        \n",
    "        print(f\"? {A} {m} {1} {N}\")\n",
    "        \n",
    "        T = int(input())\n",
    "        \n",
    "        if (m-A) == 0:\n",
    "            if T == 0:\n",
    "                i = A\n",
    "            else:\n",
    "                i = A+1\n",
    "            break\n",
    "        \n",
    "        if T == (m-A+1):\n",
    "            A = m+1\n",
    "        else:\n",
    "            B = m\n",
    "    else:\n",
    "        i = A\n",
    "        \n",
    "    while C < D:\n",
    "        m = (C + D) // 2\n",
    "        \n",
    "        print(f\"? {1} {N} {C} {m}\")\n",
    "        \n",
    "        T = int(input())\n",
    "        \n",
    "        if (m-C) == 0:\n",
    "            if T == 0:\n",
    "                j = C\n",
    "            else:\n",
    "                j = C+1\n",
    "            break\n",
    "        \n",
    "        if T == (m-C+1):\n",
    "            C = m+1\n",
    "        else:\n",
    "            D = m\n",
    "    else:\n",
    "        j = C\n",
    "    print(f\"! {i} {j}\", flush=True)\n",
    "            \n",
    "    \n",
    "if __name__ == \"__main__\":\n",
    "    main()"
   ]
  },
  {
   "cell_type": "code",
   "execution_count": null,
   "metadata": {},
   "outputs": [],
   "source": []
  }
 ],
 "metadata": {
  "kernelspec": {
   "display_name": "Python 3",
   "language": "python",
   "name": "python3"
  },
  "language_info": {
   "codemirror_mode": {
    "name": "ipython",
    "version": 3
   },
   "file_extension": ".py",
   "mimetype": "text/x-python",
   "name": "python",
   "nbconvert_exporter": "python",
   "pygments_lexer": "ipython3",
   "version": "3.8.3"
  }
 },
 "nbformat": 4,
 "nbformat_minor": 4
}
