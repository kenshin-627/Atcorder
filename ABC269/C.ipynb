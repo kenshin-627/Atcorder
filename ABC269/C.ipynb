{
 "cells": [
  {
   "cell_type": "code",
   "execution_count": 7,
   "metadata": {},
   "outputs": [
    {
     "name": "stdout",
     "output_type": "stream",
     "text": [
      "11\n",
      "['1', '1', '0', '1']\n",
      "0\n",
      "1\n",
      "2\n",
      "3\n",
      "8\n",
      "9\n",
      "10\n",
      "11\n"
     ]
    }
   ],
   "source": [
    "def main():\n",
    "    N = int(input())\n",
    "    N_2 = list(bin(N)[2:])\n",
    "    N_2.reverse()\n",
    "    kurai = []\n",
    "    for i, n2 in enumerate(N_2):\n",
    "        if n2 == \"1\":\n",
    "            kurai.append(i)\n",
    "    \n",
    "    n = len(kurai)\n",
    "    for bit in range(1 << n):\n",
    "        combination = [] \n",
    "        for i in range(n):\n",
    "            shift_i = 1 << i\n",
    "            if bit & shift_i > 0:\n",
    "                combination.append(2 ** kurai[i])\n",
    "        print(sum(combination))\n",
    "    \n",
    "if __name__ == \"__main__\":\n",
    "    main()"
   ]
  },
  {
   "cell_type": "code",
   "execution_count": null,
   "metadata": {},
   "outputs": [],
   "source": []
  }
 ],
 "metadata": {
  "kernelspec": {
   "display_name": "Python 3",
   "language": "python",
   "name": "python3"
  },
  "language_info": {
   "codemirror_mode": {
    "name": "ipython",
    "version": 3
   },
   "file_extension": ".py",
   "mimetype": "text/x-python",
   "name": "python",
   "nbconvert_exporter": "python",
   "pygments_lexer": "ipython3",
   "version": "3.8.3"
  }
 },
 "nbformat": 4,
 "nbformat_minor": 4
}
