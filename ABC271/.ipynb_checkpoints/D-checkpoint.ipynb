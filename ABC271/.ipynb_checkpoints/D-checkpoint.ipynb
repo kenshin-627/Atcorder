{
 "cells": [
  {
   "cell_type": "code",
   "execution_count": 46,
   "metadata": {},
   "outputs": [
    {
     "name": "stdout",
     "output_type": "stream",
     "text": [
      "3 5\n",
      "1 4\n",
      "2 5\n",
      "3 5\n",
      "No\n"
     ]
    }
   ],
   "source": [
    "def main():\n",
    "    # N枚のカードで総和Sになるように\n",
    "    N, S = map(int, input().split())\n",
    "    \n",
    "    # N枚のカードの表にai，裏にbi書かれてる\n",
    "    # それまでのカードを使って作れる数字をkey，作るために使った数字が何枚目か(表ならi，裏なら-i)を1-indexedでvalueとして保存しておく\n",
    "    dic = {0: \"\"}\n",
    "    for i in range(1, N+1):\n",
    "        ai, bi = map(int, input().split())\n",
    "        dic_tmp = dict()\n",
    "        for key in dic:\n",
    "            dic_tmp[key+ai] = dic[key] + \"H\"\n",
    "            dic_tmp[key+bi] = dic[key] + \"T\"\n",
    "        dic = dic_tmp\n",
    "    if S in dic:\n",
    "        print(\"Yes\")\n",
    "        # 表は\"H\"，裏は\"T\"\n",
    "        print(dic[S])        \n",
    "    else:\n",
    "        print(\"No\")\n",
    "    \n",
    "if __name__ == \"__main__\":\n",
    "    main()"
   ]
  },
  {
   "cell_type": "code",
   "execution_count": null,
   "metadata": {},
   "outputs": [],
   "source": []
  }
 ],
 "metadata": {
  "kernelspec": {
   "display_name": "Python 3",
   "language": "python",
   "name": "python3"
  },
  "language_info": {
   "codemirror_mode": {
    "name": "ipython",
    "version": 3
   },
   "file_extension": ".py",
   "mimetype": "text/x-python",
   "name": "python",
   "nbconvert_exporter": "python",
   "pygments_lexer": "ipython3",
   "version": "3.8.3"
  }
 },
 "nbformat": 4,
 "nbformat_minor": 4
}
