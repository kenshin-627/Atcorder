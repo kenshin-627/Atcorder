{
 "cells": [
  {
   "cell_type": "code",
   "execution_count": 5,
   "metadata": {},
   "outputs": [
    {
     "name": "stdout",
     "output_type": "stream",
     "text": [
      "10\n",
      "1 1 1 1 1 1 1 1 1 1\n",
      "5\n"
     ]
    }
   ],
   "source": [
    "from collections import deque\n",
    "import numpy as np\n",
    "\n",
    "def main():\n",
    "    N = int(input())\n",
    "    A_N = [*map(int, input().split())]\n",
    "    dq_A = deque(sorted(A_N))\n",
    "    ans = 0\n",
    "    ite = 0\n",
    "    while(dq_A):\n",
    "        ite += 1\n",
    "        head = dq_A.popleft()\n",
    "        if head == ite:\n",
    "            ans = ite\n",
    "            while(True):\n",
    "                if len(dq_A) > 0:\n",
    "                    same = dq_A.popleft()\n",
    "                    if same == ite:\n",
    "                        dq_A.append(N+1)\n",
    "                        continue\n",
    "                    else:\n",
    "                        dq_A.appendleft(same)\n",
    "                        break\n",
    "                else:\n",
    "                    print(ans)\n",
    "                    return\n",
    "        else:\n",
    "            if len(dq_A) > 0:\n",
    "                dq_A.appendleft(head)\n",
    "                dq_A.pop()\n",
    "                dq_A.pop()\n",
    "                ans = ite\n",
    "                continue\n",
    "            else:\n",
    "                print(ans)\n",
    "                return\n",
    "    print(ans)\n",
    "    \n",
    "if __name__ == \"__main__\":\n",
    "    main()"
   ]
  },
  {
   "cell_type": "code",
   "execution_count": 24,
   "metadata": {},
   "outputs": [],
   "source": [
    "# 二分探索"
   ]
  },
  {
   "cell_type": "code",
   "execution_count": 26,
   "metadata": {},
   "outputs": [
    {
     "name": "stdout",
     "output_type": "stream",
     "text": [
      "10\n",
      "1 1 1 1 1 1 1 1 1 1\n",
      "5\n"
     ]
    }
   ],
   "source": [
    "# O(n)\n",
    "\n",
    "from collections import deque\n",
    "import numpy as np\n",
    "\n",
    "def main():\n",
    "    N = int(input())\n",
    "    A = input().split()\n",
    "    \n",
    "    have_num = set(map(int, A))\n",
    "    \n",
    "    # 1~Nまで順に見ていく\n",
    "    # i巻を持っているならmanga+1, 持ってないならmanga+2で必要な数を数えていく，毎回最後にans+1\n",
    "    # mangaがNを超えたら終わり\n",
    "    manga = 0\n",
    "    ans = 0\n",
    "    for _, i in enumerate(range(1, N+1)):\n",
    "        if i in have_num:\n",
    "            manga += 1\n",
    "        else:\n",
    "            manga += 2\n",
    "        if manga > N:\n",
    "            break\n",
    "        ans += 1\n",
    "    print(ans)\n",
    "\n",
    "if __name__ == \"__main__\":\n",
    "    main()"
   ]
  },
  {
   "cell_type": "code",
   "execution_count": null,
   "metadata": {},
   "outputs": [],
   "source": []
  }
 ],
 "metadata": {
  "kernelspec": {
   "display_name": "Python 3",
   "language": "python",
   "name": "python3"
  },
  "language_info": {
   "codemirror_mode": {
    "name": "ipython",
    "version": 3
   },
   "file_extension": ".py",
   "mimetype": "text/x-python",
   "name": "python",
   "nbconvert_exporter": "python",
   "pygments_lexer": "ipython3",
   "version": "3.8.3"
  }
 },
 "nbformat": 4,
 "nbformat_minor": 4
}
