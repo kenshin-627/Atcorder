{
 "cells": [
  {
   "cell_type": "code",
   "execution_count": 2,
   "metadata": {},
   "outputs": [
    {
     "name": "stdout",
     "output_type": "stream",
     "text": [
      "10 5\n",
      "0 3 2 3 2 3 4 5 4 5\n",
      "3 4 1 2 3 4 3 4 5 6\n",
      "2 1 4 3 2 3 4 5 4 5\n",
      "3 2 3 2 3 4 3 4 5 6\n",
      "2 3 2 3 4 3 4 5 4 5\n",
      "3 4 3 4 3 4 5 4 5 6\n",
      "4 3 4 3 4 5 4 5 6 5\n",
      "5 4 5 4 5 4 5 6 5 6\n",
      "4 5 4 5 4 5 6 5 6 7\n",
      "5 6 5 6 5 6 5 6 7 6\n"
     ]
    }
   ],
   "source": [
    "from collections import deque\n",
    "import numpy as np\n",
    "import math\n",
    "\n",
    "def main():\n",
    "    N, M = [*map(int, input().split())]\n",
    "    dic_dis = {(1,1):0}\n",
    "    sq_M = int(math.sqrt(M))\n",
    "    half = int(math.sqrt(2*M)/2)\n",
    "    dis_xy = []\n",
    "    for i in range(sq_M, half-1, -1):\n",
    "        for j in range(half+1):\n",
    "            if i**2 + j**2 == M:\n",
    "                dis_xy.append([i,j])\n",
    "    dq_now = deque([(1,1)])\n",
    "    while(dq_now):\n",
    "        now_x, now_y = dq_now.popleft()\n",
    "        for x,y in dis_xy:\n",
    "            next_x = now_x+x\n",
    "            next_y = now_y+y\n",
    "            if 0 < (next_x) <= N and 0 < (next_y) <=N:\n",
    "                if not (next_x, next_y) in dic_dis.keys():\n",
    "                    dic_dis[(next_x, next_y)] = dic_dis[now_x, now_y] + 1\n",
    "                    dq_now.append((next_x, next_y))\n",
    "            next_x = now_x-x\n",
    "            next_y = now_y+y\n",
    "            if 0 < (next_x) <= N and 0 < (next_y) <=N:\n",
    "                if not (next_x, next_y) in dic_dis.keys():\n",
    "                    dic_dis[(next_x, next_y)] = dic_dis[now_x, now_y] + 1\n",
    "                    dq_now.append((next_x, next_y))\n",
    "            next_x = now_x+x\n",
    "            next_y = now_y-y\n",
    "            if 0 < (next_x) <= N and 0 < (next_y) <=N:\n",
    "                if not (next_x, next_y) in dic_dis.keys():\n",
    "                    dic_dis[(next_x, next_y)] = dic_dis[now_x, now_y] + 1\n",
    "                    dq_now.append((next_x, next_y))\n",
    "            next_x = now_x-x\n",
    "            next_y = now_y-y\n",
    "            if 0 < (next_x) <= N and 0 < (next_y) <=N:\n",
    "                if not (next_x, next_y) in dic_dis.keys():\n",
    "                    dic_dis[(next_x, next_y)] = dic_dis[now_x, now_y] + 1\n",
    "                    dq_now.append((next_x, next_y))\n",
    "            next_x = now_x+y\n",
    "            next_y = now_y+x\n",
    "            if 0 < (next_x) <= N and 0 < (next_y) <=N:\n",
    "                if not (next_x, next_y) in dic_dis.keys():\n",
    "                    dic_dis[(next_x, next_y)] = dic_dis[now_x, now_y] + 1\n",
    "                    dq_now.append((next_x, next_y))\n",
    "            next_x = now_x-y\n",
    "            next_y = now_y+x\n",
    "            if 0 < (next_x) <= N and 0 < (next_y) <=N:\n",
    "                if not (next_x, next_y) in dic_dis.keys():\n",
    "                    dic_dis[(next_x, next_y)] = dic_dis[now_x, now_y] + 1\n",
    "                    dq_now.append((next_x, next_y))\n",
    "            next_x = now_x+y\n",
    "            next_y = now_y-x\n",
    "            if 0 < (next_x) <= N and 0 < (next_y) <=N:\n",
    "                if not (next_x, next_y) in dic_dis.keys():\n",
    "                    dic_dis[(next_x, next_y)] = dic_dis[now_x, now_y] + 1\n",
    "                    dq_now.append((next_x, next_y))\n",
    "            next_x = now_x-y\n",
    "            next_y = now_y-x\n",
    "            if 0 < (next_x) <= N and 0 < (next_y) <=N:\n",
    "                if not (next_x, next_y) in dic_dis.keys():\n",
    "                    dic_dis[(next_x, next_y)] = dic_dis[now_x, now_y] + 1\n",
    "                    dq_now.append((next_x, next_y))\n",
    "    keys = dic_dis.keys()\n",
    "    for _, i in enumerate(range(1, N+1)):\n",
    "        tmp = []\n",
    "        for _, j in enumerate(range(1, N+1)):\n",
    "            if (i,j) in keys:\n",
    "                tmp.append(str(dic_dis[(i,j)]))\n",
    "            else:\n",
    "                tmp.append(\"-1\")\n",
    "        print(\" \".join(tmp))\n",
    "    \n",
    "if __name__ == \"__main__\":\n",
    "    main()"
   ]
  },
  {
   "cell_type": "code",
   "execution_count": 21,
   "metadata": {},
   "outputs": [
    {
     "name": "stdout",
     "output_type": "stream",
     "text": [
      "1\n",
      "2\n",
      "3\n",
      "4\n",
      "5\n",
      "6\n",
      "7\n",
      "8\n",
      "9\n",
      "10\n",
      "defaultdict(<function <lambda> at 0x7fed262ab040>, {1: 1, 4: 2, 9: 3, 16: 4, 25: 5, 36: 6, 49: 7, 64: 8, 81: 9, 100: 10})\n",
      "defaultdict(<function <lambda> at 0x7fed262ab040>, {1: 1, 4: 2, 9: 3, 16: 4, 25: 5, 36: 6, 49: 7, 64: 8, 81: 9, 100: 10, 2: -1})\n"
     ]
    }
   ],
   "source": [
    "from collections import defaultdict\n",
    "import math\n",
    "\n",
    "dic = defaultdict(lambda:-1)\n",
    "M = 100\n",
    "i = 1\n",
    "while(i <= math.sqrt(M)):\n",
    "    print(i)\n",
    "    dic[i**2] = i\n",
    "    i += 1\n",
    "print(dic)\n",
    "dic[2]\n",
    "print(dic)"
   ]
  },
  {
   "cell_type": "code",
   "execution_count": null,
   "metadata": {},
   "outputs": [],
   "source": []
  }
 ],
 "metadata": {
  "kernelspec": {
   "display_name": "Python 3",
   "language": "python",
   "name": "python3"
  },
  "language_info": {
   "codemirror_mode": {
    "name": "ipython",
    "version": 3
   },
   "file_extension": ".py",
   "mimetype": "text/x-python",
   "name": "python",
   "nbconvert_exporter": "python",
   "pygments_lexer": "ipython3",
   "version": "3.8.3"
  }
 },
 "nbformat": 4,
 "nbformat_minor": 4
}
