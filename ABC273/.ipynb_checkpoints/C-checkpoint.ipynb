{
 "cells": [
  {
   "cell_type": "code",
   "execution_count": 24,
   "metadata": {},
   "outputs": [
    {
     "name": "stdout",
     "output_type": "stream",
     "text": [
      "1\n",
      "1\n",
      "1\n"
     ]
    }
   ],
   "source": [
    "def main():\n",
    "    N = int(input())\n",
    "    \n",
    "    A_N = input().split()\n",
    "    \n",
    "    A_set = sorted(set(A_N))\n",
    "    len_A_set = len(A_set)\n",
    "    index_list = list(A_set)\n",
    "    \n",
    "    K_list = [len_A_set - 1 - index_list.index(i) for i in A_N]\n",
    "        \n",
    "    for i in range(N):\n",
    "        print(K_list.count(i))\n",
    "        \n",
    "if __name__ == \"__main__\":\n",
    "    main()"
   ]
  },
  {
   "cell_type": "code",
   "execution_count": null,
   "metadata": {},
   "outputs": [],
   "source": [
    "N = int(input())\n",
    " \n",
    "A_N = input().split()\n",
    "A_array = [int(i) for i in A_N]\n",
    " \n",
    "A_set = set(A_array)\n",
    "A_list = list(A_set)\n",
    "A_sorted = sorted(A_list)\n",
    "A_unique_len = len(A_list)\n",
    " \n",
    "K_list = []\n",
    " \n",
    "for i in range(N):\n",
    "    index_A_i = A_sorted.index(A_array[i])\n",
    "    K_list.append(A_unique_len - index_A_i - 1)\n",
    "    \n",
    "for i in range(N):\n",
    "    print(K_list.count(i))"
   ]
  },
  {
   "cell_type": "code",
   "execution_count": 25,
   "metadata": {},
   "outputs": [
    {
     "ename": "SyntaxError",
     "evalue": "invalid syntax (<ipython-input-25-8cdb6d2c68b1>, line 2)",
     "output_type": "error",
     "traceback": [
      "\u001b[0;36m  File \u001b[0;32m\"<ipython-input-25-8cdb6d2c68b1>\"\u001b[0;36m, line \u001b[0;32m2\u001b[0m\n\u001b[0;31m    979861204 57882493 979861204 447672230 644706927 710511029 763027379 710511029 447672230 136397527\u001b[0m\n\u001b[0m              ^\u001b[0m\n\u001b[0;31mSyntaxError\u001b[0m\u001b[0;31m:\u001b[0m invalid syntax\n"
     ]
    }
   ],
   "source": [
    "10\n",
    "979861204 57882493 979861204 447672230 644706927 710511029 763027379 710511029 447672230 136397527"
   ]
  },
  {
   "cell_type": "code",
   "execution_count": 45,
   "metadata": {},
   "outputs": [
    {
     "name": "stdout",
     "output_type": "stream",
     "text": [
      "10\n",
      "979861204 57882493 979861204 447672230 644706927 710511029 763027379 710511029 447672230 136397527\n",
      "[979861204, 763027379, 710511029, 644706927, 447672230, 136397527, 57882493]\n",
      "2\n",
      "1\n",
      "2\n",
      "1\n",
      "2\n",
      "1\n",
      "1\n",
      "0\n",
      "0\n",
      "0\n"
     ]
    }
   ],
   "source": [
    "from collections import deque\n",
    "\n",
    "N = int(input())\n",
    "\n",
    "A_N = input().split()\n",
    "\n",
    "dic = {}\n",
    "\n",
    "for i in A_N:\n",
    "    if i not in dic:\n",
    "        dic[i] = 1\n",
    "    else:\n",
    "        dic[i] += 1\n",
    "\n",
    "dic_keys = sorted([int(i) for i in dic.keys()], reverse=True)\n",
    "\n",
    "for key in dic_keys:\n",
    "    print(dic[str(key)])\n",
    "for _ in range(len(A_N) - len(dic)):\n",
    "    print(0)"
   ]
  },
  {
   "cell_type": "code",
   "execution_count": null,
   "metadata": {},
   "outputs": [],
   "source": [
    "6\n",
    "2 7 1 8 2 8\n"
   ]
  }
 ],
 "metadata": {
  "kernelspec": {
   "display_name": "Python 3",
   "language": "python",
   "name": "python3"
  },
  "language_info": {
   "codemirror_mode": {
    "name": "ipython",
    "version": 3
   },
   "file_extension": ".py",
   "mimetype": "text/x-python",
   "name": "python",
   "nbconvert_exporter": "python",
   "pygments_lexer": "ipython3",
   "version": "3.8.3"
  }
 },
 "nbformat": 4,
 "nbformat_minor": 4
}
