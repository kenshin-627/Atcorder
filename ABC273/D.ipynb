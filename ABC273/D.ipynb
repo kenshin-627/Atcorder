{
 "cells": [
  {
   "cell_type": "code",
   "execution_count": 14,
   "metadata": {},
   "outputs": [
    {
     "name": "stdout",
     "output_type": "stream",
     "text": [
      "5 5 4 4\n",
      "3\n",
      "5 3\n",
      "2 2\n",
      "1 4\n",
      "4\n",
      "L 2\n",
      "2 4\n",
      "U 3\n",
      "2 3\n",
      "L 2\n",
      "0 3\n",
      "R 4\n",
      "4 3\n"
     ]
    }
   ],
   "source": [
    "def main():\n",
    "    H_ = input().split()\n",
    "    H = int(H_[0])\n",
    "    W = int(H_[1])\n",
    "    rs = int(H_[2])\n",
    "    cs = int(H_[3])\n",
    "    \n",
    "    N = int(input())\n",
    "    wall = set()\n",
    "    for i, _ in enumerate(range(N)):\n",
    "        rc = input().split()\n",
    "        wall.add((int(rc[0]), int(rc[1])))\n",
    "    \n",
    "    Q = int(input())\n",
    "    for i, _ in enumerate(range(Q)):\n",
    "        dl = input().split()\n",
    "        d = dl[0]\n",
    "        l = int(dl[1])\n",
    "        for j, _ in enumerate(range(l)):\n",
    "            nx_r = rs\n",
    "            nx_c = cs\n",
    "            if d == \"R\":\n",
    "                # cplus\n",
    "                nx_c += 1\n",
    "            elif d == \"L\":\n",
    "                # cminus\n",
    "                nx_c -= 1\n",
    "            elif d == \"D\":\n",
    "                # rplus\n",
    "                nx_r += 1\n",
    "            else:\n",
    "                # rminus\n",
    "                nx_r -= 1\n",
    "            if (nx_r, nx_c) in wall or nx_r <= 0 or nx_c <= 0 or nx_r > H or nx_c > W:\n",
    "                break\n",
    "            else:\n",
    "                rs = nx_r\n",
    "                cs = nx_c\n",
    "        print(str(rs) + \" \" + str(cs))\n",
    "        \n",
    "    \n",
    "if __name__ == \"__main__\":\n",
    "    main()"
   ]
  },
  {
   "cell_type": "code",
   "execution_count": null,
   "metadata": {},
   "outputs": [],
   "source": [
    "6 6 6 3\n",
    "7\n",
    "3 1\n",
    "4 3\n",
    "2 6\n",
    "3 4\n",
    "5 5\n",
    "1 1\n",
    "3 2\n",
    "10\n",
    "D 3\n",
    "U 3\n",
    "L 2\n",
    "D 2\n",
    "U 3\n",
    "D 3\n",
    "U 3\n",
    "R 3\n",
    "L 3\n",
    "D 1\n",
    "\n",
    "6 3\n",
    "5 3\n",
    "5 1\n",
    "6 1\n",
    "4 1\n",
    "6 1\n",
    "4 1\n",
    "4 2\n",
    "4 1\n",
    "5 1\n"
   ]
  }
 ],
 "metadata": {
  "kernelspec": {
   "display_name": "Python 3",
   "language": "python",
   "name": "python3"
  },
  "language_info": {
   "codemirror_mode": {
    "name": "ipython",
    "version": 3
   },
   "file_extension": ".py",
   "mimetype": "text/x-python",
   "name": "python",
   "nbconvert_exporter": "python",
   "pygments_lexer": "ipython3",
   "version": "3.8.3"
  }
 },
 "nbformat": 4,
 "nbformat_minor": 4
}
