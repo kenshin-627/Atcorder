{
 "cells": [
  {
   "cell_type": "code",
   "execution_count": 24,
   "metadata": {},
   "outputs": [
    {
     "name": "stdout",
     "output_type": "stream",
     "text": [
      "##.......\n",
      "##.......\n",
      ".........\n",
      ".......#.\n",
      ".....#...\n",
      "........#\n",
      "......#..\n",
      ".........\n",
      ".........\n",
      "[['#' '#' '.' '.' '.' '.' '.' '.' '.']\n",
      " ['#' '#' '.' '.' '.' '.' '.' '.' '.']\n",
      " ['.' '.' '.' '.' '.' '.' '.' '.' '.']\n",
      " ['.' '.' '.' '.' '.' '.' '.' '#' '.']\n",
      " ['.' '.' '.' '.' '.' '#' '.' '.' '.']\n",
      " ['.' '.' '.' '.' '.' '.' '.' '.' '#']\n",
      " ['.' '.' '.' '.' '.' '.' '#' '.' '.']\n",
      " ['.' '.' '.' '.' '.' '.' '.' '.' '.']\n",
      " ['.' '.' '.' '.' '.' '.' '.' '.' '.']]\n",
      "(array([0, 0, 1, 1, 3, 4, 5, 6]), array([0, 1, 0, 1, 7, 5, 8, 6]))\n",
      "2\n"
     ]
    }
   ],
   "source": [
    "import numpy as np\n",
    "\n",
    "def main():\n",
    "    S = []\n",
    "    for _ in range(9):\n",
    "        tmp = []\n",
    "        for i in input():\n",
    "            tmp.append(i)\n",
    "        S.append(np.array(tmp))\n",
    "    S = np.array(S)\n",
    "    \n",
    "#     print(S)\n",
    "    sharp = np.where(S==\"#\")\n",
    "    x = sharp[0]\n",
    "    y = sharp[1]\n",
    "#     print(sharp)\n",
    "    \n",
    "    ans = 0\n",
    "    for i in range(len(x)-1):\n",
    "        for j in range(i+1, len(x)):\n",
    "            dx = x[j] - x[i]\n",
    "            dy = y[j] - y[i]\n",
    "            # 右下調べてシャープあったら左下\n",
    "            if hanni(x[j]+dy) and hanni(y[j]-dx):\n",
    "                if S[x[j]+dy][y[j]-dx] == \"#\":\n",
    "                    if hanni(x[i]+dy) and hanni(y[i]-dx):\n",
    "                        if S[x[i]+dy][y[i]-dx] ==\"#\":\n",
    "                            ans +=1\n",
    "                        \n",
    "            # 右上調べてシャープあったら左上\n",
    "            if hanni(x[j]-dy) and hanni(y[j]+dx):\n",
    "                if S[x[j]-dy][y[j]+dx] == \"#\":\n",
    "                    if hanni(x[i]-dy) and hanni(y[i]+dx):\n",
    "                        if S[x[i]-dy][y[i]+dx] == \"#\":\n",
    "                            ans += 1\n",
    "            \n",
    "            \n",
    "            \n",
    "    print(int(ans/4))\n",
    "    \n",
    "def hanni(i):\n",
    "    return i >= 0 and i <= 8\n",
    "    \n",
    "if __name__ == \"__main__\":\n",
    "    main()"
   ]
  },
  {
   "cell_type": "code",
   "execution_count": 18,
   "metadata": {},
   "outputs": [
    {
     "ename": "SyntaxError",
     "evalue": "invalid syntax (<ipython-input-18-213339334f54>, line 3)",
     "output_type": "error",
     "traceback": [
      "\u001b[0;36m  File \u001b[0;32m\"<ipython-input-18-213339334f54>\"\u001b[0;36m, line \u001b[0;32m3\u001b[0m\n\u001b[0;31m    .........\u001b[0m\n\u001b[0m       ^\u001b[0m\n\u001b[0;31mSyntaxError\u001b[0m\u001b[0;31m:\u001b[0m invalid syntax\n"
     ]
    }
   ],
   "source": [
    "##.......\n",
    "##.......\n",
    ".........\n",
    ".......#.\n",
    ".....#...\n",
    "........#\n",
    "......#..\n",
    ".........\n",
    "........."
   ]
  }
 ],
 "metadata": {
  "kernelspec": {
   "display_name": "Python 3",
   "language": "python",
   "name": "python3"
  },
  "language_info": {
   "codemirror_mode": {
    "name": "ipython",
    "version": 3
   },
   "file_extension": ".py",
   "mimetype": "text/x-python",
   "name": "python",
   "nbconvert_exporter": "python",
   "pygments_lexer": "ipython3",
   "version": "3.8.3"
  }
 },
 "nbformat": 4,
 "nbformat_minor": 4
}
