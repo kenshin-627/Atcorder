{
 "cells": [
  {
   "cell_type": "code",
   "execution_count": 19,
   "metadata": {},
   "outputs": [
    {
     "name": "stdout",
     "output_type": "stream",
     "text": [
      "1 1 1000000000 0 0 0\n",
      "1755647\n"
     ]
    }
   ],
   "source": [
    "import numpy as np\n",
    "\n",
    "def main():\n",
    "    A_F = input().split()\n",
    "    A = int(A_F[0])\n",
    "    B = int(A_F[1])\n",
    "    C = int(A_F[2])\n",
    "    D = int(A_F[3])\n",
    "    E = int(A_F[4])\n",
    "    F = int(A_F[5])\n",
    "    waru = 998244353\n",
    "    \n",
    "    plus = ((A%waru)*(B%waru)%waru)*(C%waru)%waru\n",
    "    minus = ((D%waru)*(E%waru)%waru)*(F%waru)%waru\n",
    "    ans = (plus-minus)%waru\n",
    "    print(ans)\n",
    "    \n",
    "if __name__ == \"__main__\":\n",
    "    main()"
   ]
  }
 ],
 "metadata": {
  "kernelspec": {
   "display_name": "Python 3",
   "language": "python",
   "name": "python3"
  },
  "language_info": {
   "codemirror_mode": {
    "name": "ipython",
    "version": 3
   },
   "file_extension": ".py",
   "mimetype": "text/x-python",
   "name": "python",
   "nbconvert_exporter": "python",
   "pygments_lexer": "ipython3",
   "version": "3.8.3"
  }
 },
 "nbformat": 4,
 "nbformat_minor": 4
}
