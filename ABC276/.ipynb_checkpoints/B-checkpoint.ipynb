{
 "cells": [
  {
   "cell_type": "code",
   "execution_count": 6,
   "metadata": {},
   "outputs": [
    {
     "name": "stdout",
     "output_type": "stream",
     "text": [
      "6 6\n",
      "3 6\n",
      "1 3\n",
      "5 6\n",
      "2 5\n",
      "1 2\n",
      "1 6\n",
      "3 2 3 6\n",
      "2 1 5\n",
      "2 1 6\n",
      "0 \n",
      "2 2 6\n",
      "3 1 3 5\n"
     ]
    }
   ],
   "source": [
    "def main():\n",
    "    N,M = map(int, input().split())\n",
    "    a_list = [[] for _ in range(N+1)]\n",
    "    for _ in range(M):\n",
    "        A,B = map(int, input().split())\n",
    "        a_list[A].append(B)\n",
    "        a_list[B].append(A)\n",
    "    \n",
    "    for i in range(1, N+1):\n",
    "        if len(a_list[i]) == 0:\n",
    "            print(0)\n",
    "        else:\n",
    "            sort = \" \".join(list(map(str, sorted(a_list[i]))))\n",
    "            print(f\"{len(a_list[i])} {sort}\")\n",
    "    \n",
    "if __name__ == \"__main__\":\n",
    "    main()"
   ]
  },
  {
   "cell_type": "code",
   "execution_count": null,
   "metadata": {},
   "outputs": [],
   "source": []
  }
 ],
 "metadata": {
  "kernelspec": {
   "display_name": "Python 3",
   "language": "python",
   "name": "python3"
  },
  "language_info": {
   "codemirror_mode": {
    "name": "ipython",
    "version": 3
   },
   "file_extension": ".py",
   "mimetype": "text/x-python",
   "name": "python",
   "nbconvert_exporter": "python",
   "pygments_lexer": "ipython3",
   "version": "3.8.3"
  }
 },
 "nbformat": 4,
 "nbformat_minor": 4
}
