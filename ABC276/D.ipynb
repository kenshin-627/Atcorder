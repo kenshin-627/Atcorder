{
 "cells": [
  {
   "cell_type": "code",
   "execution_count": 28,
   "metadata": {},
   "outputs": [
    {
     "name": "stdout",
     "output_type": "stream",
     "text": [
      "6\n",
      "1 1 1 1 1 1\n",
      "0\n"
     ]
    }
   ],
   "source": [
    "import numpy as np\n",
    "def main():\n",
    "    N = int(input())\n",
    "    aN = [*map(int, input().split())]\n",
    "    # [[4,___],[1,___]] だったらa1を2で4回，3で1回割れる\n",
    "    wareta = np.array([[0 for _ in range(N)] for _ in range(2)])\n",
    "    n_onazi = 0\n",
    "    for i, a in enumerate(aN):\n",
    "        two, waru2 = warimakuru(a, 2)\n",
    "        thr, waru3 = warimakuru(waru2, 3)\n",
    "        wareta[0][i] = two\n",
    "        wareta[1][i] = thr\n",
    "        if i == 0:\n",
    "            n_onazi = waru3\n",
    "        else:\n",
    "            if n_onazi != waru3:\n",
    "                print(-1)\n",
    "                return\n",
    "    print(np.sum([(wareta[0] - np.min(wareta[0])), (wareta[1] - np.min(wareta[1]))]))\n",
    "    \n",
    "# 割られる数と割る数入れたら\n",
    "# 何回割れるか返してくれる\n",
    "def warimakuru(wararerusuu, warusuu):\n",
    "    i = 0\n",
    "    while(True):\n",
    "        if wararerusuu % warusuu == 0:\n",
    "            wararerusuu /= warusuu\n",
    "            i += 1\n",
    "        else:\n",
    "            return i, int(wararerusuu)\n",
    "    \n",
    "if __name__ == \"__main__\":\n",
    "    main()"
   ]
  },
  {
   "cell_type": "code",
   "execution_count": 25,
   "metadata": {},
   "outputs": [
    {
     "name": "stdout",
     "output_type": "stream",
     "text": [
      "[0 1 1]\n"
     ]
    }
   ],
   "source": [
    "a = np.array([[1,2,2],[4,5,6]])\n",
    "print(a[0]-1)"
   ]
  },
  {
   "cell_type": "code",
   "execution_count": null,
   "metadata": {},
   "outputs": [],
   "source": []
  }
 ],
 "metadata": {
  "kernelspec": {
   "display_name": "Python 3",
   "language": "python",
   "name": "python3"
  },
  "language_info": {
   "codemirror_mode": {
    "name": "ipython",
    "version": 3
   },
   "file_extension": ".py",
   "mimetype": "text/x-python",
   "name": "python",
   "nbconvert_exporter": "python",
   "pygments_lexer": "ipython3",
   "version": "3.8.3"
  }
 },
 "nbformat": 4,
 "nbformat_minor": 4
}
