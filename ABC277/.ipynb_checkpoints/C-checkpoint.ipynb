{
 "cells": [
  {
   "cell_type": "code",
   "execution_count": 14,
   "metadata": {},
   "outputs": [
    {
     "name": "stdout",
     "output_type": "stream",
     "text": [
      "4\n",
      "1 4\n",
      "4 3\n",
      "4 10\n",
      "8 3\n",
      "10\n"
     ]
    }
   ],
   "source": [
    "from collections import deque\n",
    "from collections import defaultdict\n",
    "\n",
    "def DFS(adjacency_dic):\n",
    "    # 今後探索する頂点\n",
    "    dq_search = deque([1])\n",
    "    # 探索した頂点\n",
    "    seen_node = {1}\n",
    "    while(dq_search):\n",
    "        now_node = dq_search.pop()\n",
    "        for next_node in adjacency_dic[now_node]:\n",
    "            if next_node not in seen_node:\n",
    "                dq_search.append(next_node)\n",
    "                seen_node.add(next_node)\n",
    "    return max(seen_node)\n",
    "\n",
    "def main():\n",
    "    N = int(input())\n",
    "    # 隣接辞書でやってみる\n",
    "    a_dic = defaultdict(list)\n",
    "    for _ in range(N):\n",
    "        A,B = map(int, input().split())\n",
    "        a_dic[A].append(B)\n",
    "        a_dic[B].append(A)\n",
    "    print(DFS(a_dic))\n",
    "    \n",
    "if __name__ == \"__main__\":\n",
    "    main()"
   ]
  },
  {
   "cell_type": "code",
   "execution_count": null,
   "metadata": {},
   "outputs": [],
   "source": []
  }
 ],
 "metadata": {
  "kernelspec": {
   "display_name": "Python 3",
   "language": "python",
   "name": "python3"
  },
  "language_info": {
   "codemirror_mode": {
    "name": "ipython",
    "version": 3
   },
   "file_extension": ".py",
   "mimetype": "text/x-python",
   "name": "python",
   "nbconvert_exporter": "python",
   "pygments_lexer": "ipython3",
   "version": "3.8.3"
  }
 },
 "nbformat": 4,
 "nbformat_minor": 4
}
