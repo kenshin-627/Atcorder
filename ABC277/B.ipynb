{
 "cells": [
  {
   "cell_type": "code",
   "execution_count": 3,
   "metadata": {},
   "outputs": [
    {
     "name": "stdout",
     "output_type": "stream",
     "text": [
      "5\n",
      "H3\n",
      "DA\n",
      "CK\n",
      "H3\n",
      "57\n",
      "No\n"
     ]
    }
   ],
   "source": [
    "def main():\n",
    "    N = int(input())\n",
    "    s_set = set()\n",
    "    ans = \"Yes\"\n",
    "    for i in range(N):\n",
    "        S = input()\n",
    "        if len(S) != 2:\n",
    "            ans = \"No\"\n",
    "        S0 = S[0]\n",
    "        S1 = S[1]\n",
    "        if not (S0==\"H\" or S0==\"D\" or S0==\"C\" or S0==\"S\"):\n",
    "            ans = \"No\"\n",
    "        if not (S1==\"A\" or S1==\"2\" or S1==\"3\" or S1==\"4\" or S1==\"5\" or S1==\"6\" or S1==\"7\" or S1==\"8\" or S1==\"9\" or S1==\"T\" or S1==\"J\" or S1==\"Q\" or S1==\"K\"):\n",
    "            ans = \"No\"\n",
    "        if S in s_set:\n",
    "            ans = \"No\"\n",
    "        else:\n",
    "            s_set.add(S)\n",
    "    print(ans)\n",
    "    \n",
    "if __name__ == \"__main__\":\n",
    "    main()"
   ]
  },
  {
   "cell_type": "code",
   "execution_count": null,
   "metadata": {},
   "outputs": [],
   "source": []
  }
 ],
 "metadata": {
  "kernelspec": {
   "display_name": "Python 3",
   "language": "python",
   "name": "python3"
  },
  "language_info": {
   "codemirror_mode": {
    "name": "ipython",
    "version": 3
   },
   "file_extension": ".py",
   "mimetype": "text/x-python",
   "name": "python",
   "nbconvert_exporter": "python",
   "pygments_lexer": "ipython3",
   "version": "3.8.3"
  }
 },
 "nbformat": 4,
 "nbformat_minor": 4
}
