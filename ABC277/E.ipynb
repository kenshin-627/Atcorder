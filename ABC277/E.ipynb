{
 "cells": [
  {
   "cell_type": "code",
   "execution_count": 11,
   "metadata": {},
   "outputs": [
    {
     "name": "stdout",
     "output_type": "stream",
     "text": [
      "5 5 2\n",
      "1 3 0\n",
      "2 3 1\n",
      "5 4 1\n",
      "2 1 1\n",
      "1 4 0\n",
      "3 4\n",
      "7\n"
     ]
    }
   ],
   "source": [
    "from collections import defaultdict\n",
    "from collections import deque\n",
    "\n",
    "def BFS(a_dic, y):\n",
    "    if 1 == y:\n",
    "        return 0\n",
    "    # 今後探索する頂点\n",
    "    dq_search = deque([(1,1)])\n",
    "    # 探索した頂点\n",
    "    seen_node = {(1,1)}\n",
    "    # 各頂点に何回の操作で着いたか\n",
    "    move_dic = {(1,1):0}\n",
    "    # 何回操作したか\n",
    "    i = 0\n",
    "    while(dq_search):\n",
    "        now_node = dq_search.popleft()\n",
    "        if move_dic[now_node] == i:\n",
    "            i += 1\n",
    "        for next_node in a_dic[now_node]:\n",
    "            if next_node not in seen_node:\n",
    "                if next_node[0] == y:\n",
    "                    return i\n",
    "                seen_node.add(next_node)\n",
    "                if next_node[0] == now_node[0]:\n",
    "                    move_dic[next_node] = i-1\n",
    "                    dq_search.appendleft(next_node)\n",
    "                else:\n",
    "                    move_dic[next_node] = i\n",
    "                    dq_search.append(next_node)\n",
    "    return -1\n",
    "\n",
    "def main():\n",
    "    N,M,K = map(int, input().split())\n",
    "    # 隣接辞書\n",
    "    a_dic = defaultdict(list)\n",
    "    for _ in range(M):\n",
    "        u,v,a = map(int, input().split())\n",
    "        a_dic[(u,a)].append((v,a))\n",
    "        a_dic[(v,a)].append((u,a))\n",
    "    for s in map(int, input().split()):\n",
    "        a_dic[(s,0)].append((s,1))\n",
    "        a_dic[(s,1)].append((s,0))\n",
    "    print(BFS(a_dic, N))\n",
    "    \n",
    "if __name__ == \"__main__\":\n",
    "    main()"
   ]
  },
  {
   "cell_type": "code",
   "execution_count": 10,
   "metadata": {},
   "outputs": [
    {
     "name": "stdout",
     "output_type": "stream",
     "text": [
      "1\n"
     ]
    }
   ],
   "source": [
    "a = (1,2)\n",
    "print(a[0])"
   ]
  },
  {
   "cell_type": "code",
   "execution_count": null,
   "metadata": {},
   "outputs": [],
   "source": []
  }
 ],
 "metadata": {
  "kernelspec": {
   "display_name": "Python 3",
   "language": "python",
   "name": "python3"
  },
  "language_info": {
   "codemirror_mode": {
    "name": "ipython",
    "version": 3
   },
   "file_extension": ".py",
   "mimetype": "text/x-python",
   "name": "python",
   "nbconvert_exporter": "python",
   "pygments_lexer": "ipython3",
   "version": "3.8.3"
  }
 },
 "nbformat": 4,
 "nbformat_minor": 4
}
