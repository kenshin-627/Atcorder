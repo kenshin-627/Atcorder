{
 "cells": [
  {
   "cell_type": "code",
   "execution_count": 17,
   "metadata": {},
   "outputs": [
    {
     "name": "stdout",
     "output_type": "stream",
     "text": [
      "20 40\n",
      "21 0\n"
     ]
    }
   ],
   "source": [
    "def main():\n",
    "    H,M = input().split()\n",
    "    while(True):\n",
    "        if is_miss(H,M):\n",
    "            print(f\"{H} {M}\")\n",
    "            return\n",
    "        M = str((int(M) + 1) % 60)\n",
    "        if M == \"0\":\n",
    "            H = str((int(H) + 1) % 24)\n",
    "\n",
    "def is_miss(H, M):\n",
    "    if len(H) == 1:\n",
    "        H = \"0\" + H\n",
    "    if len(M) == 1:\n",
    "        M = \"0\" + M\n",
    "    tmp = H[1]\n",
    "    H_swap = int(H[0] + M[0])\n",
    "    M_swap = int(tmp + M[1])\n",
    "    if 0 <= H_swap <= 23 and 0 <= M_swap <= 59:\n",
    "        return True\n",
    "    else:\n",
    "        return False\n",
    "    \n",
    "if __name__ == \"__main__\":\n",
    "    main()"
   ]
  },
  {
   "cell_type": "code",
   "execution_count": null,
   "metadata": {},
   "outputs": [],
   "source": []
  }
 ],
 "metadata": {
  "kernelspec": {
   "display_name": "Python 3",
   "language": "python",
   "name": "python3"
  },
  "language_info": {
   "codemirror_mode": {
    "name": "ipython",
    "version": 3
   },
   "file_extension": ".py",
   "mimetype": "text/x-python",
   "name": "python",
   "nbconvert_exporter": "python",
   "pygments_lexer": "ipython3",
   "version": "3.8.3"
  }
 },
 "nbformat": 4,
 "nbformat_minor": 4
}
