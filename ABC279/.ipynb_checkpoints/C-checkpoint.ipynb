{
 "cells": [
  {
   "cell_type": "code",
   "execution_count": 1,
   "metadata": {},
   "outputs": [
    {
     "ename": "IndentationError",
     "evalue": "expected an indented block (<ipython-input-1-5d3f6b9c5fac>, line 13)",
     "output_type": "error",
     "traceback": [
      "\u001b[0;36m  File \u001b[0;32m\"<ipython-input-1-5d3f6b9c5fac>\"\u001b[0;36m, line \u001b[0;32m13\u001b[0m\n\u001b[0;31m    if __name__ == \"__main__\":\u001b[0m\n\u001b[0m    ^\u001b[0m\n\u001b[0;31mIndentationError\u001b[0m\u001b[0;31m:\u001b[0m expected an indented block\n"
     ]
    }
   ],
   "source": [
    "from collections import deque\n",
    "\n",
    "def main():\n",
    "    H,W = map(int, input().split())\n",
    "    S = [deque() for _ in range(W)]\n",
    "    T = [deque() for _ in range(W)]\n",
    "    for _ in range(H):\n",
    "        st = input()\n",
    "        for i, ch in enumerate(st):\n",
    "            S[i].append(ch)\n",
    "    for _ in range(H):\n",
    "        st = input()\n",
    "        for i, ch in enumerate(st):\n",
    "            T[i].append(ch)\n",
    "    for s in S:\n",
    "        try:\n",
    "            T[T.index(s)].clear()\n",
    "        except ValueError:\n",
    "            print(\"No\")\n",
    "            return\n",
    "    print(\"Yes\")\n",
    "    \n",
    "if __name__ == \"__main__\":\n",
    "    main()"
   ]
  },
  {
   "cell_type": "code",
   "execution_count": 12,
   "metadata": {},
   "outputs": [
    {
     "name": "stdout",
     "output_type": "stream",
     "text": [
      "[deque(['.', '#']), deque(['.', '#'])]\n",
      "True\n",
      "Error\n"
     ]
    }
   ],
   "source": [
    "# AC\n",
    "from collections import deque\n",
    "from collections import defaultdict\n",
    "\n",
    "def main():\n",
    "    H,W = map(int, input().split())\n",
    "    S = deque()\n",
    "    T = deque()\n",
    "    for _ in range(H):\n",
    "        S.append(input())\n",
    "    for _ in range(H):\n",
    "        T.append(input())\n",
    "    s_dict = defaultdict(int)\n",
    "    for s in zip(*S):\n",
    "        s_dict[s] += 1\n",
    "    for t in zip(*T):\n",
    "        if s_dict[t] == 0:\n",
    "            print(\"No\")\n",
    "            return\n",
    "        else:\n",
    "            s_dict[t] -= 1\n",
    "    print(\"Yes\")\n",
    "    \n",
    "if __name__ == \"__main__\":\n",
    "    main()"
   ]
  }
 ],
 "metadata": {
  "kernelspec": {
   "display_name": "Python 3",
   "language": "python",
   "name": "python3"
  },
  "language_info": {
   "codemirror_mode": {
    "name": "ipython",
    "version": 3
   },
   "file_extension": ".py",
   "mimetype": "text/x-python",
   "name": "python",
   "nbconvert_exporter": "python",
   "pygments_lexer": "ipython3",
   "version": "3.8.3"
  }
 },
 "nbformat": 4,
 "nbformat_minor": 4
}
