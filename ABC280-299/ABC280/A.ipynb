{
 "cells": [
  {
   "cell_type": "code",
   "execution_count": null,
   "id": "067cbfc7",
   "metadata": {},
   "outputs": [],
   "source": [
    "def main():\n",
    "    H,W = map(int, input().split())\n",
    "    ans = 0\n",
    "    for i in range(H):\n",
    "        S = input()\n",
    "        for s in S:\n",
    "            if s == \"#\":\n",
    "                ans += 1\n",
    "    print(ans)\n",
    "    \n",
    "if __name__ == \"__main__\":\n",
    "    main()"
   ]
  }
 ],
 "metadata": {
  "kernelspec": {
   "display_name": "Python 3 (ipykernel)",
   "language": "python",
   "name": "python3"
  },
  "language_info": {
   "codemirror_mode": {
    "name": "ipython",
    "version": 3
   },
   "file_extension": ".py",
   "mimetype": "text/x-python",
   "name": "python",
   "nbconvert_exporter": "python",
   "pygments_lexer": "ipython3",
   "version": "3.9.6"
  }
 },
 "nbformat": 4,
 "nbformat_minor": 5
}
