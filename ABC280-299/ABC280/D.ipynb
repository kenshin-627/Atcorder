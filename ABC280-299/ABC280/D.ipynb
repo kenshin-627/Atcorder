{
 "cells": [
  {
   "cell_type": "code",
   "execution_count": 27,
   "id": "0b8aec22",
   "metadata": {},
   "outputs": [
    {
     "name": "stdout",
     "output_type": "stream",
     "text": [
      "280\n",
      "7\n"
     ]
    }
   ],
   "source": [
    "import math\n",
    "from collections import Counter\n",
    "\n",
    "# 素因数分解を行う関数\n",
    "def prime_factorization(n):\n",
    "    # Counterクラスを呼び出してオブジェクト生成\n",
    "    counter = Counter()\n",
    "    \n",
    "    # 素数で割り切れるかの判定\n",
    "    for p in range(2, int(n ** 0.5) + 1):\n",
    "        # １回割り切れるごとに+1カウントしていく\n",
    "        while n % p == 0:\n",
    "            counter[p] += 1\n",
    "            n //= p\n",
    "    # n が1より大きい数字として残っていれば、素数\n",
    "    if n != 1:\n",
    "        counter[n] += 1\n",
    "    return counter\n",
    "\n",
    "def main():\n",
    "    K = int(input())\n",
    "    prime_K = prime_factorization(K)\n",
    "    ans = 0\n",
    "    for key, value in prime_K.items():\n",
    "        i = 0\n",
    "        count = 0\n",
    "        while(True):\n",
    "            i += 1\n",
    "            waru = key * i\n",
    "            while(True):\n",
    "                if waru % key == 0:\n",
    "                    waru /= key\n",
    "                    count += 1\n",
    "                else:\n",
    "                    break\n",
    "            if value <= count:\n",
    "                ans = max(ans, key*i)\n",
    "                break\n",
    "    print(ans)\n",
    "    \n",
    "if __name__ == \"__main__\":\n",
    "    main()"
   ]
  },
  {
   "cell_type": "code",
   "execution_count": null,
   "id": "f22c235e",
   "metadata": {},
   "outputs": [],
   "source": []
  }
 ],
 "metadata": {
  "kernelspec": {
   "display_name": "Python 3 (ipykernel)",
   "language": "python",
   "name": "python3"
  },
  "language_info": {
   "codemirror_mode": {
    "name": "ipython",
    "version": 3
   },
   "file_extension": ".py",
   "mimetype": "text/x-python",
   "name": "python",
   "nbconvert_exporter": "python",
   "pygments_lexer": "ipython3",
   "version": "3.9.6"
  }
 },
 "nbformat": 4,
 "nbformat_minor": 5
}
