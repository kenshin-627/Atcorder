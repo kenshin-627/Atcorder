{
 "cells": [
  {
   "cell_type": "code",
   "execution_count": 25,
   "id": "60f2bb90",
   "metadata": {},
   "outputs": [
    {
     "name": "stdout",
     "output_type": "stream",
     "text": [
      "1 1\n",
      "1\n",
      "499122177\n"
     ]
    }
   ],
   "source": [
    "def main():\n",
    "    N, P = map(int, input().split())\n",
    "    mod = 998244353\n",
    "    # dp[i]は体力が i の時の攻撃回数の期待値\n",
    "    dp = [0] * (N+1)\n",
    "    dp[0] = 0\n",
    "    dp[1] = 1\n",
    "    for i in range(2, N+1):\n",
    "        dp[i] = P/100*(1+dp[i-2]) + (1-P/100)*(1+dp[i-1])\n",
    "    print(dp[N])\n",
    "    \n",
    "if __name__ == \"__main__\":\n",
    "    main()"
   ]
  },
  {
   "cell_type": "code",
   "execution_count": 29,
   "id": "16a4b2a3",
   "metadata": {},
   "outputs": [
    {
     "name": "stdout",
     "output_type": "stream",
     "text": [
      "280 59\n",
      "567484387\n"
     ]
    }
   ],
   "source": [
    "# AC\n",
    "def main():\n",
    "    N, P = map(int, input().split())\n",
    "    mod = 998244353\n",
    "    mod_100 = pow(100, -1, mod)\n",
    "    # dp[i]は体力が i の時の攻撃回数の期待値\n",
    "    dp = [0] * (N+1)\n",
    "    dp[0] = 0\n",
    "    dp[1] = 1\n",
    "    for i in range(2, N+1):\n",
    "        dp[i] = P/100*(1+dp[i-2]) + (1-P/100)*(1+dp[i-1])\n",
    "        dp[i] = ((((P%mod*mod_100)%mod)*((1+dp[i-2])%mod)%mod)%mod + ((1-P%mod*mod_100)%mod)*((1+dp[i-1])%mod)%mod)%mod\n",
    "    print(dp[N])\n",
    "    \n",
    "if __name__ == \"__main__\":\n",
    "    main()"
   ]
  },
  {
   "cell_type": "code",
   "execution_count": null,
   "id": "91e3c828",
   "metadata": {},
   "outputs": [],
   "source": []
  }
 ],
 "metadata": {
  "kernelspec": {
   "display_name": "Python 3 (ipykernel)",
   "language": "python",
   "name": "python3"
  },
  "language_info": {
   "codemirror_mode": {
    "name": "ipython",
    "version": 3
   },
   "file_extension": ".py",
   "mimetype": "text/x-python",
   "name": "python",
   "nbconvert_exporter": "python",
   "pygments_lexer": "ipython3",
   "version": "3.9.6"
  }
 },
 "nbformat": 4,
 "nbformat_minor": 5
}
