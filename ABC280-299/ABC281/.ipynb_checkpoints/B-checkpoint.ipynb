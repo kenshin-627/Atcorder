{
 "cells": [
  {
   "cell_type": "code",
   "execution_count": 9,
   "id": "adc98067",
   "metadata": {},
   "outputs": [
    {
     "name": "stdout",
     "output_type": "stream",
     "text": [
      "K012345K\n",
      "No\n"
     ]
    }
   ],
   "source": [
    "def main():\n",
    "    S = input()\n",
    "    S0 = S[0]\n",
    "    S7 = S[-1]\n",
    "    Saida = S[1:-1]\n",
    "    if S0.isupper() and S7.isupper() and len(Saida) == 6:\n",
    "        try:\n",
    "            if len(str(int(Saida))) == 6:\n",
    "                print(\"Yes\")\n",
    "                return\n",
    "            else:\n",
    "                print(\"No\")\n",
    "                return\n",
    "        except:\n",
    "            print(\"No\")\n",
    "            return\n",
    "    print(\"No\")\n",
    "            \n",
    "if __name__ == \"__main__\":\n",
    "    main()"
   ]
  }
 ],
 "metadata": {
  "kernelspec": {
   "display_name": "Python 3 (ipykernel)",
   "language": "python",
   "name": "python3"
  },
  "language_info": {
   "codemirror_mode": {
    "name": "ipython",
    "version": 3
   },
   "file_extension": ".py",
   "mimetype": "text/x-python",
   "name": "python",
   "nbconvert_exporter": "python",
   "pygments_lexer": "ipython3",
   "version": "3.9.6"
  }
 },
 "nbformat": 4,
 "nbformat_minor": 5
}
