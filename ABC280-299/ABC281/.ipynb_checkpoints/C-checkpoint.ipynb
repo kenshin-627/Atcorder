{
 "cells": [
  {
   "cell_type": "code",
   "execution_count": 16,
   "id": "5a9bef15",
   "metadata": {},
   "outputs": [
    {
     "name": "stdout",
     "output_type": "stream",
     "text": [
      "3 281\n",
      "94 94 94\n",
      "3 93\n"
     ]
    }
   ],
   "source": [
    "# AC\n",
    "import bisect\n",
    "\n",
    "def main():\n",
    "    N,T = map(int, input().split())\n",
    "    dp = [0] * (N+1)\n",
    "    for i, A in enumerate(map(int, input().split())):\n",
    "        dp[i+1] = dp[i] + A\n",
    "    while(T>=dp[-1]):\n",
    "        tmp = dp[-1]\n",
    "        i = 1\n",
    "        while(True):\n",
    "            if tmp*2**i < T:\n",
    "                i += 1\n",
    "            else:\n",
    "                i -= 1\n",
    "                if i == -1:\n",
    "                    break\n",
    "                if tmp*2**i < T:\n",
    "                    T -= tmp*2**i\n",
    "    x = bisect.bisect(dp, T)\n",
    "    print(f\"{x} {T-dp[x-1]}\")\n",
    "    \n",
    "if __name__ == \"__main__\":\n",
    "    main()"
   ]
  },
  {
   "cell_type": "code",
   "execution_count": 11,
   "id": "ddf67925",
   "metadata": {},
   "outputs": [
    {
     "name": "stdout",
     "output_type": "stream",
     "text": [
      "3 600\n",
      "180 240 120\n",
      "1 60\n",
      "1 60\n",
      "1 60\n"
     ]
    }
   ],
   "source": [
    "def main():\n",
    "    N,T = map(int, input().split())\n",
    "    AN = [*map(int, input().split())]\n",
    "    sum_AN = sum(AN)\n",
    "    while(T>=sum_AN):\n",
    "        T -= sum_AN\n",
    "    i = 1\n",
    "    for A in AN:\n",
    "        if A < T:\n",
    "            T -= A\n",
    "            i += 1\n",
    "        else:\n",
    "            print(f\"{i} {T}\")\n",
    "            return\n",
    "    \n",
    "if __name__ == \"__main__\":\n",
    "    main()"
   ]
  },
  {
   "cell_type": "code",
   "execution_count": null,
   "id": "33e5053c",
   "metadata": {},
   "outputs": [],
   "source": []
  }
 ],
 "metadata": {
  "kernelspec": {
   "display_name": "Python 3 (ipykernel)",
   "language": "python",
   "name": "python3"
  },
  "language_info": {
   "codemirror_mode": {
    "name": "ipython",
    "version": 3
   },
   "file_extension": ".py",
   "mimetype": "text/x-python",
   "name": "python",
   "nbconvert_exporter": "python",
   "pygments_lexer": "ipython3",
   "version": "3.9.6"
  }
 },
 "nbformat": 4,
 "nbformat_minor": 5
}
