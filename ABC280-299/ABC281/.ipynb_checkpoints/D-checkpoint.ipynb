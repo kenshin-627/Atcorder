{
 "cells": [
  {
   "cell_type": "code",
   "execution_count": 19,
   "id": "87ca99f0",
   "metadata": {},
   "outputs": [
    {
     "name": "stdout",
     "output_type": "stream",
     "text": [
      "4 2 2\n",
      "1 2 3 4\n",
      "6\n"
     ]
    }
   ],
   "source": [
    "from itertools import combinations\n",
    "import time\n",
    "\n",
    "def main():\n",
    "    st = time.time()\n",
    "    N, K, D = map(int, input().split())\n",
    "    aN = sorted(map(int, input().split()))\n",
    "    max_sum = -1\n",
    "    for i in combinations(aN, K):\n",
    "        if (time.time() - st) > 0.9:\n",
    "            break\n",
    "        if sum(i) % D == 0:\n",
    "            if max_sum < sum(i):\n",
    "                max_sum = sum(i)\n",
    "    st = time.time()\n",
    "    for i in combinations(reversed(aN), K):\n",
    "        if (time.time() - st) > 0.9:\n",
    "            break\n",
    "        if sum(i) % D == 0:\n",
    "            if max_sum < sum(i):\n",
    "                max_sum = sum(i)\n",
    "    print(max_sum)\n",
    "    \n",
    "if __name__ == \"__main__\":\n",
    "    main()"
   ]
  },
  {
   "cell_type": "code",
   "execution_count": 23,
   "id": "1209aa07",
   "metadata": {},
   "outputs": [
    {
     "name": "stdout",
     "output_type": "stream",
     "text": [
      "2 3 4\n",
      "1\n",
      "3\n"
     ]
    }
   ],
   "source": [
    "# AC\n",
    "def main():\n",
    "    N, K, D = map(int, input().split())\n",
    "    aN = [*map(int, input().split())]\n",
    "    # dp[i][j][k] はa1~aiまでのうちj個選んだ総和をDで割った余りがkになる数の最大値\n",
    "    dp = [[[-1]*D for _ in range(K+1)] for _ in range(N+1)]\n",
    "    dp[0][0][0] = 0\n",
    "    for i in range(N):\n",
    "        for j in range(K+1):\n",
    "            for k in range(D):\n",
    "                if dp[i][j][k] == -1:\n",
    "                    continue\n",
    "                else:\n",
    "                    # ai+1を選ばない時\n",
    "                    dp[i+1][j][k] = max(dp[i+1][j][k], dp[i][j][k])\n",
    "                    # ai+1を選ぶ時\n",
    "                    if j != (K):\n",
    "                        dp[i+1][j+1][(k+aN[i])%D] = max(dp[i+1][j+1][(k+aN[i])%D], dp[i][j][k]+aN[i])\n",
    "    print(dp[N][K][0])\n",
    "    \n",
    "if __name__ == \"__main__\":\n",
    "    main()"
   ]
  },
  {
   "cell_type": "code",
   "execution_count": null,
   "id": "301d3d5a",
   "metadata": {},
   "outputs": [],
   "source": []
  }
 ],
 "metadata": {
  "kernelspec": {
   "display_name": "Python 3 (ipykernel)",
   "language": "python",
   "name": "python3"
  },
  "language_info": {
   "codemirror_mode": {
    "name": "ipython",
    "version": 3
   },
   "file_extension": ".py",
   "mimetype": "text/x-python",
   "name": "python",
   "nbconvert_exporter": "python",
   "pygments_lexer": "ipython3",
   "version": "3.9.6"
  }
 },
 "nbformat": 4,
 "nbformat_minor": 5
}
