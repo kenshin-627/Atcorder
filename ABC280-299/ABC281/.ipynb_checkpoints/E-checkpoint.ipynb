{
 "cells": [
  {
   "cell_type": "code",
   "execution_count": 2,
   "id": "bc0df2fd",
   "metadata": {},
   "outputs": [
    {
     "name": "stdout",
     "output_type": "stream",
     "text": [
      "6 4 3\n",
      "3 1 4 1 5 9\n",
      "5 6 10\n"
     ]
    }
   ],
   "source": [
    "import bisect\n",
    "\n",
    "def main():\n",
    "    N,M,K = map(int, input().split())\n",
    "    AN = [*map(int, input().split())]\n",
    "    first_range = sorted(AN[:M])\n",
    "    range_left = first_range[:K]\n",
    "    sum_left = sum(range_left)\n",
    "    range_right = first_range[K:]\n",
    "    if M == K:\n",
    "        range_right.append(1*10**9+1)\n",
    "    ans = [str(sum_left)]\n",
    "    for i in range(M, N):\n",
    "        # 削除が右側\n",
    "        if AN[i-M] in range_right:\n",
    "            remove_index = range_right.index(AN[i-M])\n",
    "            is_right = False\n",
    "            if range_left[-1] <= AN[i]:\n",
    "                is_right = True\n",
    "            # 挿入が右側\n",
    "            if is_right:\n",
    "                insert_index = bisect.bisect_left(range_right, AN[i])\n",
    "                if remove_index <= insert_index:\n",
    "                    for j in range(remove_index, insert_index-1):\n",
    "                        range_right[j] = range_right[j+1]\n",
    "                    range_right[insert_index-1] = AN[i]\n",
    "                else:\n",
    "                    for j in range(remove_index, insert_index, -1):\n",
    "                        range_right[j] = range_right[j-1]\n",
    "                    range_right[insert_index] = AN[i]\n",
    "            # 挿入が左側\n",
    "            else:\n",
    "                sum_left += (AN[i] - range_left[-1])\n",
    "                insert_index = bisect.bisect(range_left, AN[i])\n",
    "                for j in range(remove_index, 0, -1):\n",
    "                    range_right[j] = range_right[j-1]\n",
    "                range_right[0] = range_left[-1]\n",
    "                for j in range(len(range_left)-1, insert_index, -1):\n",
    "                    range_left[j] = range_left[j-1]\n",
    "                range_left[insert_index] = AN[i]\n",
    "        # 削除が左側\n",
    "        else:\n",
    "            remove_index = range_left.index(AN[i-M])\n",
    "            sum_left -= AN[i-M]\n",
    "            is_left = False\n",
    "            # ここ多分エラーでる rightないとき\n",
    "            if AN[i] <= range_right[0]:\n",
    "                is_left = True\n",
    "            # 挿入が左側\n",
    "            if is_left:\n",
    "                insert_index = bisect.bisect_left(range_left, AN[i])\n",
    "                sum_left += AN[i]\n",
    "                if remove_index <= insert_index:\n",
    "                    for j in range(remove_index, insert_index-1):\n",
    "                        range_left[j] = range_left[j+1]\n",
    "                    range_left[insert_index-1] = AN[i]\n",
    "                else:\n",
    "                    for j in range(remove_index, insert_index, -1):\n",
    "                        range_left[j] = range_left[j-1]\n",
    "                    range_left[insert_index] = AN[i]\n",
    "            # 挿入が右側\n",
    "            else:\n",
    "                insert_index = bisect.bisect_left(range_right, AN[i])\n",
    "                sum_left += range_right[0]\n",
    "                for j in range(remove_index, len(range_left)-1):\n",
    "                    range_left[j] = range_left[j+1]\n",
    "                range_left[-1] = range_right[0]\n",
    "                for j in range(0, insert_index-1):\n",
    "                    range_right[j] = range_right[j+1]\n",
    "                range_right[insert_index-1] = AN[i]\n",
    "        ans.append(str(sum_left))\n",
    "    print(\" \".join(ans))\n",
    "        \n",
    "if __name__ == \"__main__\":\n",
    "    main()"
   ]
  }
 ],
 "metadata": {
  "kernelspec": {
   "display_name": "Python 3 (ipykernel)",
   "language": "python",
   "name": "python3"
  },
  "language_info": {
   "codemirror_mode": {
    "name": "ipython",
    "version": 3
   },
   "file_extension": ".py",
   "mimetype": "text/x-python",
   "name": "python",
   "nbconvert_exporter": "python",
   "pygments_lexer": "ipython3",
   "version": "3.9.6"
  }
 },
 "nbformat": 4,
 "nbformat_minor": 5
}
