{
 "cells": [
  {
   "cell_type": "code",
   "execution_count": 4,
   "id": "59ef733e",
   "metadata": {},
   "outputs": [
    {
     "name": "stdout",
     "output_type": "stream",
     "text": [
      "9 11\n",
      "4 9\n",
      "9 1\n",
      "8 2\n",
      "8 3\n",
      "9 2\n",
      "8 4\n",
      "6 7\n",
      "4 6\n",
      "7 5\n",
      "4 5\n",
      "7 8\n",
      "9\n"
     ]
    }
   ],
   "source": [
    "from collections import deque\n",
    "from collections import defaultdict\n",
    "\n",
    "def main():\n",
    "    N,M = map(int, input().split())\n",
    "    adj_dict = defaultdict(list)\n",
    "    for _ in range(M):\n",
    "        u,v = map(int, input().split())\n",
    "        adj_dict[u].append(v)\n",
    "        adj_dict[v].append(u)\n",
    "    ans = 0\n",
    "    all_set = set(range(1, N+1))\n",
    "    group_sets = []\n",
    "    while(all_set):\n",
    "        group_set, okasii_int = BFS(adj_dict, all_set.pop(), N)\n",
    "        if okasii_int == -1:\n",
    "            print(0)\n",
    "            return\n",
    "        group_sets.append(group_set)\n",
    "        all_set -= group_set[0]\n",
    "        all_set -= group_set[1]\n",
    "    for group_set in group_sets:\n",
    "        for group_0 in group_set[0]:\n",
    "            ans += N - len(group_set[0]) - len(adj_dict[group_0])\n",
    "        for group_1 in group_set[1]:\n",
    "            ans += N - len(group_set[1]) - len(adj_dict[group_1])\n",
    "    print(ans//2)\n",
    "    \n",
    "def BFS(adjacency_dict, x, N):\n",
    "    # 各頂点のグループが記録されてる集合 グループ0かグループ1\n",
    "    group_set = [set(), set()]\n",
    "    group_set[0].add(x)\n",
    "    # 今後探索する頂点\n",
    "    dq_search = deque([x])\n",
    "    # 探索した頂点\n",
    "    seen_node = set([x])\n",
    "    while(dq_search):\n",
    "        now_node = dq_search.popleft()\n",
    "        for next_node in adjacency_dict[now_node]:\n",
    "            if (now_node in group_set[0] and next_node in group_set[0]) or (now_node in group_set[1] and next_node in group_set[1]):\n",
    "                return ([], -1)\n",
    "            if next_node not in seen_node:\n",
    "                if now_node in group_set[0]:\n",
    "                    group_set[1].add(next_node)\n",
    "                else:\n",
    "                    group_set[0].add(next_node)\n",
    "                dq_search.append(next_node)\n",
    "                seen_node.add(next_node)\n",
    "    return (group_set, 1)\n",
    "    \n",
    "if __name__ == \"__main__\":\n",
    "    main()"
   ]
  },
  {
   "cell_type": "code",
   "execution_count": null,
   "id": "6ad0244f",
   "metadata": {},
   "outputs": [],
   "source": []
  }
 ],
 "metadata": {
  "kernelspec": {
   "display_name": "Python 3 (ipykernel)",
   "language": "python",
   "name": "python3"
  },
  "language_info": {
   "codemirror_mode": {
    "name": "ipython",
    "version": 3
   },
   "file_extension": ".py",
   "mimetype": "text/x-python",
   "name": "python",
   "nbconvert_exporter": "python",
   "pygments_lexer": "ipython3",
   "version": "3.9.6"
  }
 },
 "nbformat": 4,
 "nbformat_minor": 5
}
