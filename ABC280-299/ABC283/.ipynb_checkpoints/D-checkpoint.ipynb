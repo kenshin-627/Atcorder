{
 "cells": [
  {
   "cell_type": "code",
   "execution_count": 5,
   "id": "19f9f31b",
   "metadata": {},
   "outputs": [
    {
     "name": "stdout",
     "output_type": "stream",
     "text": [
      "abca\n",
      "No\n"
     ]
    }
   ],
   "source": [
    "from collections import defaultdict\n",
    "\n",
    "def main():\n",
    "    S = input()\n",
    "    left_dict = defaultdict(list)\n",
    "    left_num = 0\n",
    "    small_set = set()\n",
    "    for s in S:\n",
    "        if s == \"(\":\n",
    "            left_num += 1\n",
    "            left_dict[left_num] = []\n",
    "        elif s == \")\":\n",
    "            for small_str in left_dict[left_num]:\n",
    "                small_set.discard(small_str)\n",
    "            left_num -= 1\n",
    "        else:\n",
    "            if s in small_set:\n",
    "                print(\"No\")\n",
    "                return\n",
    "            small_set.add(s)\n",
    "            left_dict[left_num].append(s)\n",
    "    print(\"Yes\")\n",
    "    \n",
    "if __name__ == \"__main__\":\n",
    "    main()"
   ]
  },
  {
   "cell_type": "code",
   "execution_count": null,
   "id": "fc9df5a9",
   "metadata": {},
   "outputs": [],
   "source": []
  }
 ],
 "metadata": {
  "kernelspec": {
   "display_name": "Python 3 (ipykernel)",
   "language": "python",
   "name": "python3"
  },
  "language_info": {
   "codemirror_mode": {
    "name": "ipython",
    "version": 3
   },
   "file_extension": ".py",
   "mimetype": "text/x-python",
   "name": "python",
   "nbconvert_exporter": "python",
   "pygments_lexer": "ipython3",
   "version": "3.9.6"
  }
 },
 "nbformat": 4,
 "nbformat_minor": 5
}
