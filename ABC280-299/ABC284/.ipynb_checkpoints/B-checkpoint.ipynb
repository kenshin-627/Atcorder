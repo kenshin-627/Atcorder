{
 "cells": [
  {
   "cell_type": "code",
   "execution_count": 1,
   "id": "a3652aa0",
   "metadata": {},
   "outputs": [
    {
     "name": "stdout",
     "output_type": "stream",
     "text": [
      "4\n",
      "3\n",
      "1 2 3\n",
      "2\n",
      "2\n",
      "20 23\n",
      "1\n",
      "10\n",
      "6 10 4 1 5 9 8 6 5 1\n",
      "5\n",
      "1\n",
      "100000\n",
      "0\n"
     ]
    }
   ],
   "source": [
    "def main():\n",
    "    T = int(input())\n",
    "    for _ in range(T):\n",
    "        N = int(input())\n",
    "        AN = [*map(int, input().split())]\n",
    "        count = 0\n",
    "        for A in AN:\n",
    "            if A % 2 == 1:\n",
    "                count += 1\n",
    "        print(count)\n",
    "    \n",
    "if __name__ == \"__main__\":\n",
    "    main()"
   ]
  },
  {
   "cell_type": "code",
   "execution_count": null,
   "id": "c11ad971",
   "metadata": {},
   "outputs": [],
   "source": []
  }
 ],
 "metadata": {
  "kernelspec": {
   "display_name": "Python 3 (ipykernel)",
   "language": "python",
   "name": "python3"
  },
  "language_info": {
   "codemirror_mode": {
    "name": "ipython",
    "version": 3
   },
   "file_extension": ".py",
   "mimetype": "text/x-python",
   "name": "python",
   "nbconvert_exporter": "python",
   "pygments_lexer": "ipython3",
   "version": "3.9.6"
  }
 },
 "nbformat": 4,
 "nbformat_minor": 5
}
