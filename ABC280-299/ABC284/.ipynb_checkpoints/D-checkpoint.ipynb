{
 "cells": [
  {
   "cell_type": "code",
   "execution_count": null,
   "id": "5a80dc58",
   "metadata": {},
   "outputs": [],
   "source": [
    "import math\n",
    "\n",
    "def main():\n",
    "    T = int(input())\n",
    "    for _ in range(T):\n",
    "        N = int(input())\n",
    "        prime_list = prime_factorization(N)\n",
    "        print(\" \".join(prime_list))\n",
    "        \n",
    "def prime_factorization(n):\n",
    "    prime_list = []\n",
    "    if n % 2 == 0:\n",
    "        n //= 2\n",
    "        if n % 2 == 0:\n",
    "            n //= 2\n",
    "            prime_list = [str(2), str(n)]\n",
    "        else:\n",
    "            prime_list = [str(int(math.sqrt(n))), str(2)]\n",
    "        return prime_list\n",
    "    for p in range(3, 2121320344, 2):\n",
    "        if n % p == 0:\n",
    "            n //= p\n",
    "            if n % p == 0:\n",
    "                n //= p\n",
    "                prime_list = [str(p), str(n)]\n",
    "            else:\n",
    "                prime_list = [str(int(math.sqrt(n))), str(p)]\n",
    "            return prime_list\n",
    "    \n",
    "if __name__ == \"__main__\":\n",
    "    main()"
   ]
  }
 ],
 "metadata": {
  "kernelspec": {
   "display_name": "Python 3 (ipykernel)",
   "language": "python",
   "name": "python3"
  },
  "language_info": {
   "codemirror_mode": {
    "name": "ipython",
    "version": 3
   },
   "file_extension": ".py",
   "mimetype": "text/x-python",
   "name": "python",
   "nbconvert_exporter": "python",
   "pygments_lexer": "ipython3",
   "version": "3.9.6"
  }
 },
 "nbformat": 4,
 "nbformat_minor": 5
}
