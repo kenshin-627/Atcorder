{
 "cells": [
  {
   "cell_type": "code",
   "execution_count": 13,
   "id": "5056d785",
   "metadata": {},
   "outputs": [
    {
     "name": "stdout",
     "output_type": "stream",
     "text": [
      "8 21\n",
      "2 6\n",
      "1 3\n",
      "5 6\n",
      "3 8\n",
      "3 6\n",
      "4 7\n",
      "4 6\n",
      "3 4\n",
      "1 5\n",
      "2 4\n",
      "1 2\n",
      "2 7\n",
      "1 4\n",
      "3 5\n",
      "2 5\n",
      "2 3\n",
      "4 5\n",
      "\n"
     ]
    },
    {
     "ename": "ValueError",
     "evalue": "not enough values to unpack (expected 2, got 0)",
     "output_type": "error",
     "traceback": [
      "\u001b[0;31m---------------------------------------------------------------------------\u001b[0m",
      "\u001b[0;31mValueError\u001b[0m                                Traceback (most recent call last)",
      "Cell \u001b[0;32mIn[13], line 36\u001b[0m\n\u001b[1;32m     33\u001b[0m     \u001b[38;5;28mprint\u001b[39m(ans)\n\u001b[1;32m     35\u001b[0m \u001b[38;5;28;01mif\u001b[39;00m \u001b[38;5;18m__name__\u001b[39m \u001b[38;5;241m==\u001b[39m \u001b[38;5;124m\"\u001b[39m\u001b[38;5;124m__main__\u001b[39m\u001b[38;5;124m\"\u001b[39m:\n\u001b[0;32m---> 36\u001b[0m     \u001b[43mmain\u001b[49m\u001b[43m(\u001b[49m\u001b[43m)\u001b[49m\n",
      "Cell \u001b[0;32mIn[13], line 12\u001b[0m, in \u001b[0;36mmain\u001b[0;34m()\u001b[0m\n\u001b[1;32m     10\u001b[0m adj_dict \u001b[38;5;241m=\u001b[39m defaultdict(\u001b[38;5;28mlist\u001b[39m)\n\u001b[1;32m     11\u001b[0m \u001b[38;5;28;01mfor\u001b[39;00m _ \u001b[38;5;129;01min\u001b[39;00m \u001b[38;5;28mrange\u001b[39m(M):\n\u001b[0;32m---> 12\u001b[0m     u,v \u001b[38;5;241m=\u001b[39m \u001b[38;5;28mmap\u001b[39m(\u001b[38;5;28mint\u001b[39m, \u001b[38;5;28minput\u001b[39m()\u001b[38;5;241m.\u001b[39msplit())\n\u001b[1;32m     13\u001b[0m     adj_dict[u]\u001b[38;5;241m.\u001b[39mappend(v)\n\u001b[1;32m     14\u001b[0m     adj_dict[v]\u001b[38;5;241m.\u001b[39mappend(u)\n",
      "\u001b[0;31mValueError\u001b[0m: not enough values to unpack (expected 2, got 0)"
     ]
    }
   ],
   "source": [
    "from collections import deque\n",
    "from collections import defaultdict\n",
    "\n",
    "def main():\n",
    "    N,M = map(int, input().split())\n",
    "    adj_dict = defaultdict(list)\n",
    "    for _ in range(M):\n",
    "        u,v = map(int, input().split())\n",
    "        adj_dict[u].append(v)\n",
    "        adj_dict[v].append(u)\n",
    "    search_q = deque([-1,1])\n",
    "    seen_node = set()\n",
    "    ans = 0\n",
    "    while(search_q):\n",
    "        now_node = search_q.pop()\n",
    "        if now_node < 0:\n",
    "            seen_node.discard(-now_node)\n",
    "            continue\n",
    "        ans += 1\n",
    "        seen_node.add(now_node)\n",
    "        next_nodes = adj_dict[now_node]\n",
    "        search_q.append(-now_node)\n",
    "        for next_node in next_nodes:\n",
    "            if next_node in seen_node:\n",
    "                continue\n",
    "            search_q.append(next_node)\n",
    "        if ans == 10**6:\n",
    "            break\n",
    "    print(ans)\n",
    "    \n",
    "if __name__ == \"__main__\":\n",
    "    main()"
   ]
  },
  {
   "cell_type": "code",
   "execution_count": null,
   "id": "98c59e9c",
   "metadata": {},
   "outputs": [],
   "source": []
  }
 ],
 "metadata": {
  "kernelspec": {
   "display_name": "Python 3 (ipykernel)",
   "language": "python",
   "name": "python3"
  },
  "language_info": {
   "codemirror_mode": {
    "name": "ipython",
    "version": 3
   },
   "file_extension": ".py",
   "mimetype": "text/x-python",
   "name": "python",
   "nbconvert_exporter": "python",
   "pygments_lexer": "ipython3",
   "version": "3.9.6"
  }
 },
 "nbformat": 4,
 "nbformat_minor": 5
}
