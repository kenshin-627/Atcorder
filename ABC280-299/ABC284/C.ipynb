{
 "cells": [
  {
   "cell_type": "code",
   "execution_count": 13,
   "id": "5c2f9ce5",
   "metadata": {},
   "outputs": [
    {
     "name": "stdout",
     "output_type": "stream",
     "text": [
      "4 6\n",
      "1 2\n",
      "1 3\n",
      "1 4\n",
      "2 3\n",
      "2 4\n",
      "3 4\n",
      "1\n"
     ]
    }
   ],
   "source": [
    "from collections import deque\n",
    "from collections import defaultdict\n",
    "\n",
    "def main():\n",
    "    N,M = map(int, input().split())\n",
    "    adj_dict = defaultdict(list)\n",
    "    for i in range(1, N+1):\n",
    "        adj_dict[i] = []\n",
    "    for _ in range(M):\n",
    "        u,v = map(int, input().split())\n",
    "        adj_dict[u].append(v)\n",
    "        adj_dict[v].append(u)\n",
    "    seen_node = set()\n",
    "    ans = 0\n",
    "    while(adj_dict):\n",
    "        key = [*adj_dict.keys()][-1]\n",
    "        search_q = deque([key])\n",
    "        seen_node.add(key)\n",
    "        ans += 1\n",
    "        while(search_q):\n",
    "            now_node = search_q.pop()\n",
    "            next_nodes = adj_dict[now_node]\n",
    "            adj_dict.pop(now_node)\n",
    "            for next_node in next_nodes:\n",
    "                if next_node not in seen_node:\n",
    "                    seen_node.add(next_node)\n",
    "                    search_q.append(next_node)\n",
    "    print(ans)\n",
    "    \n",
    "if __name__ == \"__main__\":\n",
    "    main()"
   ]
  },
  {
   "cell_type": "code",
   "execution_count": null,
   "id": "ff227ae0",
   "metadata": {},
   "outputs": [],
   "source": []
  }
 ],
 "metadata": {
  "kernelspec": {
   "display_name": "Python 3 (ipykernel)",
   "language": "python",
   "name": "python3"
  },
  "language_info": {
   "codemirror_mode": {
    "name": "ipython",
    "version": 3
   },
   "file_extension": ".py",
   "mimetype": "text/x-python",
   "name": "python",
   "nbconvert_exporter": "python",
   "pygments_lexer": "ipython3",
   "version": "3.9.6"
  }
 },
 "nbformat": 4,
 "nbformat_minor": 5
}
