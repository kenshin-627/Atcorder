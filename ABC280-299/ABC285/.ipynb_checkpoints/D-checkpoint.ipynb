{
 "cells": [
  {
   "cell_type": "code",
   "execution_count": 10,
   "id": "7b31c042",
   "metadata": {},
   "outputs": [],
   "source": [
    "from collections import deque\n",
    "from collections import defaultdict\n",
    "\n",
    "def main():\n",
    "    N = int(input())\n",
    "    change_dict = defaultdict(str)\n",
    "    for _ in range(N):\n",
    "        S,T = input().split()\n",
    "        change_dict[S] = T\n",
    "    while(change_dict):\n",
    "        start_key, start_value = change_dict.popitem()\n",
    "        now_q = deque([start_value])\n",
    "        while(now_q):\n",
    "            next_key = now_q.popleft()\n",
    "            next_value = change_dict[next_key]\n",
    "            if next_value == \"\":\n",
    "                change_dict.pop(next_key)\n",
    "                break\n",
    "            elif next_value == start_key:\n",
    "                print(\"No\")\n",
    "                return\n",
    "            else:\n",
    "                change_dict.pop(next_key)\n",
    "                now_q.append(next_value)\n",
    "    print(\"Yes\")\n",
    "    \n",
    "if __name__ == \"__main__\":\n",
    "    main()"
   ]
  },
  {
   "cell_type": "code",
   "execution_count": null,
   "id": "bafe2d7d",
   "metadata": {},
   "outputs": [],
   "source": []
  }
 ],
 "metadata": {
  "kernelspec": {
   "display_name": "Python 3 (ipykernel)",
   "language": "python",
   "name": "python3"
  },
  "language_info": {
   "codemirror_mode": {
    "name": "ipython",
    "version": 3
   },
   "file_extension": ".py",
   "mimetype": "text/x-python",
   "name": "python",
   "nbconvert_exporter": "python",
   "pygments_lexer": "ipython3",
   "version": "3.9.6"
  }
 },
 "nbformat": 4,
 "nbformat_minor": 5
}
