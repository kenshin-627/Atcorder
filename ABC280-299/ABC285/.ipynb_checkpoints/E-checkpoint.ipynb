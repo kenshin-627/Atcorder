{
 "cells": [
  {
   "cell_type": "code",
   "execution_count": 5,
   "id": "adbc0db6",
   "metadata": {},
   "outputs": [
    {
     "name": "stdout",
     "output_type": "stream",
     "text": [
      "5000\n",
      "1 1 1 1 1 1 1 1 1 1\n"
     ]
    }
   ],
   "source": [
    "from itertools import combinations\n",
    "from itertools import permutations\n",
    "import bisect\n",
    "from collections import Counter\n",
    "from collections import deque\n",
    "from collections import defaultdict\n",
    "\n",
    "def main():\n",
    "    N = int(input())\n",
    "    A = [*map(int, input().split())]\n",
    "    triangle = [0] * N\n",
    "    for i in range(1, N):\n",
    "        triangle[i] = triangle[i-1] + int((i+1)/2)\n",
    "    ans = 0\n",
    "    for i in range(N/2):\n",
    "        \n",
    "        \n",
    "# a を b個に分けるときの配列返す(dvide(4,2) なら [[1,3], [2,2]] を返す)\n",
    "def divide(a,b):\n",
    "    divide_list = []\n",
    "    divide_list.append([1] * b-1+ [a-b+1])\n",
    "    for i in range(1, b):\n",
    "        divide_list[-1][-i]\n",
    "    \n",
    "if __name__ == \"__main__\":\n",
    "    main()"
   ]
  },
  {
   "cell_type": "code",
   "execution_count": null,
   "id": "e8e7fc05",
   "metadata": {},
   "outputs": [],
   "source": []
  }
 ],
 "metadata": {
  "kernelspec": {
   "display_name": "Python 3 (ipykernel)",
   "language": "python",
   "name": "python3"
  },
  "language_info": {
   "codemirror_mode": {
    "name": "ipython",
    "version": 3
   },
   "file_extension": ".py",
   "mimetype": "text/x-python",
   "name": "python",
   "nbconvert_exporter": "python",
   "pygments_lexer": "ipython3",
   "version": "3.9.6"
  }
 },
 "nbformat": 4,
 "nbformat_minor": 5
}
