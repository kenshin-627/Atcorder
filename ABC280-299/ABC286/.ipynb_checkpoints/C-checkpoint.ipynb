{
 "cells": [
  {
   "cell_type": "code",
   "execution_count": 26,
   "id": "207ed561",
   "metadata": {},
   "outputs": [
    {
     "name": "stdout",
     "output_type": "stream",
     "text": [
      "8 1000000000 1000000000\n",
      "bcdfcgaa\n",
      "4000000000\n"
     ]
    }
   ],
   "source": [
    "from collections import deque\n",
    "\n",
    "def main():\n",
    "    N,A,B = map(int, input().split())\n",
    "    S = [*input()]\n",
    "    S_first = []\n",
    "    S_middle = \"\"\n",
    "    S_later = []\n",
    "    if N % 2 == 0:\n",
    "        S_first = deque(S[0:N//2])\n",
    "        S_later = deque(S[-1:N//2-1:-1])\n",
    "    else:\n",
    "        S_first = deque(S[0:N//2])\n",
    "        S_middle = S[N//2]\n",
    "        S_later = deque(S[-1:N//2:-1])\n",
    "    min_pay = 10**13\n",
    "    rotate_pay = 0\n",
    "    for _ in range(N):\n",
    "        diff_count = 0\n",
    "        for first,later in zip(S_first, S_later):\n",
    "            if first != later:\n",
    "                diff_count += 1\n",
    "        min_pay = min(min_pay, rotate_pay + diff_count*B)\n",
    "        # S_first,middle,laterの更新\n",
    "        if N % 2 == 0:\n",
    "            S_first.append(S_later.pop())\n",
    "            S_later.appendleft(S_first.popleft())\n",
    "        else:\n",
    "            S_first.append(S_middle)\n",
    "            S_middle = S_later.pop()\n",
    "            S_later.appendleft(S_first.popleft())\n",
    "        rotate_pay += A\n",
    "    print(min_pay)\n",
    "    \n",
    "if __name__ == \"__main__\":\n",
    "    main()"
   ]
  },
  {
   "cell_type": "code",
   "execution_count": 21,
   "id": "b40c8733",
   "metadata": {},
   "outputs": [
    {
     "name": "stdout",
     "output_type": "stream",
     "text": [
      "2\n"
     ]
    }
   ],
   "source": [
    "from collections import deque\n",
    "\n",
    "a = deque([1,2,3])\n",
    "b = deque([1,0,3])\n",
    "count = 0\n",
    "for i,j in zip(a,b):\n",
    "    if i == j:\n",
    "        count += 1\n",
    "print(count)\n"
   ]
  },
  {
   "cell_type": "code",
   "execution_count": null,
   "id": "c912072f",
   "metadata": {},
   "outputs": [],
   "source": []
  }
 ],
 "metadata": {
  "kernelspec": {
   "display_name": "Python 3 (ipykernel)",
   "language": "python",
   "name": "python3"
  },
  "language_info": {
   "codemirror_mode": {
    "name": "ipython",
    "version": 3
   },
   "file_extension": ".py",
   "mimetype": "text/x-python",
   "name": "python",
   "nbconvert_exporter": "python",
   "pygments_lexer": "ipython3",
   "version": "3.9.6"
  }
 },
 "nbformat": 4,
 "nbformat_minor": 5
}
