{
 "cells": [
  {
   "cell_type": "code",
   "execution_count": 17,
   "id": "0199b657",
   "metadata": {},
   "outputs": [
    {
     "name": "stdout",
     "output_type": "stream",
     "text": [
      "3 1001\n",
      "1 1\n",
      "2 1\n",
      "100 10\n",
      "Yes\n"
     ]
    }
   ],
   "source": [
    "def main():\n",
    "    N,X = map(int, input().split())\n",
    "    pay_set = set([0])\n",
    "    for _ in range(N):\n",
    "        A,B = map(int, input().split())\n",
    "        for pay in pay_set.copy():\n",
    "            for step in range(A, A*B+1, A):\n",
    "                pay_new = pay + step\n",
    "                if pay_new <= X:\n",
    "                    pay_set.add(pay_new)\n",
    "                else:\n",
    "                    break\n",
    "    if X in pay_set:\n",
    "        print(\"Yes\")\n",
    "    else:\n",
    "        print(\"No\")\n",
    "    \n",
    "if __name__ == \"__main__\":\n",
    "    main()"
   ]
  },
  {
   "cell_type": "code",
   "execution_count": 3,
   "id": "800686e3",
   "metadata": {},
   "outputs": [
    {
     "name": "stdout",
     "output_type": "stream",
     "text": [
      "[5, 10, 15, 20, 25, 30]\n"
     ]
    }
   ],
   "source": [
    "A = 5\n",
    "B = 6\n",
    "print([*range(A, A*B+1, A)])"
   ]
  },
  {
   "cell_type": "code",
   "execution_count": null,
   "id": "1de97a6e",
   "metadata": {},
   "outputs": [],
   "source": []
  }
 ],
 "metadata": {
  "kernelspec": {
   "display_name": "Python 3 (ipykernel)",
   "language": "python",
   "name": "python3"
  },
  "language_info": {
   "codemirror_mode": {
    "name": "ipython",
    "version": 3
   },
   "file_extension": ".py",
   "mimetype": "text/x-python",
   "name": "python",
   "nbconvert_exporter": "python",
   "pygments_lexer": "ipython3",
   "version": "3.9.6"
  }
 },
 "nbformat": 4,
 "nbformat_minor": 5
}
