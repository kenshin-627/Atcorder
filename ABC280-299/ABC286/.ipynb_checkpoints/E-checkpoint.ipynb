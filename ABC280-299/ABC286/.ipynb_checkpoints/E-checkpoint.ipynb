{
 "cells": [
  {
   "cell_type": "code",
   "execution_count": 1,
   "id": "98ba7f61",
   "metadata": {},
   "outputs": [
    {
     "name": "stdout",
     "output_type": "stream",
     "text": [
      "5\n",
      "1 1 1 1 1\n",
      "NYYNN\n",
      "NNYNN\n",
      "NNNYY\n",
      "YNNNN\n",
      "YNNNN\n",
      "3\n",
      "defaultdict(<class 'list'>, {1: [2, 3], 2: [3], 3: [4, 5], 4: [1], 5: [1]})\n",
      "1 3\n",
      "3 1\n",
      "4 5\n"
     ]
    }
   ],
   "source": [
    "from itertools import combinations\n",
    "from itertools import permutations\n",
    "import bisect\n",
    "from collections import Counter\n",
    "from collections import deque\n",
    "from collections import defaultdict\n",
    "\n",
    "def main():\n",
    "    N = int(input())\n",
    "    A = [*map(int, input().split())]\n",
    "    adj_dict = defaultdict(list)\n",
    "    for i in range(N):\n",
    "        S = input()\n",
    "        for j, s in enumerate(S):\n",
    "            if s == \"Y\":\n",
    "                adj_dict[i+1].append(j+1)\n",
    "    Q = int(input())\n",
    "    price_dict = defaultdict(int)\n",
    "    for _ in range(Q):\n",
    "        U,V = map(int, input().split())\n",
    "        search_q = deque([U])\n",
    "        seen_set = set([U])\n",
    "        is_fin = False\n",
    "        next_q = deque()\n",
    "        while search_q:\n",
    "            now_node = search_q.popleft()\n",
    "            if len(search_q) == 0:\n",
    "                if is_fin:\n",
    "                    break\n",
    "                search_q = next_q\n",
    "                next_q = deque()\n",
    "            next_nodes = adj_dict[now_node]\n",
    "            for next_node in next_nodes:\n",
    "                \n",
    "    \n",
    "if __name__ == \"__main__\":\n",
    "    main()"
   ]
  },
  {
   "cell_type": "code",
   "execution_count": 3,
   "id": "21682746",
   "metadata": {},
   "outputs": [
    {
     "name": "stdout",
     "output_type": "stream",
     "text": [
      "{1}\n"
     ]
    }
   ],
   "source": [
    "a = set([1])\n",
    "print(a)"
   ]
  },
  {
   "cell_type": "code",
   "execution_count": null,
   "id": "bad7ea41",
   "metadata": {},
   "outputs": [],
   "source": []
  }
 ],
 "metadata": {
  "kernelspec": {
   "display_name": "Python 3 (ipykernel)",
   "language": "python",
   "name": "python3"
  },
  "language_info": {
   "codemirror_mode": {
    "name": "ipython",
    "version": 3
   },
   "file_extension": ".py",
   "mimetype": "text/x-python",
   "name": "python",
   "nbconvert_exporter": "python",
   "pygments_lexer": "ipython3",
   "version": "3.9.6"
  }
 },
 "nbformat": 4,
 "nbformat_minor": 5
}
