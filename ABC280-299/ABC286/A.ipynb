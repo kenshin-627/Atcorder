{
 "cells": [
  {
   "cell_type": "code",
   "execution_count": 9,
   "id": "6c07b910",
   "metadata": {},
   "outputs": [
    {
     "name": "stdout",
     "output_type": "stream",
     "text": [
      "2 1 1 2 2\n",
      "50 100\n",
      "100 50\n"
     ]
    }
   ],
   "source": [
    "def main():\n",
    "    N,P,Q,R,S = map(int, input().split())\n",
    "    AN = [*map(int, input().split())]\n",
    "    index = [*range(N)]\n",
    "    tmp = index[P-1:Q]\n",
    "    index[P-1:Q] = index[R-1:S]\n",
    "    index[R-1:S] = tmp\n",
    "    BN = []\n",
    "    for i in index:\n",
    "        BN.append(AN[i])\n",
    "    print(\" \".join(map(str, BN)))\n",
    "    \n",
    "if __name__ == \"__main__\":\n",
    "    main()"
   ]
  },
  {
   "cell_type": "markdown",
   "id": "1403cdcc",
   "metadata": {},
   "source": [
    "### "
   ]
  }
 ],
 "metadata": {
  "kernelspec": {
   "display_name": "Python 3 (ipykernel)",
   "language": "python",
   "name": "python3"
  },
  "language_info": {
   "codemirror_mode": {
    "name": "ipython",
    "version": 3
   },
   "file_extension": ".py",
   "mimetype": "text/x-python",
   "name": "python",
   "nbconvert_exporter": "python",
   "pygments_lexer": "ipython3",
   "version": "3.9.6"
  }
 },
 "nbformat": 4,
 "nbformat_minor": 5
}
