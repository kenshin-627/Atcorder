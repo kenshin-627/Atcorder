{
 "cells": [
  {
   "cell_type": "code",
   "execution_count": 16,
   "id": "98ba7f61",
   "metadata": {},
   "outputs": [
    {
     "name": "stdout",
     "output_type": "stream",
     "text": [
      "5\n",
      "30 50 70 20 60\n",
      "NYYNN\n",
      "NNYNN\n",
      "NNNYY\n",
      "YNNNN\n",
      "YNNNN\n",
      "defaultdict(<function main.<locals>.<lambda> at 0x10c14d940>, {1: defaultdict(<class 'tuple'>, {2: (1, -80), 3: (1, -100)}), 2: defaultdict(<class 'tuple'>, {3: (1, -120)}), 3: defaultdict(<class 'tuple'>, {4: (1, -90), 5: (1, -130)}), 4: defaultdict(<class 'tuple'>, {1: (1, -50)}), 5: defaultdict(<class 'tuple'>, {1: (1, -90)})})\n",
      "defaultdict(<function main.<locals>.<lambda> at 0x10c14d8b0>, {1: defaultdict(<class 'list'>, {1: [2, 3]}), 2: defaultdict(<class 'list'>, {1: [3]}), 3: defaultdict(<class 'list'>, {1: [4, 5]}), 4: defaultdict(<class 'list'>, {1: [1]}), 5: defaultdict(<class 'list'>, {1: [1]})})\n",
      "3\n",
      "1 3\n",
      "1 100\n",
      "3 1\n",
      "2 160\n",
      "4 5\n",
      "3 180\n"
     ]
    }
   ],
   "source": [
    "from collections import defaultdict\n",
    "\n",
    "def main():\n",
    "    N = int(input())\n",
    "    A = [*map(lambda x:-int(x), input().split())]\n",
    "    dis_val_dict = defaultdict(lambda:defaultdict(lambda:(100000, 0)))\n",
    "    dis_dict = defaultdict(lambda:defaultdict(list))\n",
    "    for i in range(N):\n",
    "        S = input()\n",
    "        for j, s in enumerate(S):\n",
    "            if s == \"Y\":\n",
    "                dis_val_dict[i+1][j+1] = (1, A[i]+A[j])\n",
    "                dis_dict[i+1][1].append(j+1)\n",
    "    for i in range(1, N+1):\n",
    "        bef_dict = None\n",
    "        dis = 0\n",
    "        is_changed = True\n",
    "        while is_changed:\n",
    "            is_changed = False\n",
    "            dis += 1\n",
    "            for now_node in dis_dict[i][dis]:\n",
    "                for next_node in dis_dict[now_node][1]:\n",
    "                    tmp = dis_val_dict[i][now_node]\n",
    "                    new_dis_val = (tmp[0]+1, tmp[1]+A[next_node-1])\n",
    "                    if dis_val_dict[i][next_node] < new_dis_val:\n",
    "                        continue\n",
    "                    is_changed = True\n",
    "                    dis_val_dict[i][next_node] = new_dis_val\n",
    "                    dis_dict[i][dis+1].append(next_node)         \n",
    "    \n",
    "    Q = int(input())\n",
    "    for _ in range(Q):\n",
    "        U,V = map(int, input().split())\n",
    "        if dis_val_dict[U][V] == (100000, 0):\n",
    "            print(\"Impossible\")\n",
    "        else:\n",
    "            dis, val = dis_val_dict[U][V]\n",
    "            print(f\"{dis} {-val}\")\n",
    "        \n",
    "if __name__ == \"__main__\":\n",
    "    main()"
   ]
  },
  {
   "cell_type": "code",
   "execution_count": null,
   "id": "5cf7ec50",
   "metadata": {},
   "outputs": [],
   "source": []
  }
 ],
 "metadata": {
  "kernelspec": {
   "display_name": "Python 3 (ipykernel)",
   "language": "python",
   "name": "python3"
  },
  "language_info": {
   "codemirror_mode": {
    "name": "ipython",
    "version": 3
   },
   "file_extension": ".py",
   "mimetype": "text/x-python",
   "name": "python",
   "nbconvert_exporter": "python",
   "pygments_lexer": "ipython3",
   "version": "3.9.6"
  }
 },
 "nbformat": 4,
 "nbformat_minor": 5
}
