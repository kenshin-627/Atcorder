{
 "cells": [
  {
   "cell_type": "code",
   "execution_count": 1,
   "id": "a28e3fe5",
   "metadata": {},
   "outputs": [
    {
     "name": "stdout",
     "output_type": "stream",
     "text": [
      "defaultdict(<class 'list'>, {0: [1], 1: [0]})\n",
      "(1, [0])\n",
      "defaultdict(<class 'list'>, {0: [1]})\n"
     ]
    }
   ],
   "source": [
    "from collections import deque\n",
    "from collections import defaultdict\n",
    " \n",
    "def main():\n",
    "    N,M = map(int, input().split())\n",
    "    if M == 0:\n",
    "        if N == 1:\n",
    "            print(\"Yes\")\n",
    "            return\n",
    "        else:\n",
    "            print(\"No\")\n",
    "            return\n",
    "    adj_dict  = defaultdict(list)\n",
    "    for _ in range(M):\n",
    "        u,v = map(int, input().split())\n",
    "        adj_dict[u].append(v)\n",
    "        adj_dict[v].append(u)\n",
    "    hashi_count = 0\n",
    "    key, value = adj_dict.popitem()\n",
    "    seen_node = set(value)\n",
    "    seen_node.add(key)\n",
    "    search_q = deque(value)\n",
    "    if len(value) == 1:\n",
    "        hashi_count += 1\n",
    "    elif len(value) > 2:\n",
    "        print(\"No\")\n",
    "        return\n",
    "    while search_q:\n",
    "        now_node = search_q.pop()\n",
    "        next_nodes = adj_dict[now_node]\n",
    "        if len(next_nodes) == 1:\n",
    "            hashi_count += 1\n",
    "            continue\n",
    "        elif len(next_nodes) == 2:\n",
    "            seen_count = 0\n",
    "            for next_node in next_nodes:\n",
    "                if next_node in seen_node:\n",
    "                    seen_count += 1\n",
    "                else:\n",
    "                    search_q.append(next_node)\n",
    "                    seen_node.add(next_node)\n",
    "            if seen_count >= 2:\n",
    "                print(\"No\")\n",
    "                return\n",
    "        else:\n",
    "            print(\"No\")\n",
    "            return\n",
    "    if hashi_count == 2 and len(seen_node) == N:\n",
    "        print(\"Yes\")\n",
    "    else:\n",
    "        print(\"No\")\n",
    "    \n",
    "if __name__ == \"__main__\":\n",
    "    main()"
   ]
  }
 ],
 "metadata": {
  "kernelspec": {
   "display_name": "Python 3 (ipykernel)",
   "language": "python",
   "name": "python3"
  },
  "language_info": {
   "codemirror_mode": {
    "name": "ipython",
    "version": 3
   },
   "file_extension": ".py",
   "mimetype": "text/x-python",
   "name": "python",
   "nbconvert_exporter": "python",
   "pygments_lexer": "ipython3",
   "version": "3.9.6"
  }
 },
 "nbformat": 4,
 "nbformat_minor": 5
}
