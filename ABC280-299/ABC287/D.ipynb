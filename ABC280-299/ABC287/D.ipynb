{
 "cells": [
  {
   "cell_type": "code",
   "execution_count": 15,
   "id": "0f50410a",
   "metadata": {},
   "outputs": [
    {
     "name": "stdout",
     "output_type": "stream",
     "text": [
      "a?c\n",
      "b?\n",
      "Yes\n",
      "No\n",
      "No\n"
     ]
    }
   ],
   "source": [
    "def main():\n",
    "    S = input()\n",
    "    T = input()\n",
    "    left = 0\n",
    "    right = 0\n",
    "    for s,t in zip(S[:len(T)], T):\n",
    "        if s == t or s == \"?\" or t == \"?\":\n",
    "            left += 1\n",
    "        else:\n",
    "            break\n",
    "    for s,t in zip(reversed(S[len(S)-len(T):]), reversed(T)):\n",
    "        if s == t or s == \"?\" or t == \"?\":\n",
    "            right += 1\n",
    "        else:\n",
    "            break\n",
    "    right = len(T) - right\n",
    "    left_range = set(range(left+1))\n",
    "    right_range = set(range(right, len(T)+1))\n",
    "    ans = left_range & right_range\n",
    "    for i in range(len(T)+1):\n",
    "        if i in ans:\n",
    "            print(\"Yes\")\n",
    "        else:\n",
    "            print(\"No\")\n",
    "    \n",
    "if __name__ == \"__main__\":\n",
    "    main()"
   ]
  },
  {
   "cell_type": "code",
   "execution_count": null,
   "id": "e2540c6c",
   "metadata": {},
   "outputs": [],
   "source": []
  }
 ],
 "metadata": {
  "kernelspec": {
   "display_name": "Python 3 (ipykernel)",
   "language": "python",
   "name": "python3"
  },
  "language_info": {
   "codemirror_mode": {
    "name": "ipython",
    "version": 3
   },
   "file_extension": ".py",
   "mimetype": "text/x-python",
   "name": "python",
   "nbconvert_exporter": "python",
   "pygments_lexer": "ipython3",
   "version": "3.9.6"
  }
 },
 "nbformat": 4,
 "nbformat_minor": 5
}
