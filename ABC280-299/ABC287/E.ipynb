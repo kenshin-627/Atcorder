{
 "cells": [
  {
   "cell_type": "code",
   "execution_count": 10,
   "id": "51eb0a83",
   "metadata": {},
   "outputs": [
    {
     "name": "stdout",
     "output_type": "stream",
     "text": [
      "3\n",
      "abc\n",
      "abb\n",
      "aac\n",
      "2\n",
      "2\n",
      "1\n"
     ]
    }
   ],
   "source": [
    "from collections import defaultdict\n",
    "\n",
    "def main():\n",
    "    N = int(input())\n",
    "    SN = []\n",
    "    for _ in range(N):\n",
    "        SN.append(input())\n",
    "    SN_sorted = sorted(SN)\n",
    "    ans_dict = defaultdict(int)\n",
    "    prev_same = 0\n",
    "    for i in range(N):\n",
    "        if i == N-1:\n",
    "            ans_dict[SN_sorted[i]] = prev_same\n",
    "        else:\n",
    "            ans, prev_same = same_num(prev_same, SN_sorted[i], SN_sorted[i+1])\n",
    "            ans_dict[SN_sorted[i]] = ans\n",
    "    for S in SN:\n",
    "        print(ans_dict[S])\n",
    "\n",
    "def same_num(prev_same, now_str, next_str):\n",
    "    next_same = 0\n",
    "    for i in range(min(len(now_str), len(next_str))):\n",
    "        if now_str[i] == next_str[i]:\n",
    "            next_same += 1\n",
    "        else:\n",
    "            break\n",
    "    return max(prev_same, next_same), next_same\n",
    "    \n",
    "if __name__ == \"__main__\":\n",
    "    main()"
   ]
  },
  {
   "cell_type": "code",
   "execution_count": 5,
   "id": "fbcdcaf2",
   "metadata": {},
   "outputs": [
    {
     "name": "stdout",
     "output_type": "stream",
     "text": [
      "['a', 'aa', 'aaa', 'aab', 'ab', 'ac', 'b', 'bb']\n",
      "['a', 'ab', 'ac', 'aa', 'b', 'aaa', 'aab', 'bb']\n",
      "['a', 'aa', 'aaa', 'aab', 'ab', 'ac', 'b', 'bb']\n"
     ]
    }
   ],
   "source": [
    "a = [\"a\", \"ab\", \"ac\", \"aa\", \"b\", \"aaa\", \"aab\", \"bb\"]\n",
    "print(sorted(a))\n",
    "b = sorted(a)\n",
    "print(a)\n",
    "print(b)"
   ]
  },
  {
   "cell_type": "code",
   "execution_count": null,
   "id": "b1d2abc5",
   "metadata": {},
   "outputs": [],
   "source": []
  }
 ],
 "metadata": {
  "kernelspec": {
   "display_name": "Python 3 (ipykernel)",
   "language": "python",
   "name": "python3"
  },
  "language_info": {
   "codemirror_mode": {
    "name": "ipython",
    "version": 3
   },
   "file_extension": ".py",
   "mimetype": "text/x-python",
   "name": "python",
   "nbconvert_exporter": "python",
   "pygments_lexer": "ipython3",
   "version": "3.9.6"
  }
 },
 "nbformat": 4,
 "nbformat_minor": 5
}
