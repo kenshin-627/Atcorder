{
 "cells": [
  {
   "cell_type": "code",
   "execution_count": 6,
   "id": "3674e72a",
   "metadata": {},
   "outputs": [
    {
     "name": "stdout",
     "output_type": "stream",
     "text": [
      "6 6\n",
      "1 2\n",
      "1 3\n",
      "2 3\n",
      "4 5\n",
      "4 6\n",
      "5 6\n",
      "2\n"
     ]
    }
   ],
   "source": [
    "from collections import deque\n",
    "from collections import defaultdict\n",
    "\n",
    "def main():\n",
    "    N,M = map(int, input().split())\n",
    "    adj_dict = defaultdict(list)\n",
    "    for _ in range(M):\n",
    "        A,B = map(int, input().split())\n",
    "        adj_dict[A].append(B)\n",
    "        adj_dict[B].append(A)\n",
    "    search_q = deque(adj_dict[1])\n",
    "    seen_node = set(search_q)\n",
    "    seen_node.add(1)\n",
    "    adj_dict.pop(1)\n",
    "    ans = 0\n",
    "    while search_q:\n",
    "        now_node = search_q.pop()\n",
    "        next_nodes = adj_dict.pop(now_node)\n",
    "        seen_count = -1\n",
    "        for next_node in next_nodes:\n",
    "            if next_node in seen_node:\n",
    "                seen_count += 1\n",
    "                continue\n",
    "            else:\n",
    "                seen_node.add(next_node)\n",
    "                search_q.append(next_node)\n",
    "        ans += seen_count\n",
    "        if len(search_q) == 0 and len(adj_dict) != 0:\n",
    "            key, value = adj_dict.popitem()\n",
    "            search_q = deque(value)\n",
    "            seen_node = set(search_q)\n",
    "            seen_node.add(key)\n",
    "    print(ans // 2)\n",
    "    \n",
    "if __name__ == \"__main__\":\n",
    "    main()"
   ]
  },
  {
   "cell_type": "code",
   "execution_count": null,
   "id": "1f1863c9",
   "metadata": {},
   "outputs": [],
   "source": []
  }
 ],
 "metadata": {
  "kernelspec": {
   "display_name": "Python 3 (ipykernel)",
   "language": "python",
   "name": "python3"
  },
  "language_info": {
   "codemirror_mode": {
    "name": "ipython",
    "version": 3
   },
   "file_extension": ".py",
   "mimetype": "text/x-python",
   "name": "python",
   "nbconvert_exporter": "python",
   "pygments_lexer": "ipython3",
   "version": "3.9.6"
  }
 },
 "nbformat": 4,
 "nbformat_minor": 5
}
