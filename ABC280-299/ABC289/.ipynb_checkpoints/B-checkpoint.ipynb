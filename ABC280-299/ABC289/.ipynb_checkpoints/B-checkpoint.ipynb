{
 "cells": [
  {
   "cell_type": "code",
   "execution_count": 11,
   "id": "84367ea0",
   "metadata": {},
   "outputs": [
    {
     "name": "stdout",
     "output_type": "stream",
     "text": [
      "10 6\n",
      "1 2 3 7 8 9\n",
      "4 3 2 1 5 6 10 9 8 7\n"
     ]
    }
   ],
   "source": [
    "def main():\n",
    "    N,M = map(int, input().split())\n",
    "    aM = [*map(int, input().split())]\n",
    "    set_aM = set(aM)\n",
    "    renketu = []\n",
    "    i = 1\n",
    "    tmp = []\n",
    "    while i <= N:\n",
    "        if i in set_aM:\n",
    "            tmp.append(str(i))\n",
    "        else:\n",
    "            tmp.append(str(i))\n",
    "            renketu += reversed(tmp)\n",
    "            tmp = []\n",
    "        i += 1\n",
    "    print(\" \".join(renketu))\n",
    "    \n",
    "if __name__ == \"__main__\":\n",
    "    main()"
   ]
  },
  {
   "cell_type": "code",
   "execution_count": null,
   "id": "d14aa4f1",
   "metadata": {},
   "outputs": [],
   "source": []
  }
 ],
 "metadata": {
  "kernelspec": {
   "display_name": "Python 3 (ipykernel)",
   "language": "python",
   "name": "python3"
  },
  "language_info": {
   "codemirror_mode": {
    "name": "ipython",
    "version": 3
   },
   "file_extension": ".py",
   "mimetype": "text/x-python",
   "name": "python",
   "nbconvert_exporter": "python",
   "pygments_lexer": "ipython3",
   "version": "3.9.6"
  }
 },
 "nbformat": 4,
 "nbformat_minor": 5
}
