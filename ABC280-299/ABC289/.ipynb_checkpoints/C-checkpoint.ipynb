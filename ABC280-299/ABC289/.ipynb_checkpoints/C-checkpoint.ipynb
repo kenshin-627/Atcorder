{
 "cells": [
  {
   "cell_type": "code",
   "execution_count": 11,
   "id": "0bf0f27f",
   "metadata": {},
   "outputs": [
    {
     "name": "stdout",
     "output_type": "stream",
     "text": [
      "4 2\n",
      "2\n",
      "1 2\n",
      "2\n",
      "1 3\n",
      "0\n"
     ]
    }
   ],
   "source": [
    "def main():\n",
    "    N,M = map(int, input().split())\n",
    "    perfect_set = set(range(1,N+1))\n",
    "    SM = []\n",
    "    for _ in range(M):\n",
    "        C = int(input())\n",
    "        S = set(map(int, input().split()))\n",
    "        SM.append(S)\n",
    "    ans = 0\n",
    "    for bit in range(1 << M):\n",
    "        combination = set()\n",
    "        for i in range(M):\n",
    "            shift_i = 1 << i\n",
    "            if bit & shift_i > 0:\n",
    "                combination |= SM[i]\n",
    "        if combination == perfect_set:\n",
    "            ans += 1\n",
    "    print(ans)\n",
    "    \n",
    "if __name__ == \"__main__\":\n",
    "    main()"
   ]
  },
  {
   "cell_type": "code",
   "execution_count": null,
   "id": "555dd4a5",
   "metadata": {},
   "outputs": [],
   "source": []
  }
 ],
 "metadata": {
  "kernelspec": {
   "display_name": "Python 3 (ipykernel)",
   "language": "python",
   "name": "python3"
  },
  "language_info": {
   "codemirror_mode": {
    "name": "ipython",
    "version": 3
   },
   "file_extension": ".py",
   "mimetype": "text/x-python",
   "name": "python",
   "nbconvert_exporter": "python",
   "pygments_lexer": "ipython3",
   "version": "3.9.6"
  }
 },
 "nbformat": 4,
 "nbformat_minor": 5
}
