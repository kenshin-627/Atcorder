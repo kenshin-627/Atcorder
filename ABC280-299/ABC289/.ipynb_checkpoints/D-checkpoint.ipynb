{
 "cells": [
  {
   "cell_type": "code",
   "execution_count": 14,
   "id": "b4c11de6",
   "metadata": {},
   "outputs": [
    {
     "name": "stdout",
     "output_type": "stream",
     "text": [
      "4\n",
      "2 3 4 5\n",
      "4\n",
      "3 4 5 6\n",
      "8\n",
      "a\n",
      "No\n"
     ]
    }
   ],
   "source": [
    "def main():\n",
    "    N = int(input())\n",
    "    AN = [*map(int, input().split())]\n",
    "    M = int(input())\n",
    "    BM = set(map(int, input().split()))\n",
    "    X = int(input())\n",
    "    seen_node = set()\n",
    "    can_go = set([0])\n",
    "    for _ in range(X//AN[0]):\n",
    "        tmp = can_go - seen_node\n",
    "        if tmp == set():\n",
    "            break\n",
    "        for can in tmp:\n",
    "            seen_node.add(can)\n",
    "            for A in AN:\n",
    "                next_go = can + A\n",
    "                if next_go > X:\n",
    "                    break\n",
    "                elif next_go in BM:\n",
    "                    continue\n",
    "                else:\n",
    "                    can_go.add(next_go)\n",
    "    if X in can_go:\n",
    "        print(\"Yes\")\n",
    "    else:\n",
    "        print(\"No\")\n",
    "    \n",
    "if __name__ == \"__main__\":\n",
    "    main()"
   ]
  },
  {
   "cell_type": "code",
   "execution_count": 5,
   "id": "42fa2a9a",
   "metadata": {},
   "outputs": [
    {
     "name": "stdout",
     "output_type": "stream",
     "text": [
      "4\n"
     ]
    }
   ],
   "source": [
    "print(9//2)"
   ]
  },
  {
   "cell_type": "code",
   "execution_count": null,
   "id": "6383a338",
   "metadata": {},
   "outputs": [],
   "source": []
  }
 ],
 "metadata": {
  "kernelspec": {
   "display_name": "Python 3 (ipykernel)",
   "language": "python",
   "name": "python3"
  },
  "language_info": {
   "codemirror_mode": {
    "name": "ipython",
    "version": 3
   },
   "file_extension": ".py",
   "mimetype": "text/x-python",
   "name": "python",
   "nbconvert_exporter": "python",
   "pygments_lexer": "ipython3",
   "version": "3.9.6"
  }
 },
 "nbformat": 4,
 "nbformat_minor": 5
}
