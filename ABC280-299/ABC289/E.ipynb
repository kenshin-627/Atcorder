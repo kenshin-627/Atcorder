{
 "cells": [
  {
   "cell_type": "code",
   "execution_count": null,
   "id": "76529fc3",
   "metadata": {},
   "outputs": [],
   "source": [
    "from itertools import product\n",
    "from collections import deque\n",
    "from collections import defaultdict\n",
    "\n",
    "def main():\n",
    "    T = int(input())\n",
    "    for _ in [0]*T:\n",
    "        N,M = map(int,input().split())\n",
    "        C = list(map(int,input().split()))\n",
    "        adj_dict = defaultdict(lambda: defaultdict(list))\n",
    "        for _ in [0]*M:\n",
    "            u,v = map(int,input().split())\n",
    "            adj_dict[u][C[v-1]].append(v)\n",
    "            adj_dict[v][C[u-1]].append(u)\n",
    "        q = deque([(1,N),-1])\n",
    "        visited = [[False]*(N+1) for _ in [0]*(N+1)]\n",
    "        visited[1][N] = True\n",
    "        ans = 0\n",
    "        while q:\n",
    "            if q[0] == -1:\n",
    "                q.popleft()\n",
    "                if q:\n",
    "                    q.append(-1)\n",
    "                ans += 1\n",
    "                continue\n",
    "            u,v = q.popleft()\n",
    "            u0 = adj_dict[u][0]\n",
    "            v0 = adj_dict[v][0]\n",
    "            u1 = adj_dict[u][1]\n",
    "            v1 = adj_dict[v][1]\n",
    "            # uは0に，vは1にいくときの処理\n",
    "            for i,j in product(u0,v1):\n",
    "                if not visited[i][j]:\n",
    "                    visited[i][j] = True\n",
    "                    q.append((i,j))\n",
    "                    if (i,j) == (N,1):\n",
    "                        print(ans+1)\n",
    "                        break\n",
    "            # uは1に，vは0にいくときの処理\n",
    "            for i,j in product(u1,v0):\n",
    "                if not visited[i][j]:\n",
    "                    visited[i][j] = True\n",
    "                    q.append((i,j))\n",
    "                    if (i,j) == (N,1):\n",
    "                        print(ans+1)\n",
    "                        break\n",
    "            if visited[N][1]:\n",
    "                break\n",
    "        else:\n",
    "            print(-1)\n",
    "    \n",
    "if __name__ == \"__main__\":\n",
    "    main()"
   ]
  },
  {
   "cell_type": "code",
   "execution_count": null,
   "id": "f9fa68b0",
   "metadata": {},
   "outputs": [],
   "source": []
  }
 ],
 "metadata": {
  "kernelspec": {
   "display_name": "Python 3 (ipykernel)",
   "language": "python",
   "name": "python3"
  },
  "language_info": {
   "codemirror_mode": {
    "name": "ipython",
    "version": 3
   },
   "file_extension": ".py",
   "mimetype": "text/x-python",
   "name": "python",
   "nbconvert_exporter": "python",
   "pygments_lexer": "ipython3",
   "version": "3.11.1"
  }
 },
 "nbformat": 4,
 "nbformat_minor": 5
}
