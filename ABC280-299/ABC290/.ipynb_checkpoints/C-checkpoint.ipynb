{
 "cells": [
  {
   "cell_type": "code",
   "execution_count": 13,
   "id": "cd43fe6a",
   "metadata": {},
   "outputs": [
    {
     "name": "stdout",
     "output_type": "stream",
     "text": [
      "7 3\n",
      "2\n",
      "0\n"
     ]
    }
   ],
   "source": [
    "from itertools import combinations\n",
    "from itertools import permutations\n",
    "import bisect\n",
    "from collections import Counter\n",
    "from collections import deque\n",
    "from collections import defaultdict\n",
    "\n",
    "def main():\n",
    "    N,K = map(int, input().split())\n",
    "    AN = [*map(int, input().split())]\n",
    "    ans_set = set(range(K))\n",
    "    for A in AN:\n",
    "        if A in ans_set:\n",
    "            ans_set.remove(A)\n",
    "    if len(ans_set) == 0:\n",
    "        print(K)\n",
    "    else:\n",
    "        print(min(ans_set))\n",
    "    \n",
    "if __name__ == \"__main__\":\n",
    "    main()"
   ]
  },
  {
   "cell_type": "code",
   "execution_count": 8,
   "id": "4e1baa08",
   "metadata": {},
   "outputs": [],
   "source": [
    "ans_set = set(range(3*10**5))"
   ]
  },
  {
   "cell_type": "code",
   "execution_count": null,
   "id": "998057bb",
   "metadata": {},
   "outputs": [],
   "source": []
  }
 ],
 "metadata": {
  "kernelspec": {
   "display_name": "Python 3 (ipykernel)",
   "language": "python",
   "name": "python3"
  },
  "language_info": {
   "codemirror_mode": {
    "name": "ipython",
    "version": 3
   },
   "file_extension": ".py",
   "mimetype": "text/x-python",
   "name": "python",
   "nbconvert_exporter": "python",
   "pygments_lexer": "ipython3",
   "version": "3.9.6"
  }
 },
 "nbformat": 4,
 "nbformat_minor": 5
}
