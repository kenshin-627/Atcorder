{
 "cells": [
  {
   "cell_type": "code",
   "execution_count": 8,
   "id": "245ac86d",
   "metadata": {},
   "outputs": [
    {
     "name": "stdout",
     "output_type": "stream",
     "text": [
      "9\n",
      "4 2 1\n",
      "0\n",
      "4 2 2\n",
      "2\n",
      "4 2 3\n",
      "1\n",
      "4 2 4\n",
      "3\n",
      "5 8 1\n",
      "0\n",
      "5 8 2\n",
      "3\n",
      "5 8 3\n",
      "1\n",
      "5 8 4\n",
      "4\n",
      "5 8 5\n",
      "2\n"
     ]
    }
   ],
   "source": [
    "import math\n",
    "\n",
    "def main():\n",
    "    T = int(input())\n",
    "    for _ in range(T):\n",
    "        N,D,K = map(int, input().split())\n",
    "        gcd = math.gcd(N,D)\n",
    "        if gcd == 1:\n",
    "            print(int(D*(K-1) % N))\n",
    "        else:\n",
    "            print(int(D*(K-1) % N + ((K-1) // (N/gcd))))\n",
    "    \n",
    "if __name__ == \"__main__\":\n",
    "    main()"
   ]
  }
 ],
 "metadata": {
  "kernelspec": {
   "display_name": "Python 3 (ipykernel)",
   "language": "python",
   "name": "python3"
  },
  "language_info": {
   "codemirror_mode": {
    "name": "ipython",
    "version": 3
   },
   "file_extension": ".py",
   "mimetype": "text/x-python",
   "name": "python",
   "nbconvert_exporter": "python",
   "pygments_lexer": "ipython3",
   "version": "3.9.6"
  }
 },
 "nbformat": 4,
 "nbformat_minor": 5
}
