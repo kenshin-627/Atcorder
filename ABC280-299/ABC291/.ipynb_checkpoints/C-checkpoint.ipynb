{
 "cells": [
  {
   "cell_type": "code",
   "execution_count": 9,
   "id": "a0714d0c",
   "metadata": {},
   "outputs": [
    {
     "name": "stdout",
     "output_type": "stream",
     "text": [
      "20\n",
      "URDDLLUUURRRDDDDLLLL\n",
      "No\n"
     ]
    }
   ],
   "source": [
    "def main():\n",
    "    N = int(input())\n",
    "    S = input()\n",
    "    now = (0,0)\n",
    "    seen_node = set([now])\n",
    "    for s in S:\n",
    "        if s == \"R\":\n",
    "            now = (now[0]+1, now[1])\n",
    "        elif s == \"L\":\n",
    "            now = (now[0]-1, now[1])\n",
    "        elif s == \"U\":\n",
    "            now = (now[0], now[1]+1)\n",
    "        else:\n",
    "            now = (now[0], now[1]-1)\n",
    "        if now in seen_node:\n",
    "            print(\"Yes\")\n",
    "            break\n",
    "        else:\n",
    "            seen_node.add(now)\n",
    "    else:\n",
    "        print(\"No\")\n",
    "    \n",
    "if __name__ == \"__main__\":\n",
    "    main()"
   ]
  },
  {
   "cell_type": "code",
   "execution_count": null,
   "id": "9b1a379d",
   "metadata": {},
   "outputs": [],
   "source": []
  }
 ],
 "metadata": {
  "kernelspec": {
   "display_name": "Python 3 (ipykernel)",
   "language": "python",
   "name": "python3"
  },
  "language_info": {
   "codemirror_mode": {
    "name": "ipython",
    "version": 3
   },
   "file_extension": ".py",
   "mimetype": "text/x-python",
   "name": "python",
   "nbconvert_exporter": "python",
   "pygments_lexer": "ipython3",
   "version": "3.9.6"
  }
 },
 "nbformat": 4,
 "nbformat_minor": 5
}
