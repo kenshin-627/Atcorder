{
 "cells": [
  {
   "cell_type": "code",
   "execution_count": 1,
   "id": "17c8bbe5",
   "metadata": {},
   "outputs": [
    {
     "name": "stdout",
     "output_type": "stream",
     "text": [
      "4\n",
      "1 5\n",
      "2 6\n",
      "3 7\n",
      "4 8\n",
      "16\n"
     ]
    }
   ],
   "source": [
    "from itertools import combinations\n",
    "from itertools import permutations\n",
    "import bisect\n",
    "from collections import Counter\n",
    "from collections import deque\n",
    "from collections import defaultdict\n",
    "\n",
    "def main():\n",
    "    N = int(input())\n",
    "    mod = 998244353\n",
    "    before_a = 0\n",
    "    before_b = 0\n",
    "    count_a = 1\n",
    "    count_b = 1\n",
    "    for i in range(N):\n",
    "        next_a, next_b = map(int, input().split())\n",
    "        if i == 0:\n",
    "            before_a, before_b = next_a, next_b\n",
    "            continue\n",
    "        new_count_a, new_count_b = 0,0\n",
    "        if next_a != before_a:\n",
    "            new_count_a += count_a\n",
    "        if next_a != before_b:\n",
    "            new_count_a += count_b\n",
    "        if next_b != before_a:\n",
    "            new_count_b += count_a\n",
    "        if next_b != before_b:\n",
    "            new_count_b += count_b\n",
    "        count_a, count_b = new_count_a, new_count_b\n",
    "        before_a, before_b = next_a, next_b\n",
    "    print((count_a+count_b)%mod)\n",
    "    \n",
    "if __name__ == \"__main__\":\n",
    "    main()"
   ]
  }
 ],
 "metadata": {
  "kernelspec": {
   "display_name": "Python 3 (ipykernel)",
   "language": "python",
   "name": "python3"
  },
  "language_info": {
   "codemirror_mode": {
    "name": "ipython",
    "version": 3
   },
   "file_extension": ".py",
   "mimetype": "text/x-python",
   "name": "python",
   "nbconvert_exporter": "python",
   "pygments_lexer": "ipython3",
   "version": "3.9.6"
  }
 },
 "nbformat": 4,
 "nbformat_minor": 5
}
