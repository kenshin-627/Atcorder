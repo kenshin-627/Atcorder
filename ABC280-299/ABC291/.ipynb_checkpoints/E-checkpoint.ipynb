{
 "cells": [
  {
   "cell_type": "code",
   "execution_count": 31,
   "id": "529866e3",
   "metadata": {},
   "outputs": [
    {
     "name": "stdout",
     "output_type": "stream",
     "text": [
      "4 6\n",
      "1 2\n",
      "1 2\n",
      "2 3\n",
      "2 3\n",
      "3 4\n",
      "3 4\n",
      "Yes\n",
      "1 2 3 4\n"
     ]
    }
   ],
   "source": [
    "from collections import deque\n",
    "from collections import defaultdict\n",
    "\n",
    "def main():\n",
    "    N, M = map(int, input().split())\n",
    "    adj_dict = defaultdict(list)\n",
    "    into_num_dict = defaultdict(int)\n",
    "    next_set = set()\n",
    "    perfect_set = set(range(1,N+1))\n",
    "    for _ in range(M):\n",
    "        X, Y = map(int, input().split())\n",
    "        adj_dict[X].append(Y)\n",
    "        into_num_dict[Y] += 1\n",
    "        next_set.add(Y)\n",
    "    first_set = perfect_set - next_set\n",
    "    first = first_set.pop()\n",
    "    index_list = topological_sort(N, adj_dict, into_num_dict, [first])\n",
    "    if len(index_list) == N:\n",
    "        print(\"Yes\")\n",
    "        ans = [\"\"] * N\n",
    "        for i, index in enumerate(index_list):\n",
    "            ans[index - 1] = str(i + 1)\n",
    "        print(\" \".join(ans))\n",
    "    else:\n",
    "        print(\"No\")\n",
    "\n",
    "# トポロジカルソート\n",
    "# N: ノード数\n",
    "# adj_dict: 隣接辞書\n",
    "# into_num_dict: 入次数辞書 (例:1→2, 1→3, 2→3の有向辺があったら{1:0, 2:1, 3:2})\n",
    "# start_nodes: 入次数が0のノード集合\n",
    "def topological_sort(N, adj_dict, into_num_dict, start_nodes):\n",
    "    q = deque(start_nodes)\n",
    "    ans = []\n",
    "    while q:\n",
    "        now_node = q.popleft()\n",
    "        ans.append(now_node)\n",
    "        count = 0\n",
    "        for next_node in adj_dict[now_node]:\n",
    "            into_num_dict[next_node] -= 1\n",
    "            if into_num_dict[next_node] == 0:\n",
    "                count += 1\n",
    "                q.append(next_node)\n",
    "        if count != 1 and len(ans) != N:\n",
    "            return []\n",
    "    return ans\n",
    "    \n",
    "if __name__ == \"__main__\":\n",
    "    main()"
   ]
  },
  {
   "cell_type": "code",
   "execution_count": null,
   "id": "3bbddbed",
   "metadata": {},
   "outputs": [],
   "source": []
  }
 ],
 "metadata": {
  "kernelspec": {
   "display_name": "Python 3 (ipykernel)",
   "language": "python",
   "name": "python3"
  },
  "language_info": {
   "codemirror_mode": {
    "name": "ipython",
    "version": 3
   },
   "file_extension": ".py",
   "mimetype": "text/x-python",
   "name": "python",
   "nbconvert_exporter": "python",
   "pygments_lexer": "ipython3",
   "version": "3.9.6"
  }
 },
 "nbformat": 4,
 "nbformat_minor": 5
}
