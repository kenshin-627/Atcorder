{
 "cells": [
  {
   "cell_type": "code",
   "execution_count": 1,
   "id": "a6d96ece",
   "metadata": {},
   "outputs": [
    {
     "name": "stdout",
     "output_type": "stream",
     "text": [
      "aBc\n",
      "2\n"
     ]
    }
   ],
   "source": [
    "def main():\n",
    "    S = input()\n",
    "    count = 1\n",
    "    oomozi = 'ABCDEFGHIJKLMNOPQRSTUVWXYZ'\n",
    "    for s in S:\n",
    "        if s in oomozi:\n",
    "            break\n",
    "        else:\n",
    "            count += 1\n",
    "    print(count)\n",
    "    \n",
    "if __name__ == \"__main__\":\n",
    "    main()"
   ]
  },
  {
   "cell_type": "code",
   "execution_count": null,
   "id": "7e22df75",
   "metadata": {},
   "outputs": [],
   "source": []
  }
 ],
 "metadata": {
  "kernelspec": {
   "display_name": "Python 3 (ipykernel)",
   "language": "python",
   "name": "python3"
  },
  "language_info": {
   "codemirror_mode": {
    "name": "ipython",
    "version": 3
   },
   "file_extension": ".py",
   "mimetype": "text/x-python",
   "name": "python",
   "nbconvert_exporter": "python",
   "pygments_lexer": "ipython3",
   "version": "3.9.6"
  }
 },
 "nbformat": 4,
 "nbformat_minor": 5
}
