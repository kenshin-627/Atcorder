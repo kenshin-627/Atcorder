{
 "cells": [
  {
   "cell_type": "code",
   "execution_count": 1,
   "id": "69951172",
   "metadata": {},
   "outputs": [
    {
     "name": "stdout",
     "output_type": "stream",
     "text": [
      "3 9\n",
      "3 1\n",
      "No\n",
      "3 2\n",
      "No\n",
      "1 2\n",
      "2 1\n",
      "3 1\n",
      "Yes\n",
      "3 2\n",
      "No\n",
      "1 2\n",
      "3 2\n",
      "Yes\n",
      "3 3\n",
      "No\n"
     ]
    }
   ],
   "source": [
    "from collections import defaultdict\n",
    "\n",
    "def main():\n",
    "    N, Q = map(int, input().split())\n",
    "    card_num = defaultdict(int)\n",
    "    for _ in range(Q):\n",
    "        num, x = input().split()\n",
    "        if num == \"1\":\n",
    "            card_num[x] += 1\n",
    "        elif num == \"2\":\n",
    "            card_num[x] += 2\n",
    "        else:\n",
    "            if card_num[x] >= 2:\n",
    "                print(\"Yes\")\n",
    "            else:\n",
    "                print(\"No\")\n",
    "    \n",
    "if __name__ == \"__main__\":\n",
    "    main()"
   ]
  },
  {
   "cell_type": "code",
   "execution_count": null,
   "id": "16f6e7c3",
   "metadata": {},
   "outputs": [],
   "source": []
  }
 ],
 "metadata": {
  "kernelspec": {
   "display_name": "Python 3 (ipykernel)",
   "language": "python",
   "name": "python3"
  },
  "language_info": {
   "codemirror_mode": {
    "name": "ipython",
    "version": 3
   },
   "file_extension": ".py",
   "mimetype": "text/x-python",
   "name": "python",
   "nbconvert_exporter": "python",
   "pygments_lexer": "ipython3",
   "version": "3.9.6"
  }
 },
 "nbformat": 4,
 "nbformat_minor": 5
}
