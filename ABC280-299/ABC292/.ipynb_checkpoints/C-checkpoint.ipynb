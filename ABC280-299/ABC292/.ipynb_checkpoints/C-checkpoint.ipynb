{
 "cells": [
  {
   "cell_type": "code",
   "execution_count": 1,
   "id": "8363edee",
   "metadata": {},
   "outputs": [
    {
     "name": "stdout",
     "output_type": "stream",
     "text": [
      "19876\n",
      "2219958\n"
     ]
    }
   ],
   "source": [
    "import math\n",
    "\n",
    "def main():\n",
    "    N = int(input())\n",
    "    ans = 0\n",
    "    for i in range(1, N//2+1):\n",
    "        if i == N/2:\n",
    "            # A*B=N//2 になる組み合わせの二乗\n",
    "            ab = 0\n",
    "            for a in range(1,int(math.sqrt(i))+1):\n",
    "                if i % a == 0:\n",
    "                    if a == math.sqrt(i):\n",
    "                        ab += 1\n",
    "                    else:\n",
    "                        ab += 2\n",
    "            ans += ab**2\n",
    "            break\n",
    "        # A*B=iになる組み合わせ * C*D=N-iになる組み合わせ * 2\n",
    "        ab = 0\n",
    "        cd = 0\n",
    "        for a in range(1,int(math.sqrt(i))+1):\n",
    "            if i % a == 0:\n",
    "                if a == math.sqrt(i):\n",
    "                    ab += 1\n",
    "                else:\n",
    "                    ab += 2\n",
    "        for c in range(1, int(math.sqrt(N-i))+1):\n",
    "            if (N-i) % c == 0:\n",
    "                if c == math.sqrt(N-i):\n",
    "                    cd += 1\n",
    "                else:\n",
    "                    cd += 2\n",
    "        ans += ab*cd*2\n",
    "    print(ans)\n",
    "    \n",
    "if __name__ == \"__main__\":\n",
    "    main()"
   ]
  },
  {
   "cell_type": "code",
   "execution_count": null,
   "id": "158a53d8",
   "metadata": {},
   "outputs": [],
   "source": []
  }
 ],
 "metadata": {
  "kernelspec": {
   "display_name": "Python 3 (ipykernel)",
   "language": "python",
   "name": "python3"
  },
  "language_info": {
   "codemirror_mode": {
    "name": "ipython",
    "version": 3
   },
   "file_extension": ".py",
   "mimetype": "text/x-python",
   "name": "python",
   "nbconvert_exporter": "python",
   "pygments_lexer": "ipython3",
   "version": "3.9.6"
  }
 },
 "nbformat": 4,
 "nbformat_minor": 5
}
