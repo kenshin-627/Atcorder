{
 "cells": [
  {
   "cell_type": "code",
   "execution_count": 36,
   "id": "eae917c6",
   "metadata": {},
   "outputs": [
    {
     "name": "stdout",
     "output_type": "stream",
     "text": [
      "5 8\n",
      "1 2\n",
      "2 1\n",
      "1 3\n",
      "3 1\n",
      "1 4\n",
      "4 1\n",
      "1 5\n",
      "5 1\n",
      "12\n"
     ]
    }
   ],
   "source": [
    "from collections import deque\n",
    "from collections import defaultdict\n",
    "\n",
    "def main():\n",
    "    N,M = map(int, input().split())\n",
    "    adj_dict = defaultdict(set)\n",
    "    for _ in range(M):\n",
    "        u,v = map(int, input().split())\n",
    "        adj_dict[u].add(v)\n",
    "    ans = 0\n",
    "    for first_node in [*adj_dict.keys()]:\n",
    "        q = deque([first_node])\n",
    "        seen_node = set(q)\n",
    "        while q:\n",
    "            now_node = q.pop()\n",
    "            for next_node in adj_dict[now_node]:\n",
    "                if next_node in seen_node:\n",
    "                    continue\n",
    "                seen_node.add(next_node)\n",
    "                q.append(next_node)\n",
    "                ans += 1\n",
    "    print(ans - M)\n",
    "    \n",
    "if __name__ == \"__main__\":\n",
    "    main()"
   ]
  },
  {
   "cell_type": "code",
   "execution_count": null,
   "id": "89fe533a",
   "metadata": {},
   "outputs": [],
   "source": []
  }
 ],
 "metadata": {
  "kernelspec": {
   "display_name": "Python 3 (ipykernel)",
   "language": "python",
   "name": "python3"
  },
  "language_info": {
   "codemirror_mode": {
    "name": "ipython",
    "version": 3
   },
   "file_extension": ".py",
   "mimetype": "text/x-python",
   "name": "python",
   "nbconvert_exporter": "python",
   "pygments_lexer": "ipython3",
   "version": "3.9.6"
  }
 },
 "nbformat": 4,
 "nbformat_minor": 5
}
