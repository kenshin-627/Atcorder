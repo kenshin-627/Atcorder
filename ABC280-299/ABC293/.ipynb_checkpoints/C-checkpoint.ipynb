{
 "cells": [
  {
   "cell_type": "code",
   "execution_count": 23,
   "id": "00da5756",
   "metadata": {},
   "outputs": [
    {
     "name": "stdout",
     "output_type": "stream",
     "text": [
      "3 3\n",
      "3 2 2\n",
      "2 1 3\n",
      "1 5 4\n",
      "{1, 2, 3, 4, 5}\n",
      "{1, 2, 3, 4, 5}\n",
      "{1, 2, 3, 4, 5}\n",
      "3\n"
     ]
    }
   ],
   "source": [
    "from itertools import combinations\n",
    "\n",
    "def main():\n",
    "    H, W = map(int, input().split())\n",
    "    A = [[*map(int, input().split())] for _ in range(H)]\n",
    "    ans = 0\n",
    "    for h in combinations(range(H+W-2),H-1):\n",
    "        seen_set = set([A[0][0]])\n",
    "        y = 0\n",
    "        x = 0\n",
    "        for i in range(H+W-2):\n",
    "            if i in h:\n",
    "                # 縦に進む\n",
    "                next_node = A[y+1][x]\n",
    "                if next_node in seen_set:\n",
    "                    break\n",
    "                seen_set.add(next_node)\n",
    "                y += 1\n",
    "            else:\n",
    "                # 横に進む\n",
    "                next_node = A[y][x+1]\n",
    "                if next_node in seen_set:\n",
    "                    break\n",
    "                seen_set.add(next_node)\n",
    "                x += 1\n",
    "        else:\n",
    "            ans += 1\n",
    "    print(ans)\n",
    "    \n",
    "if __name__ == \"__main__\":\n",
    "    main()"
   ]
  },
  {
   "cell_type": "code",
   "execution_count": null,
   "id": "443a6a3d",
   "metadata": {},
   "outputs": [],
   "source": []
  }
 ],
 "metadata": {
  "kernelspec": {
   "display_name": "Python 3 (ipykernel)",
   "language": "python",
   "name": "python3"
  },
  "language_info": {
   "codemirror_mode": {
    "name": "ipython",
    "version": 3
   },
   "file_extension": ".py",
   "mimetype": "text/x-python",
   "name": "python",
   "nbconvert_exporter": "python",
   "pygments_lexer": "ipython3",
   "version": "3.9.6"
  }
 },
 "nbformat": 4,
 "nbformat_minor": 5
}
