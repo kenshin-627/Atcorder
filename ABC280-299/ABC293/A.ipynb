{
 "cells": [
  {
   "cell_type": "code",
   "execution_count": 2,
   "id": "593c9ad9",
   "metadata": {},
   "outputs": [
    {
     "name": "stdout",
     "output_type": "stream",
     "text": [
      "abcdef\n",
      "badcfe\n"
     ]
    }
   ],
   "source": [
    "def main():\n",
    "    S = input()\n",
    "    ans = str()\n",
    "    tmp = []\n",
    "    for i, s in enumerate(S):\n",
    "        if i % 2 == 0:\n",
    "            tmp = [s]\n",
    "        else:\n",
    "            tmp.append(s)\n",
    "            ans += \"\".join(reversed(tmp))\n",
    "    print(ans)\n",
    "    \n",
    "if __name__ == \"__main__\":\n",
    "    main()"
   ]
  },
  {
   "cell_type": "code",
   "execution_count": null,
   "id": "658a699c",
   "metadata": {},
   "outputs": [],
   "source": []
  }
 ],
 "metadata": {
  "kernelspec": {
   "display_name": "Python 3 (ipykernel)",
   "language": "python",
   "name": "python3"
  },
  "language_info": {
   "codemirror_mode": {
    "name": "ipython",
    "version": 3
   },
   "file_extension": ".py",
   "mimetype": "text/x-python",
   "name": "python",
   "nbconvert_exporter": "python",
   "pygments_lexer": "ipython3",
   "version": "3.9.6"
  }
 },
 "nbformat": 4,
 "nbformat_minor": 5
}
