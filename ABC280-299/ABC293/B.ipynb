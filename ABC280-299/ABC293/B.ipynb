{
 "cells": [
  {
   "cell_type": "code",
   "execution_count": 5,
   "id": "049a589e",
   "metadata": {},
   "outputs": [
    {
     "name": "stdout",
     "output_type": "stream",
     "text": [
      "20\n",
      "9 7 19 7 10 4 13 9 4 8 10 15 16 3 18 19 12 13 2 12\n",
      "10\n",
      "1 2 5 6 8 11 14 17 18 20\n"
     ]
    }
   ],
   "source": [
    "def main():\n",
    "    N = int(input())\n",
    "    AN = [*map(int, input().split())]\n",
    "    called_set = set()\n",
    "    for i, A in enumerate(AN):\n",
    "        if i+1 not in called_set:\n",
    "            called_set.add(A)\n",
    "    ans_set = set(range(1, N+1)) - called_set\n",
    "    print(len(ans_set))\n",
    "    print(\" \".join(map(str, sorted([*ans_set]))))\n",
    "    \n",
    "if __name__ == \"__main__\":\n",
    "    main()"
   ]
  },
  {
   "cell_type": "code",
   "execution_count": null,
   "id": "8861f8b7",
   "metadata": {},
   "outputs": [],
   "source": []
  }
 ],
 "metadata": {
  "kernelspec": {
   "display_name": "Python 3 (ipykernel)",
   "language": "python",
   "name": "python3"
  },
  "language_info": {
   "codemirror_mode": {
    "name": "ipython",
    "version": 3
   },
   "file_extension": ".py",
   "mimetype": "text/x-python",
   "name": "python",
   "nbconvert_exporter": "python",
   "pygments_lexer": "ipython3",
   "version": "3.9.6"
  }
 },
 "nbformat": 4,
 "nbformat_minor": 5
}
