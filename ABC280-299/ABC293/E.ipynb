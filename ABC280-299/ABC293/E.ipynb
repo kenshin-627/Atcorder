{
 "cells": [
  {
   "cell_type": "code",
   "execution_count": null,
   "id": "2e65313f",
   "metadata": {},
   "outputs": [
    {
     "name": "stdout",
     "output_type": "stream",
     "text": [
      "1000000000 1000000000000 998244353\n"
     ]
    }
   ],
   "source": [
    "from itertools import combinations\n",
    "from itertools import permutations\n",
    "import bisect\n",
    "from collections import Counter\n",
    "from collections import deque\n",
    "from collections import defaultdict\n",
    "\n",
    "def main():\n",
    "    A,X,M = map(int, input().split())\n",
    "    ans = (1-pow(A,X,M))%M\n",
    "    \n",
    "if __name__ == \"__main__\":\n",
    "    main()"
   ]
  },
  {
   "cell_type": "code",
   "execution_count": 18,
   "id": "a187bc57",
   "metadata": {},
   "outputs": [
    {
     "ename": "SyntaxError",
     "evalue": "invalid syntax (88762713.py, line 1)",
     "output_type": "error",
     "traceback": [
      "\u001b[0;36m  Cell \u001b[0;32mIn[18], line 1\u001b[0;36m\u001b[0m\n\u001b[0;31m    3 4 7\u001b[0m\n\u001b[0m      ^\u001b[0m\n\u001b[0;31mSyntaxError\u001b[0m\u001b[0;31m:\u001b[0m invalid syntax\n"
     ]
    }
   ],
   "source": [
    "3 15 7\n",
    "1 3 2 6 4 5 1\n",
    "1 4 6 5 2 0 1\n",
    "#1000000000000 個目は多分5\n",
    "\n",
    "1 3 9 27\n",
    "1 3 2 6\n",
    "\n",
    "8 10 9\n",
    "1 8 1 8 1 8 1 8 1 8\n",
    "1 0 1 0 1 0 1 0 1 0"
   ]
  },
  {
   "cell_type": "code",
   "execution_count": 9,
   "id": "7a7d67fe",
   "metadata": {
    "scrolled": true
   },
   "outputs": [
    {
     "name": "stdout",
     "output_type": "stream",
     "text": [
      "8 10 9\n",
      "0\n"
     ]
    }
   ],
   "source": [
    "# from itertools import combinations\n",
    "# from itertools import permutations\n",
    "# import bisect\n",
    "# from collections import Counter\n",
    "# from collections import deque\n",
    "# from collections import defaultdict\n",
    "from functools import lru_cache\n",
    "\n",
    "def main():\n",
    "    A,X,M = map(int, input().split())\n",
    "    ans = 0\n",
    "    keisuu = 1\n",
    "    for i in range(len(bin(X))-3, -1, -1):\n",
    "        if 1 << i & X:\n",
    "            ans = (ans + keisuu * Sn(A, 1<<i, M)) % M\n",
    "            keisuu *= pow_memo(A, 1<<i)\n",
    "    print(ans)\n",
    "    \n",
    "@lru_cache\n",
    "def pow_memo(A, X):\n",
    "    if X == 1:\n",
    "        return A\n",
    "    else:\n",
    "        return pow_memo(A, X//2) ** 2\n",
    "\n",
    "@lru_cache\n",
    "def Sn(A, X, M):\n",
    "    if X == 1:\n",
    "        return 1\n",
    "    else:\n",
    "        return (((pow(A, X//2, M)+1) % M) * Sn(A, X//2, M)) % M\n",
    "    \n",
    "if __name__ == \"__main__\":\n",
    "    main()"
   ]
  },
  {
   "cell_type": "code",
   "execution_count": 5,
   "id": "53101474",
   "metadata": {},
   "outputs": [
    {
     "name": "stdout",
     "output_type": "stream",
     "text": [
      "0b1110100011010100101001010001000000000000\n"
     ]
    }
   ],
   "source": [
    "print(bin(1000000000000))"
   ]
  },
  {
   "cell_type": "code",
   "execution_count": null,
   "id": "86747fb3",
   "metadata": {},
   "outputs": [],
   "source": []
  }
 ],
 "metadata": {
  "kernelspec": {
   "display_name": "Python 3 (ipykernel)",
   "language": "python",
   "name": "python3"
  },
  "language_info": {
   "codemirror_mode": {
    "name": "ipython",
    "version": 3
   },
   "file_extension": ".py",
   "mimetype": "text/x-python",
   "name": "python",
   "nbconvert_exporter": "python",
   "pygments_lexer": "ipython3",
   "version": "3.9.6"
  }
 },
 "nbformat": 4,
 "nbformat_minor": 5
}
