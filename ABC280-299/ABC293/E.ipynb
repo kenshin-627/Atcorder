{
 "cells": [
  {
   "cell_type": "code",
   "execution_count": 3,
   "id": "7a7d67fe",
   "metadata": {
    "scrolled": true
   },
   "outputs": [
    {
     "name": "stdout",
     "output_type": "stream",
     "text": [
      "1000000000 1000000000000 998244353\n",
      "919667211\n"
     ]
    }
   ],
   "source": [
    "from functools import lru_cache\n",
    "\n",
    "def main():\n",
    "    A,X,M = map(int, input().split())\n",
    "    ans = 0\n",
    "    keisuu = 1\n",
    "    for i in range(len(bin(X))-3, -1, -1):\n",
    "        if 1 << i & X:\n",
    "            ans = (ans + keisuu * Sn(A, 1<<i, M)) % M\n",
    "            keisuu *= pow_memo(A, 1<<i, M)\n",
    "    print(ans)\n",
    "    \n",
    "@lru_cache\n",
    "def pow_memo(A, X, M):\n",
    "    if X == 1:\n",
    "        return A\n",
    "    else:\n",
    "        return pow_memo(A, X//2, M) ** 2 % M\n",
    "\n",
    "@lru_cache\n",
    "def Sn(A, X, M):\n",
    "    if X == 1:\n",
    "        return 1\n",
    "    else:\n",
    "        return (((pow(A, X//2, M)+1) % M) * Sn(A, X//2, M)) % M\n",
    "    \n",
    "if __name__ == \"__main__\":\n",
    "    main()"
   ]
  }
 ],
 "metadata": {
  "kernelspec": {
   "display_name": "Python 3 (ipykernel)",
   "language": "python",
   "name": "python3"
  },
  "language_info": {
   "codemirror_mode": {
    "name": "ipython",
    "version": 3
   },
   "file_extension": ".py",
   "mimetype": "text/x-python",
   "name": "python",
   "nbconvert_exporter": "python",
   "pygments_lexer": "ipython3",
   "version": "3.9.6"
  }
 },
 "nbformat": 4,
 "nbformat_minor": 5
}
