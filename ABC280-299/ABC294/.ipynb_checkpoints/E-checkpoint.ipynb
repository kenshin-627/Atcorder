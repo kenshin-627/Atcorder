{
 "cells": [
  {
   "cell_type": "code",
   "execution_count": 4,
   "id": "e831c8a1",
   "metadata": {},
   "outputs": [
    {
     "name": "stdout",
     "output_type": "stream",
     "text": [
      "1000 4 7\n",
      "19 79\n",
      "33 463\n",
      "19 178\n",
      "33 280\n",
      "19 255\n",
      "33 92\n",
      "34 25\n",
      "19 96\n",
      "12 11\n",
      "19 490\n",
      "33 31\n",
      "380\n"
     ]
    }
   ],
   "source": [
    "from collections import deque\n",
    "\n",
    "def main():\n",
    "    L,N1,N2 = map(int, input().split())\n",
    "    N1_q = deque()\n",
    "    N2_q = deque()\n",
    "    for _ in range(N1):\n",
    "        v,l = map(int, input().split())\n",
    "        N1_q.append((v,l))\n",
    "    for _ in range(N2):\n",
    "        v,l = map(int, input().split())\n",
    "        N2_q.append((v,l))\n",
    "    ans = 0\n",
    "    while N1_q or N2_q:\n",
    "        N1_v, N1_l = N1_q.popleft()\n",
    "        N2_v, N2_l = N2_q.popleft()\n",
    "        if N1_l > N2_l:\n",
    "            N1_q.appendleft((N1_v, N1_l-N2_l))\n",
    "            N1_l = N2_l\n",
    "        elif N1_l < N2_l:\n",
    "            N2_q.appendleft((N2_v, N2_l-N1_l))\n",
    "            N2_l = N1_l\n",
    "        if N1_v == N2_v:\n",
    "            ans += N1_l\n",
    "    print(ans)\n",
    "    \n",
    "if __name__ == \"__main__\":\n",
    "    main()"
   ]
  },
  {
   "cell_type": "code",
   "execution_count": null,
   "id": "2ec203af",
   "metadata": {},
   "outputs": [],
   "source": []
  }
 ],
 "metadata": {
  "kernelspec": {
   "display_name": "Python 3 (ipykernel)",
   "language": "python",
   "name": "python3"
  },
  "language_info": {
   "codemirror_mode": {
    "name": "ipython",
    "version": 3
   },
   "file_extension": ".py",
   "mimetype": "text/x-python",
   "name": "python",
   "nbconvert_exporter": "python",
   "pygments_lexer": "ipython3",
   "version": "3.9.6"
  }
 },
 "nbformat": 4,
 "nbformat_minor": 5
}
