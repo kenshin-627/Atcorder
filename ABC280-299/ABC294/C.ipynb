{
 "cells": [
  {
   "cell_type": "code",
   "execution_count": 3,
   "id": "64ce2547",
   "metadata": {},
   "outputs": [
    {
     "name": "stdout",
     "output_type": "stream",
     "text": [
      "4 3\n",
      "3 14 15 92\n",
      "6 53 58\n",
      "1 3 4 7\n",
      "2 5 6\n"
     ]
    }
   ],
   "source": [
    "from collections import deque\n",
    "\n",
    "def main():\n",
    "    N,M = map(int, input().split())\n",
    "    AN = deque(map(int, input().split()))\n",
    "    AN.append(10**10)\n",
    "    BN = deque(map(int, input().split()))\n",
    "    BN.append(10**10)\n",
    "    now_a = AN.popleft()\n",
    "    now_b = BN.popleft()\n",
    "    ans_a = []\n",
    "    ans_b = []\n",
    "    i = 0\n",
    "    while True:\n",
    "        i += 1\n",
    "        if now_a < now_b:\n",
    "            ans_a.append(str(i))\n",
    "            now_a = AN.popleft()\n",
    "        elif now_b < now_a:\n",
    "            ans_b.append(str(i))\n",
    "            now_b = BN.popleft()\n",
    "        else:\n",
    "            break\n",
    "    print(\" \".join(ans_a))\n",
    "    print(\" \".join(ans_b))\n",
    "    \n",
    "if __name__ == \"__main__\":\n",
    "    main()"
   ]
  },
  {
   "cell_type": "code",
   "execution_count": null,
   "id": "d4df6741",
   "metadata": {},
   "outputs": [],
   "source": []
  }
 ],
 "metadata": {
  "kernelspec": {
   "display_name": "Python 3 (ipykernel)",
   "language": "python",
   "name": "python3"
  },
  "language_info": {
   "codemirror_mode": {
    "name": "ipython",
    "version": 3
   },
   "file_extension": ".py",
   "mimetype": "text/x-python",
   "name": "python",
   "nbconvert_exporter": "python",
   "pygments_lexer": "ipython3",
   "version": "3.9.6"
  }
 },
 "nbformat": 4,
 "nbformat_minor": 5
}
