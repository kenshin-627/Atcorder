{
 "cells": [
  {
   "cell_type": "code",
   "execution_count": 21,
   "id": "259ddc70",
   "metadata": {},
   "outputs": [
    {
     "name": "stdout",
     "output_type": "stream",
     "text": [
      "4 10\n",
      "1\n",
      "1\n",
      "3\n",
      "1\n",
      "2 1\n",
      "OrderedDict([(2, [2])])\n"
     ]
    },
    {
     "ename": "KeyError",
     "evalue": "1",
     "output_type": "error",
     "traceback": [
      "\u001b[0;31m---------------------------------------------------------------------------\u001b[0m",
      "\u001b[0;31mKeyError\u001b[0m                                  Traceback (most recent call last)",
      "Cell \u001b[0;32mIn[21], line 28\u001b[0m\n\u001b[1;32m     25\u001b[0m                 \u001b[38;5;28mprint\u001b[39m(first_key)\n\u001b[1;32m     27\u001b[0m \u001b[38;5;28;01mif\u001b[39;00m \u001b[38;5;18m__name__\u001b[39m \u001b[38;5;241m==\u001b[39m \u001b[38;5;124m\"\u001b[39m\u001b[38;5;124m__main__\u001b[39m\u001b[38;5;124m\"\u001b[39m:\n\u001b[0;32m---> 28\u001b[0m     \u001b[43mmain\u001b[49m\u001b[43m(\u001b[49m\u001b[43m)\u001b[49m\n",
      "Cell \u001b[0;32mIn[21], line 17\u001b[0m, in \u001b[0;36mmain\u001b[0;34m()\u001b[0m\n\u001b[1;32m     15\u001b[0m     x \u001b[38;5;241m=\u001b[39m \u001b[38;5;28mint\u001b[39m(x[\u001b[38;5;241m0\u001b[39m])\n\u001b[1;32m     16\u001b[0m     \u001b[38;5;28mprint\u001b[39m(called_dict)\n\u001b[0;32m---> 17\u001b[0m     \u001b[43mcalled_dict\u001b[49m\u001b[38;5;241;43m.\u001b[39;49m\u001b[43mpop\u001b[49m\u001b[43m(\u001b[49m\u001b[43mx\u001b[49m\u001b[43m)\u001b[49m\n\u001b[1;32m     18\u001b[0m \u001b[38;5;28;01melse\u001b[39;00m:\n\u001b[1;32m     19\u001b[0m     \u001b[38;5;28;01mif\u001b[39;00m num \u001b[38;5;241m==\u001b[39m \u001b[38;5;124m\"\u001b[39m\u001b[38;5;124m1\u001b[39m\u001b[38;5;124m\"\u001b[39m:\n",
      "\u001b[0;31mKeyError\u001b[0m: 1"
     ]
    }
   ],
   "source": [
    "from collections import deque\n",
    "from collections import OrderedDict\n",
    "\n",
    "def main():\n",
    "    N,Q = map(int, input().split())\n",
    "    not_called_q = deque(range(1,N+1))\n",
    "    called_dict = OrderedDict()\n",
    "    for _ in range(Q):\n",
    "        num, *x = input().split()\n",
    "        if num == \"2\":\n",
    "            x = int(x[0])\n",
    "            called_dict.pop(x)\n",
    "        else:\n",
    "            if num == \"1\":\n",
    "                tmp = not_called_q.popleft()\n",
    "                called_dict[tmp] = [tmp]\n",
    "            else:\n",
    "                first_key = next(iter(called_dict))\n",
    "                print(first_key)\n",
    "    \n",
    "if __name__ == \"__main__\":\n",
    "    main()"
   ]
  },
  {
   "cell_type": "code",
   "execution_count": 18,
   "id": "e20a1d6e",
   "metadata": {},
   "outputs": [
    {
     "name": "stdout",
     "output_type": "stream",
     "text": [
      "OrderedDict([(1, 1), (3, 3), (2, 2)])\n",
      "1\n",
      "OrderedDict([(1, 1), (3, 3), (2, 2)])\n"
     ]
    }
   ],
   "source": [
    "from collections import OrderedDict\n",
    "\n",
    "a = OrderedDict()\n",
    "a[1] = 1\n",
    "a[3] = 3\n",
    "a[2] = 2\n",
    "print(a)\n",
    "print(next(iter(a)))\n",
    "print(a)"
   ]
  },
  {
   "cell_type": "code",
   "execution_count": null,
   "id": "cd76fd65",
   "metadata": {},
   "outputs": [],
   "source": []
  }
 ],
 "metadata": {
  "kernelspec": {
   "display_name": "Python 3 (ipykernel)",
   "language": "python",
   "name": "python3"
  },
  "language_info": {
   "codemirror_mode": {
    "name": "ipython",
    "version": 3
   },
   "file_extension": ".py",
   "mimetype": "text/x-python",
   "name": "python",
   "nbconvert_exporter": "python",
   "pygments_lexer": "ipython3",
   "version": "3.9.6"
  }
 },
 "nbformat": 4,
 "nbformat_minor": 5
}
