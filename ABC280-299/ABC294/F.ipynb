{
 "cells": [
  {
   "cell_type": "code",
   "execution_count": null,
   "metadata": {},
   "outputs": [],
   "source": [
    "from bisect import *\n",
    "\n",
    "# 濃度 X(0~1) 以上になる組み合わせがK通り以上あるかどうか\n",
    "def check(AB, sorted_CD, K):\n",
    "    cnt = 0\n",
    "    for a in AB:\n",
    "        cnt += len(sorted_CD) - bisect_left(sorted_CD, -a)\n",
    "    return cnt >= K\n",
    "\n",
    "def main():\n",
    "    N,M,K = map(int,input().split())\n",
    "    AB = [list(map(int,input().split())) for _ in [0]*N]\n",
    "    CD = [list(map(int,input().split())) for _ in [0]*M]\n",
    "    # 濃度の上限と下限\n",
    "    l,r = 0, 1\n",
    "    # 二分探索\n",
    "    for _ in [0]*40:\n",
    "        X = (l+r)/2\n",
    "        # 濃度 X% 以上になる組み合わせがK通り以上あるかどうか\n",
    "        AB_ = [a-X*(a+b) for a,b in AB]\n",
    "        CD_ = [c-X*(c+d) for c,d in CD]\n",
    "        if check(AB_, sorted(CD_), K):\n",
    "            l = X\n",
    "        else:\n",
    "            r = X\n",
    "    print(l*100)\n",
    "    \n",
    "if __name__ == \"__main__\":\n",
    "    main()"
   ]
  },
  {
   "cell_type": "code",
   "execution_count": null,
   "metadata": {},
   "outputs": [],
   "source": [
    "from bisect import *\n",
    "\n",
    "# 濃度 X(0~1) 以上になる組み合わせがK通り以上あるかどうか\n",
    "def check(AB, sorted_CD, K):\n",
    "    cnt = 0\n",
    "    for a in AB:\n",
    "        cnt += len(sorted_CD) - bisect_left(sorted_CD, -a)\n",
    "    return cnt >= K\n",
    "\n",
    "def main():\n",
    "    N,M,K = map(int,input().split())\n",
    "    AB = [list(map(int,input().split())) for _ in [0]*N]\n",
    "    CD = [list(map(int,input().split())) for _ in [0]*M]\n",
    "    # 濃度の上限と下限\n",
    "    l,r = 0, 1\n",
    "    # 二分探索\n",
    "    while r-l > 1e-11:\n",
    "        X = (l+r)/2\n",
    "        # 濃度 X% 以上になる組み合わせがK通り以上あるかどうか\n",
    "        AB_ = [a-X*(a+b) for a,b in AB]\n",
    "        CD_ = [c-X*(c+d) for c,d in CD]\n",
    "        if check(AB_, sorted(CD_), K):\n",
    "            l = X\n",
    "        else:\n",
    "            r = X\n",
    "    print(l*100)\n",
    "    \n",
    "if __name__ == \"__main__\":\n",
    "    main()"
   ]
  }
 ],
 "metadata": {
  "language_info": {
   "name": "python"
  },
  "orig_nbformat": 4
 },
 "nbformat": 4,
 "nbformat_minor": 2
}
