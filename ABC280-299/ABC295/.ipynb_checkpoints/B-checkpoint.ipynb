{
 "cells": [
  {
   "cell_type": "code",
   "execution_count": 7,
   "id": "926338e2",
   "metadata": {},
   "outputs": [
    {
     "name": "stdout",
     "output_type": "stream",
     "text": [
      "2 3\n",
      "11#\n",
      "###\n",
      "..#\n",
      ".##\n"
     ]
    }
   ],
   "source": [
    "from itertools import combinations\n",
    "from itertools import permutations\n",
    "from collections import Counter\n",
    "import heapq\n",
    "from collections import OrderedDict\n",
    "import bisect\n",
    "from collections import deque\n",
    "from collections import defaultdict\n",
    "\n",
    "def main():\n",
    "    R,C = map(int, input().split())\n",
    "    B = []\n",
    "    ans_B = []\n",
    "    for _ in range(R):\n",
    "        BC = [*input()]\n",
    "        B.append(BC.copy())\n",
    "        ans_B.append(BC.copy())\n",
    "    for i in range(R):\n",
    "        for j in range(C):\n",
    "            if B[i][j] != \".\" and B[i][j] != \"#\":\n",
    "                power = int(B[i][j])\n",
    "                for k in range(R):\n",
    "                    for l in range(C):\n",
    "                        if (abs(i-k) + abs(j-l)) <= power:\n",
    "                            ans_B[k][l] = \".\"\n",
    "    for ans in ans_B:\n",
    "        print(\"\".join(ans))\n",
    "    \n",
    "if __name__ == \"__main__\":\n",
    "    main()"
   ]
  },
  {
   "cell_type": "code",
   "execution_count": null,
   "id": "0e0d90a7",
   "metadata": {},
   "outputs": [],
   "source": []
  }
 ],
 "metadata": {
  "kernelspec": {
   "display_name": "Python 3 (ipykernel)",
   "language": "python",
   "name": "python3"
  },
  "language_info": {
   "codemirror_mode": {
    "name": "ipython",
    "version": 3
   },
   "file_extension": ".py",
   "mimetype": "text/x-python",
   "name": "python",
   "nbconvert_exporter": "python",
   "pygments_lexer": "ipython3",
   "version": "3.9.6"
  }
 },
 "nbformat": 4,
 "nbformat_minor": 5
}
