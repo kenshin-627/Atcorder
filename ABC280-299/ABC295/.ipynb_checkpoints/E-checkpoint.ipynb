{
 "cells": [
  {
   "cell_type": "code",
   "execution_count": 7,
   "id": "8c66a1cd",
   "metadata": {},
   "outputs": [
    {
     "name": "stdout",
     "output_type": "stream",
     "text": [
      "3 5 2\n",
      "125\n"
     ]
    }
   ],
   "source": [
    "from itertools import combinations\n",
    "from itertools import permutations\n",
    "from collections import Counter\n",
    "import heapq\n",
    "from collections import OrderedDict\n",
    "import bisect\n",
    "from collections import deque\n",
    "from collections import defaultdict\n",
    "\n",
    "def main():\n",
    "    MOD = 998244353\n",
    "    N,M,K = map(int, input().split())\n",
    "    ans = 0\n",
    "    \n",
    "if __name__ == \"__main__\":\n",
    "    main()"
   ]
  },
  {
   "cell_type": "code",
   "execution_count": 8,
   "id": "6af038c6",
   "metadata": {},
   "outputs": [
    {
     "name": "stdout",
     "output_type": "stream",
     "text": [
      "221832080\n"
     ]
    }
   ],
   "source": [
    "mod = 998244353\n",
    "print((14 % mod) * pow(9, -1, mod) % mod)"
   ]
  },
  {
   "cell_type": "code",
   "execution_count": null,
   "id": "23ecd50b",
   "metadata": {},
   "outputs": [],
   "source": []
  }
 ],
 "metadata": {
  "kernelspec": {
   "display_name": "Python 3 (ipykernel)",
   "language": "python",
   "name": "python3"
  },
  "language_info": {
   "codemirror_mode": {
    "name": "ipython",
    "version": 3
   },
   "file_extension": ".py",
   "mimetype": "text/x-python",
   "name": "python",
   "nbconvert_exporter": "python",
   "pygments_lexer": "ipython3",
   "version": "3.9.6"
  }
 },
 "nbformat": 4,
 "nbformat_minor": 5
}
