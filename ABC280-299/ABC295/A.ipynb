{
 "cells": [
  {
   "cell_type": "code",
   "execution_count": 2,
   "id": "1b87a691",
   "metadata": {},
   "outputs": [
    {
     "name": "stdout",
     "output_type": "stream",
     "text": [
      "10\n",
      "in diesem fall sollten sie no und nicht yes ausgeben\n",
      "No\n"
     ]
    }
   ],
   "source": [
    "def main():\n",
    "    good_str = set([\"and\", \"not\", \"that\", \"the\", \"you\"])\n",
    "    N = int(input())\n",
    "    WN = input().split()\n",
    "    for W in WN:\n",
    "        if W in good_str:\n",
    "            print(\"Yes\")\n",
    "            return\n",
    "    print(\"No\")\n",
    "    \n",
    "if __name__ == \"__main__\":\n",
    "    main()"
   ]
  }
 ],
 "metadata": {
  "kernelspec": {
   "display_name": "Python 3",
   "language": "python",
   "name": "python3"
  },
  "language_info": {
   "codemirror_mode": {
    "name": "ipython",
    "version": 3
   },
   "file_extension": ".py",
   "mimetype": "text/x-python",
   "name": "python",
   "nbconvert_exporter": "python",
   "pygments_lexer": "ipython3",
   "version": "3.11.1"
  },
  "vscode": {
   "interpreter": {
    "hash": "aee8b7b246df8f9039afb4144a1f6fd8d2ca17a180786b69acc140d282b71a49"
   }
  }
 },
 "nbformat": 4,
 "nbformat_minor": 5
}
