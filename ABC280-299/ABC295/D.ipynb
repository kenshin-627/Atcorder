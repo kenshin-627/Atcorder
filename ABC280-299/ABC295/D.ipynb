{
 "cells": [
  {
   "cell_type": "code",
   "execution_count": 27,
   "id": "0c96a33d",
   "metadata": {},
   "outputs": [
    {
     "name": "stdout",
     "output_type": "stream",
     "text": [
      "3141592653589793238462643383279502884197169399375105820974944\n",
      "9\n"
     ]
    }
   ],
   "source": [
    "from collections import defaultdict\n",
    "\n",
    "def main():\n",
    "    S = input()\n",
    "    count_dict = defaultdict(int)\n",
    "    count_dict[0] += 1\n",
    "    ans = 0\n",
    "    seen_set = set([0])\n",
    "    now_int = 0\n",
    "    for s in S:\n",
    "        if now_int & 1 << int(s):\n",
    "            now_int -= 1 << int(s)\n",
    "        else:\n",
    "            now_int += 1 << int(s)\n",
    "        if now_int in seen_set:\n",
    "            count_dict[now_int] += 1\n",
    "        else:\n",
    "            seen_set.add(now_int)\n",
    "            count_dict[now_int] += 1\n",
    "    for v in count_dict.values():\n",
    "        if v <= 1:\n",
    "            continue\n",
    "        else:\n",
    "            ans += v*(v-1)/2\n",
    "    print(int(ans))\n",
    "    \n",
    "if __name__ == \"__main__\":\n",
    "    main()"
   ]
  },
  {
   "cell_type": "code",
   "execution_count": 15,
   "id": "d5687794",
   "metadata": {},
   "outputs": [
    {
     "name": "stdout",
     "output_type": "stream",
     "text": [
      "0b101\n",
      "0b111\n",
      "0b10\n",
      "5\n",
      "0\n"
     ]
    }
   ],
   "source": [
    "a = 5\n",
    "print(bin(a))\n",
    "b = 7\n",
    "c = 2\n",
    "print(bin(b))\n",
    "print(bin(c))\n",
    "print(a & b)\n",
    "print(a & c)"
   ]
  },
  {
   "cell_type": "code",
   "execution_count": null,
   "id": "fb98db9a",
   "metadata": {},
   "outputs": [],
   "source": []
  }
 ],
 "metadata": {
  "kernelspec": {
   "display_name": "Python 3 (ipykernel)",
   "language": "python",
   "name": "python3"
  },
  "language_info": {
   "codemirror_mode": {
    "name": "ipython",
    "version": 3
   },
   "file_extension": ".py",
   "mimetype": "text/x-python",
   "name": "python",
   "nbconvert_exporter": "python",
   "pygments_lexer": "ipython3",
   "version": "3.9.6"
  }
 },
 "nbformat": 4,
 "nbformat_minor": 5
}
