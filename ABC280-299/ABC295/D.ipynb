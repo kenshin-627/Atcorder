{
 "cells": [
  {
   "cell_type": "code",
   "execution_count": 4,
   "id": "0c96a33d",
   "metadata": {},
   "outputs": [
    {
     "name": "stdout",
     "output_type": "stream",
     "text": [
      "185\n"
     ]
    }
   ],
   "source": [
    "from collections import defaultdict\n",
    "\n",
    "def main():\n",
    "    S = input()\n",
    "    count_dict = defaultdict(int)\n",
    "    count_dict[0] += 1\n",
    "    ans = 0\n",
    "    now_int = 0\n",
    "    for s in S:\n",
    "        if now_int & 1 << int(s):\n",
    "            now_int -= 1 << int(s)\n",
    "        else:\n",
    "            now_int += 1 << int(s)\n",
    "        count_dict[now_int] += 1\n",
    "    for v in count_dict.values():\n",
    "        ans += v*(v-1)/2\n",
    "    print(int(ans))\n",
    "    \n",
    "if __name__ == \"__main__\":\n",
    "    main()"
   ]
  },
  {
   "cell_type": "code",
   "execution_count": 11,
   "id": "fb98db9a",
   "metadata": {},
   "outputs": [
    {
     "name": "stdout",
     "output_type": "stream",
     "text": [
      "185\n"
     ]
    }
   ],
   "source": [
    "from collections import defaultdict\n",
    "\n",
    "def main():\n",
    "    S = input()\n",
    "    cnt = defaultdict(int)\n",
    "    cnt[0] += 1\n",
    "    bef = 0\n",
    "    for s in S:\n",
    "        cnt[bef^(1<<int(s))] += 1\n",
    "        bef ^= 1<<int(s)\n",
    "    ans = 0\n",
    "    for v in cnt.values():\n",
    "        ans += v*(v-1)//2\n",
    "    print(ans)\n",
    "    \n",
    "if __name__ == \"__main__\":\n",
    "    main()"
   ]
  },
  {
   "cell_type": "code",
   "execution_count": null,
   "id": "8448e155",
   "metadata": {},
   "outputs": [],
   "source": []
  }
 ],
 "metadata": {
  "kernelspec": {
   "display_name": "Python 3 (ipykernel)",
   "language": "python",
   "name": "python3"
  },
  "language_info": {
   "codemirror_mode": {
    "name": "ipython",
    "version": 3
   },
   "file_extension": ".py",
   "mimetype": "text/x-python",
   "name": "python",
   "nbconvert_exporter": "python",
   "pygments_lexer": "ipython3",
   "version": "3.11.1"
  }
 },
 "nbformat": 4,
 "nbformat_minor": 5
}
