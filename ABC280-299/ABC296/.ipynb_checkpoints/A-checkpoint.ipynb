{
 "cells": [
  {
   "cell_type": "code",
   "execution_count": 7,
   "id": "99ba3e5d",
   "metadata": {},
   "outputs": [
    {
     "name": "stdout",
     "output_type": "stream",
     "text": [
      "1\n",
      "FF\n",
      "No\n"
     ]
    }
   ],
   "source": [
    "def main():\n",
    "    N = int(input())\n",
    "    S = input()\n",
    "    bf_str = \"\"\n",
    "    for s in S:\n",
    "        if bf_str == \"\":\n",
    "            bf_str = s\n",
    "            continue\n",
    "        elif bf_str == \"M\":\n",
    "            if s == \"F\":\n",
    "                bf_str = \"F\"\n",
    "                continue\n",
    "            else:\n",
    "                print(\"No\")\n",
    "                return\n",
    "        else:\n",
    "            if s == \"M\":\n",
    "                bf_str = \"M\"\n",
    "                continue\n",
    "            else:\n",
    "                print(\"No\")\n",
    "                return\n",
    "    print(\"Yes\")\n",
    "    \n",
    "if __name__ == \"__main__\":\n",
    "    main()"
   ]
  },
  {
   "cell_type": "code",
   "execution_count": null,
   "id": "95c8a04d",
   "metadata": {},
   "outputs": [],
   "source": []
  }
 ],
 "metadata": {
  "kernelspec": {
   "display_name": "Python 3 (ipykernel)",
   "language": "python",
   "name": "python3"
  },
  "language_info": {
   "codemirror_mode": {
    "name": "ipython",
    "version": 3
   },
   "file_extension": ".py",
   "mimetype": "text/x-python",
   "name": "python",
   "nbconvert_exporter": "python",
   "pygments_lexer": "ipython3",
   "version": "3.9.6"
  }
 },
 "nbformat": 4,
 "nbformat_minor": 5
}
