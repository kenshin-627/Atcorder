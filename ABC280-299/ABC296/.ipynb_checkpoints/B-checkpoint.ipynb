{
 "cells": [
  {
   "cell_type": "code",
   "execution_count": null,
   "id": "df884846",
   "metadata": {},
   "outputs": [],
   "source": [
    "def main():\n",
    "    ans_str = \"\"\n",
    "    for i in range(8, 0, -1):\n",
    "        S = input()\n",
    "        for j, s in enumerate(S):\n",
    "            if s == \".\":\n",
    "                continue\n",
    "            if j == 0:\n",
    "                ans_str += \"a\"\n",
    "            elif j == 1:\n",
    "                ans_str += \"b\"\n",
    "            elif j == 2:\n",
    "                ans_str += \"c\"\n",
    "            elif j == 3:\n",
    "                ans_str += \"d\"\n",
    "            elif j == 4:\n",
    "                ans_str += \"e\"\n",
    "            elif j == 5:\n",
    "                ans_str += \"f\"\n",
    "            elif j == 6:\n",
    "                ans_str += \"g\"\n",
    "            elif j == 7:\n",
    "                ans_str += \"h\"\n",
    "            ans_str += str(i)\n",
    "    print(ans_str)\n",
    "    \n",
    "if __name__ == \"__main__\":\n",
    "    main()"
   ]
  },
  {
   "cell_type": "code",
   "execution_count": 23,
   "id": "32d129a3",
   "metadata": {},
   "outputs": [
    {
     "name": "stdout",
     "output_type": "stream",
     "text": [
      "ab\n",
      "bc\n",
      "de\n",
      "f\n",
      ".\n",
      "*\n",
      "a\n",
      "b\n",
      "a3\n"
     ]
    }
   ],
   "source": [
    "def main():\n",
    "    S = reversed([input() for _ in range(8)])\n",
    "    for i,s in enumerate(S):\n",
    "        if \"*\" in s:\n",
    "            print(\"abcdefgh\"[s.index(\"*\")] + str(i+1))\n",
    "    \n",
    "if __name__ == \"__main__\":\n",
    "    main()"
   ]
  },
  {
   "cell_type": "code",
   "execution_count": null,
   "id": "dc7fbba8",
   "metadata": {},
   "outputs": [],
   "source": []
  }
 ],
 "metadata": {
  "kernelspec": {
   "display_name": "Python 3 (ipykernel)",
   "language": "python",
   "name": "python3"
  },
  "language_info": {
   "codemirror_mode": {
    "name": "ipython",
    "version": 3
   },
   "file_extension": ".py",
   "mimetype": "text/x-python",
   "name": "python",
   "nbconvert_exporter": "python",
   "pygments_lexer": "ipython3",
   "version": "3.9.6"
  }
 },
 "nbformat": 4,
 "nbformat_minor": 5
}
