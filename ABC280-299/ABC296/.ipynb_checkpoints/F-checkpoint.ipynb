{
 "cells": [
  {
   "cell_type": "code",
   "execution_count": 5,
   "id": "e8f929dc",
   "metadata": {},
   "outputs": [
    {
     "name": "stdout",
     "output_type": "stream",
     "text": [
      "3\n",
      "1 2 1\n",
      "1 1 2\n",
      "Yes\n"
     ]
    }
   ],
   "source": [
    "import heapq\n",
    "from collections import defaultdict\n",
    "\n",
    "def main():\n",
    "    N = int(input())\n",
    "    AN = [*map(int, input().split())]\n",
    "    BN = [*map(int, input().split())]\n",
    "    B_dict = defaultdict(list)\n",
    "    if sorted(AN) != sorted(BN):\n",
    "        print(\"No\")\n",
    "        return\n",
    "    if len(set(AN)) != len(AN):\n",
    "        print(\"Yes\")\n",
    "        return\n",
    "    for i, B in enumerate(BN):\n",
    "        heapq.heappush(B_dict[B], i)\n",
    "    for i in range(N-2):\n",
    "        if AN[i] == BN[i]:\n",
    "            heapq.heappop(B_dict[BN[i]])\n",
    "            continue\n",
    "        if B_dict[AN[i]] == list():\n",
    "            print(\"No\")\n",
    "            return\n",
    "        Ai_ind = heapq.heappop(B_dict[AN[i]])\n",
    "        tmp_ind = N-1\n",
    "        if Ai_ind == tmp_ind:\n",
    "            tmp_ind -= 1\n",
    "        B_dict[BN[i]].remove(i)\n",
    "        B_dict[BN[tmp_ind]].remove(tmp_ind)\n",
    "        heapq.heappush(B_dict[BN[i]], tmp_ind)\n",
    "        heapq.heappush(B_dict[BN[tmp_ind]], Ai_ind)\n",
    "        BN[i], BN[Ai_ind], BN[tmp_ind] = BN[Ai_ind], BN[tmp_ind], BN[i]\n",
    "    if AN[-1] == BN[-1] and AN[-2] == BN[-2]:\n",
    "        print(\"Yes\")\n",
    "    else:\n",
    "        print(\"No\")\n",
    "    \n",
    "if __name__ == \"__main__\":\n",
    "    main()"
   ]
  },
  {
   "cell_type": "code",
   "execution_count": 4,
   "id": "7434647d",
   "metadata": {},
   "outputs": [
    {
     "name": "stdout",
     "output_type": "stream",
     "text": [
      "False\n",
      "True\n",
      "[3, 2, 1]\n",
      "[2, 1, 3]\n"
     ]
    }
   ],
   "source": [
    "a = [3,2,1]\n",
    "b = [2,1,3]\n",
    "print(a==b)\n",
    "print(sorted(a)==sorted(b))\n",
    "print(a)\n",
    "print(b)"
   ]
  },
  {
   "cell_type": "code",
   "execution_count": null,
   "id": "b4c18544",
   "metadata": {},
   "outputs": [],
   "source": []
  }
 ],
 "metadata": {
  "kernelspec": {
   "display_name": "Python 3 (ipykernel)",
   "language": "python",
   "name": "python3"
  },
  "language_info": {
   "codemirror_mode": {
    "name": "ipython",
    "version": 3
   },
   "file_extension": ".py",
   "mimetype": "text/x-python",
   "name": "python",
   "nbconvert_exporter": "python",
   "pygments_lexer": "ipython3",
   "version": "3.9.6"
  }
 },
 "nbformat": 4,
 "nbformat_minor": 5
}
