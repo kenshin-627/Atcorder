{
 "cells": [
  {
   "cell_type": "code",
   "execution_count": 8,
   "id": "ddf08361",
   "metadata": {},
   "outputs": [
    {
     "name": "stdout",
     "output_type": "stream",
     "text": [
      "100000 10000000000\n",
      "10000000000\n"
     ]
    }
   ],
   "source": [
    "def main():\n",
    "    N,M = map(int, input().split())\n",
    "    X = M\n",
    "    if N**2 < M:\n",
    "        print(-1)\n",
    "        return\n",
    "    while True:\n",
    "        root_X = int(pow(X, 1/2))\n",
    "        for a in range(root_X, 0, -1):\n",
    "            if X / a > N:\n",
    "                break\n",
    "            if X % a == 0:\n",
    "                print(X)\n",
    "                return\n",
    "        X += 1\n",
    "    \n",
    "if __name__ == \"__main__\":\n",
    "    main()"
   ]
  },
  {
   "cell_type": "code",
   "execution_count": null,
   "id": "5568abef",
   "metadata": {},
   "outputs": [],
   "source": []
  }
 ],
 "metadata": {
  "kernelspec": {
   "display_name": "Python 3 (ipykernel)",
   "language": "python",
   "name": "python3"
  },
  "language_info": {
   "codemirror_mode": {
    "name": "ipython",
    "version": 3
   },
   "file_extension": ".py",
   "mimetype": "text/x-python",
   "name": "python",
   "nbconvert_exporter": "python",
   "pygments_lexer": "ipython3",
   "version": "3.9.6"
  }
 },
 "nbformat": 4,
 "nbformat_minor": 5
}
