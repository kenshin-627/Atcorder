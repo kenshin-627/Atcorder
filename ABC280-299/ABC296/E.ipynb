{
 "cells": [
  {
   "cell_type": "code",
   "execution_count": 12,
   "id": "6f66b4e6",
   "metadata": {},
   "outputs": [
    {
     "name": "stdout",
     "output_type": "stream",
     "text": [
      "4\n",
      "3 3 4 1\n",
      "3\n"
     ]
    }
   ],
   "source": [
    "# 強連結成分分解(SCC): グラフGに対するSCCを行う\n",
    "# 入力: <N>: 頂点サイズ, <G>: 順方向の有向グラフ, <RG>: 逆方向の有向グラフ\n",
    "# 出力: (<ラベル数>, <各頂点のラベル番号>)\n",
    "import sys\n",
    "sys.setrecursionlimit(10**7)\n",
    "def scc(N, G, RG):\n",
    "    order = []\n",
    "    used = [0]*N\n",
    "    group = [None]*N\n",
    "    def dfs(s):\n",
    "        used[s] = 1\n",
    "        for t in G[s]:\n",
    "            if not used[t]:\n",
    "                dfs(t)\n",
    "        order.append(s)\n",
    "    def rdfs(s, col):#今一番大きいorderからスタート,colはグループのラベル（？）\n",
    "        stack = [(s,col)]\n",
    "        while stack:\n",
    "            idx,col = stack.pop()\n",
    "            group[idx] = col #頂点に属する強連結成分のラベルを貼る\n",
    "            used[idx] = 1\n",
    "            for t in RG[idx]:\n",
    "                if not used[t]:\n",
    "                    stack.append((t, col))\n",
    "    for i in range(N):\n",
    "        if not used[i]:\n",
    "            dfs(i)\n",
    "    used = [0]*N\n",
    "    label = 0\n",
    "    for s in reversed(order):\n",
    "        if not used[s]:\n",
    "            rdfs(s, label)\n",
    "            label += 1\n",
    "    return label, group\n",
    "\n",
    "# 縮約後のグラフを構築\n",
    "def construct(N, G, label, group):\n",
    "    G0 = [set() for i in range(label)]#label iの強連結成分からのlabel jへの有向辺\n",
    "    GP = [[] for i in range(label)]#label i の強連結成分をリストに\n",
    "    into_num = [0 for i in range(label)]#topological sortしたい時\n",
    "    for v in range(N):\n",
    "        lbs = group[v]#vのラベルを取得\n",
    "        for w in G[v]:\n",
    "            lbt = group[w]\n",
    "            if lbs == lbt:\n",
    "                continue\n",
    "            if not lbt in G0[lbs]:#大事。。。！ここないとinto_numバグる。。\n",
    "                into_num[lbt] += 1\n",
    "                G0[lbs].add(lbt)\n",
    "        GP[lbs].append(v)\n",
    "    return G0, GP, into_num\n",
    "\n",
    "def main():\n",
    "    N = int(input())\n",
    "    AN = [*map(lambda x:int(x)-1, input().split())]\n",
    "    e = [set() for _ in range(N)]\n",
    "    ER = [set() for _ in range(N)]\n",
    "    for i, A in enumerate(AN):\n",
    "        e[i].add(A)\n",
    "        ER[A].add(i)\n",
    "    \n",
    "    label, group = scc(N, e, ER)\n",
    "    G0,GP,into_num = construct(N,e,label,group)\n",
    "    \n",
    "    ans = 0\n",
    "    for G in GP:\n",
    "        if len(G) == 1:\n",
    "            if AN[G[0]] == G[0]:\n",
    "                ans += 1\n",
    "        else:\n",
    "            ans += len(G)\n",
    "    print(ans)\n",
    "\n",
    "if __name__ == \"__main__\":\n",
    "    main()"
   ]
  },
  {
   "cell_type": "code",
   "execution_count": null,
   "id": "22528af6",
   "metadata": {},
   "outputs": [],
   "source": []
  }
 ],
 "metadata": {
  "kernelspec": {
   "display_name": "Python 3 (ipykernel)",
   "language": "python",
   "name": "python3"
  },
  "language_info": {
   "codemirror_mode": {
    "name": "ipython",
    "version": 3
   },
   "file_extension": ".py",
   "mimetype": "text/x-python",
   "name": "python",
   "nbconvert_exporter": "python",
   "pygments_lexer": "ipython3",
   "version": "3.9.6"
  }
 },
 "nbformat": 4,
 "nbformat_minor": 5
}
