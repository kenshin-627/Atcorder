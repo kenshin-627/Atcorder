{
 "cells": [
  {
   "cell_type": "code",
   "execution_count": 5,
   "id": "b44d20a9",
   "metadata": {},
   "outputs": [
    {
     "name": "stdout",
     "output_type": "stream",
     "text": [
      "3 5\n",
      "TTT..\n",
      ".TTT.\n",
      "TTTTT\n",
      "PCT..\n",
      ".PCT.\n",
      "PCPCT\n"
     ]
    }
   ],
   "source": [
    "def main():\n",
    "    H,W = map(int, input().split())\n",
    "    S = []\n",
    "    for _ in range(H):\n",
    "        S.append([*input()])\n",
    "    for i in range(H):\n",
    "        for j in range(W-1):\n",
    "            if S[i][j] == \"T\" and S[i][j+1] == \"T\":\n",
    "                S[i][j] = \"P\"\n",
    "                S[i][j+1] = \"C\"\n",
    "    for si in S:\n",
    "        print(\"\".join(si))\n",
    "    \n",
    "if __name__ == \"__main__\":\n",
    "    main()"
   ]
  },
  {
   "cell_type": "code",
   "execution_count": null,
   "id": "286087c9",
   "metadata": {},
   "outputs": [],
   "source": []
  }
 ],
 "metadata": {
  "kernelspec": {
   "display_name": "Python 3 (ipykernel)",
   "language": "python",
   "name": "python3"
  },
  "language_info": {
   "codemirror_mode": {
    "name": "ipython",
    "version": 3
   },
   "file_extension": ".py",
   "mimetype": "text/x-python",
   "name": "python",
   "nbconvert_exporter": "python",
   "pygments_lexer": "ipython3",
   "version": "3.9.6"
  }
 },
 "nbformat": 4,
 "nbformat_minor": 5
}
