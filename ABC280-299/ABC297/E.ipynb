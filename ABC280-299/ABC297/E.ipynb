{
 "cells": [
  {
   "cell_type": "code",
   "execution_count": 17,
   "id": "2c82ce1f",
   "metadata": {},
   "outputs": [
    {
     "name": "stdout",
     "output_type": "stream",
     "text": [
      "4 3\n",
      "1 1 2 4\n",
      "3\n"
     ]
    }
   ],
   "source": [
    "import heapq\n",
    "\n",
    "def main():\n",
    "    N,K = map(int, input().split())\n",
    "    AN = [*set(map(int, input().split()))]\n",
    "    seen = set(AN)\n",
    "    hq = AN.copy()\n",
    "    heapq.heapify(hq)\n",
    "    i = 0\n",
    "    while True:\n",
    "        i += 1\n",
    "        min_value = heapq.heappop(hq)\n",
    "        if i == K:\n",
    "            print(min_value)\n",
    "            return\n",
    "        for A in AN:\n",
    "            next_value = min_value + A\n",
    "            if next_value in seen:\n",
    "                continue\n",
    "            seen.add(next_value)\n",
    "            heapq.heappush(hq, next_value)\n",
    "    \n",
    "if __name__ == \"__main__\":\n",
    "    main()"
   ]
  },
  {
   "cell_type": "code",
   "execution_count": 16,
   "id": "cc144758",
   "metadata": {},
   "outputs": [
    {
     "name": "stdout",
     "output_type": "stream",
     "text": [
      "<class 'list'>\n"
     ]
    }
   ],
   "source": [
    "a = [*set([1,1,2,3])]\n",
    "print(type(a))"
   ]
  },
  {
   "cell_type": "code",
   "execution_count": null,
   "id": "a6006ca4",
   "metadata": {},
   "outputs": [],
   "source": []
  }
 ],
 "metadata": {
  "kernelspec": {
   "display_name": "Python 3 (ipykernel)",
   "language": "python",
   "name": "python3"
  },
  "language_info": {
   "codemirror_mode": {
    "name": "ipython",
    "version": 3
   },
   "file_extension": ".py",
   "mimetype": "text/x-python",
   "name": "python",
   "nbconvert_exporter": "python",
   "pygments_lexer": "ipython3",
   "version": "3.9.6"
  }
 },
 "nbformat": 4,
 "nbformat_minor": 5
}
