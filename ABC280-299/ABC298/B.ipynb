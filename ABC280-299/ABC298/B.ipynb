{
 "cells": [
  {
   "cell_type": "code",
   "execution_count": 5,
   "metadata": {},
   "outputs": [
    {
     "ename": "IndexError",
     "evalue": "list index out of range",
     "output_type": "error",
     "traceback": [
      "\u001b[0;31m---------------------------------------------------------------------------\u001b[0m",
      "\u001b[0;31mIndexError\u001b[0m                                Traceback (most recent call last)",
      "Cell \u001b[0;32mIn[5], line 74\u001b[0m\n\u001b[1;32m     71\u001b[0m     \u001b[39mprint\u001b[39m(\u001b[39m\"\u001b[39m\u001b[39mNo\u001b[39m\u001b[39m\"\u001b[39m)\n\u001b[1;32m     73\u001b[0m \u001b[39mif\u001b[39;00m \u001b[39m__name__\u001b[39m \u001b[39m==\u001b[39m \u001b[39m\"\u001b[39m\u001b[39m__main__\u001b[39m\u001b[39m\"\u001b[39m:\n\u001b[0;32m---> 74\u001b[0m     main()\n",
      "Cell \u001b[0;32mIn[5], line 24\u001b[0m, in \u001b[0;36mmain\u001b[0;34m()\u001b[0m\n\u001b[1;32m     22\u001b[0m \u001b[39mfor\u001b[39;00m i \u001b[39min\u001b[39;00m \u001b[39mrange\u001b[39m(N):\n\u001b[1;32m     23\u001b[0m     \u001b[39mfor\u001b[39;00m j \u001b[39min\u001b[39;00m \u001b[39mrange\u001b[39m(N):\n\u001b[0;32m---> 24\u001b[0m         A_1[i][j] \u001b[39m=\u001b[39m A[N\u001b[39m-\u001b[39;49m\u001b[39m1\u001b[39;49m\u001b[39m-\u001b[39;49mj][i]\n\u001b[1;32m     25\u001b[0m \u001b[39mfor\u001b[39;00m i \u001b[39min\u001b[39;00m \u001b[39mrange\u001b[39m(N):\n\u001b[1;32m     26\u001b[0m     \u001b[39mfor\u001b[39;00m j \u001b[39min\u001b[39;00m \u001b[39mrange\u001b[39m(N):\n",
      "\u001b[0;31mIndexError\u001b[0m: list index out of range"
     ]
    }
   ],
   "source": [
    "from collections import Counter\n",
    "from itertools import permutations\n",
    "from itertools import combinations\n",
    "import math\n",
    "import heapq\n",
    "from collections import OrderedDict\n",
    "import bisect\n",
    "from collections import deque\n",
    "from collections import defaultdict\n",
    "\n",
    "def main():\n",
    "    N = int(input())\n",
    "    A = []\n",
    "    A_1 = [[0] * N for _ in range(N)]\n",
    "    A_2 = [[0] * N for _ in range(N)]\n",
    "    A_3 = [[0] * N for _ in range(N)]\n",
    "    for _ in range(N):\n",
    "        A.append([*map(int, input().split())])\n",
    "    B = []\n",
    "    for _ in range(N):\n",
    "        B.append([*map(int, input().split())])\n",
    "    for i in range(N):\n",
    "        for j in range(N):\n",
    "            A_1[i][j] = A[N-1-j][i]\n",
    "    for i in range(N):\n",
    "        for j in range(N):\n",
    "            A_2[i][j] = A_1[N-1-j][i]\n",
    "    for i in range(N):\n",
    "        for j in range(N):\n",
    "            A_3[i][j] = A_2[N-1-j][i]\n",
    "    for i in range(N):\n",
    "        for j in range(N):\n",
    "            if A[i][j] == 1 and B[i][j] != 1:\n",
    "                break\n",
    "        else:\n",
    "            continue\n",
    "        break\n",
    "    else:\n",
    "        print(\"Yes\")\n",
    "        return\n",
    "    for i in range(N):\n",
    "        for j in range(N):\n",
    "            if A_1[i][j] == 1 and B[i][j] != 1:\n",
    "                break\n",
    "        else:\n",
    "            continue\n",
    "        break\n",
    "    else:\n",
    "        print(\"Yes\")\n",
    "        return\n",
    "    for i in range(N):\n",
    "        for j in range(N):\n",
    "            if A_2[i][j] == 1 and B[i][j] != 1:\n",
    "                break\n",
    "        else:\n",
    "            continue\n",
    "        break\n",
    "    else:\n",
    "        print(\"Yes\")\n",
    "        return\n",
    "    for i in range(N):\n",
    "        for j in range(N):\n",
    "            if A_3[i][j] == 1 and B[i][j] != 1:\n",
    "                break\n",
    "        else:\n",
    "            continue\n",
    "        break\n",
    "    else:\n",
    "        print(\"Yes\")\n",
    "        return\n",
    "    print(\"No\")\n",
    "    \n",
    "if __name__ == \"__main__\":\n",
    "    main()"
   ]
  },
  {
   "cell_type": "code",
   "execution_count": null,
   "metadata": {},
   "outputs": [],
   "source": []
  }
 ],
 "metadata": {
  "kernelspec": {
   "display_name": "Python 3",
   "language": "python",
   "name": "python3"
  },
  "language_info": {
   "codemirror_mode": {
    "name": "ipython",
    "version": 3
   },
   "file_extension": ".py",
   "mimetype": "text/x-python",
   "name": "python",
   "nbconvert_exporter": "python",
   "pygments_lexer": "ipython3",
   "version": "3.9.6"
  },
  "orig_nbformat": 4
 },
 "nbformat": 4,
 "nbformat_minor": 2
}
