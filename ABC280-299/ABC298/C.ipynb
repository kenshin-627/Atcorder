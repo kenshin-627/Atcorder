{
 "cells": [
  {
   "cell_type": "code",
   "execution_count": 3,
   "metadata": {},
   "outputs": [
    {
     "ename": "ValueError",
     "evalue": "not enough values to unpack (expected 2, got 0)",
     "output_type": "error",
     "traceback": [
      "\u001b[0;31m---------------------------------------------------------------------------\u001b[0m",
      "\u001b[0;31mValueError\u001b[0m                                Traceback (most recent call last)",
      "Cell \u001b[0;32mIn[3], line 30\u001b[0m\n\u001b[1;32m     27\u001b[0m             i \u001b[39m=\u001b[39m ij[\u001b[39m0\u001b[39m]\n\u001b[1;32m     29\u001b[0m \u001b[39mif\u001b[39;00m \u001b[39m__name__\u001b[39m \u001b[39m==\u001b[39m \u001b[39m\"\u001b[39m\u001b[39m__main__\u001b[39m\u001b[39m\"\u001b[39m:\n\u001b[0;32m---> 30\u001b[0m     main()\n",
      "Cell \u001b[0;32mIn[3], line 21\u001b[0m, in \u001b[0;36mmain\u001b[0;34m()\u001b[0m\n\u001b[1;32m     19\u001b[0m num, \u001b[39m*\u001b[39mij \u001b[39m=\u001b[39m \u001b[39mmap\u001b[39m(\u001b[39mint\u001b[39m, \u001b[39minput\u001b[39m()\u001b[39m.\u001b[39msplit())\n\u001b[1;32m     20\u001b[0m \u001b[39mif\u001b[39;00m num \u001b[39m==\u001b[39m \u001b[39m1\u001b[39m:\n\u001b[0;32m---> 21\u001b[0m     i, j \u001b[39m=\u001b[39m ij\n\u001b[1;32m     22\u001b[0m     heapq\u001b[39m.\u001b[39mheappush(box_dic[j], i)\n\u001b[1;32m     23\u001b[0m     num_dic[i]\u001b[39m.\u001b[39mappend(j)\n",
      "\u001b[0;31mValueError\u001b[0m: not enough values to unpack (expected 2, got 0)"
     ]
    }
   ],
   "source": [
    "from collections import defaultdict\n",
    "\n",
    "def main():\n",
    "    N = int(input())\n",
    "    Q = int(input())\n",
    "    box_dic = defaultdict(list)\n",
    "    num_dic = defaultdict(list)\n",
    "    num_set_dic = defaultdict(set)\n",
    "    update_box_dic = defaultdict(lambda: False)\n",
    "    update_num_dic = defaultdict(lambda: False)\n",
    "    for _ in [0]*Q:\n",
    "        num, *ij = map(int, input().split())\n",
    "        if num == 1:\n",
    "            i, j = ij\n",
    "            box_dic[j].append(i)\n",
    "            update_box_dic[j] = True\n",
    "            if j not in num_set_dic[i]:\n",
    "                num_dic[i].append(j)\n",
    "                num_set_dic[i].add(j)\n",
    "                update_num_dic[i] = True\n",
    "        elif num == 2:\n",
    "            i = ij[0]\n",
    "            if update_box_dic[i]:\n",
    "                box_dic[i].sort()\n",
    "                update_box_dic[i] = False\n",
    "            print(\" \".join([*map(str, box_dic[i])]))\n",
    "        else:\n",
    "            i = ij[0]\n",
    "            if update_num_dic[i]:\n",
    "                num_dic[i].sort()\n",
    "                update_num_dic[i] = False\n",
    "            print(\" \".join([*map(str, num_dic[i])]))\n",
    "    \n",
    "if __name__ == \"__main__\":\n",
    "    main()"
   ]
  },
  {
   "cell_type": "code",
   "execution_count": null,
   "metadata": {},
   "outputs": [],
   "source": []
  }
 ],
 "metadata": {
  "kernelspec": {
   "display_name": "Python 3",
   "language": "python",
   "name": "python3"
  },
  "language_info": {
   "codemirror_mode": {
    "name": "ipython",
    "version": 3
   },
   "file_extension": ".py",
   "mimetype": "text/x-python",
   "name": "python",
   "nbconvert_exporter": "python",
   "pygments_lexer": "ipython3",
   "version": "3.9.6"
  },
  "orig_nbformat": 4
 },
 "nbformat": 4,
 "nbformat_minor": 2
}
