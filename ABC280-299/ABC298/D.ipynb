{
 "cells": [
  {
   "cell_type": "code",
   "execution_count": 18,
   "metadata": {},
   "outputs": [
    {
     "ename": "RecursionError",
     "evalue": "maximum recursion depth exceeded in comparison",
     "output_type": "error",
     "traceback": [
      "\u001b[0;31m---------------------------------------------------------------------------\u001b[0m",
      "\u001b[0;31mRecursionError\u001b[0m                            Traceback (most recent call last)",
      "Cell \u001b[0;32mIn[18], line 36\u001b[0m\n\u001b[1;32m     34\u001b[0m \u001b[39mif\u001b[39;00m \u001b[39m__name__\u001b[39m \u001b[39m==\u001b[39m \u001b[39m\"\u001b[39m\u001b[39m__main__\u001b[39m\u001b[39m\"\u001b[39m:\n\u001b[1;32m     35\u001b[0m       mod \u001b[39m=\u001b[39m \u001b[39m998244353\u001b[39m\n\u001b[0;32m---> 36\u001b[0m       new_10_pow(\u001b[39m10\u001b[39;49m\u001b[39m*\u001b[39;49m\u001b[39m*\u001b[39;49m\u001b[39m7\u001b[39;49m, mod)\n\u001b[1;32m     37\u001b[0m     \u001b[39m# main()\u001b[39;00m\n",
      "Cell \u001b[0;32mIn[18], line 32\u001b[0m, in \u001b[0;36mnew_10_pow\u001b[0;34m(b, mod)\u001b[0m\n\u001b[1;32m     30\u001b[0m     \u001b[39mreturn\u001b[39;00m \u001b[39m1\u001b[39m\n\u001b[1;32m     31\u001b[0m \u001b[39melse\u001b[39;00m:\n\u001b[0;32m---> 32\u001b[0m     \u001b[39mreturn\u001b[39;00m (new_10_pow(b\u001b[39m-\u001b[39;49m\u001b[39m1\u001b[39;49m,mod)\u001b[39m*\u001b[39m\u001b[39m10\u001b[39m)\u001b[39m%\u001b[39mmod\n",
      "Cell \u001b[0;32mIn[18], line 32\u001b[0m, in \u001b[0;36mnew_10_pow\u001b[0;34m(b, mod)\u001b[0m\n\u001b[1;32m     30\u001b[0m     \u001b[39mreturn\u001b[39;00m \u001b[39m1\u001b[39m\n\u001b[1;32m     31\u001b[0m \u001b[39melse\u001b[39;00m:\n\u001b[0;32m---> 32\u001b[0m     \u001b[39mreturn\u001b[39;00m (new_10_pow(b\u001b[39m-\u001b[39;49m\u001b[39m1\u001b[39;49m,mod)\u001b[39m*\u001b[39m\u001b[39m10\u001b[39m)\u001b[39m%\u001b[39mmod\n",
      "    \u001b[0;31m[... skipping similar frames: new_10_pow at line 32 (2969 times)]\u001b[0m\n",
      "Cell \u001b[0;32mIn[18], line 32\u001b[0m, in \u001b[0;36mnew_10_pow\u001b[0;34m(b, mod)\u001b[0m\n\u001b[1;32m     30\u001b[0m     \u001b[39mreturn\u001b[39;00m \u001b[39m1\u001b[39m\n\u001b[1;32m     31\u001b[0m \u001b[39melse\u001b[39;00m:\n\u001b[0;32m---> 32\u001b[0m     \u001b[39mreturn\u001b[39;00m (new_10_pow(b\u001b[39m-\u001b[39;49m\u001b[39m1\u001b[39;49m,mod)\u001b[39m*\u001b[39m\u001b[39m10\u001b[39m)\u001b[39m%\u001b[39mmod\n",
      "Cell \u001b[0;32mIn[18], line 29\u001b[0m, in \u001b[0;36mnew_10_pow\u001b[0;34m(b, mod)\u001b[0m\n\u001b[1;32m     25\u001b[0m \u001b[39mdef\u001b[39;00m \u001b[39mnew_10_pow\u001b[39m(b, mod):\n\u001b[1;32m     26\u001b[0m     \u001b[39m# global cache\u001b[39;00m\n\u001b[1;32m     27\u001b[0m     \u001b[39m# if cache[b] != -1:\u001b[39;00m\n\u001b[1;32m     28\u001b[0m         \u001b[39m# return cache[b]\u001b[39;00m\n\u001b[0;32m---> 29\u001b[0m     \u001b[39mif\u001b[39;00m b \u001b[39m==\u001b[39;49m \u001b[39m0\u001b[39;49m:\n\u001b[1;32m     30\u001b[0m         \u001b[39mreturn\u001b[39;00m \u001b[39m1\u001b[39m\n\u001b[1;32m     31\u001b[0m     \u001b[39melse\u001b[39;00m:\n",
      "\u001b[0;31mRecursionError\u001b[0m: maximum recursion depth exceeded in comparison"
     ]
    }
   ],
   "source": [
    "from collections import deque\n",
    "\n",
    "def main():\n",
    "    MOD = 998244353\n",
    "    S = 1\n",
    "    q = deque([1])\n",
    "    len_S = 0\n",
    "    Q = int(input())\n",
    "    for _ in [0] * Q:\n",
    "        num, *x = map(int, input().split())\n",
    "        if num == 1:\n",
    "            x = x[0]\n",
    "            S = (10*S + x) % MOD\n",
    "            q.append(x)\n",
    "            len_S += 1\n",
    "        elif num == 2:\n",
    "            S = (S - q.popleft() * pow(10, len_S, MOD)) % MOD\n",
    "            len_S -= 1\n",
    "        else:\n",
    "            print(S)\n",
    "    \n",
    "if __name__ == \"__main__\":\n",
    "    main()"
   ]
  }
 ],
 "metadata": {
  "kernelspec": {
   "display_name": "Python 3",
   "language": "python",
   "name": "python3"
  },
  "language_info": {
   "codemirror_mode": {
    "name": "ipython",
    "version": 3
   },
   "file_extension": ".py",
   "mimetype": "text/x-python",
   "name": "python",
   "nbconvert_exporter": "python",
   "pygments_lexer": "ipython3",
   "version": "3.9.6"
  },
  "orig_nbformat": 4
 },
 "nbformat": 4,
 "nbformat_minor": 2
}
