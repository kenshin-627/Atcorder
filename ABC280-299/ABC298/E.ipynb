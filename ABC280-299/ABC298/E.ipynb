{
 "cells": [
  {
   "cell_type": "code",
   "execution_count": 32,
   "metadata": {},
   "outputs": [
    {
     "name": "stdout",
     "output_type": "stream",
     "text": [
      "665496236\n",
      "defaultdict(<function main.<locals>.<lambda> at 0x105510af0>, {(1, 4, 0): 0, (1, 4, 1): 0, (2, 4, 0): 0, (2, 4, 1): 0, (3, 4, 0): 0, (3, 4, 1): 0, (4, 3, 1): 1, (3, 3, 0): 1, (3, 3, 1): 0, (2, 3, 0): 665496236, (2, 3, 1): 0})\n"
     ]
    }
   ],
   "source": [
    "from collections import defaultdict\n",
    "\n",
    "def main():\n",
    "    N,A,B,P,Q = map(int,input().split())\n",
    "    MOD = 998244353\n",
    "    dp = defaultdict(lambda:1)\n",
    "    P_inv = pow(P,-1,MOD)\n",
    "    Q_inv = pow(Q,-1,MOD)\n",
    "    for i in range(1,N):\n",
    "        dp[(i,N,0)] = 0\n",
    "        dp[(i,N,1)] = 0\n",
    "    for i in range(N-1, A-1, -1):\n",
    "        for j in range(N-1, B-1, -1):\n",
    "            tmp_0 = 0\n",
    "            for p in range(1,P+1):\n",
    "                tmp_ip = i+p\n",
    "                if tmp_ip > N:\n",
    "                    tmp_ip = N\n",
    "                tmp_0 = (tmp_0 + dp[(tmp_ip,j,1)]*P_inv) % MOD\n",
    "            dp[(i,j,0)] = tmp_0\n",
    "            tmp_1 = 0\n",
    "            for q in range(1,Q+1):\n",
    "                tmp_jq = j+q\n",
    "                if tmp_jq > N:\n",
    "                    tmp_jq = N\n",
    "                tmp_1 = (tmp_1 + dp[(i,tmp_jq,0)]*Q_inv) % MOD\n",
    "            dp[(i,j,1)] = tmp_1\n",
    "    print((dp[(A,B,0)] % MOD))\n",
    "\n",
    "if __name__ == \"__main__\":\n",
    "    main()"
   ]
  },
  {
   "cell_type": "code",
   "execution_count": null,
   "metadata": {},
   "outputs": [],
   "source": []
  }
 ],
 "metadata": {
  "kernelspec": {
   "display_name": "Python 3",
   "language": "python",
   "name": "python3"
  },
  "language_info": {
   "codemirror_mode": {
    "name": "ipython",
    "version": 3
   },
   "file_extension": ".py",
   "mimetype": "text/x-python",
   "name": "python",
   "nbconvert_exporter": "python",
   "pygments_lexer": "ipython3",
   "version": "3.9.6"
  },
  "orig_nbformat": 4
 },
 "nbformat": 4,
 "nbformat_minor": 2
}
