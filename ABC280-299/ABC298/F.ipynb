{
 "cells": [
  {
   "cell_type": "code",
   "execution_count": 22,
   "metadata": {},
   "outputs": [
    {
     "name": "stdout",
     "output_type": "stream",
     "text": [
      "20\n"
     ]
    }
   ],
   "source": [
    "from collections import defaultdict\n",
    "\n",
    "def main():\n",
    "    N = int(input())\n",
    "    r_sum_dict = defaultdict(int)\n",
    "    c_sum_dict = defaultdict(int)\n",
    "    rc_dict = defaultdict(int)\n",
    "    for _ in [0]*N:\n",
    "        r,c,x = map(int, input().split())\n",
    "        r_sum_dict[r] += x\n",
    "        c_sum_dict[c] += x\n",
    "        rc_dict[(r,c)] = x\n",
    "    r_sum_dict = sorted(r_sum_dict.items(), key=lambda x:x[1], reverse=True)\n",
    "    c_sum_dict = sorted(c_sum_dict.items(), key=lambda x:x[1], reverse=True)\n",
    "    ans = 0\n",
    "    for r_sum in r_sum_dict:\n",
    "        if ans >= r_sum[1] + next(iter(c_sum_dict))[1]:\n",
    "            break\n",
    "        for c_sum in c_sum_dict:\n",
    "            if ans >= r_sum[1] + c_sum[1]:\n",
    "                break\n",
    "            if ans < r_sum[1] + c_sum[1] - rc_dict[(r_sum[0],c_sum[0])]:\n",
    "                ans = r_sum[1] + c_sum[1] - rc_dict[(r_sum[0],c_sum[0])]\n",
    "    print(ans)\n",
    "    \n",
    "if __name__ == \"__main__\":\n",
    "    main()"
   ]
  },
  {
   "cell_type": "code",
   "execution_count": 21,
   "metadata": {},
   "outputs": [
    {
     "name": "stdout",
     "output_type": "stream",
     "text": [
      "defaultdict(<class 'int'>, {1: 1, 3: 2})\n",
      "1\n",
      "defaultdict(<class 'int'>, {1: 1, 3: 2})\n"
     ]
    }
   ],
   "source": [
    "from collections import defaultdict\n",
    "\n",
    "a = defaultdict(int)\n",
    "a[1] = 1\n",
    "a[3] = 2\n",
    "print(a)\n",
    "print(next(iter(a)))\n",
    "print(a)"
   ]
  },
  {
   "cell_type": "code",
   "execution_count": null,
   "metadata": {},
   "outputs": [],
   "source": []
  }
 ],
 "metadata": {
  "kernelspec": {
   "display_name": "Python 3",
   "language": "python",
   "name": "python3"
  },
  "language_info": {
   "codemirror_mode": {
    "name": "ipython",
    "version": 3
   },
   "file_extension": ".py",
   "mimetype": "text/x-python",
   "name": "python",
   "nbconvert_exporter": "python",
   "pygments_lexer": "ipython3",
   "version": "3.9.6"
  },
  "orig_nbformat": 4
 },
 "nbformat": 4,
 "nbformat_minor": 2
}
