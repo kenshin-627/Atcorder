{
 "cells": [
  {
   "cell_type": "code",
   "execution_count": null,
   "metadata": {},
   "outputs": [],
   "source": [
    "from collections import Counter\n",
    "from itertools import permutations\n",
    "from itertools import combinations\n",
    "import math\n",
    "import heapq\n",
    "from collections import OrderedDict\n",
    "import bisect\n",
    "from collections import deque\n",
    "from collections import defaultdict\n",
    "\n",
    "def main():\n",
    "    N,T = map(int,input().split())\n",
    "    CN = [*map(int,input().split())]\n",
    "    CN_set = set(CN)\n",
    "    RN = [*map(int,input().split())]\n",
    "    if T not in CN_set:\n",
    "        T = CN[0]\n",
    "    max_RN = 0\n",
    "    ans = 0\n",
    "    for i in range(N):\n",
    "        if CN[i] == T:\n",
    "            if max_RN < RN[i]:\n",
    "                max_RN = RN[i]\n",
    "                ans = i+1\n",
    "    print(ans)\n",
    "    \n",
    "if __name__ == \"__main__\":\n",
    "    main()"
   ]
  },
  {
   "cell_type": "markdown",
   "metadata": {},
   "source": []
  }
 ],
 "metadata": {
  "language_info": {
   "name": "python"
  },
  "orig_nbformat": 4
 },
 "nbformat": 4,
 "nbformat_minor": 2
}
