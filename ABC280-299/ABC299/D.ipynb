{
 "cells": [
  {
   "cell_type": "code",
   "execution_count": 8,
   "metadata": {},
   "outputs": [
    {
     "name": "stdout",
     "output_type": "stream",
     "text": [
      "? 100000\n",
      "? 50000\n",
      "? 75000\n",
      "? 62500\n",
      "? 68750\n",
      "? 65625\n",
      "? 64062\n",
      "? 63281\n",
      "? 62890\n",
      "? 62695\n",
      "? 62597\n",
      "? 62548\n",
      "? 62524\n",
      "? 62512\n",
      "? 62506\n",
      "? 62503\n",
      "? 62501\n",
      "! 62500\n"
     ]
    }
   ],
   "source": [
    "from collections import defaultdict\n",
    "\n",
    "def main():\n",
    "    N = int(input())\n",
    "    S_dict = defaultdict(lambda: -2)\n",
    "    S_dict[1] = 0\n",
    "    S_dict[N] = 1\n",
    "    left = 1\n",
    "    right = N\n",
    "    i = N // 2\n",
    "    for _ in range(20):\n",
    "        print(f\"? {i}\", flush=True)\n",
    "        Si = int(input())\n",
    "        S_dict[i] = Si\n",
    "        if S_dict[i-1] != -2 and S_dict[i-1] != Si:\n",
    "            print(f\"! {i-1}\", flush=True)\n",
    "            return\n",
    "        if S_dict[i+1] != -2 and S_dict[i+1] != Si:\n",
    "            print(f\"! {i}\", flush=True)\n",
    "            return\n",
    "        if Si == 0:\n",
    "            left = i\n",
    "            i = (left+right) // 2\n",
    "        else:\n",
    "            right = i\n",
    "            i = (left+right) // 2\n",
    "    \n",
    "if __name__ == \"__main__\":\n",
    "    main()"
   ]
  },
  {
   "cell_type": "code",
   "execution_count": null,
   "metadata": {},
   "outputs": [],
   "source": []
  }
 ],
 "metadata": {
  "kernelspec": {
   "display_name": "Python 3",
   "language": "python",
   "name": "python3"
  },
  "language_info": {
   "codemirror_mode": {
    "name": "ipython",
    "version": 3
   },
   "file_extension": ".py",
   "mimetype": "text/x-python",
   "name": "python",
   "nbconvert_exporter": "python",
   "pygments_lexer": "ipython3",
   "version": "3.9.6"
  },
  "orig_nbformat": 4
 },
 "nbformat": 4,
 "nbformat_minor": 2
}
