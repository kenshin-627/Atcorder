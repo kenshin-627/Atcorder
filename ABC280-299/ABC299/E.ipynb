{
 "cells": [
  {
   "cell_type": "code",
   "execution_count": 10,
   "metadata": {},
   "outputs": [
    {
     "name": "stdout",
     "output_type": "stream",
     "text": [
      "No\n",
      "Yes\n",
      "01000\n"
     ]
    }
   ],
   "source": [
    "from collections import deque\n",
    "from collections import defaultdict\n",
    "\n",
    "def main():\n",
    "    N,M = map(int, input().split())\n",
    "    all_set = set(range(1,N+1))\n",
    "    white_set = set()\n",
    "    adj_dict = defaultdict(list)\n",
    "    for _ in [0]*M:\n",
    "        u,v = map(int, input().split())\n",
    "        adj_dict[u].append(v)\n",
    "        adj_dict[v].append(u)\n",
    "    K = int(input())\n",
    "    black_sets = []\n",
    "    for _ in [0]*K:\n",
    "        p,d = map(int, input().split())\n",
    "        i = 0\n",
    "        q = deque([p,-1])\n",
    "        seen = set([p])\n",
    "        i_is_d = False\n",
    "        black_set = set()\n",
    "        if i == d:\n",
    "            i_is_d = True\n",
    "        while i <= d:\n",
    "            now_node = q.popleft()\n",
    "            if now_node == -1:\n",
    "                i += 1\n",
    "                if i == d:\n",
    "                    i_is_d = True\n",
    "                elif i == d+1:\n",
    "                    black_sets.append(black_set)\n",
    "                q.append(-1)\n",
    "                continue\n",
    "            if i_is_d:\n",
    "                black_set.add(now_node)\n",
    "            else:\n",
    "                white_set.add(now_node)\n",
    "                for next_node in adj_dict[now_node]:\n",
    "                    if next_node not in seen:\n",
    "                        q.append(next_node)\n",
    "                        seen.add(next_node)\n",
    "        if all_set == white_set:\n",
    "            print(\"No\")\n",
    "            break\n",
    "    else:\n",
    "        for black in black_sets:\n",
    "            if black - white_set == set():\n",
    "                print(\"No\")\n",
    "                return\n",
    "        print(\"Yes\")\n",
    "        ans = \"\"\n",
    "        for i in range(1,N+1):\n",
    "            if i in white_set:\n",
    "                ans += \"0\"\n",
    "            else:\n",
    "                ans += \"1\"\n",
    "        print(ans)\n",
    "\n",
    "if __name__ == \"__main__\":\n",
    "    main()"
   ]
  },
  {
   "cell_type": "code",
   "execution_count": 7,
   "metadata": {},
   "outputs": [
    {
     "name": "stdout",
     "output_type": "stream",
     "text": [
      "{3}\n"
     ]
    }
   ],
   "source": [
    "a = {1,3}\n",
    "b = {1,2}\n",
    "print(a-b)"
   ]
  },
  {
   "cell_type": "code",
   "execution_count": null,
   "metadata": {},
   "outputs": [],
   "source": []
  }
 ],
 "metadata": {
  "kernelspec": {
   "display_name": "Python 3",
   "language": "python",
   "name": "python3"
  },
  "language_info": {
   "codemirror_mode": {
    "name": "ipython",
    "version": 3
   },
   "file_extension": ".py",
   "mimetype": "text/x-python",
   "name": "python",
   "nbconvert_exporter": "python",
   "pygments_lexer": "ipython3",
   "version": "3.9.6"
  },
  "orig_nbformat": 4
 },
 "nbformat": 4,
 "nbformat_minor": 2
}
