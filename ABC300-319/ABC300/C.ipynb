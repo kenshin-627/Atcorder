{
 "cells": [
  {
   "cell_type": "code",
   "execution_count": 2,
   "metadata": {},
   "outputs": [
    {
     "name": "stdout",
     "output_type": "stream",
     "text": [
      "[['.', '.', '.'], ['.', '#', '.'], ['#', '#', '.']]\n"
     ]
    }
   ],
   "source": [
    "from collections import defaultdict\n",
    "\n",
    "def main():\n",
    "    H,W = map(int,input().split())\n",
    "    C = []\n",
    "    for _ in range(H):\n",
    "        C.append([*input()])\n",
    "    ans_dict = defaultdict(int)\n",
    "    for i in range(H):\n",
    "        for j in range(W):\n",
    "            if C[i][j] == \"#\":\n",
    "                batsu_size_2 = 0\n",
    "                while True:\n",
    "                    if i+batsu_size_2 == H-1 or j+batsu_size_2 == W-1:\n",
    "                        break\n",
    "                    if C[i+batsu_size_2][j+batsu_size_2] == \"#\":\n",
    "                        C[i+batsu_size_2][j+batsu_size_2] = \".\"\n",
    "                        batsu_size_2 += 1\n",
    "                    else:\n",
    "                        break\n",
    "                ans_dict[batsu_size_2//2] += 1\n",
    "    ans_list = []\n",
    "    for i in range(1,min(H,W)+1):\n",
    "        ans_list.append(str(ans_dict[i]))\n",
    "    print(\" \".join(ans_list))\n",
    "\n",
    "if __name__ == \"__main__\":\n",
    "    main()"
   ]
  },
  {
   "cell_type": "code",
   "execution_count": null,
   "metadata": {},
   "outputs": [],
   "source": []
  }
 ],
 "metadata": {
  "kernelspec": {
   "display_name": "Python 3",
   "language": "python",
   "name": "python3"
  },
  "language_info": {
   "codemirror_mode": {
    "name": "ipython",
    "version": 3
   },
   "file_extension": ".py",
   "mimetype": "text/x-python",
   "name": "python",
   "nbconvert_exporter": "python",
   "pygments_lexer": "ipython3",
   "version": "3.9.6"
  },
  "orig_nbformat": 4
 },
 "nbformat": 4,
 "nbformat_minor": 2
}
