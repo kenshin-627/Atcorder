{
 "cells": [
  {
   "cell_type": "code",
   "execution_count": 11,
   "metadata": {},
   "outputs": [
    {
     "name": "stdout",
     "output_type": "stream",
     "text": [
      "2817785\n"
     ]
    }
   ],
   "source": [
    "import math\n",
    "\n",
    "# エラトステネスの篩\n",
    "def prime(n):\n",
    "    is_prime = [True] * (n + 1)\n",
    "    is_prime[0], is_prime[1] = False, False\n",
    "    for i in range(2, int(math.sqrt(n)) + 1):\n",
    "        if is_prime[i]:\n",
    "            for j in range(2 * i, n + 1, i):\n",
    "                is_prime[j] = False\n",
    "    return is_prime\n",
    "\n",
    "def main():\n",
    "    N = int(input())\n",
    "    # 288675以下の素数を列挙\n",
    "    is_prime = prime(288675)\n",
    "    prime_list = []\n",
    "    for i in range(288675 + 1):\n",
    "        if is_prime[i]:\n",
    "            prime_list.append(i)\n",
    "    ans = 0\n",
    "    a = 0\n",
    "    b = 1\n",
    "    c = 2\n",
    "    while True:\n",
    "        # prime_listのa**2*b*c**2がN以下ならans+=1\n",
    "        if prime_list[a]**2 * prime_list[b] * prime_list[c]**2 <= N:\n",
    "            ans += 1\n",
    "            if c < len(prime_list) - 1:\n",
    "                c += 1\n",
    "            else:\n",
    "                if b < len(prime_list) - 2:\n",
    "                    b += 1\n",
    "                    c = b + 1\n",
    "                else:\n",
    "                    if a < len(prime_list) - 3:\n",
    "                        a += 1\n",
    "                        b = a + 1\n",
    "                        c = b + 1\n",
    "                    else:\n",
    "                        break\n",
    "        else:\n",
    "            if b < len(prime_list) - 2 and b+1 != c:\n",
    "                b += 1\n",
    "                c = b + 1\n",
    "            else:\n",
    "                if a < len(prime_list) - 3 and a+1 != b:\n",
    "                    a += 1\n",
    "                    b = a + 1\n",
    "                    c = b + 1\n",
    "                else:\n",
    "                    break\n",
    "    print(ans)\n",
    "    \n",
    "if __name__ == \"__main__\":\n",
    "    main()"
   ]
  },
  {
   "cell_type": "code",
   "execution_count": null,
   "metadata": {},
   "outputs": [],
   "source": []
  }
 ],
 "metadata": {
  "kernelspec": {
   "display_name": "Python 3",
   "language": "python",
   "name": "python3"
  },
  "language_info": {
   "codemirror_mode": {
    "name": "ipython",
    "version": 3
   },
   "file_extension": ".py",
   "mimetype": "text/x-python",
   "name": "python",
   "nbconvert_exporter": "python",
   "pygments_lexer": "ipython3",
   "version": "3.9.6"
  },
  "orig_nbformat": 4
 },
 "nbformat": 4,
 "nbformat_minor": 2
}
