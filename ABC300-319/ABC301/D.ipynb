{
 "cells": [
  {
   "cell_type": "code",
   "execution_count": 10,
   "metadata": {},
   "outputs": [
    {
     "name": "stdout",
     "output_type": "stream",
     "text": [
      "5\n"
     ]
    }
   ],
   "source": [
    "def main():\n",
    "    S = input()\n",
    "    N = int(input())\n",
    "    q_digit = []\n",
    "    num = 0\n",
    "    digit = 1\n",
    "    for s in reversed(S):\n",
    "        if s == \"1\":\n",
    "            num += digit\n",
    "        if s == \"?\":\n",
    "            q_digit.append(digit)\n",
    "        digit *= 2\n",
    "    if N < num:\n",
    "        print(-1)\n",
    "        return\n",
    "    if N == num:\n",
    "        print(num)\n",
    "        return\n",
    "    for q in reversed(q_digit):\n",
    "        if N - num >= q:\n",
    "            num += q\n",
    "    print(num)\n",
    "    \n",
    "if __name__ == \"__main__\":\n",
    "    main()"
   ]
  },
  {
   "cell_type": "code",
   "execution_count": null,
   "metadata": {},
   "outputs": [],
   "source": []
  }
 ],
 "metadata": {
  "kernelspec": {
   "display_name": "Python 3",
   "language": "python",
   "name": "python3"
  },
  "language_info": {
   "codemirror_mode": {
    "name": "ipython",
    "version": 3
   },
   "file_extension": ".py",
   "mimetype": "text/x-python",
   "name": "python",
   "nbconvert_exporter": "python",
   "pygments_lexer": "ipython3",
   "version": "3.9.6"
  },
  "orig_nbformat": 4
 },
 "nbformat": 4,
 "nbformat_minor": 2
}
