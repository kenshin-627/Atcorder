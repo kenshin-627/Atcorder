{
 "cells": [
  {
   "cell_type": "code",
   "execution_count": 1,
   "metadata": {},
   "outputs": [
    {
     "name": "stdout",
     "output_type": "stream",
     "text": [
      "False\n"
     ]
    }
   ],
   "source": [
    "def main():\n",
    "    H,W = map(int,input().split())\n",
    "    S = [[*input()] for _ in range(H)]\n",
    "    # Sの各マスについて縦・横・斜めのいずれかの方向に\"snuke\"が連続しているか調べる\n",
    "    ans = []\n",
    "    for i in range(H):\n",
    "        for j in range(W):\n",
    "            if S[i][j] == \"s\":\n",
    "                # 下方向\n",
    "                if i+4 < H:\n",
    "                    if S[i+1][j] == \"n\" and S[i+2][j] == \"u\" and S[i+3][j] == \"k\" and S[i+4][j] == \"e\":\n",
    "                        ans = [[i+1+k,j+1] for k in range(5)]\n",
    "                        break\n",
    "                # 上方向\n",
    "                if i-4 >= 0:\n",
    "                    if S[i-1][j] == \"n\" and S[i-2][j] == \"u\" and S[i-3][j] == \"k\" and S[i-4][j] == \"e\":\n",
    "                        ans = [[i+1-k,j+1] for k in range(5)]\n",
    "                        break\n",
    "                # 右方向\n",
    "                if j+4 < W:\n",
    "                    if S[i][j+1] == \"n\" and S[i][j+2] == \"u\" and S[i][j+3] == \"k\" and S[i][j+4] == \"e\":\n",
    "                        ans = [[i+1,j+1+k] for k in range(5)]\n",
    "                        break\n",
    "                # 左方向\n",
    "                if j-4 >= 0:\n",
    "                    if S[i][j-1] == \"n\" and S[i][j-2] == \"u\" and S[i][j-3] == \"k\" and S[i][j-4] == \"e\":\n",
    "                        ans = [[i+1,j+1-k] for k in range(5)]\n",
    "                        break\n",
    "                # 右下方向\n",
    "                if i+4 < H and j+4 < W:\n",
    "                    if S[i+1][j+1] == \"n\" and S[i+2][j+2] == \"u\" and S[i+3][j+3] == \"k\" and S[i+4][j+4] == \"e\":\n",
    "                        ans = [[i+1+k,j+1+k] for k in range(5)]\n",
    "                        break\n",
    "                # 左上方向\n",
    "                if i-4 >= 0 and j-4 >= 0:\n",
    "                    if S[i-1][j-1] == \"n\" and S[i-2][j-2] == \"u\" and S[i-3][j-3] == \"k\" and S[i-4][j-4] == \"e\":\n",
    "                        ans = [[i+1-k,j+1-k] for k in range(5)]\n",
    "                        break\n",
    "                # 右上方向\n",
    "                if i-4 >= 0 and j+4 < W:\n",
    "                    if S[i-1][j+1] == \"n\" and S[i-2][j+2] == \"u\" and S[i-3][j+3] == \"k\" and S[i-4][j+4] == \"e\":\n",
    "                        ans = [[i+1-k,j+1+k] for k in range(5)]\n",
    "                        break\n",
    "                # 左下方向\n",
    "                if i+4 < H and j-4 >= 0:\n",
    "                    if S[i+1][j-1] == \"n\" and S[i+2][j-2] == \"u\" and S[i+3][j-3] == \"k\" and S[i+4][j-4] == \"e\":\n",
    "                        ans = [[i+1+k,j+1-k] for k in range(5)]\n",
    "                        break\n",
    "            else:\n",
    "                continue\n",
    "    for a in ans:\n",
    "        print(\" \".join(map(str,a)))\n",
    "    \n",
    "if __name__ == \"__main__\":\n",
    "    main()"
   ]
  },
  {
   "cell_type": "code",
   "execution_count": null,
   "metadata": {},
   "outputs": [],
   "source": []
  }
 ],
 "metadata": {
  "kernelspec": {
   "display_name": "Python 3",
   "language": "python",
   "name": "python3"
  },
  "language_info": {
   "codemirror_mode": {
    "name": "ipython",
    "version": 3
   },
   "file_extension": ".py",
   "mimetype": "text/x-python",
   "name": "python",
   "nbconvert_exporter": "python",
   "pygments_lexer": "ipython3",
   "version": "3.9.6"
  },
  "orig_nbformat": 4
 },
 "nbformat": 4,
 "nbformat_minor": 2
}
