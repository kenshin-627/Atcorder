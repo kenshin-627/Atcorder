{
 "cells": [
  {
   "cell_type": "code",
   "execution_count": 2,
   "metadata": {},
   "outputs": [
    {
     "name": "stdout",
     "output_type": "stream",
     "text": [
      "[1, 0]\n",
      "[1, 0]\n"
     ]
    }
   ],
   "source": [
    "from itertools import permutations\n",
    "\n",
    "def main():\n",
    "    N,M = map(int,input().split())\n",
    "    S = [[*input()] for _ in range(N)]\n",
    "    # Sの順列\n",
    "    for s in permutations(S):\n",
    "        for i in range(N-1):\n",
    "            # s[i]とs[i+1]の差分を取る\n",
    "            diff = 0\n",
    "            for j in range(M):\n",
    "                if s[i][j] != s[i+1][j]:\n",
    "                    diff += 1\n",
    "            if diff > 1:\n",
    "                break\n",
    "        else:\n",
    "            print(\"Yes\")\n",
    "            return\n",
    "    print(\"No\")\n",
    "\n",
    "if __name__ == \"__main__\":\n",
    "    main()"
   ]
  },
  {
   "cell_type": "code",
   "execution_count": null,
   "metadata": {},
   "outputs": [],
   "source": []
  }
 ],
 "metadata": {
  "kernelspec": {
   "display_name": "Python 3",
   "language": "python",
   "name": "python3"
  },
  "language_info": {
   "codemirror_mode": {
    "name": "ipython",
    "version": 3
   },
   "file_extension": ".py",
   "mimetype": "text/x-python",
   "name": "python",
   "nbconvert_exporter": "python",
   "pygments_lexer": "ipython3",
   "version": "3.9.6"
  },
  "orig_nbformat": 4
 },
 "nbformat": 4,
 "nbformat_minor": 2
}
