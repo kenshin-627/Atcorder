{
 "cells": [
  {
   "cell_type": "code",
   "execution_count": 2,
   "metadata": {},
   "outputs": [
    {
     "name": "stdout",
     "output_type": "stream",
     "text": [
      "2 3\n",
      "2 3\n",
      "2 3\n"
     ]
    }
   ],
   "source": [
    "from collections import defaultdict\n",
    "    \n",
    "def main():\n",
    "    N,Q = map(int,input().split())\n",
    "    ans = N\n",
    "    adj_dict = defaultdict(set)\n",
    "    for _ in [0]*Q:\n",
    "        num, *uv = map(int,input().split())\n",
    "        if num == 1:\n",
    "            u,v = uv\n",
    "            # uとvの間に辺を作る\n",
    "            # この時にuに辺がなかったらans -= 1，vに辺がなかったらans -= 1\n",
    "            if len(adj_dict[u]) == 0:\n",
    "                ans -= 1\n",
    "            if len(adj_dict[v]) == 0:\n",
    "                ans -= 1\n",
    "            adj_dict[u].add(v)\n",
    "            adj_dict[v].add(u)\n",
    "        else:\n",
    "            v = uv[0]\n",
    "            # vの周りの頂点を取得\n",
    "            v_adj_set = adj_dict[v]\n",
    "            # vの辺を全て削除，ans +=1\n",
    "            if len(v_adj_set) == 0:\n",
    "                print(ans)\n",
    "                continue\n",
    "            adj_dict[v] = set()\n",
    "            ans += 1\n",
    "            for v_adj in v_adj_set:\n",
    "                # vの周りの頂点の辺を削除\n",
    "                adj_dict[v_adj].remove(v)\n",
    "                # vの周りの頂点の辺を削除した後に，その頂点に辺がなかったらans += 1\n",
    "                if len(adj_dict[v_adj]) == 0:\n",
    "                    ans += 1\n",
    "        print(ans)\n",
    "    \n",
    "if __name__ == \"__main__\":\n",
    "    main()"
   ]
  },
  {
   "cell_type": "code",
   "execution_count": 3,
   "metadata": {},
   "outputs": [
    {
     "name": "stdout",
     "output_type": "stream",
     "text": [
      "0\n"
     ]
    }
   ],
   "source": [
    "a = set()\n",
    "print(len(a))"
   ]
  },
  {
   "cell_type": "code",
   "execution_count": null,
   "metadata": {},
   "outputs": [],
   "source": []
  }
 ],
 "metadata": {
  "kernelspec": {
   "display_name": "Python 3",
   "language": "python",
   "name": "python3"
  },
  "language_info": {
   "codemirror_mode": {
    "name": "ipython",
    "version": 3
   },
   "file_extension": ".py",
   "mimetype": "text/x-python",
   "name": "python",
   "nbconvert_exporter": "python",
   "pygments_lexer": "ipython3",
   "version": "3.9.6"
  },
  "orig_nbformat": 4
 },
 "nbformat": 4,
 "nbformat_minor": 2
}
