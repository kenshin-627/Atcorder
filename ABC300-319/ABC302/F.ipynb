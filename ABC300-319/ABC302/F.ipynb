{
 "cells": [
  {
   "cell_type": "code",
   "execution_count": null,
   "metadata": {},
   "outputs": [],
   "source": [
    "from collections import deque\n",
    "from collections import defaultdict\n",
    "\n",
    "def main():\n",
    "    N,M = map(int,input().split())\n",
    "    # 1が入ってる袋を距離1として，BFS\n",
    "    dist = [0]*N\n",
    "    q = deque()\n",
    "    seen_num = set([1])\n",
    "    # 数字: 袋\n",
    "    num_to_bag = defaultdict(set)\n",
    "    seen_bag = set()\n",
    "    S_list = []\n",
    "    for i in range(N):\n",
    "        A = int(input())\n",
    "        S = set(map(int,input().split()))\n",
    "        S_list.append(S)\n",
    "        for s in S:\n",
    "            num_to_bag[s].add(i)\n",
    "        if 1 in S:\n",
    "            dist[i] = 1\n",
    "            q.append(i)\n",
    "            seen_bag.add(i)\n",
    "    while q:\n",
    "        bag = q.popleft()\n",
    "        for num in S_list[bag]:\n",
    "            if num in seen_num:\n",
    "                continue\n",
    "            seen_num.add(num)\n",
    "            if num == M:\n",
    "                print(dist[bag]-1)\n",
    "                return\n",
    "            for next_bag in num_to_bag[num]:\n",
    "                if next_bag in seen_bag:\n",
    "                    continue\n",
    "                seen_bag.add(next_bag)\n",
    "                dist[next_bag] = dist[bag] + 1\n",
    "                q.append(next_bag)\n",
    "    print(-1)\n",
    "\n",
    "if __name__ == \"__main__\":\n",
    "    main()"
   ]
  },
  {
   "cell_type": "code",
   "execution_count": null,
   "metadata": {},
   "outputs": [],
   "source": []
  }
 ],
 "metadata": {
  "kernelspec": {
   "display_name": "Python 3",
   "language": "python",
   "name": "python3"
  },
  "language_info": {
   "codemirror_mode": {
    "name": "ipython",
    "version": 3
   },
   "file_extension": ".py",
   "mimetype": "text/x-python",
   "name": "python",
   "nbconvert_exporter": "python",
   "pygments_lexer": "ipython3",
   "version": "3.9.6"
  },
  "orig_nbformat": 4
 },
 "nbformat": 4,
 "nbformat_minor": 2
}
