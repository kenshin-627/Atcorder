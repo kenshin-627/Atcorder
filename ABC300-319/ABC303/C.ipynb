{
 "cells": [
  {
   "cell_type": "code",
   "execution_count": null,
   "metadata": {},
   "outputs": [],
   "source": [
    "def main():\n",
    "    N,M,H,K = map(int,input().split())\n",
    "    S = input()\n",
    "    item_set = set()\n",
    "    for _ in range(M):\n",
    "        x,y = map(int,input().split())\n",
    "        item_set.add((x,y))\n",
    "    now_x = 0\n",
    "    now_y = 0\n",
    "    for s in S:\n",
    "        if s == \"U\":\n",
    "            now_y += 1\n",
    "        elif s == \"D\":\n",
    "            now_y -= 1\n",
    "        elif s == \"L\":\n",
    "            now_x -= 1\n",
    "        elif s == \"R\":\n",
    "            now_x += 1\n",
    "        H -= 1\n",
    "        if H < 0:\n",
    "            break\n",
    "        if (now_x,now_y) in item_set and H < K:\n",
    "            H = K\n",
    "            item_set.remove((now_x,now_y))\n",
    "    else:\n",
    "        print(\"Yes\")\n",
    "        return\n",
    "    print(\"No\")\n",
    "    \n",
    "if __name__ == \"__main__\":\n",
    "    main()"
   ]
  }
 ],
 "metadata": {
  "language_info": {
   "name": "python"
  },
  "orig_nbformat": 4
 },
 "nbformat": 4,
 "nbformat_minor": 2
}
