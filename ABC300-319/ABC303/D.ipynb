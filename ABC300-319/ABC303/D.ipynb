{
 "cells": [
  {
   "cell_type": "code",
   "execution_count": 28,
   "metadata": {},
   "outputs": [
    {
     "name": "stdout",
     "output_type": "stream",
     "text": [
      "40\n",
      "[[1, 6], [2, 7], [4, 7], [5, 9], [7, 10], [8, 12], [9, 14], [11, 14], [13, 15], [15, 16], [17, 17], [18, 19], [20, 20], [21, 22], [22, 24], [24, 25], [25, 27], [27, 28], [29, 29], [30, 31], [31, 33], [32, 35], [34, 36], [36, 37], [38, 38], [40, 39], [42, 40]]\n"
     ]
    }
   ],
   "source": [
    "def main():\n",
    "    X,Y,Z = map(int,input().split())\n",
    "    S = input()\n",
    "    dp = [[float(\"inf\")]*2 for _ in range(len(S))]\n",
    "    dp[-1][0] = 0\n",
    "    dp[-1][1] = Z\n",
    "    for i in range(len(S)):\n",
    "        if S[i] == \"a\":\n",
    "            dp[i][0] = min(dp[i-1][0]+X,dp[i-1][1]+Z+X)\n",
    "            dp[i][1] = min(dp[i-1][0]+Z+Y,dp[i-1][1]+Y)\n",
    "        if S[i] == \"A\":\n",
    "            dp[i][0] = min(dp[i-1][0]+Y,dp[i-1][1]+Z+Y)\n",
    "            dp[i][1] = min(dp[i-1][0]+Z+X,dp[i-1][1]+X)\n",
    "    print(min(dp[len(S)-1][0],dp[len(S)-1][1]))\n",
    "if __name__ == \"__main__\":\n",
    "    main()"
   ]
  }
 ],
 "metadata": {
  "kernelspec": {
   "display_name": "Python 3",
   "language": "python",
   "name": "python3"
  },
  "language_info": {
   "codemirror_mode": {
    "name": "ipython",
    "version": 3
   },
   "file_extension": ".py",
   "mimetype": "text/x-python",
   "name": "python",
   "nbconvert_exporter": "python",
   "pygments_lexer": "ipython3",
   "version": "3.9.6"
  },
  "orig_nbformat": 4
 },
 "nbformat": 4,
 "nbformat_minor": 2
}
