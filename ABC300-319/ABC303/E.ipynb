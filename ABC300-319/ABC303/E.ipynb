{
 "cells": [
  {
   "cell_type": "code",
   "execution_count": 8,
   "metadata": {},
   "outputs": [
    {
     "name": "stdout",
     "output_type": "stream",
     "text": [
      "1 2 {1, 3}\n",
      "4 5 {4, 6}\n",
      "2 2\n"
     ]
    }
   ],
   "source": [
    "from collections import Counter\n",
    "from itertools import permutations\n",
    "from itertools import combinations\n",
    "import math\n",
    "import heapq\n",
    "from collections import OrderedDict\n",
    "import bisect\n",
    "from collections import deque\n",
    "from collections import defaultdict\n",
    "\n",
    "def main():\n",
    "    N = int(input())\n",
    "    adj_dict = defaultdict(set)\n",
    "    end_set = set()\n",
    "    for _ in range(N-1):\n",
    "        u,v = map(int, input().split())\n",
    "        adj_dict[u].add(v)\n",
    "        adj_dict[v].add(u)\n",
    "        if len(adj_dict[u]) == 1:\n",
    "            end_set.add(u)\n",
    "        elif len(adj_dict[u]) == 2:\n",
    "            end_set.remove(u)\n",
    "        if len(adj_dict[v]) == 1:\n",
    "            end_set.add(v)\n",
    "        elif len(adj_dict[v]) == 2:\n",
    "            end_set.remove(v)\n",
    "    ans_list = []\n",
    "    while end_set:\n",
    "        end = end_set.pop()\n",
    "        center = adj_dict[end].pop()\n",
    "        ends = adj_dict[center]\n",
    "        ans_list.append(len(ends))\n",
    "        # ends の辺を全削除\n",
    "        for e in ends.copy():\n",
    "            for edge in adj_dict[e]:\n",
    "                adj_dict[edge].discard(e)\n",
    "                if len(adj_dict[edge]) == 1 and edge != center:\n",
    "                    end_set.add(edge)\n",
    "                elif len(adj_dict[edge]) == 0:\n",
    "                    end_set.discard(edge)\n",
    "            adj_dict[e] = set()\n",
    "            end_set.discard(e)\n",
    "    print(\" \".join([*map(str, sorted(ans_list))]))\n",
    "    \n",
    "if __name__ == \"__main__\":\n",
    "    main()"
   ]
  },
  {
   "cell_type": "code",
   "execution_count": null,
   "metadata": {},
   "outputs": [],
   "source": []
  }
 ],
 "metadata": {
  "kernelspec": {
   "display_name": "Python 3",
   "language": "python",
   "name": "python3"
  },
  "language_info": {
   "codemirror_mode": {
    "name": "ipython",
    "version": 3
   },
   "file_extension": ".py",
   "mimetype": "text/x-python",
   "name": "python",
   "nbconvert_exporter": "python",
   "pygments_lexer": "ipython3",
   "version": "3.9.6"
  },
  "orig_nbformat": 4
 },
 "nbformat": 4,
 "nbformat_minor": 2
}
