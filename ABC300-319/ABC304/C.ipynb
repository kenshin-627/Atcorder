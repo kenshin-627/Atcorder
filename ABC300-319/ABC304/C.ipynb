{
 "cells": [
  {
   "cell_type": "code",
   "execution_count": 6,
   "metadata": {},
   "outputs": [
    {
     "name": "stdout",
     "output_type": "stream",
     "text": [
      "Yes\n",
      "Yes\n",
      "No\n",
      "Yes\n"
     ]
    }
   ],
   "source": [
    "from collections import deque\n",
    "\n",
    "def main():\n",
    "    N,D = map(int,input().split())\n",
    "    D_2 = D**2\n",
    "    X_Y_list = []\n",
    "    X,Y = map(int,input().split())\n",
    "    X_Y_list.append((X,Y))\n",
    "    search_q = deque([(X,Y)])\n",
    "    seen = set([(X,Y)])\n",
    "    for _ in range(N-1):\n",
    "        X,Y = map(int,input().split())\n",
    "        X_Y_list.append((X,Y))\n",
    "    all_set = set(X_Y_list)\n",
    "    all_set.discard(search_q[0])\n",
    "    while search_q:\n",
    "        x,y = search_q.popleft()\n",
    "        seen_set = set()\n",
    "        for x2,y2 in all_set:\n",
    "            if (x-x2)**2 + (y-y2)**2 <= D_2:\n",
    "                seen_set.add((x2,y2))\n",
    "                seen.add((x2,y2))\n",
    "                search_q.append((x2,y2))\n",
    "        all_set -= seen_set\n",
    "    for X_Y in X_Y_list:\n",
    "        if X_Y in seen:\n",
    "            print(\"Yes\")\n",
    "        else:\n",
    "            print(\"No\")\n",
    "        \n",
    "\n",
    "if __name__ == \"__main__\":\n",
    "    main()"
   ]
  },
  {
   "cell_type": "code",
   "execution_count": null,
   "metadata": {},
   "outputs": [],
   "source": [
    "from collections import deque\n",
    "from itertools import combinations\n",
    "\n",
    "def main():\n",
    "    N, D = map(int, input().split())\n",
    "\n",
    "    X = []\n",
    "    Y = []\n",
    "\n",
    "    for _ in range(N):\n",
    "        x, y = map(int, input().split())\n",
    "        X.append(x)\n",
    "        Y.append(y)\n",
    "\n",
    "    grid = [set() for _ in range(N)]\n",
    "\n",
    "    #iが感染したときに感染する人(j)をあらかじめマークしておく\n",
    "    for i,j in combinations(range(N), 2):\n",
    "            if (X[i] - X[j]) ** 2 + (Y[i] - Y[j]) ** 2 <= D** 2:\n",
    "                grid[i].add(j)\n",
    "                grid[j].add(i)\n",
    "    not_infected = set(range(1,N))\n",
    "\n",
    "    #感染者の増加がなくなるまで繰り返しキューを回す。\n",
    "    #grid[感染者][被感染者]\n",
    "    #if文は感染者のD距離以内にいるか？、既に感染している人でないかを確認している。\n",
    "    que = deque([0])\n",
    "    while que:\n",
    "        q = que.popleft()\n",
    "        next_infector = grid[q] & not_infected\n",
    "        not_infected -= next_infector\n",
    "        que.extend(next_infector)\n",
    "\n",
    "    for i in range(N):\n",
    "        print(\"No\" if i in not_infected else \"Yes\")\n",
    "\n",
    "if __name__ == \"__main__\":\n",
    "    main()"
   ]
  },
  {
   "cell_type": "code",
   "execution_count": 3,
   "metadata": {},
   "outputs": [
    {
     "name": "stdout",
     "output_type": "stream",
     "text": [
      "[{1, 2}, {2}]\n",
      "{1, 2}\n",
      "{2}\n"
     ]
    }
   ],
   "source": [
    "a = []\n",
    "a.append(set([1,2]))\n",
    "a.append(set([2]))\n",
    "print(a)\n",
    "for i in a:\n",
    "    print(i)"
   ]
  },
  {
   "cell_type": "code",
   "execution_count": null,
   "metadata": {},
   "outputs": [],
   "source": []
  }
 ],
 "metadata": {
  "kernelspec": {
   "display_name": "Python 3",
   "language": "python",
   "name": "python3"
  },
  "language_info": {
   "codemirror_mode": {
    "name": "ipython",
    "version": 3
   },
   "file_extension": ".py",
   "mimetype": "text/x-python",
   "name": "python",
   "nbconvert_exporter": "python",
   "pygments_lexer": "ipython3",
   "version": "3.9.6"
  },
  "orig_nbformat": 4
 },
 "nbformat": 4,
 "nbformat_minor": 2
}
