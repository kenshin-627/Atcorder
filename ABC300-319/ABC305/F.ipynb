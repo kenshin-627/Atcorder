{
 "cells": [
  {
   "cell_type": "code",
   "execution_count": 13,
   "metadata": {},
   "outputs": [
    {
     "name": "stdout",
     "output_type": "stream",
     "text": [
      "3\n",
      "2\n",
      "3\n",
      "1\n",
      "4\n"
     ]
    }
   ],
   "source": [
    "from collections import defaultdict\n",
    "\n",
    "def main():\n",
    "    N,M = map(int,input().split())\n",
    "    parent_dict = defaultdict(int)\n",
    "    parent_dict[1] = -1\n",
    "    now_node = 1\n",
    "    while True:\n",
    "        query = input()\n",
    "        if query == \"-1\" or query == \"OK\":\n",
    "            break\n",
    "        k, *v = map(int, query.split())\n",
    "        # *vの中で行ってない点があればそこに移動して，親を更新する\n",
    "        for next_node in v:\n",
    "            if next_node not in parent_dict:\n",
    "                parent_dict[next_node] = now_node\n",
    "                now_node = next_node\n",
    "                print(next_node, flush=True)\n",
    "                break\n",
    "        else:\n",
    "            # *vの中で行ってない点がなければ，親ノードに戻る\n",
    "            now_node = parent_dict[now_node]\n",
    "            print(now_node, flush=True)\n",
    "    \n",
    "if __name__ == \"__main__\":\n",
    "    main()"
   ]
  },
  {
   "cell_type": "code",
   "execution_count": null,
   "metadata": {},
   "outputs": [],
   "source": []
  }
 ],
 "metadata": {
  "kernelspec": {
   "display_name": "Python 3",
   "language": "python",
   "name": "python3"
  },
  "language_info": {
   "codemirror_mode": {
    "name": "ipython",
    "version": 3
   },
   "file_extension": ".py",
   "mimetype": "text/x-python",
   "name": "python",
   "nbconvert_exporter": "python",
   "pygments_lexer": "ipython3",
   "version": "3.9.6"
  },
  "orig_nbformat": 4
 },
 "nbformat": 4,
 "nbformat_minor": 2
}
