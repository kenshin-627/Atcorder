{
 "cells": [
  {
   "cell_type": "code",
   "execution_count": 5,
   "metadata": {},
   "outputs": [
    {
     "name": "stdout",
     "output_type": "stream",
     "text": [
      "[1, 3, 2, 8, 4, 6]\n",
      "12\n",
      "[1, 2, 3, 4, 6, 8]\n"
     ]
    }
   ],
   "source": [
    "# import pypyjit\n",
    "# pypyjit.set_param('max_unroll_recursion=-1') # pypyの再帰高速化\n",
    "import sys\n",
    "sys.setrecursionlimit(10**9) # 再帰関数の呼び出し制限\n",
    "# 転倒数\n",
    "def mergecount(A):\n",
    "    cnt = 0\n",
    "    n = len(A)\n",
    "    if n>1:\n",
    "        A1 = A[:n>>1]\n",
    "        A2 = A[n>>1:]\n",
    "        cnt += mergecount(A1)\n",
    "        cnt += mergecount(A2)\n",
    "        i1=0\n",
    "        i2=0\n",
    "        for i in range(n):\n",
    "            if i2 == len(A2):\n",
    "                A[i] = A1[i1]\n",
    "                i1 += 1\n",
    "            elif i1 == len(A1):\n",
    "                A[i] = A2[i2]\n",
    "                i2 += 1\n",
    "            elif A1[i1] <= A2[i2]:\n",
    "                A[i] = A1[i1]\n",
    "                i1 += 1\n",
    "            else:\n",
    "                A[i] = A2[i2]\n",
    "                i2 += 1\n",
    "                cnt += n//2 - i1\n",
    "    return cnt\n",
    "\n",
    "def main():\n",
    "    N,M = map(int, input().split())\n",
    "    A = []\n",
    "    for _ in range(N):\n",
    "        A += sorted(list(map(int, input().split())))\n",
    "    print(mergecount(A) + N*(N-1)//2 * M*(M+1)//2)\n",
    "    \n",
    "if __name__ == \"__main__\":\n",
    "    main()"
   ]
  },
  {
   "cell_type": "code",
   "execution_count": 7,
   "metadata": {},
   "outputs": [
    {
     "ename": "ModuleNotFoundError",
     "evalue": "No module named 'pypyjit'",
     "output_type": "error",
     "traceback": [
      "\u001b[0;31m---------------------------------------------------------------------------\u001b[0m",
      "\u001b[0;31mModuleNotFoundError\u001b[0m                       Traceback (most recent call last)",
      "Cell \u001b[0;32mIn[7], line 2\u001b[0m\n\u001b[1;32m      1\u001b[0m \u001b[38;5;28;01mfrom\u001b[39;00m \u001b[38;5;21;01mtypes\u001b[39;00m \u001b[38;5;28;01mimport\u001b[39;00m GeneratorType\n\u001b[0;32m----> 2\u001b[0m \u001b[38;5;28;01mimport\u001b[39;00m \u001b[38;5;21;01mpypyjit\u001b[39;00m\n\u001b[1;32m      3\u001b[0m pypyjit\u001b[38;5;241m.\u001b[39mset_param(\u001b[38;5;124m'\u001b[39m\u001b[38;5;124mmax_unroll_recursion=-1\u001b[39m\u001b[38;5;124m'\u001b[39m) \u001b[38;5;66;03m# pypyの再帰高速化\u001b[39;00m\n\u001b[1;32m      4\u001b[0m \u001b[38;5;28;01mimport\u001b[39;00m \u001b[38;5;21;01msys\u001b[39;00m\n",
      "\u001b[0;31mModuleNotFoundError\u001b[0m: No module named 'pypyjit'"
     ]
    }
   ],
   "source": [
    "from types import GeneratorType\n",
    "import pypyjit\n",
    "pypyjit.set_param('max_unroll_recursion=-1') # pypyの再帰高速化\n",
    "import sys\n",
    "sys.setrecursionlimit(10**9) # 再帰関数の呼び出し制限\n",
    "\n",
    "def bootstrap(f, stack=[]):\n",
    "    def wrappedfunc(*args, **kwargs):\n",
    "        if stack:\n",
    "            return f(*args, **kwargs)\n",
    "        to = f(*args, **kwargs)\n",
    "        while True:\n",
    "            if type(to) is GeneratorType:\n",
    "                stack.append(to)\n",
    "                to = next(to)\n",
    "            else:\n",
    "                stack.pop()\n",
    "                if not stack:\n",
    "                    break\n",
    "                to = stack[-1].send(to)\n",
    "        return to\n",
    "    return wrappedfunc\n",
    "\n",
    "# 転倒数\n",
    "@bootstrap\n",
    "def mergecount(A):\n",
    "    cnt = 0\n",
    "    n = len(A)\n",
    "    if n>1:\n",
    "        A1 = A[:n>>1]\n",
    "        A2 = A[n>>1:]\n",
    "        cnt += (yield mergecount(A1))\n",
    "        cnt += (yield mergecount(A2))\n",
    "        i1=0\n",
    "        i2=0\n",
    "        for i in range(n):\n",
    "            if i2 == len(A2):\n",
    "                A[i] = A1[i1]\n",
    "                i1 += 1\n",
    "            elif i1 == len(A1):\n",
    "                A[i] = A2[i2]\n",
    "                i2 += 1\n",
    "            elif A1[i1] <= A2[i2]:\n",
    "                A[i] = A1[i1]\n",
    "                i1 += 1\n",
    "            else:\n",
    "                A[i] = A2[i2]\n",
    "                i2 += 1\n",
    "                cnt += n//2 - i1\n",
    "    yield cnt\n",
    "\n",
    "def main():\n",
    "    N,M = map(int, input().split())\n",
    "    A = []\n",
    "    for _ in range(N):\n",
    "        A += sorted(list(map(int, input().split())))\n",
    "    print(mergecount(A) + N*(N-1)//2 * M*(M+1)//2)\n",
    "    \n",
    "if __name__ == \"__main__\":\n",
    "    main()"
   ]
  },
  {
   "cell_type": "code",
   "execution_count": null,
   "metadata": {},
   "outputs": [],
   "source": []
  }
 ],
 "metadata": {
  "kernelspec": {
   "display_name": "Python 3",
   "language": "python",
   "name": "python3"
  },
  "language_info": {
   "codemirror_mode": {
    "name": "ipython",
    "version": 3
   },
   "file_extension": ".py",
   "mimetype": "text/x-python",
   "name": "python",
   "nbconvert_exporter": "python",
   "pygments_lexer": "ipython3",
   "version": "3.11.1"
  },
  "orig_nbformat": 4
 },
 "nbformat": 4,
 "nbformat_minor": 2
}
