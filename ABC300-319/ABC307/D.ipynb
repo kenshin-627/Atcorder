{
 "cells": [
  {
   "cell_type": "code",
   "execution_count": null,
   "metadata": {},
   "outputs": [],
   "source": [
    "from collections import Counter\n",
    "from itertools import permutations\n",
    "from itertools import combinations\n",
    "import math\n",
    "import heapq\n",
    "from collections import OrderedDict\n",
    "import bisect\n",
    "from collections import deque\n",
    "from collections import defaultdict\n",
    "\n",
    "def main():\n",
    "    N = int(input())\n",
    "    S = input()\n",
    "    dic = defaultdict(str)\n",
    "    i = 0\n",
    "    for s in S:\n",
    "        if s == \"(\":\n",
    "            i += 1\n",
    "            dic[i] += s\n",
    "        elif s == \")\":\n",
    "            if dic[i] != \"\":\n",
    "                if dic[i][0] == \"(\":\n",
    "                    dic.pop(i)\n",
    "                    i -= 1\n",
    "                    continue\n",
    "            dic[i] += s\n",
    "        else:\n",
    "            dic[i] += s\n",
    "    ans = \"\"\n",
    "    for j in range(i+1):\n",
    "        ans += dic[j]\n",
    "    print(ans)\n",
    "    \n",
    "if __name__ == \"__main__\":\n",
    "    main()"
   ]
  },
  {
   "cell_type": "code",
   "execution_count": null,
   "metadata": {},
   "outputs": [],
   "source": [
    "from collections import defaultdict\n",
    "\n",
    "def main():\n",
    "    N = int(input())\n",
    "    S = input()\n",
    "    dic = defaultdict(str)\n",
    "    i = 0\n",
    "    for s in S:\n",
    "        if s == \"(\":\n",
    "            i += 1\n",
    "            dic[i] += s\n",
    "        elif s == \")\":\n",
    "            if dic[i] != \"\":\n",
    "                if dic[i][0] == \"(\":\n",
    "                    dic.pop(i)\n",
    "                    i -= 1\n",
    "                    continue\n",
    "            dic[i] += s\n",
    "        else:\n",
    "            dic[i] += s\n",
    "    ans = [dic[key] for key in sorted(dic.keys())]\n",
    "    print(\"\".join(ans))\n",
    "    \n",
    "if __name__ == \"__main__\":\n",
    "    main()"
   ]
  }
 ],
 "metadata": {
  "kernelspec": {
   "display_name": "Python 3",
   "language": "python",
   "name": "python3"
  },
  "language_info": {
   "codemirror_mode": {
    "name": "ipython",
    "version": 3
   },
   "file_extension": ".py",
   "mimetype": "text/x-python",
   "name": "python",
   "nbconvert_exporter": "python",
   "pygments_lexer": "ipython3",
   "version": "3.9.6"
  },
  "orig_nbformat": 4
 },
 "nbformat": 4,
 "nbformat_minor": 2
}
