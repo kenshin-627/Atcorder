{
 "cells": [
  {
   "cell_type": "code",
   "execution_count": 2,
   "metadata": {},
   "outputs": [
    {
     "name": "stdout",
     "output_type": "stream",
     "text": [
      "999999999999999999\n",
      "1000000000000000000\n"
     ]
    }
   ],
   "source": [
    "from functools import lru_cache\n",
    "import sys\n",
    "sys.setrecursionlimit(10**9)\n",
    "from collections import Counter\n",
    "from itertools import permutations\n",
    "from itertools import combinations\n",
    "import math\n",
    "import heapq\n",
    "from collections import OrderedDict\n",
    "import bisect\n",
    "from collections import deque\n",
    "from collections import defaultdict\n",
    "\n",
    "def main():\n",
    "    N = int(input())\n",
    "    e_19 = 10**19\n",
    "    prob_dict = defaultdict(list)\n",
    "    for i in range(N):\n",
    "        A,B = map(int,input().split())\n",
    "        prob_dict[A*e_19//(A+B)].append(i+1)\n",
    "    ans = []\n",
    "    for k in sorted(prob_dict.keys(),reverse=True):\n",
    "        ans += sorted(prob_dict[k])\n",
    "    print(*ans)\n",
    "    \n",
    "if __name__ == \"__main__\":\n",
    "    main()\n",
    "    # 0 <= A,B <= 10**9\n",
    "    # A+B >= 1\n",
    "    # A / (A+B)\n",
    "    # tmp = 10**18+10**9\n",
    "    # print(999999999*tmp//1000000000)\n",
    "    # print(1000000000*tmp//1000000001)"
   ]
  },
  {
   "cell_type": "code",
   "execution_count": 9,
   "metadata": {},
   "outputs": [
    {
     "name": "stdout",
     "output_type": "stream",
     "text": [
      "1.0\n"
     ]
    }
   ],
   "source": [
    "def main():\n",
    "    N = int(input())\n",
    "    prob = []\n",
    "    e_19 = 10**19\n",
    "    for i in range(N):\n",
    "        A,B = map(int,input().split())\n",
    "        prob.append((A*e_19//(A+B),-(i+1)))\n",
    "    prob.sort(reverse=True)\n",
    "    ans = []\n",
    "    for i in range(N):\n",
    "        ans.append(-(prob[i][1]))\n",
    "    print(*ans)\n",
    "    \n",
    "if __name__ == \"__main__\":\n",
    "    main()"
   ]
  },
  {
   "cell_type": "code",
   "execution_count": null,
   "metadata": {},
   "outputs": [],
   "source": [
    "from functools import cmp_to_key\n",
    "\n",
    "def cmp(a,b):\n",
    "    left = a[0] * (b[0] + b[1])\n",
    "    right = b[0] * (a[0] + a[1])\n",
    "    if left < right:\n",
    "        return -1\n",
    "    elif left == right:\n",
    "        return 0\n",
    "    else:\n",
    "        return 1\n",
    "\n",
    "def main():\n",
    "    N = int(input())\n",
    "    prob = []\n",
    "    for i in range(N):\n",
    "        A,B = map(int,input().split())\n",
    "        prob.append((A,B,-(i+1)))\n",
    "    prob.sort(key=cmp_to_key(cmp),reverse=True)\n",
    "    ans = []\n",
    "    for i in range(N):\n",
    "        ans.append(-(prob[i][2]))\n",
    "    print(*ans)\n",
    "    \n",
    "if __name__ == \"__main__\":\n",
    "    main()"
   ]
  }
 ],
 "metadata": {
  "kernelspec": {
   "display_name": "Python 3",
   "language": "python",
   "name": "python3"
  },
  "language_info": {
   "codemirror_mode": {
    "name": "ipython",
    "version": 3
   },
   "file_extension": ".py",
   "mimetype": "text/x-python",
   "name": "python",
   "nbconvert_exporter": "python",
   "pygments_lexer": "ipython3",
   "version": "3.11.1"
  },
  "orig_nbformat": 4
 },
 "nbformat": 4,
 "nbformat_minor": 2
}
