{
 "cells": [
  {
   "cell_type": "code",
   "execution_count": 7,
   "metadata": {},
   "outputs": [
    {
     "name": "stdout",
     "output_type": "stream",
     "text": [
      "[(1, 1), (2, 0), (2, 2)]\n"
     ]
    }
   ],
   "source": [
    "from functools import lru_cache\n",
    "import sys\n",
    "sys.setrecursionlimit(10**9)\n",
    "from collections import Counter\n",
    "from itertools import permutations\n",
    "from itertools import combinations\n",
    "import math\n",
    "import heapq\n",
    "from collections import OrderedDict\n",
    "import bisect\n",
    "from collections import deque\n",
    "from collections import defaultdict\n",
    "\n",
    "\n",
    "from collections import deque\n",
    "\n",
    "def adj_list(i,j,H,W):\n",
    "    adj = []\n",
    "    if i > 0:\n",
    "        adj.append((i-1,j))\n",
    "    if i < H-1:\n",
    "        adj.append((i+1,j))\n",
    "    if j > 0:\n",
    "        adj.append((i,j-1))\n",
    "    if j < W-1:\n",
    "        adj.append((i,j+1))\n",
    "    return adj\n",
    "\n",
    "def main():\n",
    "    snuke = \"snuke\"\n",
    "    H, W = map(int, input().split())\n",
    "    S = []\n",
    "    for i in range(H):\n",
    "        S.append(input())\n",
    "    q = deque([(0,0,0)])\n",
    "    seen = set([(0,0)])\n",
    "    if S[0][0] != \"s\":\n",
    "        print(\"No\")\n",
    "        return\n",
    "    while q:\n",
    "        now_i, now_j, now_d = q.popleft()\n",
    "        for next_i, next_j in adj_list(now_i, now_j, H, W):\n",
    "            if (next_i, next_j) in seen:\n",
    "                continue\n",
    "            if S[next_i][next_j] == snuke[(now_d+1) % 5]:\n",
    "                q.append((next_i, next_j, (now_d+1) % 5))\n",
    "                seen.add((next_i, next_j))\n",
    "    if (H-1, W-1) in seen:\n",
    "        print(\"Yes\")\n",
    "    else:\n",
    "        print(\"No\")\n",
    "    \n",
    "if __name__ == \"__main__\":\n",
    "    main()"
   ]
  },
  {
   "cell_type": "code",
   "execution_count": null,
   "metadata": {},
   "outputs": [],
   "source": []
  }
 ],
 "metadata": {
  "kernelspec": {
   "display_name": "Python 3",
   "language": "python",
   "name": "python3"
  },
  "language_info": {
   "codemirror_mode": {
    "name": "ipython",
    "version": 3
   },
   "file_extension": ".py",
   "mimetype": "text/x-python",
   "name": "python",
   "nbconvert_exporter": "python",
   "pygments_lexer": "ipython3",
   "version": "3.11.1"
  },
  "orig_nbformat": 4
 },
 "nbformat": 4,
 "nbformat_minor": 2
}
