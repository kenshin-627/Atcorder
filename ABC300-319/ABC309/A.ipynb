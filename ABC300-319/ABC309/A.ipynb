{
 "cells": [
  {
   "cell_type": "code",
   "execution_count": null,
   "metadata": {},
   "outputs": [],
   "source": [
    "def solve(A,B):\n",
    "    if A % 3 == 1 or A % 3 == 2:\n",
    "        if B == A+1:\n",
    "            return True\n",
    "    return False\n",
    "\n",
    "def main():\n",
    "    A,B = map(int,input().split())\n",
    "    if solve(A,B):\n",
    "        print(\"Yes\")\n",
    "    else:\n",
    "        print(\"No\")\n",
    "\n",
    "if __name__ == \"__main__\":\n",
    "    main()"
   ]
  }
 ],
 "metadata": {
  "language_info": {
   "name": "python"
  },
  "orig_nbformat": 4
 },
 "nbformat": 4,
 "nbformat_minor": 2
}
