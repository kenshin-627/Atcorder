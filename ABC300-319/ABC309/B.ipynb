{
 "cells": [
  {
   "cell_type": "code",
   "execution_count": 3,
   "metadata": {},
   "outputs": [
    {
     "name": "stdout",
     "output_type": "stream",
     "text": [
      "[['1', '1'], ['1', '1']]\n",
      "11\n",
      "11\n"
     ]
    }
   ],
   "source": [
    "def main():\n",
    "    N = int(input())\n",
    "    A = [list(input()) for _ in range(N)]\n",
    "    tmp = A[0][0]\n",
    "    # 左上から左下に\n",
    "    for i in range(N-1):\n",
    "        A[i][0] = A[i+1][0]\n",
    "    # 左下から右下に\n",
    "    for i in range(N-1):\n",
    "        A[N-1][i] = A[N-1][i+1]\n",
    "    # 右下から右上に\n",
    "    for i in range(N-1):\n",
    "        A[N-1-i][N-1] = A[N-1-i-1][N-1]\n",
    "    # 右上から左上に\n",
    "    for i in range(N-1):\n",
    "        A[0][N-1-i] = A[0][N-1-i-1]\n",
    "    A[0][1] = tmp\n",
    "    for a in A:\n",
    "        print(\"\".join(a))\n",
    "    \n",
    "if __name__ == \"__main__\":\n",
    "    main()"
   ]
  },
  {
   "cell_type": "code",
   "execution_count": null,
   "metadata": {},
   "outputs": [],
   "source": []
  }
 ],
 "metadata": {
  "kernelspec": {
   "display_name": "Python 3",
   "language": "python",
   "name": "python3"
  },
  "language_info": {
   "codemirror_mode": {
    "name": "ipython",
    "version": 3
   },
   "file_extension": ".py",
   "mimetype": "text/x-python",
   "name": "python",
   "nbconvert_exporter": "python",
   "pygments_lexer": "ipython3",
   "version": "3.11.1"
  },
  "orig_nbformat": 4
 },
 "nbformat": 4,
 "nbformat_minor": 2
}
