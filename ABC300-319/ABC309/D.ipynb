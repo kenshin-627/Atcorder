{
 "cells": [
  {
   "cell_type": "code",
   "execution_count": null,
   "metadata": {},
   "outputs": [],
   "source": [
    "from collections import deque\n",
    "from collections import defaultdict\n",
    "\n",
    "def main():\n",
    "    N1,N2,M = map(int,input().split())\n",
    "    adj_dict = defaultdict(list)\n",
    "    for _ in range(M):\n",
    "        a,b = map(int,input().split())\n",
    "        adj_dict[a].append(b)\n",
    "        adj_dict[b].append(a)\n",
    "    # BFSで頂点1から最も遠い点までの距離を求める\n",
    "    dist = [-1]*(N1+1)\n",
    "    dist[1] = 0\n",
    "    q = deque([1])\n",
    "    while q:\n",
    "        v = q.popleft()\n",
    "        for nv in adj_dict[v]:\n",
    "            if dist[nv] == -1:\n",
    "                dist[nv] = dist[v] + 1\n",
    "                q.append(nv)\n",
    "    # 頂点N1+N2から最も遠い点までの距離を求める\n",
    "    dist2 = [-1]*(N1+N2+1)\n",
    "    dist2[N1+N2] = 0\n",
    "    q = deque([N1+N2])\n",
    "    while q:\n",
    "        v = q.popleft()\n",
    "        for nv in adj_dict[v]:\n",
    "            if dist2[nv] == -1:\n",
    "                dist2[nv] = dist2[v] + 1\n",
    "                q.append(nv)\n",
    "    print(max(dist) + max(dist2) + 1)\n",
    "    \n",
    "if __name__ == \"__main__\":\n",
    "    main()"
   ]
  }
 ],
 "metadata": {
  "language_info": {
   "name": "python"
  },
  "orig_nbformat": 4
 },
 "nbformat": 4,
 "nbformat_minor": 2
}
