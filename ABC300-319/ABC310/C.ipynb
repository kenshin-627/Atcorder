{
 "cells": [
  {
   "cell_type": "code",
   "execution_count": null,
   "metadata": {},
   "outputs": [],
   "source": [
    "def main():\n",
    "    N = int(input())\n",
    "    s = set()\n",
    "    for i in range(N):\n",
    "        S = input()\n",
    "        S_rev = S[::-1]\n",
    "        if S < S_rev:\n",
    "            s.add(S)\n",
    "        else:\n",
    "            s.add(S_rev)\n",
    "    print(len(s))\n",
    "    \n",
    "if __name__ == \"__main__\":\n",
    "    main()"
   ]
  }
 ],
 "metadata": {
  "language_info": {
   "name": "python"
  },
  "orig_nbformat": 4
 },
 "nbformat": 4,
 "nbformat_minor": 2
}
