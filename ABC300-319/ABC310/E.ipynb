{
 "cells": [
  {
   "cell_type": "code",
   "execution_count": null,
   "metadata": {},
   "outputs": [],
   "source": [
    "from collections import defaultdict\n",
    "\n",
    "def main():\n",
    "    N = int(input())\n",
    "    S = input()\n",
    "    dp = defaultdict(lambda: tuple([0,0]))\n",
    "    ans = 0\n",
    "    for i,s in enumerate(S):\n",
    "        s = int(s)\n",
    "        tmp_zero = 0\n",
    "        tmp_one = 0\n",
    "        if s == 0:\n",
    "            tmp_zero = 1\n",
    "            tmp_one += dp[i-1][0] + dp[i-1][1]\n",
    "        else:\n",
    "            tmp_one += 1\n",
    "            tmp_zero += dp[i-1][1]\n",
    "            tmp_one += dp[i-1][0]\n",
    "        ans += tmp_one\n",
    "        dp[i] = (tmp_zero, tmp_one)\n",
    "    print(ans)\n",
    "    \n",
    "if __name__ == \"__main__\":\n",
    "    main()"
   ]
  }
 ],
 "metadata": {
  "language_info": {
   "name": "python"
  },
  "orig_nbformat": 4
 },
 "nbformat": 4,
 "nbformat_minor": 2
}
