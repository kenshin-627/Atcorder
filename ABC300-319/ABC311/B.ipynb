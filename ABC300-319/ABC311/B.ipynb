{
 "cells": [
  {
   "cell_type": "code",
   "execution_count": null,
   "metadata": {},
   "outputs": [],
   "source": [
    "# from functools import lru_cache\n",
    "# import sys\n",
    "# sys.setrecursionlimit(10**9)\n",
    "# input = sys.stdin.readline\n",
    "from decimal import Decimal\n",
    "from functools import cmp_to_key\n",
    "from collections import Counter\n",
    "from itertools import permutations\n",
    "from itertools import combinations\n",
    "import math\n",
    "import heapq\n",
    "from collections import OrderedDict\n",
    "import bisect\n",
    "from collections import deque\n",
    "from collections import defaultdict\n",
    "\n",
    "import numpy as np\n",
    "\n",
    "def main():\n",
    "    N,D = map(int,input().split())\n",
    "    S = []\n",
    "    for _ in range(N):\n",
    "        S.append(list(map(lambda x: 0 if x == \"x\" else 1, input())))\n",
    "    S = np.array(S).T\n",
    "    ans = 0\n",
    "    tmp = 0\n",
    "    for s in S:\n",
    "        if 0 not in s:\n",
    "            tmp += 1\n",
    "            ans = max(ans,tmp)\n",
    "        else:\n",
    "            tmp = 0\n",
    "    print(ans)\n",
    "    \n",
    "if __name__ == \"__main__\":\n",
    "    main()"
   ]
  }
 ],
 "metadata": {
  "language_info": {
   "name": "python"
  },
  "orig_nbformat": 4
 },
 "nbformat": 4,
 "nbformat_minor": 2
}
