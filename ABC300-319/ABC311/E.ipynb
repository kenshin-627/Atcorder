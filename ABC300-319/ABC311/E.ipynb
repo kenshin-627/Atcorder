{
 "cells": [
  {
   "cell_type": "code",
   "execution_count": null,
   "metadata": {},
   "outputs": [],
   "source": [
    "# from functools import lru_cache\n",
    "# import sys\n",
    "# sys.setrecursionlimit(10**9)\n",
    "# input = sys.stdin.readline\n",
    "from decimal import Decimal\n",
    "from functools import cmp_to_key\n",
    "from collections import Counter\n",
    "from itertools import permutations\n",
    "from itertools import combinations\n",
    "from itertools import accumulate\n",
    "import math\n",
    "import heapq\n",
    "from collections import OrderedDict\n",
    "import bisect\n",
    "from collections import deque\n",
    "from collections import defaultdict\n",
    "\n",
    "def main():\n",
    "    H,W,N = map(int,input().split())\n",
    "    dp = [[0]*(W+1) for _ in range(H+1)]\n",
    "    hole = set()\n",
    "    for i in range(N):\n",
    "        a,b = map(int,input().split())\n",
    "        hole.add((a,b))\n",
    "    ans = 0\n",
    "    for i in range(1,H+1):\n",
    "        for j in range(1,W+1):\n",
    "            if (i,j) in hole:\n",
    "                continue\n",
    "            dp[i][j] = min(dp[i-1][j], dp[i][j-1], dp[i-1][j-1]) + 1\n",
    "            ans += min(dp[i-1][j], dp[i][j-1], dp[i-1][j-1]) + 1\n",
    "    print(ans)\n",
    "    \n",
    "if __name__ == \"__main__\":\n",
    "    main()"
   ]
  }
 ],
 "metadata": {
  "language_info": {
   "name": "python"
  },
  "orig_nbformat": 4
 },
 "nbformat": 4,
 "nbformat_minor": 2
}
