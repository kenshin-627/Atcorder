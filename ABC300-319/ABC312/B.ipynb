{
 "cells": [
  {
   "cell_type": "code",
   "execution_count": null,
   "metadata": {},
   "outputs": [],
   "source": [
    "def main():\n",
    "    N,M = map(int,input().split())\n",
    "    ans = []\n",
    "    S = []\n",
    "    for _ in range(N):\n",
    "        S.append(list(input()))\n",
    "    for i in range(N-8):\n",
    "        for j in range(M-8):\n",
    "            # 左上の3*3の領域が全部黒か調べる\n",
    "            if S[i][j] == S[i][j+1] == S[i][j+2] == S[i+1][j] == S[i+1][j+1] == S[i+1][j+2] == S[i+2][j] == S[i+2][j+1] == S[i+2][j+2] == \"#\":\n",
    "                # その右と下の領域が全部白か調べる\n",
    "                if S[i+3][j] == S[i+3][j+1] == S[i+3][j+2] == S[i][j+3] == S[i+1][j+3] == S[i+2][j+3] == S[i+3][j+3] == \".\":\n",
    "                    # 右下の3*3の領域が全部黒か調べる\n",
    "                    if S[i+6][j+6] == S[i+6][j+7] == S[i+6][j+8] == S[i+7][j+6] == S[i+7][j+7] == S[i+7][j+8] == S[i+8][j+6] == S[i+8][j+7] == S[i+8][j+8] == \"#\":\n",
    "                        # その左と上の領域が全部白か調べる\n",
    "                        if S[i+5][j+5] == S[i+5][j+6]== S[i+5][j+7]== S[i+5][j+8] == S[i+6][j+5] == S[i+7][j+5] == S[i+8][j+5] == \".\":\n",
    "                            ans.append((i+1,j+1))\n",
    "    for a in ans:\n",
    "        print(*a)\n",
    "\n",
    "if __name__ == \"__main__\":\n",
    "    main()"
   ]
  },
  {
   "cell_type": "code",
   "execution_count": null,
   "metadata": {},
   "outputs": [],
   "source": []
  }
 ],
 "metadata": {
  "kernelspec": {
   "display_name": "Python 3",
   "language": "python",
   "name": "python3"
  },
  "language_info": {
   "codemirror_mode": {
    "name": "ipython",
    "version": 3
   },
   "file_extension": ".py",
   "mimetype": "text/x-python",
   "name": "python",
   "nbconvert_exporter": "python",
   "pygments_lexer": "ipython3",
   "version": "3.11.1"
  },
  "orig_nbformat": 4
 },
 "nbformat": 4,
 "nbformat_minor": 2
}
