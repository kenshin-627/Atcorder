{
 "cells": [
  {
   "cell_type": "code",
   "execution_count": null,
   "metadata": {},
   "outputs": [],
   "source": [
    "# from functools import lru_cache\n",
    "# import sys\n",
    "# sys.setrecursionlimit(10**9)\n",
    "# input = sys.stdin.readline\n",
    "from decimal import Decimal\n",
    "from functools import cmp_to_key\n",
    "from collections import Counter\n",
    "from itertools import permutations\n",
    "from itertools import combinations\n",
    "import math\n",
    "import heapq\n",
    "from collections import OrderedDict\n",
    "import bisect\n",
    "from collections import deque\n",
    "from collections import defaultdict\n",
    "\n",
    "def main():\n",
    "    S = input()\n",
    "    mod = 998244353\n",
    "    dp = [defaultdict(int) for _ in range(len(S)+1)]\n",
    "    dp[0][0] = 1\n",
    "    for i,s in enumerate(S,1):\n",
    "        if s == \"(\":\n",
    "            for k,v in dp[i-1].items():\n",
    "                dp[i][k+1] = (dp[i][k+1] + v) % mod\n",
    "        elif s == \")\":\n",
    "            flag = False\n",
    "            for k,v in dp[i-1].items():\n",
    "                if k > 0:\n",
    "                    dp[i][k-1] = (dp[i][k-1] + v) % mod\n",
    "                    flag = True\n",
    "            if not flag:\n",
    "                print(0)\n",
    "                return\n",
    "        else:\n",
    "            for k,v in dp[i-1].items():\n",
    "                dp[i][k+1] = (dp[i][k+1] + v) % mod\n",
    "                if k > 0:\n",
    "                    dp[i][k-1] = (dp[i][k-1] + v) % mod\n",
    "    print(dp[-1][0])\n",
    "    \n",
    "if __name__ == \"__main__\":\n",
    "    main()"
   ]
  }
 ],
 "metadata": {
  "language_info": {
   "name": "python"
  },
  "orig_nbformat": 4
 },
 "nbformat": 4,
 "nbformat_minor": 2
}
