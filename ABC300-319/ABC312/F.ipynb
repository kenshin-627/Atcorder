{
 "cells": [
  {
   "cell_type": "code",
   "execution_count": null,
   "metadata": {},
   "outputs": [],
   "source": [
    "from itertools import accumulate\n",
    "\n",
    "def main():\n",
    "    N,M = map(int,input().split())\n",
    "    # 缶切り必要\n",
    "    X_need = []\n",
    "    # 缶切り不要\n",
    "    X_not_need = []\n",
    "    # 缶切り\n",
    "    kankiri = []\n",
    "    for _ in range(N):\n",
    "        T,X = map(int,input().split())\n",
    "        if T == 0:\n",
    "            X_not_need.append(X)\n",
    "        elif T == 1:\n",
    "            X_need.append(X)\n",
    "        else:\n",
    "            kankiri.append(X)\n",
    "    X_need.sort(reverse=True)\n",
    "    X_not_need.sort(reverse=True)\n",
    "    X_not_need += [0]*M\n",
    "    kankiri.sort(reverse=True)\n",
    "    # 缶切り必要の累積和\n",
    "    X_need_acc = [0] + list(accumulate(X_need))\n",
    "    # 缶切り不要の累積和\n",
    "    X_not_need_acc = [0] + list(accumulate(X_not_need))\n",
    "    # 缶切りの累積和\n",
    "    kankiri_acc = [0] + list(accumulate(kankiri))\n",
    "    ans = X_not_need_acc[M]\n",
    "    bef_kankiri_num = 0\n",
    "    # 缶切りをi個使った時の最大値\n",
    "    for i, kankiri_num in enumerate(kankiri_acc):\n",
    "        # 缶切りをi個使った時，缶切り必要なものをj(bef_kankiri_num以上，kankri_num以下)個使える．\n",
    "        for j in range(max(bef_kankiri_num, M-i-len(X_not_need)), min(kankiri_num, len(X_need), M-i)+1):\n",
    "            # 缶切り必要なものをj個使う時，缶切り不要なものはM-j-i個使える．\n",
    "            if ans < X_need_acc[j] + X_not_need_acc[M-j-i]:\n",
    "                ans = max(ans, X_need_acc[j] + X_not_need_acc[M-j-i])\n",
    "        # bef_kankiri_numの更新\n",
    "        bef_kankiri_num = kankiri_num\n",
    "    print(ans)\n",
    "\n",
    "if __name__ == \"__main__\":\n",
    "    main()"
   ]
  }
 ],
 "metadata": {
  "kernelspec": {
   "display_name": "Python 3",
   "language": "python",
   "name": "python3"
  },
  "language_info": {
   "name": "python",
   "version": "3.11.1"
  },
  "orig_nbformat": 4
 },
 "nbformat": 4,
 "nbformat_minor": 2
}
