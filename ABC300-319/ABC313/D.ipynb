{
 "cells": [
  {
   "cell_type": "code",
   "execution_count": 9,
   "metadata": {},
   "outputs": [
    {
     "name": "stdout",
     "output_type": "stream",
     "text": [
      "? 1 2 3\n",
      "? 1 2 4\n",
      "? 1 2 5\n",
      "? 1 2 6\n",
      "? 1 3 4\n",
      "? 2 3 4\n",
      "! 1 0 1 1 0 1\n"
     ]
    }
   ],
   "source": [
    "# from functools import lru_cache\n",
    "# import sys\n",
    "# sys.setrecursionlimit(10**9)\n",
    "# input = sys.stdin.readline\n",
    "from decimal import Decimal\n",
    "from functools import cmp_to_key\n",
    "from collections import Counter\n",
    "from itertools import permutations\n",
    "from itertools import combinations\n",
    "import math\n",
    "import heapq\n",
    "from collections import OrderedDict\n",
    "import bisect\n",
    "from collections import deque\n",
    "from collections import defaultdict\n",
    "\n",
    "def main():\n",
    "    N,K = map(int,input().split())\n",
    "    # K番目が0グループか1グループか\n",
    "    K_0 = -1\n",
    "    # K+1番目が0グループか1グループか\n",
    "    K_1 = -1\n",
    "    # K番目が0グループか1グループか\n",
    "    K_list = [-1] * (N+1)\n",
    "    for i in range(K,N+1):\n",
    "        query = list(range(1,K)) + [i]\n",
    "        print(\"?\", end=\" \", flush=False)\n",
    "        print(*query, flush=True)\n",
    "        T = int(input())\n",
    "        if i == K:\n",
    "            K_0 = T\n",
    "        if i == K+1:\n",
    "            K_1 = T\n",
    "        K_list[i] = T\n",
    "    for i in range(K-1,0,-1):\n",
    "        query = list(range(1,i)) + list(range(i+1,K+2))\n",
    "        print(\"?\", end=\" \", flush=False)\n",
    "        print(*query, flush=True)\n",
    "        T = int(input())\n",
    "        if T == K_1:\n",
    "            K_list[i] = K_0\n",
    "        else:\n",
    "            K_list[i] = (K_0 + 1) % 2\n",
    "    # はじめのK個の0,1を足した偶奇がK_0と同じであれば0グループと1グループがあっている\n",
    "    if sum(K_list[1:K+1]) % 2 == K_0:\n",
    "        print(\"!\", end=\" \", flush=False)\n",
    "        print(*K_list[1:], flush=True)\n",
    "    else:\n",
    "        print(\"!\", end=\" \", flush=False)\n",
    "        print(*[(K_list[i] + 1) % 2 for i in range(1,N+1)], flush=True)\n",
    "    \n",
    "if __name__ == \"__main__\":\n",
    "    main()"
   ]
  },
  {
   "cell_type": "code",
   "execution_count": null,
   "metadata": {},
   "outputs": [],
   "source": []
  }
 ],
 "metadata": {
  "kernelspec": {
   "display_name": "Python 3",
   "language": "python",
   "name": "python3"
  },
  "language_info": {
   "codemirror_mode": {
    "name": "ipython",
    "version": 3
   },
   "file_extension": ".py",
   "mimetype": "text/x-python",
   "name": "python",
   "nbconvert_exporter": "python",
   "pygments_lexer": "ipython3",
   "version": "3.11.1"
  },
  "orig_nbformat": 4
 },
 "nbformat": 4,
 "nbformat_minor": 2
}
