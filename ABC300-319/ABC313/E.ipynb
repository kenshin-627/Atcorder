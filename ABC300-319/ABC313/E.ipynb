{
 "cells": [
  {
   "cell_type": "code",
   "execution_count": 14,
   "metadata": {},
   "outputs": [
    {
     "name": "stdout",
     "output_type": "stream",
     "text": [
      "4\n"
     ]
    }
   ],
   "source": [
    "from functools import lru_cache\n",
    "import sys\n",
    "sys.setrecursionlimit(10**9)\n",
    "# input = sys.stdin.readline\n",
    "from decimal import Decimal\n",
    "from functools import cmp_to_key\n",
    "from collections import Counter\n",
    "from itertools import permutations\n",
    "from itertools import combinations\n",
    "from itertools import combinations_with_replacement\n",
    "from itertools import product\n",
    "from itertools import accumulate\n",
    "from itertools import groupby\n",
    "from itertools import pairwise\n",
    "from copy import deepcopy\n",
    "import networkx as nx\n",
    "import networkx.algorithms as nxa\n",
    "import numpy as np\n",
    "import math\n",
    "import heapq\n",
    "from collections import OrderedDict\n",
    "import bisect\n",
    "from collections import deque\n",
    "from collections import defaultdict\n",
    "\n",
    "from itertools import groupby\n",
    "from collections import deque\n",
    "\n",
    "def main():\n",
    "    N = int(input())\n",
    "    S = input()\n",
    "    q = deque()\n",
    "    bef = \"1\"\n",
    "    for key, group in groupby(S):\n",
    "        if bef != \"1\" and key != \"1\":\n",
    "            print(-1)\n",
    "            return\n",
    "        q.append((key, len(list(group))))\n",
    "        bef = key\n",
    "    ans = 0\n",
    "    mod = 998244353\n",
    "    # 前のkey\n",
    "    bef_key = \"1\"\n",
    "    # 前の1の数\n",
    "    bef_one_cnt = 0\n",
    "    while q:\n",
    "        key, cnt = q.pop()\n",
    "        if key == \"1\":\n",
    "            bef_one_cnt = cnt + (int(bef_key)-1) * ans\n",
    "            if len(q) == 0:\n",
    "                ans = (ans + bef_one_cnt - 1) % mod\n",
    "                break\n",
    "        else:\n",
    "            if len(q) == 0:\n",
    "                ans = (ans + bef_one_cnt) % mod\n",
    "                break\n",
    "            ans = (ans + 1+bef_one_cnt) % mod\n",
    "            bef_key = key\n",
    "    print(ans)\n",
    "    \n",
    "if __name__ == \"__main__\":\n",
    "    main()"
   ]
  },
  {
   "cell_type": "code",
   "execution_count": null,
   "metadata": {},
   "outputs": [],
   "source": []
  }
 ],
 "metadata": {
  "kernelspec": {
   "display_name": "Python 3",
   "language": "python",
   "name": "python3"
  },
  "language_info": {
   "codemirror_mode": {
    "name": "ipython",
    "version": 3
   },
   "file_extension": ".py",
   "mimetype": "text/x-python",
   "name": "python",
   "nbconvert_exporter": "python",
   "pygments_lexer": "ipython3",
   "version": "3.11.1"
  },
  "orig_nbformat": 4
 },
 "nbformat": 4,
 "nbformat_minor": 2
}
