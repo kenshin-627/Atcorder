{
 "cells": [
  {
   "cell_type": "code",
   "execution_count": 3,
   "metadata": {},
   "outputs": [
    {
     "ename": "ValueError",
     "evalue": "min() arg is an empty sequence",
     "output_type": "error",
     "traceback": [
      "\u001b[0;31m---------------------------------------------------------------------------\u001b[0m",
      "\u001b[0;31mValueError\u001b[0m                                Traceback (most recent call last)",
      "Cell \u001b[0;32mIn[3], line 42\u001b[0m\n\u001b[1;32m     39\u001b[0m     \u001b[39mprint\u001b[39m(\u001b[39m*\u001b[39mans)\n\u001b[1;32m     41\u001b[0m \u001b[39mif\u001b[39;00m \u001b[39m__name__\u001b[39m \u001b[39m==\u001b[39m \u001b[39m\"\u001b[39m\u001b[39m__main__\u001b[39m\u001b[39m\"\u001b[39m:\n\u001b[0;32m---> 42\u001b[0m     main()\n",
      "Cell \u001b[0;32mIn[3], line 33\u001b[0m, in \u001b[0;36mmain\u001b[0;34m()\u001b[0m\n\u001b[1;32m     31\u001b[0m \u001b[39mfor\u001b[39;00m i \u001b[39min\u001b[39;00m num_to_index[X]:\n\u001b[1;32m     32\u001b[0m     tmp\u001b[39m.\u001b[39mappend((index_to_cnt[i], i))\n\u001b[0;32m---> 33\u001b[0m min_ \u001b[39m=\u001b[39m \u001b[39mmin\u001b[39;49m(tmp)\n\u001b[1;32m     34\u001b[0m ans \u001b[39m=\u001b[39m []\n\u001b[1;32m     35\u001b[0m \u001b[39mfor\u001b[39;00m cnt,num \u001b[39min\u001b[39;00m tmp:\n",
      "\u001b[0;31mValueError\u001b[0m: min() arg is an empty sequence"
     ]
    }
   ],
   "source": [
    "# from functools import lru_cache\n",
    "# import sys\n",
    "# sys.setrecursionlimit(10**9)\n",
    "# input = sys.stdin.readline\n",
    "from decimal import Decimal\n",
    "from functools import cmp_to_key\n",
    "from collections import Counter\n",
    "from itertools import permutations\n",
    "from itertools import combinations\n",
    "import math\n",
    "import heapq\n",
    "from collections import OrderedDict\n",
    "import bisect\n",
    "from collections import deque\n",
    "from collections import defaultdict\n",
    "\n",
    "def main():\n",
    "    N = int(input())\n",
    "    # key: 数字, value: 数字にかけた人の番号のリスト\n",
    "    num_to_index = defaultdict(list)\n",
    "    # key: 人の番号, value: その人がかけた個数\n",
    "    index_to_cnt = defaultdict(int)\n",
    "    for i in range(1,N+1):\n",
    "        C = int(input())\n",
    "        A = list(map(int, input().split()))\n",
    "        for a in A:\n",
    "            num_to_index[a].append(i)\n",
    "        index_to_cnt[i] = C\n",
    "    X = int(input())\n",
    "    tmp = []\n",
    "    for i in num_to_index[X]:\n",
    "        tmp.append((index_to_cnt[i], i))\n",
    "    if len(tmp) == 0:\n",
    "        print(0)\n",
    "        print()\n",
    "        return\n",
    "    min_ = min(tmp)\n",
    "    ans = []\n",
    "    for cnt,num in tmp:\n",
    "        if cnt == min_[0]:\n",
    "            ans.append(num)\n",
    "    print(len(ans))\n",
    "    print(*ans)\n",
    "    \n",
    "if __name__ == \"__main__\":\n",
    "    main()"
   ]
  },
  {
   "cell_type": "code",
   "execution_count": null,
   "metadata": {},
   "outputs": [],
   "source": []
  }
 ],
 "metadata": {
  "kernelspec": {
   "display_name": "Python 3",
   "language": "python",
   "name": "python3"
  },
  "language_info": {
   "codemirror_mode": {
    "name": "ipython",
    "version": 3
   },
   "file_extension": ".py",
   "mimetype": "text/x-python",
   "name": "python",
   "nbconvert_exporter": "python",
   "pygments_lexer": "ipython3",
   "version": "3.11.1"
  },
  "orig_nbformat": 4
 },
 "nbformat": 4,
 "nbformat_minor": 2
}
