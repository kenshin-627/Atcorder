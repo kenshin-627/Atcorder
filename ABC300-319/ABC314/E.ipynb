{
 "cells": [
  {
   "cell_type": "code",
   "execution_count": 1,
   "metadata": {},
   "outputs": [
    {
     "name": "stdout",
     "output_type": "stream",
     "text": [
      "1 2 [3, 4]\n",
      "1 2 [3]\n",
      "3 2 []\n"
     ]
    }
   ],
   "source": [
    "from collections import defaultdict\n",
    "\n",
    "def main():\n",
    "    N,M = map(int, input().split())\n",
    "    slot = []\n",
    "    for _ in range(N):\n",
    "        C,P,*S = map(int, input().split())\n",
    "        zero_cnt = S.count(0)\n",
    "        # Sに0が含まれてる場合は，0をすべて削除する．\n",
    "        if zero_cnt:\n",
    "            S = [s for s in S if s != 0]\n",
    "            # 0がK個含まれてた場合，C=C*P/Kとする．\n",
    "            C = C * P / (P - zero_cnt)\n",
    "        slot.append((C,S))\n",
    "    dp = defaultdict(int)\n",
    "    for i in range(M-1, -1, -1):\n",
    "        min_cost = float('inf')\n",
    "        for C,S in slot:\n",
    "            tmp_cost = 0\n",
    "            for s in S:\n",
    "                tmp_cost += 1/len(S) * (C + dp[i+s])\n",
    "            if tmp_cost < min_cost:\n",
    "                min_cost = tmp_cost\n",
    "        dp[i] = min_cost\n",
    "    print(dp[0])\n",
    "\n",
    "if __name__ == \"__main__\":\n",
    "    main()"
   ]
  },
  {
   "cell_type": "code",
   "execution_count": null,
   "metadata": {},
   "outputs": [],
   "source": []
  }
 ],
 "metadata": {
  "kernelspec": {
   "display_name": "Python 3",
   "language": "python",
   "name": "python3"
  },
  "language_info": {
   "codemirror_mode": {
    "name": "ipython",
    "version": 3
   },
   "file_extension": ".py",
   "mimetype": "text/x-python",
   "name": "python",
   "nbconvert_exporter": "python",
   "pygments_lexer": "ipython3",
   "version": "3.11.1"
  },
  "orig_nbformat": 4
 },
 "nbformat": 4,
 "nbformat_minor": 2
}
