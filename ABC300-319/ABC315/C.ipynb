{
 "cells": [
  {
   "cell_type": "code",
   "execution_count": 1,
   "metadata": {},
   "outputs": [
    {
     "name": "stdout",
     "output_type": "stream",
     "text": [
      "17.0\n"
     ]
    }
   ],
   "source": [
    "# from functools import lru_cache\n",
    "# import sys\n",
    "# sys.setrecursionlimit(10**9)\n",
    "# input = sys.stdin.readline\n",
    "from decimal import Decimal\n",
    "from functools import cmp_to_key\n",
    "from collections import Counter\n",
    "from itertools import permutations\n",
    "from itertools import combinations\n",
    "from itertools import combinations_with_replacement\n",
    "from copy import deepcopy\n",
    "import math\n",
    "import heapq\n",
    "from collections import OrderedDict\n",
    "import bisect\n",
    "from collections import deque\n",
    "from collections import defaultdict\n",
    "\n",
    "def main():\n",
    "    N = int(input())\n",
    "    F_S = defaultdict(list)\n",
    "    # 最大の美味しさとその味\n",
    "    max_F = 0\n",
    "    max_S = 0\n",
    "    for _ in range(N):\n",
    "        F,S = map(int, input().split())\n",
    "        F_S[F].append(S)\n",
    "        if max_S < S:\n",
    "            max_F = F\n",
    "            max_S = S\n",
    "    # 最大の美味しさの味の中で2番目の美味しさ\n",
    "    max_S2 = 0\n",
    "    sorted_max = sorted(F_S[max_F])\n",
    "    if len(sorted_max) > 1:\n",
    "        max_S2 = sorted_max[-2]\n",
    "    # 最大の美味しさの味を除いたものの中で最大の美味しさ\n",
    "    max_S3 = 0\n",
    "    for F in F_S.keys():\n",
    "        if F == max_F:\n",
    "            continue\n",
    "        if max_S3 < max(F_S[F]):\n",
    "            max_S3 = max(F_S[F])\n",
    "    print(int(max(max_S+max_S2/2, max_S + max_S3)))\n",
    "    \n",
    "if __name__ == \"__main__\":\n",
    "    main()"
   ]
  },
  {
   "cell_type": "code",
   "execution_count": null,
   "metadata": {},
   "outputs": [],
   "source": []
  }
 ],
 "metadata": {
  "kernelspec": {
   "display_name": "Python 3",
   "language": "python",
   "name": "python3"
  },
  "language_info": {
   "codemirror_mode": {
    "name": "ipython",
    "version": 3
   },
   "file_extension": ".py",
   "mimetype": "text/x-python",
   "name": "python",
   "nbconvert_exporter": "python",
   "pygments_lexer": "ipython3",
   "version": "3.11.1"
  },
  "orig_nbformat": 4
 },
 "nbformat": 4,
 "nbformat_minor": 2
}
