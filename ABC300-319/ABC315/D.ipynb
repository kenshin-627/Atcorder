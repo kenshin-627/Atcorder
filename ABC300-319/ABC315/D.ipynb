{
 "cells": [
  {
   "cell_type": "code",
   "execution_count": null,
   "metadata": {},
   "outputs": [],
   "source": [
    "# from functools import lru_cache\n",
    "# input = sys.stdin.readline\n",
    "from decimal import Decimal\n",
    "from functools import cmp_to_key\n",
    "from collections import Counter\n",
    "from itertools import permutations\n",
    "from itertools import combinations\n",
    "from itertools import combinations_with_replacement\n",
    "from copy import deepcopy\n",
    "import math\n",
    "import heapq\n",
    "from collections import OrderedDict\n",
    "import bisect\n",
    "from collections import deque\n",
    "from collections import defaultdict\n",
    "\n",
    "def main():\n",
    "    H,W = map(int,input().split())\n",
    "    # key: 英小文字, value: 出現回数\n",
    "    H_dicts = [defaultdict(int) for _ in range(H)]\n",
    "    W_dicts = [defaultdict(int) for _ in range(W)]\n",
    "    for i in range(H):\n",
    "        CW = input()\n",
    "        for j in range(W):\n",
    "            H_dicts[i][CW[j]] += 1\n",
    "            W_dicts[j][CW[j]] += 1\n",
    "    ans = H*W\n",
    "    while True:\n",
    "        q = deque()\n",
    "        # 各行に対して出現する文字が1種類，かつ，2回以上出現する文字がないかを確認\n",
    "        for h in range(H):\n",
    "            if len(H_dicts[h]) == 1:\n",
    "                for key in H_dicts[h]:\n",
    "                    if H_dicts[h][key] > 1:\n",
    "                        q.append((\"H\",h,key))\n",
    "        # 各列に対して出現する文字が1種類，かつ，2回以上出現する文字がないかを確認\n",
    "        for w in range(W):\n",
    "            if len(W_dicts[w]) == 1:\n",
    "                for key in W_dicts[w]:\n",
    "                    if W_dicts[w][key] > 1:\n",
    "                        q.append((\"W\",w,key))\n",
    "        if q == deque():\n",
    "            break\n",
    "        while q:\n",
    "            # print(q)\n",
    "            mode,ind,key = q.popleft()\n",
    "            if mode == \"H\":\n",
    "                # H_dicts[ind]のkeyを削除\n",
    "                num = 0\n",
    "                if key in H_dicts[ind]:\n",
    "                    num = H_dicts[ind].pop(key)\n",
    "                ans -= num\n",
    "                # print(num)\n",
    "                # W方向に対して，keyを持っている辞書からkeyを1つずつ減らす\n",
    "                for w in range(W):\n",
    "                    if key in W_dicts[w]:\n",
    "                        W_dicts[w][key] -= 1\n",
    "                        if W_dicts[w][key] == 0:\n",
    "                            W_dicts[w].pop(key)\n",
    "                # print(W_dicts)\n",
    "            else:\n",
    "                # W_dicts[ind]のkeyを削除\n",
    "                num = 0\n",
    "                if key in W_dicts[ind]:\n",
    "                    num = W_dicts[ind].pop(key)\n",
    "                ans -= num\n",
    "                # print(num)\n",
    "                # H方向に対して，keyを持っている辞書からkeyを1つずつ減らす\n",
    "                for h in range(H):\n",
    "                    if key in H_dicts[h]:\n",
    "                        H_dicts[h][key] -= 1\n",
    "                        if H_dicts[h][key] == 0:\n",
    "                            H_dicts[h].pop(key)\n",
    "    print(ans)\n",
    "    \n",
    "if __name__ == \"__main__\":\n",
    "    main()"
   ]
  },
  {
   "cell_type": "code",
   "execution_count": 1,
   "metadata": {},
   "outputs": [
    {
     "name": "stdout",
     "output_type": "stream",
     "text": [
      "2\n"
     ]
    }
   ],
   "source": [
    "from collections import defaultdict\n",
    "a = defaultdict(int)\n",
    "a[1] = 2\n",
    "print(a.pop(1))"
   ]
  },
  {
   "cell_type": "code",
   "execution_count": null,
   "metadata": {},
   "outputs": [],
   "source": []
  }
 ],
 "metadata": {
  "kernelspec": {
   "display_name": "Python 3",
   "language": "python",
   "name": "python3"
  },
  "language_info": {
   "codemirror_mode": {
    "name": "ipython",
    "version": 3
   },
   "file_extension": ".py",
   "mimetype": "text/x-python",
   "name": "python",
   "nbconvert_exporter": "python",
   "pygments_lexer": "ipython3",
   "version": "3.11.1"
  },
  "orig_nbformat": 4
 },
 "nbformat": 4,
 "nbformat_minor": 2
}
