{
 "cells": [
  {
   "cell_type": "code",
   "execution_count": null,
   "metadata": {},
   "outputs": [],
   "source": [
    "# from functools import lru_cache\n",
    "# import sys\n",
    "# sys.setrecursionlimit(10**9)\n",
    "# input = sys.stdin.readline\n",
    "from decimal import Decimal\n",
    "from functools import cmp_to_key\n",
    "from collections import Counter\n",
    "from itertools import permutations\n",
    "from itertools import combinations\n",
    "from itertools import combinations_with_replacement\n",
    "from copy import deepcopy\n",
    "import math\n",
    "import heapq\n",
    "from collections import OrderedDict\n",
    "import bisect\n",
    "\n",
    "import sys\n",
    "sys.setrecursionlimit(10**9)\n",
    "from collections import deque\n",
    "from collections import defaultdict\n",
    "\n",
    "# トポロジカルソート\n",
    "# adj_dict: 隣接辞書\n",
    "# into_num_dict: 入次数辞書 (例:1→2, 1→3, 2→3の有向辺があったら{1:0, 2:1, 3:2})\n",
    "# start_nodes: 入次数が0のノード集合\n",
    "def topological_sort(adj_dict, into_num_dict, start_nodes):\n",
    "    q = deque(start_nodes)\n",
    "    ans = []\n",
    "    while q:\n",
    "        now_node = q.popleft()\n",
    "        ans.append(now_node)\n",
    "        for next_node in adj_dict[now_node]:\n",
    "            into_num_dict[next_node] -= 1\n",
    "            if into_num_dict[next_node] == 0:\n",
    "                q.append(next_node)\n",
    "    return ans\n",
    "\n",
    "def main():\n",
    "    N = int(input())\n",
    "    adj_dict = defaultdict(list)\n",
    "    start_nodes = [1]\n",
    "    CP = []\n",
    "    for i in range(1,N+1):\n",
    "        C, *P = map(int, input().split())\n",
    "        CP.append((C, P))\n",
    "        for p in P:\n",
    "            adj_dict[i].append(p)\n",
    "    # DFSで頂点1からいける頂点の集合を求める\n",
    "    can_go = set([1])\n",
    "    q = deque([1])\n",
    "    while q:\n",
    "        now_node = q.pop()\n",
    "        for next_node in adj_dict[now_node]:\n",
    "            if next_node not in can_go:\n",
    "                can_go.add(next_node)\n",
    "                q.append(next_node)\n",
    "    adj_dict_ = defaultdict(list)\n",
    "    into_num_dict = defaultdict(int)\n",
    "    for i in range(1,N+1):\n",
    "        for p in CP[i-1][1]:\n",
    "            if p in can_go and i in can_go:\n",
    "                adj_dict_[i].append(p)\n",
    "                into_num_dict[p] += 1\n",
    "    ans = list(reversed(topological_sort(adj_dict_, into_num_dict, start_nodes)))\n",
    "    print(*ans[:-1])\n",
    "    \n",
    "if __name__ == \"__main__\":\n",
    "    main()"
   ]
  },
  {
   "cell_type": "code",
   "execution_count": 12,
   "metadata": {},
   "outputs": [
    {
     "name": "stdout",
     "output_type": "stream",
     "text": [
      "\n"
     ]
    }
   ],
   "source": [
    "a = []\n",
    "print(*a[:-1])"
   ]
  },
  {
   "cell_type": "code",
   "execution_count": null,
   "metadata": {},
   "outputs": [],
   "source": []
  }
 ],
 "metadata": {
  "kernelspec": {
   "display_name": "Python 3",
   "language": "python",
   "name": "python3"
  },
  "language_info": {
   "codemirror_mode": {
    "name": "ipython",
    "version": 3
   },
   "file_extension": ".py",
   "mimetype": "text/x-python",
   "name": "python",
   "nbconvert_exporter": "python",
   "pygments_lexer": "ipython3",
   "version": "3.11.1"
  },
  "orig_nbformat": 4
 },
 "nbformat": 4,
 "nbformat_minor": 2
}
