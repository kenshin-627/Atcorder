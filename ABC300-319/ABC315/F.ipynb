{
 "cells": [
  {
   "cell_type": "code",
   "execution_count": 14,
   "metadata": {},
   "outputs": [
    {
     "name": "stdout",
     "output_type": "stream",
     "text": [
      "1.4142135623730951\n"
     ]
    }
   ],
   "source": [
    "# from functools import lru_cache\n",
    "# import sys\n",
    "# sys.setrecursionlimit(10**9)\n",
    "# input = sys.stdin.readline\n",
    "from decimal import Decimal\n",
    "from functools import cmp_to_key\n",
    "from collections import Counter\n",
    "from itertools import permutations\n",
    "from itertools import combinations\n",
    "from itertools import combinations_with_replacement\n",
    "from copy import deepcopy\n",
    "import math\n",
    "import heapq\n",
    "from collections import OrderedDict\n",
    "import bisect\n",
    "from collections import deque\n",
    "\n",
    "import math\n",
    "from collections import defaultdict\n",
    "\n",
    "def euclid(xy1, xy2):\n",
    "    return math.sqrt((xy1[0]-xy2[0])**2 + (xy1[1]-xy2[1])**2)\n",
    "\n",
    "def main():\n",
    "    N = int(input())\n",
    "    XY = [(0,0)]\n",
    "    for i in range(N):\n",
    "        x, y = map(int, input().split())\n",
    "        XY.append((x, y))\n",
    "    # dp(i,j): 1からiまでj個無視していくときの最短距離\n",
    "    dp = defaultdict(lambda: -1)\n",
    "    dp[(1,0)] = 0\n",
    "    for i in range(2,N+1):\n",
    "        for j in range(i-1):\n",
    "            if 28 <= j:\n",
    "                break\n",
    "            i_ = i-1\n",
    "            j_ = j\n",
    "            # print(i_,j_)\n",
    "            dp[(i,j)] = 10**9\n",
    "            if dp[(i_,j_)] != -1:\n",
    "                dp[(i,j)] = dp[(i_,j)] + euclid(XY[i], XY[i_])\n",
    "            while 2 <= i_ and 1 <= j_:\n",
    "                i_ -= 1\n",
    "                j_ -= 1\n",
    "                # print(i_,j_)\n",
    "                if dp[(i_,j_)] != -1:\n",
    "                    dp[(i,j)] = min(dp[(i,j)], dp[(i_,j_)] + euclid(XY[i], XY[i_]))\n",
    "            # print(f\"dp[{i},{j}] = {dp[(i,j)]}\")\n",
    "    ans = dp[(N,0)]\n",
    "    for j in range(1,28):\n",
    "        if dp[(N,j)] != -1:\n",
    "            ans = min(ans, dp[(N,j)] + 2**(j-1))\n",
    "    print(ans)\n",
    "    \n",
    "if __name__ == \"__main__\":\n",
    "    main()"
   ]
  },
  {
   "cell_type": "code",
   "execution_count": null,
   "metadata": {},
   "outputs": [],
   "source": []
  }
 ],
 "metadata": {
  "kernelspec": {
   "display_name": "Python 3",
   "language": "python",
   "name": "python3"
  },
  "language_info": {
   "codemirror_mode": {
    "name": "ipython",
    "version": 3
   },
   "file_extension": ".py",
   "mimetype": "text/x-python",
   "name": "python",
   "nbconvert_exporter": "python",
   "pygments_lexer": "ipython3",
   "version": "3.11.1"
  },
  "orig_nbformat": 4
 },
 "nbformat": 4,
 "nbformat_minor": 2
}
