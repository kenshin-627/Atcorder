{
 "cells": [
  {
   "cell_type": "code",
   "execution_count": null,
   "metadata": {},
   "outputs": [],
   "source": [
    "from collections import defaultdict\n",
    "\n",
    "def main():\n",
    "    N,M = map(int,input().split())\n",
    "    adj_dict = defaultdict(list)\n",
    "    for _ in range(M):\n",
    "        A,B,C = map(int,input().split())\n",
    "        adj_dict[A].append((B,C))\n",
    "        adj_dict[B].append((A,C))\n",
    "    for i in range(1,N+1):\n",
    "        adj_dict[0].append((i,0))\n",
    "    dist_max = 0\n",
    "    # 0からスタートして，同じ頂点を2回以上通らないようにするときの最大コスト\n",
    "    def dfs(v,visited,cost):\n",
    "        nonlocal dist_max\n",
    "        if dist_max < cost:\n",
    "            dist_max = cost\n",
    "        for next_v,c in adj_dict[v]:\n",
    "            if next_v in visited:\n",
    "                continue\n",
    "            visited.add(next_v)\n",
    "            dfs(next_v,visited,cost+c)\n",
    "            visited.remove(next_v)\n",
    "    dfs(0,set(),0)\n",
    "    print(dist_max)\n",
    "    \n",
    "if __name__ == \"__main__\":\n",
    "    main()"
   ]
  }
 ],
 "metadata": {
  "language_info": {
   "name": "python"
  },
  "orig_nbformat": 4
 },
 "nbformat": 4,
 "nbformat_minor": 2
}
