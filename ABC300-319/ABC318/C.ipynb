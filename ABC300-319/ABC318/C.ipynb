{
 "cells": [
  {
   "cell_type": "code",
   "execution_count": null,
   "metadata": {},
   "outputs": [],
   "source": [
    "from functools import lru_cache\n",
    "import sys\n",
    "sys.setrecursionlimit(10**9)\n",
    "# input = sys.stdin.readline\n",
    "from decimal import Decimal\n",
    "from functools import cmp_to_key\n",
    "from collections import Counter\n",
    "from itertools import permutations\n",
    "from itertools import combinations\n",
    "from itertools import combinations_with_replacement\n",
    "from copy import deepcopy\n",
    "import math\n",
    "import heapq\n",
    "from collections import OrderedDict\n",
    "import bisect\n",
    "from collections import deque\n",
    "from collections import defaultdict\n",
    "\n",
    "def main():\n",
    "    N,D,P = map(int,input().split())\n",
    "    F = list(map(int,input().split()))\n",
    "    F.sort(reverse=True)\n",
    "    ans = sum(F)\n",
    "    # FをD個ずつ足す\n",
    "    F_ = []\n",
    "    for i in range(N):\n",
    "        if i % D == 0:\n",
    "            F_.append(F[i])\n",
    "        else:\n",
    "            F_[-1] += F[i]\n",
    "    for f in F_:\n",
    "        if f > P:\n",
    "            ans += P-f\n",
    "        else:\n",
    "            break\n",
    "    print(ans)\n",
    "    \n",
    "if __name__ == \"__main__\":\n",
    "    main()"
   ]
  }
 ],
 "metadata": {
  "language_info": {
   "name": "python"
  },
  "orig_nbformat": 4
 },
 "nbformat": 4,
 "nbformat_minor": 2
}
