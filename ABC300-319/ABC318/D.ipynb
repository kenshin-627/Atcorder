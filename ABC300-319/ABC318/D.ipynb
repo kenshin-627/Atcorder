{
 "cells": [
  {
   "cell_type": "code",
   "execution_count": 35,
   "metadata": {},
   "outputs": [
    {
     "name": "stdout",
     "output_type": "stream",
     "text": [
      "[[[1, 3], [2]], [[1, 3], [2]], [[1, 3], [2]]]\n"
     ]
    }
   ],
   "source": [
    "from functools import lru_cache\n",
    "import sys\n",
    "sys.setrecursionlimit(10**9)\n",
    "# input = sys.stdin.readline\n",
    "from decimal import Decimal\n",
    "from functools import cmp_to_key\n",
    "from collections import Counter\n",
    "from itertools import permutations\n",
    "from itertools import combinations\n",
    "from itertools import combinations_with_replacement\n",
    "from copy import deepcopy\n",
    "import math\n",
    "import heapq\n",
    "from collections import OrderedDict\n",
    "import bisect\n",
    "from collections import deque\n",
    "from collections import defaultdict\n",
    "\n",
    "def main():\n",
    "    N = int(input())\n",
    "    # 1からNまでの数字を2個ずつに分ける組み合わせを列挙する\n",
    "    kumiawase = [[[1]]]\n",
    "    for i in range(2,N+1):\n",
    "        tmp = []\n",
    "        if i % 2 == 1:\n",
    "            for j in kumiawase:\n",
    "                # 一番後ろにiを追加する\n",
    "                j_ = deepcopy(j)\n",
    "                j_.append([i])\n",
    "                tmp.append(j_)\n",
    "                # 一番後ろ以外のどこかとiを入れ替える\n",
    "                for k in range(len(j_)-1):\n",
    "                    t = j_[k][0]\n",
    "                    j_[k][0] = i\n",
    "                    j_[-1][0] = t\n",
    "                    tmp.append(j_)\n",
    "                    j_[k][0] = t\n",
    "                    j_[-1][0] = j_[k][1]\n",
    "                    j_[k][1] = i\n",
    "                    tmp.append(j_)\n",
    "        else:\n",
    "            # すでにある組み合わせにiを追加する\n",
    "            for j in kumiawase:\n",
    "                j_ = deepcopy(j)\n",
    "                j_[-1].append(i)\n",
    "                tmp.append(j_)\n",
    "        kumiawase = tmp\n",
    "    print(kumiawase)\n",
    "    \n",
    "if __name__ == \"__main__\":\n",
    "    main()"
   ]
  },
  {
   "cell_type": "code",
   "execution_count": 39,
   "metadata": {},
   "outputs": [
    {
     "name": "stdout",
     "output_type": "stream",
     "text": [
      "defaultdict(<class 'list'>, {1: [1, 5, 4], 2: [7, 8], 3: [6]})\n"
     ]
    }
   ],
   "source": [
    "from functools import lru_cache\n",
    "import sys\n",
    "sys.setrecursionlimit(10**9)\n",
    "# input = sys.stdin.readline\n",
    "from decimal import Decimal\n",
    "from functools import cmp_to_key\n",
    "from collections import Counter\n",
    "from itertools import permutations\n",
    "from itertools import combinations\n",
    "from itertools import combinations_with_replacement\n",
    "from copy import deepcopy\n",
    "import math\n",
    "import heapq\n",
    "from collections import OrderedDict\n",
    "import bisect\n",
    "from collections import deque\n",
    "from collections import defaultdict\n",
    "\n",
    "def main():\n",
    "    N = int(input())\n",
    "    adj_dict = defaultdict(list)\n",
    "    for i in range(1, N):\n",
    "        D = list(map(int,input().split()))\n",
    "        for j in range(len(D)):\n",
    "            adj_dict[i].append(D[j])\n",
    "    # dp[i]: 後ろからi番目までのうちつなげた頂点のリストと重みの総和の最大値，[[3,4],[2,5],[6],15]なら3と4，2と5がつながってる，重みの総和の最大値は15\n",
    "    dp = defaultdict(list)\n",
    "    dp[N] = [[N],0]\n",
    "    for i in range(N-1,0,-1):\n",
    "        for j in range(i,N+1):\n",
    "            if i == N-1:\n",
    "                dp[i] = []\n",
    "            else:\n",
    "                dp[i] = sum([dp[(i+1,k)] for k in adj_dict[j]])\n",
    "    \n",
    "if __name__ == \"__main__\":\n",
    "    main()"
   ]
  },
  {
   "cell_type": "code",
   "execution_count": 45,
   "metadata": {},
   "outputs": [
    {
     "name": "stdout",
     "output_type": "stream",
     "text": [
      "[[0, 1, 5, 4], [1, 0, 7, 8], [5, 7, 0, 6], [4, 8, 6, 0]]\n",
      "{(1, 3), (4, 2)}\n",
      "13\n"
     ]
    }
   ],
   "source": [
    "import networkx as nx\n",
    "from networkx.algorithms import max_weight_matching\n",
    "\n",
    "def main():\n",
    "    N = int(input())\n",
    "    G = nx.Graph()\n",
    "    W = [[0]*N for _ in range(N)]\n",
    "    for i in range(1,N):\n",
    "        D = list(map(int,input().split()))\n",
    "        for j,d in enumerate(D,i+1):\n",
    "            G.add_edge(i, j, weight=d)\n",
    "            W[i-1][j-1] = d\n",
    "            W[j-1][i-1] = d\n",
    "    print(sum([W[i-1][j-1] for i,j in max_weight_matching(G)]))\n",
    "    \n",
    "if __name__ == \"__main__\":\n",
    "    main()"
   ]
  },
  {
   "cell_type": "code",
   "execution_count": null,
   "metadata": {},
   "outputs": [],
   "source": []
  }
 ],
 "metadata": {
  "kernelspec": {
   "display_name": "Python 3",
   "language": "python",
   "name": "python3"
  },
  "language_info": {
   "codemirror_mode": {
    "name": "ipython",
    "version": 3
   },
   "file_extension": ".py",
   "mimetype": "text/x-python",
   "name": "python",
   "nbconvert_exporter": "python",
   "pygments_lexer": "ipython3",
   "version": "3.11.1"
  },
  "orig_nbformat": 4
 },
 "nbformat": 4,
 "nbformat_minor": 2
}
