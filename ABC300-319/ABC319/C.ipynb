{
 "cells": [
  {
   "cell_type": "code",
   "execution_count": null,
   "metadata": {},
   "outputs": [],
   "source": [
    "from itertools import permutations\n",
    "from collections import defaultdict\n",
    "\n",
    "def main():\n",
    "    C = [list(map(int, input().split())) for _ in range(3)]\n",
    "    kouho = [(0,0),(0,1),(0,2),(1,0),(1,1),(1,2),(2,0),(2,1),(2,2)]\n",
    "    tmp = 1/(9*8*7*6*5*4*3*2)\n",
    "    ans = 0\n",
    "    for kouho_ in permutations(kouho, 9):\n",
    "        # 縦方向で出てきた数字\n",
    "        seen_tate = [defaultdict(int) for _ in range(3)]\n",
    "        seen_yoko = [defaultdict(int) for _ in range(3)]\n",
    "        seen_migisita = defaultdict(int)\n",
    "        seen_hidarisita = defaultdict(int)\n",
    "        for i,j in kouho_:\n",
    "            if (seen_tate[j][C[i][j]] == 1 and len(seen_tate[j]) == 1) or (seen_yoko[i][C[i][j]] == 1 and len(seen_yoko[i]) == 1):\n",
    "                break\n",
    "            elif i == 1 and j == 1:\n",
    "                if (seen_migisita[C[i][j]] == 1 and len(seen_migisita) == 1) or (seen_hidarisita[C[i][j]] == 1 and len(seen_hidarisita) == 1):\n",
    "                    break\n",
    "                else:\n",
    "                    seen_migisita[C[i][j]] += 1\n",
    "                    seen_hidarisita[C[i][j]] += 1\n",
    "            elif i == j:\n",
    "                if seen_migisita[C[i][j]] == 1 and len(seen_migisita) == 1:\n",
    "                    break\n",
    "                else:\n",
    "                    seen_migisita[C[i][j]] += 1\n",
    "            elif i+j == 2:\n",
    "                if seen_hidarisita[C[i][j]] == 1 and len(seen_hidarisita) == 1:\n",
    "                    break\n",
    "                else:\n",
    "                    seen_hidarisita[C[i][j]] += 1\n",
    "            seen_tate[j][C[i][j]] += 1\n",
    "            seen_yoko[i][C[i][j]] += 1\n",
    "        else:\n",
    "            ans += tmp\n",
    "    print(ans)\n",
    "    \n",
    "if __name__ == \"__main__\":\n",
    "    main()"
   ]
  }
 ],
 "metadata": {
  "kernelspec": {
   "display_name": "Python 3",
   "language": "python",
   "name": "python3"
  },
  "language_info": {
   "codemirror_mode": {
    "name": "ipython",
    "version": 3
   },
   "file_extension": ".py",
   "mimetype": "text/x-python",
   "name": "python",
   "nbconvert_exporter": "python",
   "pygments_lexer": "ipython3",
   "version": "3.11.1"
  },
  "orig_nbformat": 4
 },
 "nbformat": 4,
 "nbformat_minor": 2
}
