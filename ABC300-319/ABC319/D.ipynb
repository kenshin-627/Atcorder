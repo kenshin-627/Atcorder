{
 "cells": [
  {
   "cell_type": "code",
   "execution_count": 5,
   "metadata": {},
   "outputs": [
    {
     "name": "stdout",
     "output_type": "stream",
     "text": [
      "[2, 1, 2]\n",
      "2\n"
     ]
    }
   ],
   "source": [
    "def can_fit_lines(L, M, W):\n",
    "    lines = 1  # 1行目に最初の単語を表示\n",
    "    line_width = 0\n",
    "    for i in range(len(L)):\n",
    "        # 単語を入れる\n",
    "        line_width += L[i]\n",
    "        if line_width == W:\n",
    "            if i == len(L)-1:\n",
    "                break\n",
    "            # 改行\n",
    "            lines += 1\n",
    "            line_width = 0\n",
    "        elif line_width > W:\n",
    "            # 改行して単語を入れる\n",
    "            lines += 1\n",
    "            line_width = L[i]\n",
    "            if line_width == W:\n",
    "                if i == len(L)-1:\n",
    "                    break\n",
    "                # 改行\n",
    "                lines += 1\n",
    "                line_width = 0\n",
    "            elif line_width < W:\n",
    "                # 空白を入れる\n",
    "                line_width += 1\n",
    "        elif line_width < W:\n",
    "            # 空白を入れる\n",
    "            line_width += 1\n",
    "    return lines <= M\n",
    "\n",
    "def find_minimum_window_width(N, M, L):\n",
    "    left = max(L)\n",
    "    right = 2*10**15\n",
    "    while left < right:\n",
    "        mid = (left + right) // 2\n",
    "        if can_fit_lines(L, M, mid):\n",
    "            right = mid\n",
    "        else:\n",
    "            left = mid + 1\n",
    "    return left\n",
    "\n",
    "def main():\n",
    "    N,M = map(int,input().split())\n",
    "    L = list(map(int,input().split()))\n",
    "    print(find_minimum_window_width(N, M, L))\n",
    "    \n",
    "if __name__ == \"__main__\":\n",
    "    main()"
   ]
  },
  {
   "cell_type": "code",
   "execution_count": null,
   "metadata": {},
   "outputs": [],
   "source": []
  }
 ],
 "metadata": {
  "kernelspec": {
   "display_name": "Python 3",
   "language": "python",
   "name": "python3"
  },
  "language_info": {
   "codemirror_mode": {
    "name": "ipython",
    "version": 3
   },
   "file_extension": ".py",
   "mimetype": "text/x-python",
   "name": "python",
   "nbconvert_exporter": "python",
   "pygments_lexer": "ipython3",
   "version": "3.11.1"
  },
  "orig_nbformat": 4
 },
 "nbformat": 4,
 "nbformat_minor": 2
}
