{
 "cells": [
  {
   "cell_type": "code",
   "execution_count": null,
   "metadata": {},
   "outputs": [],
   "source": [
    "from functools import lru_cache\n",
    "import sys\n",
    "sys.setrecursionlimit(10**9)\n",
    "# input = sys.stdin.readline\n",
    "from decimal import Decimal\n",
    "from functools import cmp_to_key\n",
    "from collections import Counter\n",
    "from itertools import permutations\n",
    "from itertools import combinations\n",
    "from itertools import combinations_with_replacement\n",
    "from itertools import product\n",
    "from itertools import accumulate\n",
    "from itertools import groupby\n",
    "from copy import deepcopy\n",
    "import math\n",
    "import heapq\n",
    "from collections import OrderedDict\n",
    "import bisect\n",
    "from collections import deque\n",
    "\n",
    "from collections import defaultdict\n",
    "\n",
    "def main():\n",
    "    N,X,Y = map(int,input().split())\n",
    "    P_T = [list(map(int,input().split())) for _ in [0]*(N-1)]\n",
    "    ans = defaultdict(int)\n",
    "    for i in range(840):\n",
    "        j = i % 1\n",
    "        k = i % 2\n",
    "        l = i % 3\n",
    "        m = i % 4\n",
    "        n = i % 5\n",
    "        o = i % 6\n",
    "        r = i % 7\n",
    "        s = i % 8\n",
    "        tmp = i\n",
    "        for p,t in P_T:\n",
    "            tmp = p * ((tmp - 1) // p + 1) + t\n",
    "        ans[(j,k,l,m,n,o,r,s)] = tmp\n",
    "    Q = int(input())\n",
    "    for _ in [0]*Q:\n",
    "        q = int(input())\n",
    "        t = q + X\n",
    "        print(840*(t//840) + ans[(t%1,t%2,t%3,t%4,t%5,t%6,t%7,t%8)] + Y)\n",
    "    \n",
    "if __name__ == \"__main__\":\n",
    "    main()"
   ]
  },
  {
   "cell_type": "code",
   "execution_count": null,
   "metadata": {},
   "outputs": [],
   "source": []
  }
 ],
 "metadata": {
  "kernelspec": {
   "display_name": "Python 3",
   "language": "python",
   "name": "python3"
  },
  "language_info": {
   "codemirror_mode": {
    "name": "ipython",
    "version": 3
   },
   "file_extension": ".py",
   "mimetype": "text/x-python",
   "name": "python",
   "nbconvert_exporter": "python",
   "pygments_lexer": "ipython3",
   "version": "3.11.1"
  },
  "orig_nbformat": 4
 },
 "nbformat": 4,
 "nbformat_minor": 2
}
