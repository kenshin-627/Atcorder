{
 "cells": [
  {
   "cell_type": "code",
   "execution_count": 1,
   "metadata": {},
   "outputs": [
    {
     "name": "stdout",
     "output_type": "stream",
     "text": [
      "deque([deque([6, 5]), deque([2, 1]), deque([4, 3])])\n",
      "deque([deque([5, 6]), deque([1, 2]), deque([3, 4])])\n",
      "deque([deque([4, 3]), deque([6, 5]), deque([2, 1])])\n",
      "deque([deque([3, 4]), deque([5, 6]), deque([1, 2])])\n",
      "deque([deque([2, 1]), deque([4, 3]), deque([6, 5])])\n",
      "deque([deque([1, 2]), deque([3, 4]), deque([5, 6])])\n"
     ]
    }
   ],
   "source": [
    "from collections import deque\n",
    "\n",
    "def main():\n",
    "    H,W = map(int,input().split())\n",
    "    A = deque()\n",
    "    for _ in range(H):\n",
    "        A.append(deque(input()))\n",
    "    B = deque()\n",
    "    for i in range(H):\n",
    "        B.append(deque(input()))\n",
    "    # Aを縦横にシフトさせてBと一致するかを調べる\n",
    "    for i in range(H):\n",
    "        # Aを縦にシフトさせる\n",
    "        A.rotate()\n",
    "        for _ in range(W):\n",
    "            # Aを横にシフトさせる\n",
    "            for j in range(H):\n",
    "                A[j].rotate()\n",
    "            # Bと一致するかを調べる\n",
    "            if A == B:\n",
    "                print(\"Yes\")\n",
    "                return\n",
    "    print(\"No\")\n",
    "    \n",
    "if __name__ == \"__main__\":\n",
    "    main()"
   ]
  },
  {
   "cell_type": "code",
   "execution_count": null,
   "metadata": {},
   "outputs": [],
   "source": []
  }
 ],
 "metadata": {
  "kernelspec": {
   "display_name": "Python 3",
   "language": "python",
   "name": "python3"
  },
  "language_info": {
   "codemirror_mode": {
    "name": "ipython",
    "version": 3
   },
   "file_extension": ".py",
   "mimetype": "text/x-python",
   "name": "python",
   "nbconvert_exporter": "python",
   "pygments_lexer": "ipython3",
   "version": "3.9.6"
  },
  "orig_nbformat": 4
 },
 "nbformat": 4,
 "nbformat_minor": 2
}
