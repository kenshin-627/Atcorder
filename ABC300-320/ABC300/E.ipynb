{
 "cells": [
  {
   "cell_type": "code",
   "execution_count": 16,
   "metadata": {},
   "outputs": [
    {
     "name": "stdout",
     "output_type": "stream",
     "text": [
      "812376310\n"
     ]
    }
   ],
   "source": [
    "import math\n",
    "from collections import defaultdict\n",
    "\n",
    "def main():\n",
    "    N = int(input())\n",
    "    MOD = 998244353\n",
    "    # math.comb(60,30)\n",
    "    # Nが2,3,5以外でわりきれるならおかしい\n",
    "    ans = 0\n",
    "    prime_dict = defaultdict(int)\n",
    "    while N % 2 == 0:\n",
    "        N //= 2\n",
    "        prime_dict[2] += 1\n",
    "    while N % 3 == 0:\n",
    "        N //= 3\n",
    "        prime_dict[3] += 1\n",
    "    while N % 5 == 0:\n",
    "        N //= 5\n",
    "        prime_dict[5] += 1\n",
    "    if N != 1:\n",
    "        print(ans)\n",
    "        return\n",
    "    while True:\n",
    "        sum_ = prime_dict[2] + prime_dict[3] + prime_dict[4] + prime_dict[5] + prime_dict[6]\n",
    "        tmp = 1\n",
    "        tmp_2 = pow(5**sum_,MOD-2,MOD)\n",
    "        for i in range(2,7):\n",
    "            tmp *= math.comb(sum_,prime_dict[i])\n",
    "            sum_ -= prime_dict[i]\n",
    "        ans = (ans + (tmp*tmp_2)) % MOD\n",
    "        # まず2を4に変えていく\n",
    "        # これ以上変えれなくなったら4を全部2に戻して2と3で6を作る\n",
    "        if prime_dict[2] > 1:\n",
    "            prime_dict[4] += 1\n",
    "            prime_dict[2] -= 2\n",
    "        else:\n",
    "            prime_dict[2] += prime_dict[4]*2\n",
    "            prime_dict[4] = 0\n",
    "            if prime_dict[2] > 0 and prime_dict[3] > 0:\n",
    "                prime_dict[2] -= 1\n",
    "                prime_dict[3] -= 1\n",
    "                prime_dict[6] += 1\n",
    "            else:\n",
    "                break\n",
    "    print(ans)\n",
    "    \n",
    "if __name__ == \"__main__\":\n",
    "    main()"
   ]
  },
  {
   "cell_type": "code",
   "execution_count": null,
   "metadata": {},
   "outputs": [],
   "source": []
  }
 ],
 "metadata": {
  "kernelspec": {
   "display_name": "Python 3",
   "language": "python",
   "name": "python3"
  },
  "language_info": {
   "codemirror_mode": {
    "name": "ipython",
    "version": 3
   },
   "file_extension": ".py",
   "mimetype": "text/x-python",
   "name": "python",
   "nbconvert_exporter": "python",
   "pygments_lexer": "ipython3",
   "version": "3.9.6"
  },
  "orig_nbformat": 4
 },
 "nbformat": 4,
 "nbformat_minor": 2
}
