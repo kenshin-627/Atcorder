{
 "cells": [
  {
   "cell_type": "code",
   "execution_count": 7,
   "metadata": {},
   "outputs": [
    {
     "name": "stdout",
     "output_type": "stream",
     "text": [
      "s: u, t: u\n",
      "s: k, t: o\n",
      "s: @, t: o\n",
      "s: @, t: o\n",
      "No\n"
     ]
    }
   ],
   "source": [
    "from collections import deque\n",
    "\n",
    "def main():\n",
    "    S = deque(sorted(input()))\n",
    "    T = deque(sorted(input()))\n",
    "    while len(S) > 0 or len(T) > 0:\n",
    "        if len(S) == 0 or len(T) == 0:\n",
    "            print(\"No\")\n",
    "            return\n",
    "        s = S.pop()\n",
    "        t = T.pop()\n",
    "        if s == t:\n",
    "            continue\n",
    "        if s > t:\n",
    "            if s == \"a\" or s == \"t\" or s == \"c\" or s == \"o\" or s == \"d\" or s == \"e\" or s == \"r\" or s == \"@\":\n",
    "                if t == \"@\":\n",
    "                    continue\n",
    "                S.append(s)\n",
    "                tmp = T.popleft()\n",
    "                if tmp == \"@\":\n",
    "                    T.append(t)\n",
    "                    T.append(tmp)\n",
    "                else:\n",
    "                    print(\"No\")\n",
    "                    return\n",
    "            else:\n",
    "                print(\"No\")\n",
    "                return\n",
    "        else:\n",
    "            if t == \"a\" or t == \"t\" or t == \"c\" or t == \"o\" or t == \"d\" or t == \"e\" or t == \"r\" or t == \"@\":\n",
    "                if s == \"@\":\n",
    "                    continue\n",
    "                T.append(t)\n",
    "                tmp = S.popleft()\n",
    "                if tmp == \"@\":\n",
    "                    S.append(s)\n",
    "                    S.append(tmp)\n",
    "                else:\n",
    "                    print(\"No\")\n",
    "                    return\n",
    "            else:\n",
    "                print(\"No\")\n",
    "                return\n",
    "    print(\"Yes\")\n",
    "    \n",
    "if __name__ == \"__main__\":\n",
    "    main()"
   ]
  },
  {
   "cell_type": "code",
   "execution_count": 6,
   "metadata": {},
   "outputs": [
    {
     "name": "stdout",
     "output_type": "stream",
     "text": [
      "True\n"
     ]
    }
   ],
   "source": [
    "print(\"a\"<\"b\")"
   ]
  },
  {
   "cell_type": "code",
   "execution_count": null,
   "metadata": {},
   "outputs": [],
   "source": []
  }
 ],
 "metadata": {
  "kernelspec": {
   "display_name": "Python 3",
   "language": "python",
   "name": "python3"
  },
  "language_info": {
   "codemirror_mode": {
    "name": "ipython",
    "version": 3
   },
   "file_extension": ".py",
   "mimetype": "text/x-python",
   "name": "python",
   "nbconvert_exporter": "python",
   "pygments_lexer": "ipython3",
   "version": "3.9.6"
  },
  "orig_nbformat": 4
 },
 "nbformat": 4,
 "nbformat_minor": 2
}
