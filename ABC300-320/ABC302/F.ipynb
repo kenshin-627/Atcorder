{
 "cells": [
  {
   "cell_type": "code",
   "execution_count": null,
   "metadata": {},
   "outputs": [],
   "source": [
    "from collections import Counter\n",
    "from itertools import permutations\n",
    "from itertools import combinations\n",
    "import math\n",
    "import heapq\n",
    "from collections import OrderedDict\n",
    "import bisect\n",
    "from collections import deque\n",
    "from collections import defaultdict\n",
    "\n",
    "def main():\n",
    "    N,M = map(int,input().split())\n",
    "    S_list = []\n",
    "    for _ in [0]*N:\n",
    "        A = int(input())\n",
    "        S = set(map(int,input().split()))\n",
    "        S_list.append(S)\n",
    "    union_set = set([1])\n",
    "    seen_set = set()\n",
    "    search_set = union_set - seen_set\n",
    "    seen_ind = set()\n",
    "    ans = 0\n",
    "    while search_set:\n",
    "        for s in search_set:\n",
    "            for i,S in enumerate(S_list):\n",
    "                if i in seen_ind:\n",
    "                    continue\n",
    "                if s in S:\n",
    "                    union_set |= S\n",
    "                    seen_ind.add(i)\n",
    "        seen_set |= search_set\n",
    "        search_set = union_set - seen_set\n",
    "        if M in union_set:\n",
    "            print(ans)\n",
    "            return\n",
    "        ans += 1\n",
    "    print(-1)\n",
    "        \n",
    "if __name__ == \"__main__\":\n",
    "    main()"
   ]
  },
  {
   "cell_type": "code",
   "execution_count": 5,
   "metadata": {},
   "outputs": [
    {
     "name": "stdout",
     "output_type": "stream",
     "text": [
      "[{1, 2}, {2, 3}]\n",
      "True\n"
     ]
    }
   ],
   "source": [
    "from collections import Counter\n",
    "from itertools import permutations\n",
    "from itertools import combinations\n",
    "import math\n",
    "import heapq\n",
    "from collections import OrderedDict\n",
    "import bisect\n",
    "from collections import deque\n",
    "from collections import defaultdict\n",
    "\n",
    "def main():\n",
    "    N,M = map(int,input().split())\n",
    "    S_list = [] # S1,S2,...,SN\n",
    "    num_set_dict = defaultdict(set) # 各数字がどの集合に含まれているか key:数字 value:集合のindexのset\n",
    "    for i in range(N):\n",
    "        A = int(input())\n",
    "        S = set(map(int,input().split()))\n",
    "        S_list.append(S)\n",
    "        for s in S:\n",
    "            num_set_dict[s].add(i)\n",
    "    search_q = deque([1]) # 探索する数字のキュー\n",
    "    see_num = set([1]) # すでに見た数字\n",
    "    seen_ind = set() # すでに見た集合のindex\n",
    "    ans = 0\n",
    "    next_search_set = set()\n",
    "    while search_q:\n",
    "        now_node = search_q.popleft()\n",
    "        # 次に見る集合のうちまだ見ていない集合のindex\n",
    "        next_nodes = num_set_dict[now_node] - seen_ind\n",
    "        for next_node in next_nodes:\n",
    "            seen_ind.add(next_node)\n",
    "            next_search_set |= S_list[next_node] - see_num\n",
    "            see_num |= next_search_set\n",
    "        if M in see_num:\n",
    "            print(ans)\n",
    "            return\n",
    "        if len(search_q) == 0:\n",
    "            search_q = deque(next_search_set)\n",
    "            next_search_set = set()\n",
    "            ans += 1\n",
    "    print(-1)\n",
    "        \n",
    "if __name__ == \"__main__\":\n",
    "    main()"
   ]
  },
  {
   "cell_type": "code",
   "execution_count": 1,
   "metadata": {},
   "outputs": [
    {
     "name": "stdout",
     "output_type": "stream",
     "text": [
      "{2, 3, 4}\n"
     ]
    }
   ],
   "source": [
    "from collections import defaultdict\n",
    "a = defaultdict(set)\n",
    "a[1] |= set([2,3])\n",
    "a[1] |= set([3,4])\n",
    "print(a[1])"
   ]
  },
  {
   "cell_type": "code",
   "execution_count": null,
   "metadata": {},
   "outputs": [],
   "source": []
  }
 ],
 "metadata": {
  "kernelspec": {
   "display_name": "Python 3",
   "language": "python",
   "name": "python3"
  },
  "language_info": {
   "codemirror_mode": {
    "name": "ipython",
    "version": 3
   },
   "file_extension": ".py",
   "mimetype": "text/x-python",
   "name": "python",
   "nbconvert_exporter": "python",
   "pygments_lexer": "ipython3",
   "version": "3.9.6"
  },
  "orig_nbformat": 4
 },
 "nbformat": 4,
 "nbformat_minor": 2
}
