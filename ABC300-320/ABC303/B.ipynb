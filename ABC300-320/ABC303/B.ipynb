{
 "cells": [
  {
   "cell_type": "code",
   "execution_count": 8,
   "metadata": {},
   "outputs": [
    {
     "ename": "ValueError",
     "evalue": "not enough values to unpack (expected 2, got 0)",
     "output_type": "error",
     "traceback": [
      "\u001b[0;31m---------------------------------------------------------------------------\u001b[0m",
      "\u001b[0;31mValueError\u001b[0m                                Traceback (most recent call last)",
      "Cell \u001b[0;32mIn[8], line 28\u001b[0m\n\u001b[1;32m     25\u001b[0m     \u001b[39mprint\u001b[39m(\u001b[39mlen\u001b[39m(all_set))\n\u001b[1;32m     27\u001b[0m \u001b[39mif\u001b[39;00m \u001b[39m__name__\u001b[39m \u001b[39m==\u001b[39m \u001b[39m\"\u001b[39m\u001b[39m__main__\u001b[39m\u001b[39m\"\u001b[39m:\n\u001b[0;32m---> 28\u001b[0m     main()\n",
      "Cell \u001b[0;32mIn[8], line 12\u001b[0m, in \u001b[0;36mmain\u001b[0;34m()\u001b[0m\n\u001b[1;32m     11\u001b[0m \u001b[39mdef\u001b[39;00m \u001b[39mmain\u001b[39m():\n\u001b[0;32m---> 12\u001b[0m     N,M \u001b[39m=\u001b[39m \u001b[39mmap\u001b[39m(\u001b[39mint\u001b[39m,\u001b[39minput\u001b[39m()\u001b[39m.\u001b[39msplit())\n\u001b[1;32m     13\u001b[0m     all_set \u001b[39m=\u001b[39m \u001b[39mset\u001b[39m()\n\u001b[1;32m     14\u001b[0m     \u001b[39mfor\u001b[39;00m a,b \u001b[39min\u001b[39;00m combinations(\u001b[39mrange\u001b[39m(\u001b[39m1\u001b[39m,N\u001b[39m+\u001b[39m\u001b[39m1\u001b[39m),\u001b[39m2\u001b[39m):\n",
      "\u001b[0;31mValueError\u001b[0m: not enough values to unpack (expected 2, got 0)"
     ]
    }
   ],
   "source": [
    "from itertools import combinations\n",
    "\n",
    "def main():\n",
    "    N,M = map(int,input().split())\n",
    "    all_set = set()\n",
    "    for a,b in combinations(range(1,N+1),2):\n",
    "        all_set.add((a,b))\n",
    "    for _ in range(M):\n",
    "        an = [*map(int,input().split())]\n",
    "        for i in range(N-1):\n",
    "            key = tuple()\n",
    "            if an[i] > an[i+1]:\n",
    "                key = (an[i+1],an[i])\n",
    "            else:\n",
    "                key = (an[i],an[i+1])\n",
    "            all_set.discard(key)\n",
    "    print(len(all_set))\n",
    "    \n",
    "if __name__ == \"__main__\":\n",
    "    main()"
   ]
  },
  {
   "cell_type": "code",
   "execution_count": 4,
   "metadata": {},
   "outputs": [
    {
     "name": "stdout",
     "output_type": "stream",
     "text": [
      "[1, 2]\n"
     ]
    }
   ],
   "source": [
    "a = (2,1)\n",
    "print(sorted(a))"
   ]
  },
  {
   "cell_type": "code",
   "execution_count": null,
   "metadata": {},
   "outputs": [],
   "source": []
  }
 ],
 "metadata": {
  "kernelspec": {
   "display_name": "Python 3",
   "language": "python",
   "name": "python3"
  },
  "language_info": {
   "codemirror_mode": {
    "name": "ipython",
    "version": 3
   },
   "file_extension": ".py",
   "mimetype": "text/x-python",
   "name": "python",
   "nbconvert_exporter": "python",
   "pygments_lexer": "ipython3",
   "version": "3.9.6"
  },
  "orig_nbformat": 4
 },
 "nbformat": 4,
 "nbformat_minor": 2
}
