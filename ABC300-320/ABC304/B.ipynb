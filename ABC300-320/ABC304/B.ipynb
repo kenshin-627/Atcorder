{
 "cells": [
  {
   "cell_type": "code",
   "execution_count": 6,
   "metadata": {},
   "outputs": [
    {
     "name": "stdout",
     "output_type": "stream",
     "text": [
      "500000\n"
     ]
    }
   ],
   "source": [
    "def main():\n",
    "    N = input()\n",
    "    if int(N) <= 10**3-1:\n",
    "        print(N)\n",
    "    elif int(N) <= 10**4-1:\n",
    "        print(int(N)-int(N[-1]))\n",
    "    elif int(N) <= 10**5-1:\n",
    "        print(int(N)-int(N[-2:]))\n",
    "    elif int(N) <= 10**6-1:\n",
    "        print(int(N)-int(N[-3:]))\n",
    "    elif int(N) <= 10**7-1:\n",
    "        print(int(N)-int(N[-4:]))\n",
    "    elif int(N) <= 10**8-1:\n",
    "        print(int(N)-int(N[-5:]))\n",
    "    else:\n",
    "        print(int(N)-int(N[-6:]))\n",
    "        \n",
    "if __name__ == \"__main__\":\n",
    "    main()"
   ]
  },
  {
   "cell_type": "code",
   "execution_count": null,
   "metadata": {},
   "outputs": [],
   "source": []
  }
 ],
 "metadata": {
  "kernelspec": {
   "display_name": "Python 3",
   "language": "python",
   "name": "python3"
  },
  "language_info": {
   "codemirror_mode": {
    "name": "ipython",
    "version": 3
   },
   "file_extension": ".py",
   "mimetype": "text/x-python",
   "name": "python",
   "nbconvert_exporter": "python",
   "pygments_lexer": "ipython3",
   "version": "3.9.6"
  },
  "orig_nbformat": 4
 },
 "nbformat": 4,
 "nbformat_minor": 2
}
