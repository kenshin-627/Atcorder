{
 "cells": [
  {
   "cell_type": "code",
   "execution_count": 12,
   "metadata": {},
   "outputs": [
    {
     "ename": "SyntaxError",
     "evalue": "EOL while scanning string literal (1001694474.py, line 41)",
     "output_type": "error",
     "traceback": [
      "\u001b[0;36m  Cell \u001b[0;32mIn[12], line 41\u001b[0;36m\u001b[0m\n\u001b[0;31m    print(f\"{i_+1} j_+1)\u001b[0m\n\u001b[0m                        ^\u001b[0m\n\u001b[0;31mSyntaxError\u001b[0m\u001b[0;31m:\u001b[0m EOL while scanning string literal\n"
     ]
    }
   ],
   "source": [
    "def main():\n",
    "    H,W = map(int,input().split())\n",
    "    S = []\n",
    "    max_ = 0\n",
    "    i_ = 0\n",
    "    j_ = 0\n",
    "    comp_eated = \"\"\n",
    "    comp_not = \"\"\n",
    "    for i in range(H):\n",
    "        SW = input()\n",
    "        S.append(SW)\n",
    "        cnt = SW.count(\"#\")\n",
    "        if cnt > max_:\n",
    "            if max_ == 0:\n",
    "                max_ = cnt\n",
    "                comp_not = SW\n",
    "                i_ = i\n",
    "            else:\n",
    "                max_ = cnt\n",
    "                comp_eated = comp_not\n",
    "                comp_not = SW\n",
    "        elif cnt != max_ and cnt != 0:\n",
    "            comp_eated = SW\n",
    "            i_ = i\n",
    "    j = 0\n",
    "    for a,b in zip(comp_eated,comp_not):\n",
    "        if a != b:\n",
    "            j_ = j\n",
    "            break\n",
    "        j += 1\n",
    "    print(f\"{i_+1} {j_+1}\")\n",
    "\n",
    "if __name__ == \"__main__\":\n",
    "    main()"
   ]
  },
  {
   "cell_type": "code",
   "execution_count": null,
   "metadata": {},
   "outputs": [],
   "source": []
  }
 ],
 "metadata": {
  "kernelspec": {
   "display_name": "Python 3",
   "language": "python",
   "name": "python3"
  },
  "language_info": {
   "codemirror_mode": {
    "name": "ipython",
    "version": 3
   },
   "file_extension": ".py",
   "mimetype": "text/x-python",
   "name": "python",
   "nbconvert_exporter": "python",
   "pygments_lexer": "ipython3",
   "version": "3.9.6"
  },
  "orig_nbformat": 4
 },
 "nbformat": 4,
 "nbformat_minor": 2
}
