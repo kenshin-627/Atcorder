{
 "cells": [
  {
   "cell_type": "code",
   "execution_count": 2,
   "metadata": {},
   "outputs": [
    {
     "name": "stdout",
     "output_type": "stream",
     "text": [
      "[0, 240, 720, 1320, 1440, 1800, 2160]\n",
      "[0, 0, 480, 480, 600, 600, 960]\n"
     ]
    }
   ],
   "source": [
    "import bisect\n",
    "\n",
    "def main():\n",
    "    N = int(input())\n",
    "    A = list(map(int, input().split()))\n",
    "    B = [0]\n",
    "    bef = 0\n",
    "    for i,a in enumerate(A):\n",
    "        if i == 0:\n",
    "            continue\n",
    "        elif i % 2 == 0:\n",
    "            B.append(B[i-1] + a - bef)\n",
    "        else:\n",
    "            B.append(B[i-1])\n",
    "            bef = a\n",
    "    Q = int(input())\n",
    "    for _ in range(Q):\n",
    "        l,r = map(int, input().split())\n",
    "        l_ind = bisect.bisect_right(A, l)\n",
    "        r_ind = bisect.bisect_right(A, r)\n",
    "        left_int = 0\n",
    "        right_int = 0\n",
    "        if l_ind % 2 == 0:\n",
    "            left_int = B[l_ind - 1] + l - A[l_ind - 1]\n",
    "        else:\n",
    "            left_int = B[l_ind - 1]\n",
    "        if r_ind % 2 == 0:\n",
    "            right_int = B[r_ind - 1] + r - A[r_ind - 1]\n",
    "        else:\n",
    "            right_int = B[r_ind - 1]\n",
    "        print(right_int - left_int)\n",
    "    \n",
    "if __name__ == \"__main__\":\n",
    "    main()"
   ]
  },
  {
   "cell_type": "code",
   "execution_count": null,
   "metadata": {},
   "outputs": [],
   "source": []
  }
 ],
 "metadata": {
  "kernelspec": {
   "display_name": "Python 3",
   "language": "python",
   "name": "python3"
  },
  "language_info": {
   "codemirror_mode": {
    "name": "ipython",
    "version": 3
   },
   "file_extension": ".py",
   "mimetype": "text/x-python",
   "name": "python",
   "nbconvert_exporter": "python",
   "pygments_lexer": "ipython3",
   "version": "3.9.6"
  },
  "orig_nbformat": 4
 },
 "nbformat": 4,
 "nbformat_minor": 2
}
