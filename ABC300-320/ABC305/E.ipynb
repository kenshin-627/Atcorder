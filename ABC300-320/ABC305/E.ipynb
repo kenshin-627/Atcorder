{
 "cells": [
  {
   "cell_type": "code",
   "execution_count": null,
   "metadata": {},
   "outputs": [],
   "source": [
    "from collections import Counter\n",
    "from itertools import permutations\n",
    "from itertools import combinations\n",
    "import math\n",
    "from collections import OrderedDict\n",
    "import bisect\n",
    "from collections import deque\n",
    "\n",
    "import heapq\n",
    "from collections import defaultdict\n",
    "\n",
    "def main():\n",
    "    N,M,K = map(int,input().split())\n",
    "    adj_dict = defaultdict(list)\n",
    "    for _ in [0]*M:\n",
    "        a,b = map(int,input().split())\n",
    "        adj_dict[a].append(b)\n",
    "        adj_dict[b].append(a)\n",
    "    guard_dict = defaultdict(lambda: -1)\n",
    "    h_heap = []\n",
    "    visited_set = set()\n",
    "    for _ in [0]*K:\n",
    "        p,h = map(int,input().split())\n",
    "        guard_dict[p] = h\n",
    "        heapq.heappush(h_heap,(-h,p))\n",
    "        visited_set.add(p)\n",
    "    while h_heap:\n",
    "        h,p = heapq.heappop(h_heap)\n",
    "        h = -h\n",
    "        # 隣の頂点を更新\n",
    "        for adj in adj_dict[p]:\n",
    "            # 隣の頂点のh-1よりも大きい場合は更新\n",
    "            if guard_dict[adj] < h-1:\n",
    "                guard_dict[adj] = h-1\n",
    "                visited_set.add(adj)\n",
    "                if h-1 > 0:\n",
    "                    heapq.heappush(h_heap,(-(h-1),adj))\n",
    "            else:\n",
    "                continue\n",
    "    visited_list = sorted(list(visited_set))\n",
    "    print(len(visited_list))\n",
    "    print(\" \".join([*map(str,visited_list)]))\n",
    "\n",
    "if __name__ == \"__main__\":\n",
    "    main()"
   ]
  }
 ],
 "metadata": {
  "language_info": {
   "name": "python"
  },
  "orig_nbformat": 4
 },
 "nbformat": 4,
 "nbformat_minor": 2
}
