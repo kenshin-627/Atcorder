{
 "cells": [
  {
   "cell_type": "code",
   "execution_count": null,
   "metadata": {},
   "outputs": [],
   "source": [
    "from collections import defaultdict\n",
    "\n",
    "def main():\n",
    "    N = int(input())\n",
    "    A = list(map(int, input().split()))\n",
    "    cnt_dict = defaultdict(int)\n",
    "    ans = []\n",
    "    for a in A:\n",
    "        cnt_dict[a] += 1\n",
    "        if cnt_dict[a] == 2:\n",
    "            ans.append(a)\n",
    "    print(*ans)\n",
    "    \n",
    "if __name__ == \"__main__\":\n",
    "    main()"
   ]
  }
 ],
 "metadata": {
  "language_info": {
   "name": "python"
  },
  "orig_nbformat": 4
 },
 "nbformat": 4,
 "nbformat_minor": 2
}
