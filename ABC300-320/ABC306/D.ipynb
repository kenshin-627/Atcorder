{
 "cells": [
  {
   "cell_type": "code",
   "execution_count": null,
   "metadata": {},
   "outputs": [],
   "source": [
    "from collections import defaultdict\n",
    "\n",
    "def main():\n",
    "    N = int(input())\n",
    "    dp = defaultdict(int)\n",
    "    for i in range(1,N+1):\n",
    "        x,y = map(int, input().split())\n",
    "        if x == 0:\n",
    "            dp[i,0] = max(dp[i-1,1]+y, dp[i-1,0]+y, dp[i-1,0])\n",
    "            dp[i,1] = dp[i-1,1]\n",
    "        else:\n",
    "            dp[i,0] = dp[i-1,0]\n",
    "            dp[i,1] = max(dp[i-1,0]+y, dp[i-1,1])\n",
    "    print(max(dp[N,0], dp[N,1]))\n",
    "    \n",
    "if __name__ == \"__main__\":\n",
    "    main()"
   ]
  },
  {
   "cell_type": "code",
   "execution_count": null,
   "metadata": {},
   "outputs": [],
   "source": []
  }
 ],
 "metadata": {
  "language_info": {
   "name": "python"
  },
  "orig_nbformat": 4
 },
 "nbformat": 4,
 "nbformat_minor": 2
}
