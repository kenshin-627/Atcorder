{
 "cells": [
  {
   "cell_type": "code",
   "execution_count": null,
   "metadata": {},
   "outputs": [],
   "source": [
    "from collections import defaultdict\n",
    "\n",
    "def main():\n",
    "    N = int(input())\n",
    "    AN = list(map(int, input().split()))\n",
    "    ans = defaultdict(int)\n",
    "    for i,a in enumerate(AN):\n",
    "        ans[i//7] += a\n",
    "    ans_value = []\n",
    "    for i in range(N):\n",
    "        ans_value.append(ans[i])\n",
    "    print(*ans_value)\n",
    "    \n",
    "if __name__ == \"__main__\":\n",
    "    main()"
   ]
  }
 ],
 "metadata": {
  "language_info": {
   "name": "python"
  },
  "orig_nbformat": 4
 },
 "nbformat": 4,
 "nbformat_minor": 2
}
