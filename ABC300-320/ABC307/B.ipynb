{
 "cells": [
  {
   "cell_type": "code",
   "execution_count": null,
   "metadata": {},
   "outputs": [],
   "source": [
    "from itertools import permutations\n",
    "\n",
    "def kaibun(s):\n",
    "    for i in range(len(s)//2):\n",
    "        if s[i] != s[-i-1]:\n",
    "            return False\n",
    "    return True\n",
    "\n",
    "def main():\n",
    "    N = int(input())\n",
    "    S_list = []\n",
    "    for _ in range(N):\n",
    "        S_list.append(input())\n",
    "    for i,j in permutations(range(N),2):\n",
    "        if kaibun(S_list[i]+S_list[j]):\n",
    "            print(\"Yes\")\n",
    "            return\n",
    "    print(\"No\")\n",
    "    \n",
    "if __name__ == \"__main__\":\n",
    "    main()"
   ]
  }
 ],
 "metadata": {
  "language_info": {
   "name": "python"
  },
  "orig_nbformat": 4
 },
 "nbformat": 4,
 "nbformat_minor": 2
}
