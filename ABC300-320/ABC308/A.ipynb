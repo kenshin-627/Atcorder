{
 "cells": [
  {
   "cell_type": "code",
   "execution_count": null,
   "metadata": {},
   "outputs": [],
   "source": [
    "from functools import lru_cache\n",
    "import sys\n",
    "sys.setrecursionlimit(10**9)\n",
    "from collections import Counter\n",
    "from itertools import permutations\n",
    "from itertools import combinations\n",
    "import math\n",
    "import heapq\n",
    "from collections import OrderedDict\n",
    "import bisect\n",
    "from collections import deque\n",
    "from collections import defaultdict\n",
    "\n",
    "def main():\n",
    "    S = list(map(int, input().split()))\n",
    "    for i in range(7):\n",
    "        if S[i] > S[i+1]:\n",
    "            print(\"No\")\n",
    "            return\n",
    "        if S[i] % 25 != 0:\n",
    "            print(\"No\")\n",
    "            return\n",
    "        if 100 > S[i] or S[i] > 675:\n",
    "            print(\"No\")\n",
    "            return\n",
    "    if S[7] % 25 != 0:\n",
    "        print(\"No\")\n",
    "        return\n",
    "    print(\"Yes\")\n",
    "\n",
    "if __name__ == \"__main__\":\n",
    "    main()"
   ]
  }
 ],
 "metadata": {
  "language_info": {
   "name": "python"
  },
  "orig_nbformat": 4
 },
 "nbformat": 4,
 "nbformat_minor": 2
}
