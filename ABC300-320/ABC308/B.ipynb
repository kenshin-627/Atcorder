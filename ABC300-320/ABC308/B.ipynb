{
 "cells": [
  {
   "cell_type": "code",
   "execution_count": null,
   "metadata": {},
   "outputs": [],
   "source": [
    "from functools import lru_cache\n",
    "import sys\n",
    "sys.setrecursionlimit(10**9)\n",
    "from collections import Counter\n",
    "from itertools import permutations\n",
    "from itertools import combinations\n",
    "import math\n",
    "import heapq\n",
    "from collections import OrderedDict\n",
    "import bisect\n",
    "from collections import deque\n",
    "from collections import defaultdict\n",
    "\n",
    "def main():\n",
    "    N,M = map(int,input().split())\n",
    "    C = input().split()\n",
    "    D_dict = defaultdict(int)\n",
    "    D = input().split()\n",
    "    P = list(map(int,input().split()))\n",
    "    for i in range(M+1):\n",
    "        if i == 0:\n",
    "            D_dict[\"other\"] = P[i]\n",
    "        else:\n",
    "            D_dict[D[i-1]] = P[i]\n",
    "    ans = 0\n",
    "    for i in range(N):\n",
    "        if C[i] in D_dict:\n",
    "            ans += D_dict[C[i]]\n",
    "        else:\n",
    "            ans += D_dict[\"other\"]\n",
    "    print(ans)\n",
    "\n",
    "if __name__ == \"__main__\":\n",
    "    main()"
   ]
  }
 ],
 "metadata": {
  "language_info": {
   "name": "python"
  },
  "orig_nbformat": 4
 },
 "nbformat": 4,
 "nbformat_minor": 2
}
