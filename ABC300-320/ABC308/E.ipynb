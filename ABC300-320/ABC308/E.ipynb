{
 "cells": [
  {
   "cell_type": "code",
   "execution_count": null,
   "metadata": {},
   "outputs": [],
   "source": [
    "from collections import defaultdict\n",
    "\n",
    "def eval_mex(m,e,x):\n",
    "    return min(set([0,1,2,3]) - set([m,e,x]))\n",
    "\n",
    "def main():\n",
    "    N = int(input())\n",
    "    A = list(map(int, input().split()))\n",
    "    S = input()\n",
    "    # dp[(i,j,k)]: Si,Sj,Skとなる組み合わせの数\n",
    "    dp = defaultdict(int)\n",
    "    ans = 0\n",
    "    for i in range(N):\n",
    "        if S[i] == \"M\":\n",
    "            dp[(A[i],-1,-1)] += 1\n",
    "        elif S[i] == \"E\":\n",
    "            dp[(0,A[i],-1)] += dp[(0,-1,-1)]\n",
    "            dp[(1,A[i],-1)] += dp[(1,-1,-1)]\n",
    "            dp[(2,A[i],-1)] += dp[(2,-1,-1)]\n",
    "        else:\n",
    "            dp[(0,0,A[i])] += dp[(0,0,-1)]\n",
    "            dp[(0,1,A[i])] += dp[(0,1,-1)]\n",
    "            dp[(0,2,A[i])] += dp[(0,2,-1)]\n",
    "            dp[(1,0,A[i])] += dp[(1,0,-1)]\n",
    "            dp[(1,1,A[i])] += dp[(1,1,-1)]\n",
    "            dp[(1,2,A[i])] += dp[(1,2,-1)]\n",
    "            dp[(2,0,A[i])] += dp[(2,0,-1)]\n",
    "            dp[(2,1,A[i])] += dp[(2,1,-1)]\n",
    "            dp[(2,2,A[i])] += dp[(2,2,-1)]\n",
    "    for i in range(3):\n",
    "        for j in range(3):\n",
    "            for k in range(3):\n",
    "                ans += dp[(i,j,k)] * eval_mex(i,j,k)\n",
    "    print(ans)\n",
    "    \n",
    "if __name__ == \"__main__\":\n",
    "    main()"
   ]
  }
 ],
 "metadata": {
  "language_info": {
   "name": "python"
  },
  "orig_nbformat": 4
 },
 "nbformat": 4,
 "nbformat_minor": 2
}
