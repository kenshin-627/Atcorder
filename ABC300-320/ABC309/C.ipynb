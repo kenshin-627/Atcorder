{
 "cells": [
  {
   "cell_type": "code",
   "execution_count": null,
   "metadata": {},
   "outputs": [],
   "source": [
    "from collections import defaultdict\n",
    "\n",
    "def main():\n",
    "    N,K = map(int,input().split())\n",
    "    med_num = 0\n",
    "    day_dict = defaultdict(int)\n",
    "    for _ in [0]*N:\n",
    "        a,b = map(int,input().split())\n",
    "        day_dict[a] += b\n",
    "        med_num += b\n",
    "    if K >= med_num:\n",
    "        print(1)\n",
    "        return\n",
    "    for key in sorted(day_dict.keys()):\n",
    "        med_num -= day_dict[key]\n",
    "        if K >= med_num:\n",
    "            print(key+1)\n",
    "            break\n",
    "    \n",
    "if __name__ == \"__main__\":\n",
    "    main()"
   ]
  }
 ],
 "metadata": {
  "language_info": {
   "name": "python"
  },
  "orig_nbformat": 4
 },
 "nbformat": 4,
 "nbformat_minor": 2
}
