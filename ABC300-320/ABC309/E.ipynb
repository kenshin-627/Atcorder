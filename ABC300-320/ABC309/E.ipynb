{
 "cells": [
  {
   "cell_type": "code",
   "execution_count": 2,
   "metadata": {},
   "outputs": [
    {
     "name": "stdout",
     "output_type": "stream",
     "text": [
      "defaultdict(<class 'list'>, {'1': [2, 4], '2': [3], '3': [5, 6, 7]})\n"
     ]
    }
   ],
   "source": [
    "from collections import deque\n",
    "from collections import defaultdict\n",
    "\n",
    "def main():\n",
    "    N,M = map(int,input().split())\n",
    "    pn = map(int,input().split())\n",
    "    # key:親 value:子\n",
    "    childlen_dict = defaultdict(list)\n",
    "    for i,p in enumerate(pn):\n",
    "        childlen_dict[p].append(i+2)\n",
    "    ins_dict = defaultdict(int)\n",
    "    for _ in range(M):\n",
    "        x,y = map(int,input().split())\n",
    "        ins_dict[x] = max(ins_dict[x],y)\n",
    "    ans = set([])\n",
    "    if ins_dict[1] >= 1:\n",
    "        ans.add(1)\n",
    "    q = deque([1])\n",
    "    while q:\n",
    "        now_node = q.popleft()\n",
    "        for next_node in childlen_dict[now_node]:\n",
    "            if ins_dict[now_node] >= 1 or ins_dict[next_node] >= 1:\n",
    "                ans.add(next_node)\n",
    "            ins_dict[next_node] = max(ins_dict[next_node], ins_dict[now_node]-1)\n",
    "            q.append(next_node)\n",
    "    print(len(ans))\n",
    "\n",
    "if __name__ == \"__main__\":\n",
    "    main()"
   ]
  },
  {
   "cell_type": "code",
   "execution_count": null,
   "metadata": {},
   "outputs": [],
   "source": []
  }
 ],
 "metadata": {
  "kernelspec": {
   "display_name": "Python 3",
   "language": "python",
   "name": "python3"
  },
  "language_info": {
   "codemirror_mode": {
    "name": "ipython",
    "version": 3
   },
   "file_extension": ".py",
   "mimetype": "text/x-python",
   "name": "python",
   "nbconvert_exporter": "python",
   "pygments_lexer": "ipython3",
   "version": "3.11.1"
  },
  "orig_nbformat": 4
 },
 "nbformat": 4,
 "nbformat_minor": 2
}
