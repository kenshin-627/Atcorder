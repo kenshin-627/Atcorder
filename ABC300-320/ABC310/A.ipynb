{
 "cells": [
  {
   "cell_type": "code",
   "execution_count": null,
   "metadata": {},
   "outputs": [],
   "source": [
    "def main():\n",
    "    N,P,Q = map(int,input().split())\n",
    "    min_num = P\n",
    "    D = list(map(int,input().split()))\n",
    "    for d in D:\n",
    "        min_num = min(min_num, Q+d)\n",
    "    print(min_num)\n",
    "    \n",
    "if __name__ == \"__main__\":\n",
    "    main()"
   ]
  }
 ],
 "metadata": {
  "language_info": {
   "name": "python"
  },
  "orig_nbformat": 4
 },
 "nbformat": 4,
 "nbformat_minor": 2
}
