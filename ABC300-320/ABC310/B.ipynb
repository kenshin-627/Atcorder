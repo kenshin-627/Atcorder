{
 "cells": [
  {
   "cell_type": "code",
   "execution_count": null,
   "metadata": {},
   "outputs": [],
   "source": [
    "def main():\n",
    "    N,M = map(int,input().split())\n",
    "    # タプル:(価格, 機能の集合)　のリスト\n",
    "    lis = []\n",
    "    for i in range(N):\n",
    "        P,C,*F = map(int,input().split())\n",
    "        lis.append((P,set(F)))\n",
    "    for i in lis:\n",
    "        for j in lis:\n",
    "            if i[0] >= j[0] and i[1] - j[1] == set():\n",
    "                if i[0] > j[0] or i[1] != j[1]:\n",
    "                    print(\"Yes\")\n",
    "                    return\n",
    "    print(\"No\")\n",
    "    \n",
    "if __name__ == \"__main__\":\n",
    "    main()"
   ]
  }
 ],
 "metadata": {
  "language_info": {
   "name": "python"
  },
  "orig_nbformat": 4
 },
 "nbformat": 4,
 "nbformat_minor": 2
}
