{
 "cells": [
  {
   "cell_type": "code",
   "execution_count": 28,
   "metadata": {},
   "outputs": [
    {
     "name": "stdout",
     "output_type": "stream",
     "text": [
      "a\n",
      "a\n",
      "a\n",
      "a\n",
      "a\n",
      "a\n",
      "a\n",
      "4\n"
     ]
    }
   ],
   "source": [
    "from collections import deque\n",
    "from collections import defaultdict\n",
    "\n",
    "def main():\n",
    "    N,T,M = map(int,input().split())\n",
    "    bad_dict = defaultdict(list)\n",
    "    for _ in [0]*M:\n",
    "        a,b = map(int,input().split())\n",
    "        bad_dict[a].append(b)\n",
    "        bad_dict[b].append(a)\n",
    "    # print(bad_dict)\n",
    "    q = deque([[set([1])], -1])\n",
    "    for i in range(2,N+1):\n",
    "        while q:\n",
    "            # now: setのリスト or -1\n",
    "            now = q.popleft()\n",
    "            # print(f\"now: {now}\")\n",
    "            if now == -1:\n",
    "                q.append(-1)\n",
    "                # print(\"-1追加\")\n",
    "                break\n",
    "            # まだ新しいグループを作れるなら作る\n",
    "            if len(now) < T:\n",
    "                tmp = [se.copy() for se in now]\n",
    "                tmp.append(set([i]))\n",
    "                q.append(tmp)\n",
    "                # print(f\"{tmp}追加\")\n",
    "            # s: set\n",
    "            for j,s in enumerate(now):\n",
    "                for bad in bad_dict[i]:\n",
    "                    # print(f\"bad: {bad}\")\n",
    "                    # print(f\"s: {s}\")\n",
    "                    if bad in s:\n",
    "                        break\n",
    "                else:\n",
    "                    tmp = [se.copy() for se in now]\n",
    "                    tmp[j].add(i)\n",
    "                    q.append(tmp)\n",
    "                    # print(f\"tmp: {tmp}\")\n",
    "    ans = 0\n",
    "    for sets in q:\n",
    "        if sets == -1:\n",
    "            continue\n",
    "        if len(sets) == T:\n",
    "            ans += 1\n",
    "    print(ans)\n",
    "    \n",
    "if __name__ == \"__main__\":\n",
    "    main()"
   ]
  },
  {
   "cell_type": "code",
   "execution_count": null,
   "metadata": {},
   "outputs": [],
   "source": []
  }
 ],
 "metadata": {
  "kernelspec": {
   "display_name": "Python 3",
   "language": "python",
   "name": "python3"
  },
  "language_info": {
   "codemirror_mode": {
    "name": "ipython",
    "version": 3
   },
   "file_extension": ".py",
   "mimetype": "text/x-python",
   "name": "python",
   "nbconvert_exporter": "python",
   "pygments_lexer": "ipython3",
   "version": "3.11.1"
  },
  "orig_nbformat": 4
 },
 "nbformat": 4,
 "nbformat_minor": 2
}
