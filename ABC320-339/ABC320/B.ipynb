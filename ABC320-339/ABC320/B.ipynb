{
 "cells": [
  {
   "cell_type": "code",
   "execution_count": null,
   "metadata": {},
   "outputs": [],
   "source": [
    "from itertools import combinations\n",
    "\n",
    "def kaibun(s):\n",
    "    if s == s[::-1]:\n",
    "        return len(s)\n",
    "    else:\n",
    "        return 0\n",
    "def main():\n",
    "    S = input()\n",
    "    max_len = 0\n",
    "    for i,j in combinations(range(len(S)+1),2):\n",
    "        max_len = max(max_len,kaibun(S[i:j]))\n",
    "    print(max_len)\n",
    "    \n",
    "if __name__ == \"__main__\":\n",
    "    main()"
   ]
  }
 ],
 "metadata": {
  "language_info": {
   "name": "python"
  },
  "orig_nbformat": 4
 },
 "nbformat": 4,
 "nbformat_minor": 2
}
