{
 "cells": [
  {
   "cell_type": "code",
   "execution_count": null,
   "metadata": {},
   "outputs": [],
   "source": [
    "from itertools import product\n",
    "\n",
    "def main():\n",
    "    M = int(input())\n",
    "    S = []\n",
    "    for i in range(3):\n",
    "        S.append(input()*3)\n",
    "    min_ind = float(\"inf\")\n",
    "    for i,j,k in product(range(3*M), repeat=3):\n",
    "        if (S[0][i] == S[1][j] == S[2][k]) and (i != j and j != k and k != i):\n",
    "            if min_ind > max(i,j,k):\n",
    "                min_ind = max(i,j,k)\n",
    "    if min_ind == float(\"inf\"):\n",
    "        print(-1)\n",
    "    else:\n",
    "        print(min_ind)\n",
    "    \n",
    "if __name__ == \"__main__\":\n",
    "    main()"
   ]
  },
  {
   "cell_type": "code",
   "execution_count": null,
   "metadata": {},
   "outputs": [],
   "source": []
  }
 ],
 "metadata": {
  "kernelspec": {
   "display_name": "Python 3",
   "language": "python",
   "name": "python3"
  },
  "language_info": {
   "codemirror_mode": {
    "name": "ipython",
    "version": 3
   },
   "file_extension": ".py",
   "mimetype": "text/x-python",
   "name": "python",
   "nbconvert_exporter": "python",
   "pygments_lexer": "ipython3",
   "version": "3.11.1"
  },
  "orig_nbformat": 4
 },
 "nbformat": 4,
 "nbformat_minor": 2
}
