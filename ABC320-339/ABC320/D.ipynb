{
 "cells": [
  {
   "cell_type": "code",
   "execution_count": null,
   "metadata": {},
   "outputs": [],
   "source": [
    "from collections import deque\n",
    "from collections import defaultdict\n",
    "\n",
    "def main():\n",
    "    N,M = map(int,input().split())\n",
    "    adj_dict = defaultdict(list)\n",
    "    for _ in [0]*M:\n",
    "        A,B,X,Y = map(int,input().split())\n",
    "        adj_dict[A-1].append((B-1,X,Y))\n",
    "        adj_dict[B-1].append((A-1,-X,-Y))\n",
    "    # 人1~Nのそれぞれの位置\n",
    "    pos = [[None,None] for _ in [0]*N]\n",
    "    pos[0] = [0,0]\n",
    "    q = deque([0])\n",
    "    seen = [False]*N\n",
    "    seen[0] = True\n",
    "    while q:\n",
    "        v = q.popleft()\n",
    "        for nv,dx,dy in adj_dict[v]:\n",
    "            if seen[nv]:\n",
    "                continue\n",
    "            pos[nv][0] = pos[v][0] + dx\n",
    "            pos[nv][1] = pos[v][1] + dy\n",
    "            seen[nv] = True\n",
    "            q.append(nv)\n",
    "    for p in pos:\n",
    "        if p == [None,None]:\n",
    "            print(\"undecidable\")\n",
    "        else:\n",
    "            print(*p)\n",
    "\n",
    "if __name__ == \"__main__\":\n",
    "    main()"
   ]
  }
 ],
 "metadata": {
  "language_info": {
   "name": "python"
  },
  "orig_nbformat": 4
 },
 "nbformat": 4,
 "nbformat_minor": 2
}
