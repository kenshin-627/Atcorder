{
 "cells": [
  {
   "cell_type": "code",
   "execution_count": null,
   "metadata": {},
   "outputs": [],
   "source": [
    "import heapq\n",
    "\n",
    "def main():\n",
    "    N,M = map(int,input().split())\n",
    "    # 列に並んでいる人(ヒープで管理して最小をみる) (0-indexed)\n",
    "    A = list(range(N))\n",
    "    # 時刻T に列の先頭がそうめんを W　だけ食べて T+S に列の下の位置に戻る (Wが1以上の時はT+Sにイベントを入れる，Wが-1の時は人Sが列に並ぶ)\n",
    "    # イベントを全て時間が早い順に管理するからヒープで管理する，(食べに行く時と，戻る時)\n",
    "    Events = []\n",
    "    for _ in [0]*M:\n",
    "        T,W,S = map(int,input().split())\n",
    "        Events.append((T,W,S))\n",
    "    # 人iがどれだけそうめんを食べたか (0-indexed)\n",
    "    eat = [0]*N\n",
    "    while Events:\n",
    "        T,W,S = heapq.heappop(Events)\n",
    "        if W == -1:\n",
    "            # 人Sが列に並ぶ\n",
    "            heapq.heappush(A,S)\n",
    "        else:\n",
    "            # 列の先頭がそうめんを W　だけ食べて T+S に列の下の位置に戻る\n",
    "            # 列の先頭を取り出す\n",
    "            if len(A) == 0:\n",
    "                continue\n",
    "            i = heapq.heappop(A)\n",
    "            eat[i] += W\n",
    "            heapq.heappush(Events, (T+S,-1,i))\n",
    "    for i in range(N):\n",
    "        print(eat[i])\n",
    "    \n",
    "if __name__ == \"__main__\":\n",
    "    main()"
   ]
  },
  {
   "cell_type": "code",
   "execution_count": null,
   "metadata": {},
   "outputs": [],
   "source": []
  }
 ],
 "metadata": {
  "kernelspec": {
   "display_name": "Python 3",
   "language": "python",
   "name": "python3"
  },
  "language_info": {
   "codemirror_mode": {
    "name": "ipython",
    "version": 3
   },
   "file_extension": ".py",
   "mimetype": "text/x-python",
   "name": "python",
   "nbconvert_exporter": "python",
   "pygments_lexer": "ipython3",
   "version": "3.11.1"
  },
  "orig_nbformat": 4
 },
 "nbformat": 4,
 "nbformat_minor": 2
}
