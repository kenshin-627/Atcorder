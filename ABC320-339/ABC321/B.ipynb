{
 "cells": [
  {
   "cell_type": "code",
   "execution_count": null,
   "metadata": {},
   "outputs": [],
   "source": [
    "from functools import lru_cache\n",
    "import sys\n",
    "sys.setrecursionlimit(10**9)\n",
    "# input = sys.stdin.readline\n",
    "from decimal import Decimal\n",
    "from functools import cmp_to_key\n",
    "from collections import Counter\n",
    "from itertools import permutations\n",
    "from itertools import combinations\n",
    "from itertools import combinations_with_replacement\n",
    "from itertools import product\n",
    "from itertools import accumulate\n",
    "from itertools import groupby\n",
    "from itertools import pairwise\n",
    "from copy import deepcopy\n",
    "import networkx as nx\n",
    "import networkx.algorithms as nxa\n",
    "import numpy as np\n",
    "import math\n",
    "import heapq\n",
    "from collections import OrderedDict\n",
    "import bisect\n",
    "from collections import deque\n",
    "from collections import defaultdict\n",
    "\n",
    "def main():\n",
    "    N,X = map(int,input().split())\n",
    "    A = list(map(int,input().split()))\n",
    "    sum_A = sum(A)\n",
    "    min_A = min(A)\n",
    "    max_A = max(A)\n",
    "    if sum_A - max_A >= X:\n",
    "        print(0)\n",
    "    elif sum_A - min_A < X:\n",
    "        print(-1)\n",
    "    else:\n",
    "        print(X - (sum_A-min_A-max_A))\n",
    "    \n",
    "if __name__ == \"__main__\":\n",
    "    main()"
   ]
  }
 ],
 "metadata": {
  "language_info": {
   "name": "python"
  },
  "orig_nbformat": 4
 },
 "nbformat": 4,
 "nbformat_minor": 2
}
