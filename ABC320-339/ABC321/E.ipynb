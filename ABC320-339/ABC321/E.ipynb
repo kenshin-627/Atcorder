{
 "cells": [
  {
   "cell_type": "code",
   "execution_count": 21,
   "metadata": {},
   "outputs": [
    {
     "name": "stdout",
     "output_type": "stream",
     "text": [
      "1\n"
     ]
    }
   ],
   "source": [
    "# N頂点の完全二分木(1-indexed)の頂点Xの子孫の距離Dのノードの数，dire:0で右側，1で左側，それ以外で両方\n",
    "def count_children(N,X,D,dire=2):\n",
    "    assert 1 <= X <= N\n",
    "    if D < 0:\n",
    "        return 0\n",
    "    if D == 0:\n",
    "        return 1\n",
    "    # d:Xからの距離，l:左端，r:右端\n",
    "    d = 1\n",
    "    l = X*2\n",
    "    r = X*2+1\n",
    "    if N < l:\n",
    "        return 0\n",
    "    if dire == 0:\n",
    "        l += 1\n",
    "    elif dire == 1:\n",
    "        r -= 1\n",
    "    while d < D:\n",
    "        d += 1\n",
    "        l = l*2\n",
    "        r = r*2+1\n",
    "        if N < l:\n",
    "            return 0\n",
    "    if N < r:\n",
    "        r = N\n",
    "    return r-l+1\n",
    "\n",
    "def main():\n",
    "    T = int(input())\n",
    "    for _ in [0]*T:\n",
    "        N,X,K = map(int,input().split())\n",
    "        # 上に距離dだけ進んでから，左右どちらかに距離K-dだけ進む\n",
    "        ans = count_children(N,X,K)\n",
    "        d = 0\n",
    "        while d < K:\n",
    "            d += 1\n",
    "            # Xが偶数なら右の子を見る，奇数なら左の子を見る\n",
    "            dire = X % 2\n",
    "            X = X//2\n",
    "            if X == 0:\n",
    "                break\n",
    "            ans += count_children(N,X,K-d,dire)\n",
    "        print(ans)\n",
    "    \n",
    "if __name__ == \"__main__\":\n",
    "    main()"
   ]
  },
  {
   "cell_type": "code",
   "execution_count": null,
   "metadata": {},
   "outputs": [],
   "source": [
    "# N頂点の完全二分木(1-indexed)の頂点Xの子孫の距離Dのノードの数，dire:0で右側，1で左側，それ以外で両方\n",
    "def count_children(N,X,D,dire=2):\n",
    "    assert 1 <= X <= N\n",
    "    if D < 0:\n",
    "        return 0\n",
    "    if D == 0:\n",
    "        return 1\n",
    "    # d:Xからの距離，l:左端，r:右端\n",
    "    d = 1\n",
    "    l = X<<1\n",
    "    r = (X<<1)+1\n",
    "    if N < l:\n",
    "        return 0\n",
    "    if dire == 0:\n",
    "        l += 1\n",
    "    elif dire == 1:\n",
    "        r -= 1\n",
    "    while d < D:\n",
    "        d += 1\n",
    "        l = l<<1\n",
    "        r = (r<<1)+1\n",
    "        if N < l:\n",
    "            return 0\n",
    "    if N < r:\n",
    "        r = N\n",
    "    return r-l+1\n",
    "\n",
    "def main():\n",
    "    T = int(input())\n",
    "    for _ in [0]*T:\n",
    "        N,X,K = map(int,input().split())\n",
    "        # 上に距離dだけ進んでから，左右どちらかに距離K-dだけ進む\n",
    "        ans = count_children(N,X,K)\n",
    "        d = 0\n",
    "        while d < K:\n",
    "            d += 1\n",
    "            # Xが偶数なら右の子を見る，奇数なら左の子を見る\n",
    "            dire = X & 1\n",
    "            X = X>>1\n",
    "            if X == 0:\n",
    "                break\n",
    "            ans += count_children(N,X,K-d,dire)\n",
    "        print(ans)\n",
    "    \n",
    "if __name__ == \"__main__\":\n",
    "    main()"
   ]
  },
  {
   "cell_type": "code",
   "execution_count": null,
   "metadata": {},
   "outputs": [],
   "source": []
  }
 ],
 "metadata": {
  "kernelspec": {
   "display_name": "Python 3",
   "language": "python",
   "name": "python3"
  },
  "language_info": {
   "codemirror_mode": {
    "name": "ipython",
    "version": 3
   },
   "file_extension": ".py",
   "mimetype": "text/x-python",
   "name": "python",
   "nbconvert_exporter": "python",
   "pygments_lexer": "ipython3",
   "version": "3.11.1"
  },
  "orig_nbformat": 4
 },
 "nbformat": 4,
 "nbformat_minor": 2
}
