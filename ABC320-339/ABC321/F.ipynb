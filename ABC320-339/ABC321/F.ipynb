{
 "cells": [
  {
   "cell_type": "code",
   "execution_count": 6,
   "metadata": {},
   "outputs": [
    {
     "name": "stdout",
     "output_type": "stream",
     "text": [
      "0\n",
      "0\n",
      "1\n",
      "0\n",
      "1\n",
      "2\n",
      "2\n",
      "2\n",
      "2\n",
      "2\n",
      "1\n",
      "3\n",
      "5\n",
      "8\n",
      "5\n"
     ]
    }
   ],
   "source": [
    "def main():\n",
    "    Q,K = map(int,input().split())\n",
    "    MOD = 998244353\n",
    "    # DPテーブルの初期化\n",
    "    dp = [0] * (K + 1)\n",
    "    dp[0] = 1  # 初期状態で箱から何も取り出さない方法は1通り\n",
    "    for _ in [0]*Q:\n",
    "        pm,x = input().split()\n",
    "        x = int(x)\n",
    "        if pm == \"+\":\n",
    "            for i in range(K, x-1, -1):\n",
    "                dp[i] = (dp[i] + dp[i - x]) % MOD\n",
    "        else:\n",
    "            for i in range(x, K + 1):\n",
    "                dp[i] = (dp[i] - dp[i - x]) % MOD\n",
    "        print(dp[K])\n",
    "        # print(dp)\n",
    "    \n",
    "if __name__ == \"__main__\":\n",
    "    main()"
   ]
  },
  {
   "cell_type": "code",
   "execution_count": null,
   "metadata": {},
   "outputs": [],
   "source": []
  }
 ],
 "metadata": {
  "kernelspec": {
   "display_name": "Python 3",
   "language": "python",
   "name": "python3"
  },
  "language_info": {
   "codemirror_mode": {
    "name": "ipython",
    "version": 3
   },
   "file_extension": ".py",
   "mimetype": "text/x-python",
   "name": "python",
   "nbconvert_exporter": "python",
   "pygments_lexer": "ipython3",
   "version": "3.11.1"
  },
  "orig_nbformat": 4
 },
 "nbformat": 4,
 "nbformat_minor": 2
}
