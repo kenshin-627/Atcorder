{
 "cells": [
  {
   "cell_type": "code",
   "execution_count": null,
   "metadata": {},
   "outputs": [],
   "source": [
    "def main():\n",
    "    N,M = map(int,input().split())\n",
    "    S = input()\n",
    "    T = input()\n",
    "    if S == T[:N]:\n",
    "        if S == T[-N:]:\n",
    "            print(0)\n",
    "        else:\n",
    "            print(1)\n",
    "    elif S == T[-N:]:\n",
    "        print(2)\n",
    "    else:\n",
    "        print(3)\n",
    "    \n",
    "if __name__ == \"__main__\":\n",
    "    main()"
   ]
  },
  {
   "cell_type": "code",
   "execution_count": null,
   "metadata": {},
   "outputs": [],
   "source": [
    "def main():\n",
    "    N,M = map(int,input().split())\n",
    "    S = input()\n",
    "    T = input()\n",
    "    if S.startswith(T[:N]):\n",
    "        if S.endswith(T[-N:]):\n",
    "            print(0)\n",
    "        else:\n",
    "            print(1)\n",
    "    elif S.endswith(T[-N:]):\n",
    "        print(2)\n",
    "    else:\n",
    "        print(3)\n",
    "    \n",
    "if __name__ == \"__main__\":\n",
    "    main()"
   ]
  }
 ],
 "metadata": {
  "language_info": {
   "name": "python"
  },
  "orig_nbformat": 4
 },
 "nbformat": 4,
 "nbformat_minor": 2
}
