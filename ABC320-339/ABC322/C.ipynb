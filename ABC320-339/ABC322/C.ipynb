{
 "cells": [
  {
   "cell_type": "code",
   "execution_count": null,
   "metadata": {},
   "outputs": [],
   "source": [
    "from collections import deque\n",
    "\n",
    "def main():\n",
    "    N,M = map(int,input().split())\n",
    "    A = deque((map(int,input().split())))\n",
    "    i = 0\n",
    "    while A:\n",
    "        i += 1\n",
    "        a = A.popleft()\n",
    "        if a - i > 0:\n",
    "            A.appendleft(a)\n",
    "        print(a-i)\n",
    "    \n",
    "if __name__ == \"__main__\":\n",
    "    main()"
   ]
  }
 ],
 "metadata": {
  "language_info": {
   "name": "python"
  },
  "orig_nbformat": 4
 },
 "nbformat": 4,
 "nbformat_minor": 2
}
