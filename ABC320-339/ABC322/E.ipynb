{
 "cells": [
  {
   "cell_type": "code",
   "execution_count": null,
   "metadata": {},
   "outputs": [],
   "source": [
    "from collections import defaultdict\n",
    "\n",
    "def main():\n",
    "    N,K,P = map(int,input().split())\n",
    "    C_A = []\n",
    "    for _ in [0]*N:\n",
    "        C_A.append(list(map(int,input().split())))\n",
    "    # かくパラメータの数値をもつDP\n",
    "    # dp[(i,j,k)]: 例) パラメータが3この場合は，0番目のパラメータはi，1番目のパラメータはj，2番目のパラメータはkとなる時のコストの最小値，i,j,kそれぞれが5以上は全て5とする\n",
    "    dp = defaultdict(lambda: 10**12)\n",
    "    dp[tuple([0]*K)] = 0\n",
    "    for ca in C_A:\n",
    "        c = ca[0]\n",
    "        a = ca[1:]\n",
    "        items = list(dp.items())\n",
    "        for k,v in items:\n",
    "            tmp = list(k)\n",
    "            for i in range(K):\n",
    "                tmp[i] += a[i]\n",
    "                if tmp[i] > P:\n",
    "                    tmp[i] = P\n",
    "            tmp = tuple(tmp)\n",
    "            dp[tmp] = min(dp[tmp],v+c)\n",
    "    ans = 10**12\n",
    "    good = tuple([P]*K)\n",
    "    for k,v in dp.items():\n",
    "        if k == good:\n",
    "            ans = min(ans,v)\n",
    "    if ans == 10**12:\n",
    "        print(-1)\n",
    "    else:\n",
    "        print(ans)\n",
    "    \n",
    "if __name__ == \"__main__\":\n",
    "    main()"
   ]
  },
  {
   "cell_type": "code",
   "execution_count": null,
   "metadata": {},
   "outputs": [],
   "source": []
  }
 ],
 "metadata": {
  "kernelspec": {
   "display_name": "Python 3",
   "language": "python",
   "name": "python3"
  },
  "language_info": {
   "codemirror_mode": {
    "name": "ipython",
    "version": 3
   },
   "file_extension": ".py",
   "mimetype": "text/x-python",
   "name": "python",
   "nbconvert_exporter": "python",
   "pygments_lexer": "ipython3",
   "version": "3.11.1"
  },
  "orig_nbformat": 4
 },
 "nbformat": 4,
 "nbformat_minor": 2
}
