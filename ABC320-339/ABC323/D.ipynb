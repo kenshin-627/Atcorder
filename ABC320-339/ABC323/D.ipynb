{
 "cells": [
  {
   "cell_type": "code",
   "execution_count": null,
   "metadata": {},
   "outputs": [],
   "source": [
    "from heapq import *\n",
    "\n",
    "def main():\n",
    "    N = int(input())\n",
    "    SC = []\n",
    "    for _ in range(N):\n",
    "        S,C = map(int, input().split())\n",
    "        heappush(SC, (S, C))\n",
    "    ans = 0\n",
    "    while SC:\n",
    "        S, C = heappop(SC)\n",
    "        while SC:\n",
    "            if SC[0][0] == S:\n",
    "                S_, C_ = heappop(SC)\n",
    "                C += C_\n",
    "            else:\n",
    "                break\n",
    "        if C == 1:\n",
    "            ans += 1\n",
    "            continue\n",
    "        heappush(SC, (S*2, C//2))\n",
    "        ans += C%2\n",
    "    print(ans)\n",
    "    \n",
    "if __name__ == \"__main__\":\n",
    "    main()"
   ]
  },
  {
   "cell_type": "code",
   "execution_count": null,
   "metadata": {},
   "outputs": [],
   "source": [
    "from collections import defaultdict\n",
    "\n",
    "def main():\n",
    "    N = int(input())\n",
    "    SC = defaultdict(int)\n",
    "    for _ in range(N):\n",
    "        S,C = map(int, input().split())\n",
    "        SC[S] += C\n",
    "    ans = 0\n",
    "    keys = sorted(SC.keys())\n",
    "    for k in keys:\n",
    "        if k not in SC:\n",
    "            continue\n",
    "        C = SC[k]\n",
    "        tmp_k = k\n",
    "        while C > 0:\n",
    "            ans += C%2\n",
    "            C = C//2\n",
    "            tmp_k *= 2\n",
    "            if tmp_k in SC:\n",
    "                C += SC[tmp_k]\n",
    "                SC.pop(tmp_k)\n",
    "    print(ans)\n",
    "    \n",
    "if __name__ == \"__main__\":\n",
    "    main()"
   ]
  }
 ],
 "metadata": {
  "language_info": {
   "name": "python"
  },
  "orig_nbformat": 4
 },
 "nbformat": 4,
 "nbformat_minor": 2
}
