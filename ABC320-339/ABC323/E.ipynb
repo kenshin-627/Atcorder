{
 "cells": [
  {
   "cell_type": "code",
   "execution_count": null,
   "metadata": {},
   "outputs": [],
   "source": [
    "from collections import defaultdict\n",
    "\n",
    "def main():\n",
    "    N,X = map(int,input().split())\n",
    "    T = list(map(int,input().split()))\n",
    "    mod = 998244353\n",
    "    N_inv = pow(N, -1, mod)\n",
    "    ans = 0\n",
    "    # (終わる時間, その曲が選ばれる確率(今から選ぶ曲含めて))， dictで管理して時間1から順に見ていく，終わる時間がX以下なら追加する．Xを超えるときは曲1ならansに確率を足す．曲1以外なら何もしない\n",
    "    time_prob = defaultdict(int)\n",
    "    for i in range(N):\n",
    "        if T[i] <= X:\n",
    "            time_prob[T[i]] += N_inv\n",
    "        else:\n",
    "            if i == 0:\n",
    "                ans += N_inv\n",
    "                ans %= mod\n",
    "    for i in range(1,X+1):\n",
    "        if i in time_prob:\n",
    "            prob = (time_prob[i] * N_inv) % mod\n",
    "            for j,t in enumerate(T):\n",
    "                if i + t <= X:\n",
    "                    time_prob[i+t] += prob\n",
    "                    time_prob[i+t] %= mod\n",
    "                else:\n",
    "                    if j == 0:\n",
    "                        ans += prob\n",
    "                        ans %= mod\n",
    "    print(ans)\n",
    "    \n",
    "if __name__ == \"__main__\":\n",
    "    main()"
   ]
  }
 ],
 "metadata": {
  "language_info": {
   "name": "python"
  },
  "orig_nbformat": 4
 },
 "nbformat": 4,
 "nbformat_minor": 2
}
