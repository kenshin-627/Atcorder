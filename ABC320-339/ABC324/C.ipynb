{
 "cells": [
  {
   "cell_type": "code",
   "execution_count": null,
   "metadata": {},
   "outputs": [],
   "source": [
    "def main():\n",
    "    N,T = input().split()\n",
    "    N = int(N)\n",
    "    ans = []\n",
    "    for i in range(1,N+1):\n",
    "        S = input()\n",
    "        if len(S) == len(T):\n",
    "            # 等しいか，一文字変更されてる\n",
    "            # 違う文字数\n",
    "            diff = len([1 for s,t in zip(S,T) if s != t])\n",
    "            if diff == 0 or diff == 1:\n",
    "                ans.append(i)\n",
    "        elif len(S) - 1 == len(T):\n",
    "            # Sから一文字削除されてる\n",
    "            j,k = 0,0\n",
    "            while j < len(S) and k < len(T):\n",
    "                if S[j] != T[k]:\n",
    "                    j += 1\n",
    "                else:\n",
    "                    j += 1\n",
    "                    k += 1\n",
    "            if j == len(S) and k == len(T):\n",
    "                ans.append(i)\n",
    "            elif j == k:\n",
    "                ans.append(i)\n",
    "        elif len(S) + 1 == len(T):\n",
    "            # Sに一文字追加されてる\n",
    "            j,k = 0,0\n",
    "            while j < len(S) and k < len(T):\n",
    "                if S[j] != T[k]:\n",
    "                    k += 1\n",
    "                else:\n",
    "                    j += 1\n",
    "                    k += 1\n",
    "            if j == len(S) and k == len(T):\n",
    "                ans.append(i)\n",
    "            elif j == k:\n",
    "                ans.append(i)\n",
    "    print(len(ans))\n",
    "    print(*ans)\n",
    "    \n",
    "if __name__ == \"__main__\":\n",
    "    main()"
   ]
  }
 ],
 "metadata": {
  "language_info": {
   "name": "python"
  },
  "orig_nbformat": 4
 },
 "nbformat": 4,
 "nbformat_minor": 2
}
