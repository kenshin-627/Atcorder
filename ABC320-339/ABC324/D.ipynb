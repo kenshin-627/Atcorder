{
 "cells": [
  {
   "cell_type": "code",
   "execution_count": 43,
   "metadata": {},
   "outputs": [
    {
     "name": "stdout",
     "output_type": "stream",
     "text": [
      "0\n"
     ]
    }
   ],
   "source": [
    "def main():\n",
    "    N = int(input())\n",
    "    S = input()\n",
    "    S_cnt = [0]*10\n",
    "    for s in S:\n",
    "        S_cnt[int(s)] += 1\n",
    "    # N桁の整数の最大\n",
    "    max_ = 10**N-1\n",
    "    ans = 0\n",
    "    for i in range(1, int(max_**0.5+1)):\n",
    "        # 0以外をあまりなく使い切ればオッケー\n",
    "        tmp = str(i*i)\n",
    "        tmp_cnt = [0]*10\n",
    "        for t in tmp:\n",
    "            tmp_cnt[int(t)] += 1\n",
    "        for j in range(1,10):\n",
    "            if S_cnt[j] != tmp_cnt[j]:\n",
    "                break\n",
    "        else:\n",
    "            ans += 1\n",
    "    print(ans)\n",
    "    \n",
    "if __name__ == \"__main__\":\n",
    "    main()"
   ]
  },
  {
   "cell_type": "code",
   "execution_count": 42,
   "metadata": {},
   "outputs": [
    {
     "name": "stdout",
     "output_type": "stream",
     "text": [
      "3\n"
     ]
    }
   ],
   "source": [
    "def main():\n",
    "    N = int(input())\n",
    "    S = input()\n",
    "    S_cnt = [0]*10\n",
    "    for s in S:\n",
    "        S_cnt[int(s)] += 1\n",
    "    ans = 0\n",
    "    for i in range(3162278):\n",
    "        if len(str(i*i)) > N:\n",
    "            break\n",
    "        # 足りない文字数を0で埋める\n",
    "        tmp = str(i*i)\n",
    "        tmp_cnt = [0]*10\n",
    "        for t in tmp:\n",
    "            tmp_cnt[int(t)] += 1\n",
    "        tmp_cnt[0] += N-len(tmp)\n",
    "        if S_cnt == tmp_cnt:\n",
    "            ans += 1\n",
    "    print(ans)\n",
    "    \n",
    "if __name__ == \"__main__\":\n",
    "    main()"
   ]
  },
  {
   "cell_type": "code",
   "execution_count": null,
   "metadata": {},
   "outputs": [],
   "source": [
    "def main():\n",
    "    N = int(input())\n",
    "    S = input()\n",
    "    S_sort = int(\"\".join(sorted(S)))\n",
    "    ans = 0\n",
    "    for i in range(1, 3162278):\n",
    "        if len(str(i*i)) > N:\n",
    "            break\n",
    "        # 足りない文字数を0で埋める\n",
    "        tmp = str(i*i)\n",
    "        if int(\"\".join(sorted(tmp))) == S_sort:\n",
    "            ans += 1\n",
    "    print(ans)\n",
    "    \n",
    "if __name__ == \"__main__\":\n",
    "    main()"
   ]
  }
 ],
 "metadata": {
  "kernelspec": {
   "display_name": "Python 3",
   "language": "python",
   "name": "python3"
  },
  "language_info": {
   "codemirror_mode": {
    "name": "ipython",
    "version": 3
   },
   "file_extension": ".py",
   "mimetype": "text/x-python",
   "name": "python",
   "nbconvert_exporter": "python",
   "pygments_lexer": "ipython3",
   "version": "3.11.1"
  },
  "orig_nbformat": 4
 },
 "nbformat": 4,
 "nbformat_minor": 2
}
