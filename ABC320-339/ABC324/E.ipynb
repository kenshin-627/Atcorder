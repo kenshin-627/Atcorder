{
 "cells": [
  {
   "cell_type": "code",
   "execution_count": 4,
   "metadata": {},
   "outputs": [
    {
     "name": "stdout",
     "output_type": "stream",
     "text": [
      "[2, 1, 0]\n",
      "[0, 1, 2]\n"
     ]
    }
   ],
   "source": [
    "from itertools import accumulate\n",
    "\n",
    "def main():\n",
    "    N,T = input().split()\n",
    "    N = int(N)\n",
    "    # Tの前から何文字目までを部分列としてもつか\n",
    "    bef = [0]*(len(T)+1)\n",
    "    # Tの後ろから何文字目までを部分列としてもつか\n",
    "    aft = [0]*(len(T)+1)\n",
    "    for _ in range(N):\n",
    "        S = input()\n",
    "        tmp_bef = 0\n",
    "        for s in S:\n",
    "            if s == T[tmp_bef]:\n",
    "                tmp_bef += 1\n",
    "                if tmp_bef == len(T):\n",
    "                    break\n",
    "        bef[tmp_bef] += 1\n",
    "        tmp_aft = 0\n",
    "        for s in S[::-1]:\n",
    "            if s == T[-1-tmp_aft]:\n",
    "                tmp_aft += 1\n",
    "                if tmp_aft == len(T):\n",
    "                    break\n",
    "        aft[tmp_aft] += 1\n",
    "    aft_acc = list(accumulate(aft[::-1]))\n",
    "    ans = 0\n",
    "    for i in range(len(T)+1):\n",
    "        ans += bef[i]*aft_acc[i]\n",
    "    print(ans)\n",
    "    \n",
    "if __name__ == \"__main__\":\n",
    "    main()"
   ]
  },
  {
   "cell_type": "code",
   "execution_count": null,
   "metadata": {},
   "outputs": [],
   "source": []
  }
 ],
 "metadata": {
  "kernelspec": {
   "display_name": "Python 3",
   "language": "python",
   "name": "python3"
  },
  "language_info": {
   "codemirror_mode": {
    "name": "ipython",
    "version": 3
   },
   "file_extension": ".py",
   "mimetype": "text/x-python",
   "name": "python",
   "nbconvert_exporter": "python",
   "pygments_lexer": "ipython3",
   "version": "3.11.1"
  },
  "orig_nbformat": 4
 },
 "nbformat": 4,
 "nbformat_minor": 2
}
