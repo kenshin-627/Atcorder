{
 "cells": [
  {
   "cell_type": "code",
   "execution_count": null,
   "metadata": {},
   "outputs": [],
   "source": [
    "def main():\n",
    "    N = int(input())\n",
    "    ans = [0]*24\n",
    "    for _ in range(N):\n",
    "        W,X = list(map(int, input().split()))\n",
    "        for i in range(24):\n",
    "            if 9 <= (X+i) % 24 < 18:\n",
    "                ans[i%24] += W\n",
    "    print(max(ans))\n",
    "    \n",
    "if __name__ == \"__main__\":\n",
    "    main()"
   ]
  }
 ],
 "metadata": {
  "language_info": {
   "name": "python"
  }
 },
 "nbformat": 4,
 "nbformat_minor": 2
}
