{
 "cells": [
  {
   "cell_type": "code",
   "execution_count": null,
   "metadata": {},
   "outputs": [],
   "source": [
    "def main():\n",
    "    N = int(input())\n",
    "    # Di: 区間iの長さ\n",
    "    D = [0] + list(map(int, input().split()))\n",
    "    # Li: センサーiがカバーできる区間の長さ，Ci: センサーiのコスト，Ki: センサーiを設置できる個数\n",
    "    L,C,K = zip(map(int, input().split()), map(int, input().split()))\n",
    "    # dp[i][j]: i番目までの区間で，センサー1を合計j個設置した時のセンサー2の最小個数\n",
    "    dp = [[10**4]*(K[0]+1) for _ in [0]*(N+1)]\n",
    "    dp[0][0] = 0\n",
    "    # 区間i(1-indexed)までで，センサー1をj個設置している\n",
    "    for i in range(N):\n",
    "        for j in range(K[0]+1):\n",
    "            if dp[i][j] == 10**4:\n",
    "                continue\n",
    "            tmp = 0\n",
    "            # 区間i+1にセンサー1をk個設置する\n",
    "            for k in range(K[0]+1):\n",
    "                if j+k > K[0]:\n",
    "                    break\n",
    "                # 区間i+1にセンサー1をk個設置した時の残りの区間の長さ\n",
    "                rem_len = D[i+1] - k*L[0]\n",
    "                # 区間i+1にセンサー2を設置する個数\n",
    "                cnt_2 = max(0, (rem_len-1) // L[1] + 1)\n",
    "                if cnt_2 == 0:\n",
    "                    tmp += 1\n",
    "                    if tmp == 2:\n",
    "                        break\n",
    "                # 区間i+1まででセンサー2を設置する個数\n",
    "                cnt_2 += dp[i][j]\n",
    "                if K[1] < cnt_2:\n",
    "                    continue\n",
    "                dp[i+1][j+k] = min(dp[i+1][j+k], cnt_2)\n",
    "    ans = 10**13\n",
    "    # センサー1を合計i個，センサー2を合計dp[N][i]個設置する\n",
    "    for i in range(K[0]+1):\n",
    "        if dp[N][i] == 10**4:\n",
    "            continue\n",
    "        ans = min(ans, i*C[0] + dp[N][i]*C[1])\n",
    "    if ans == 10**13:\n",
    "        print(-1)\n",
    "    else:\n",
    "        print(ans)\n",
    "    \n",
    "if __name__ == \"__main__\":\n",
    "    main()"
   ]
  }
 ],
 "metadata": {
  "kernelspec": {
   "display_name": "Python 3",
   "language": "python",
   "name": "python3"
  },
  "language_info": {
   "codemirror_mode": {
    "name": "ipython",
    "version": 3
   },
   "file_extension": ".py",
   "mimetype": "text/x-python",
   "name": "python",
   "nbconvert_exporter": "python",
   "pygments_lexer": "ipython3",
   "version": "3.11.1"
  }
 },
 "nbformat": 4,
 "nbformat_minor": 2
}
