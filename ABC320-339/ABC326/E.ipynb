{
 "cells": [
  {
   "cell_type": "code",
   "execution_count": 4,
   "metadata": {},
   "outputs": [
    {
     "name": "stdout",
     "output_type": "stream",
     "text": [
      "776412280\n"
     ]
    }
   ],
   "source": [
    "def main():\n",
    "    N = int(input())\n",
    "    A = list(map(int,input().split()))\n",
    "    mod = 998244353\n",
    "    N_N = pow(N, N, mod)\n",
    "    N_N_inv = pow(N_N, -1, mod)\n",
    "    N_N1 = pow(N, N-1, mod)\n",
    "    N_inv = pow(N, -1, mod)\n",
    "    ans = 0\n",
    "    for i in range(N):\n",
    "        ans = (ans + N_N1*A[i]) % mod\n",
    "        N_N1 = (N_N1 + N_N1*N_inv) % mod\n",
    "    print((ans * N_N_inv) % mod)\n",
    "\n",
    "if __name__ == \"__main__\":\n",
    "    main()"
   ]
  },
  {
   "cell_type": "code",
   "execution_count": null,
   "metadata": {},
   "outputs": [],
   "source": []
  }
 ],
 "metadata": {
  "kernelspec": {
   "display_name": "Python 3",
   "language": "python",
   "name": "python3"
  },
  "language_info": {
   "codemirror_mode": {
    "name": "ipython",
    "version": 3
   },
   "file_extension": ".py",
   "mimetype": "text/x-python",
   "name": "python",
   "nbconvert_exporter": "python",
   "pygments_lexer": "ipython3",
   "version": "3.11.1"
  }
 },
 "nbformat": 4,
 "nbformat_minor": 2
}
