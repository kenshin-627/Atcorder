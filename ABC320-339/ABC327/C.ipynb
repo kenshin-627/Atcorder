{
 "cells": [
  {
   "cell_type": "code",
   "execution_count": null,
   "metadata": {},
   "outputs": [],
   "source": [
    "def main():\n",
    "    A = []\n",
    "    for _ in range(9):\n",
    "        Ai = list(map(int,input().split()))\n",
    "        if len(set(Ai)) != 9:\n",
    "            print(\"No\")\n",
    "            exit()\n",
    "        A.append(Ai)\n",
    "    for Aj in zip(*A):\n",
    "        if len(set(Aj)) != 9:\n",
    "            print(\"No\")\n",
    "            exit()\n",
    "    for i in range(3):\n",
    "        for j in range(3):\n",
    "            if len(set(A[i*3][j*3:j*3+3]+A[i*3+1][j*3:j*3+3]+A[i*3+2][j*3:j*3+3])) != 9:\n",
    "                print(\"No\")\n",
    "                exit()\n",
    "    print(\"Yes\")\n",
    "\n",
    "if __name__ == \"__main__\":\n",
    "    main()"
   ]
  }
 ],
 "metadata": {
  "kernelspec": {
   "display_name": "Python 3",
   "language": "python",
   "name": "python3"
  },
  "language_info": {
   "name": "python",
   "version": "3.11.1"
  }
 },
 "nbformat": 4,
 "nbformat_minor": 2
}
