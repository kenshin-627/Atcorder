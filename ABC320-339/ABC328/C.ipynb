{
 "cells": [
  {
   "cell_type": "code",
   "execution_count": 1,
   "metadata": {},
   "outputs": [
    {
     "name": "stdout",
     "output_type": "stream",
     "text": [
      "[0, 0, 0, 1, 1, 1, 2, 2, 2, 3, 3]\n"
     ]
    },
    {
     "ename": "ValueError",
     "evalue": "not enough values to unpack (expected 2, got 0)",
     "output_type": "error",
     "traceback": [
      "\u001b[0;31m---------------------------------------------------------------------------\u001b[0m",
      "\u001b[0;31mValueError\u001b[0m                                Traceback (most recent call last)",
      "\u001b[1;32m/Users/fujitakenshin/Ken/Atcorder/ABC320-339/ABC328/C.ipynb セル 1\u001b[0m line \u001b[0;36m4\n\u001b[1;32m     <a href='vscode-notebook-cell:/Users/fujitakenshin/Ken/Atcorder/ABC320-339/ABC328/C.ipynb#W0sZmlsZQ%3D%3D?line=44'>45</a>\u001b[0m         \u001b[39mprint\u001b[39m(acc[r\u001b[39m-\u001b[39m\u001b[39m1\u001b[39m] \u001b[39m-\u001b[39m acc[l])\n\u001b[1;32m     <a href='vscode-notebook-cell:/Users/fujitakenshin/Ken/Atcorder/ABC320-339/ABC328/C.ipynb#W0sZmlsZQ%3D%3D?line=46'>47</a>\u001b[0m \u001b[39mif\u001b[39;00m \u001b[39m__name__\u001b[39m \u001b[39m==\u001b[39m \u001b[39m\"\u001b[39m\u001b[39m__main__\u001b[39m\u001b[39m\"\u001b[39m:\n\u001b[0;32m---> <a href='vscode-notebook-cell:/Users/fujitakenshin/Ken/Atcorder/ABC320-339/ABC328/C.ipynb#W0sZmlsZQ%3D%3D?line=47'>48</a>\u001b[0m     main()\n",
      "\u001b[1;32m/Users/fujitakenshin/Ken/Atcorder/ABC320-339/ABC328/C.ipynb セル 1\u001b[0m line \u001b[0;36m4\n\u001b[1;32m     <a href='vscode-notebook-cell:/Users/fujitakenshin/Ken/Atcorder/ABC320-339/ABC328/C.ipynb#W0sZmlsZQ%3D%3D?line=41'>42</a>\u001b[0m \u001b[39mprint\u001b[39m(acc)\n\u001b[1;32m     <a href='vscode-notebook-cell:/Users/fujitakenshin/Ken/Atcorder/ABC320-339/ABC328/C.ipynb#W0sZmlsZQ%3D%3D?line=42'>43</a>\u001b[0m \u001b[39mfor\u001b[39;00m _ \u001b[39min\u001b[39;00m \u001b[39mrange\u001b[39m(Q):\n\u001b[0;32m---> <a href='vscode-notebook-cell:/Users/fujitakenshin/Ken/Atcorder/ABC320-339/ABC328/C.ipynb#W0sZmlsZQ%3D%3D?line=43'>44</a>\u001b[0m     l,r \u001b[39m=\u001b[39m \u001b[39mmap\u001b[39m(\u001b[39mint\u001b[39m,\u001b[39minput\u001b[39m()\u001b[39m.\u001b[39msplit())\n\u001b[1;32m     <a href='vscode-notebook-cell:/Users/fujitakenshin/Ken/Atcorder/ABC320-339/ABC328/C.ipynb#W0sZmlsZQ%3D%3D?line=44'>45</a>\u001b[0m     \u001b[39mprint\u001b[39m(acc[r\u001b[39m-\u001b[39m\u001b[39m1\u001b[39m] \u001b[39m-\u001b[39m acc[l])\n",
      "\u001b[0;31mValueError\u001b[0m: not enough values to unpack (expected 2, got 0)"
     ]
    }
   ],
   "source": [
    "def main():\n",
    "    N,Q = map(int,input().split())\n",
    "    S = input()\n",
    "    acc = [0]\n",
    "    for i in range(N-1):\n",
    "        tmp = 0\n",
    "        if S[i] == S[i+1]:\n",
    "            tmp = 1\n",
    "        acc.append(acc[-1] + tmp)\n",
    "    for _ in range(Q):\n",
    "        l,r = map(int,input().split())\n",
    "        print(acc[r-1] - acc[l-1])\n",
    "\n",
    "if __name__ == \"__main__\":\n",
    "    main()"
   ]
  },
  {
   "cell_type": "code",
   "execution_count": null,
   "metadata": {},
   "outputs": [],
   "source": []
  }
 ],
 "metadata": {
  "kernelspec": {
   "display_name": "Python 3",
   "language": "python",
   "name": "python3"
  },
  "language_info": {
   "codemirror_mode": {
    "name": "ipython",
    "version": 3
   },
   "file_extension": ".py",
   "mimetype": "text/x-python",
   "name": "python",
   "nbconvert_exporter": "python",
   "pygments_lexer": "ipython3",
   "version": "3.11.1"
  }
 },
 "nbformat": 4,
 "nbformat_minor": 2
}
