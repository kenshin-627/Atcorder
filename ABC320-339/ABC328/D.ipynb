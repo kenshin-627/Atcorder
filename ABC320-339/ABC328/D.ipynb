{
 "cells": [
  {
   "cell_type": "code",
   "execution_count": null,
   "metadata": {},
   "outputs": [],
   "source": [
    "from collections import deque\n",
    "\n",
    "def main():\n",
    "    S = input()\n",
    "    if len(S) <= 2:\n",
    "        print(S)\n",
    "        exit()\n",
    "    left_q = deque()\n",
    "    i = 0\n",
    "    while i < len(S):\n",
    "        if len(left_q) <= 2:\n",
    "            left_q.append(S[i])\n",
    "            i += 1\n",
    "            continue\n",
    "        if left_q[-1] == \"C\" and left_q[-2] == \"B\" and left_q[-3] == \"A\":\n",
    "            left_q.pop()\n",
    "            left_q.pop()\n",
    "            left_q.pop()\n",
    "            continue\n",
    "        else:\n",
    "            left_q.append(S[i])\n",
    "            i += 1\n",
    "    if len(left_q) >= 3:\n",
    "        if left_q[-1] == \"C\" and left_q[-2] == \"B\" and left_q[-3] == \"A\":\n",
    "            left_q.pop()\n",
    "            left_q.pop()\n",
    "            left_q.pop()\n",
    "    print(\"\".join(list(left_q)))\n",
    "\n",
    "if __name__ == \"__main__\":\n",
    "    main()"
   ]
  }
 ],
 "metadata": {
  "kernelspec": {
   "display_name": "Python 3",
   "language": "python",
   "name": "python3"
  },
  "language_info": {
   "name": "python",
   "version": "3.11.1"
  }
 },
 "nbformat": 4,
 "nbformat_minor": 2
}
