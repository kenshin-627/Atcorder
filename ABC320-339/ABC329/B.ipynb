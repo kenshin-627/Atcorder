{
 "cells": [
  {
   "cell_type": "code",
   "execution_count": null,
   "metadata": {},
   "outputs": [],
   "source": [
    "def main():\n",
    "    N = int(input())\n",
    "    A = list(map(int, input().split()))\n",
    "    # Aの中で最大でないものの中で最大のもの\n",
    "    max_a = max(A)\n",
    "    max_a2 = 0\n",
    "    for a in A:\n",
    "        if a == max_a:\n",
    "            continue\n",
    "        else:\n",
    "            max_a2 = max(max_a2, a)\n",
    "    print(max_a2)\n",
    "\n",
    "if __name__ == \"__main__\":\n",
    "    main()"
   ]
  }
 ],
 "metadata": {
  "kernelspec": {
   "display_name": "Python 3",
   "language": "python",
   "name": "python3"
  },
  "language_info": {
   "name": "python",
   "version": "3.11.1"
  }
 },
 "nbformat": 4,
 "nbformat_minor": 2
}
