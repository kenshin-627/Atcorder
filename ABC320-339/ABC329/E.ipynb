{
 "cells": [
  {
   "cell_type": "code",
   "execution_count": 1,
   "metadata": {},
   "outputs": [
    {
     "name": "stdout",
     "output_type": "stream",
     "text": [
      "No\n"
     ]
    }
   ],
   "source": [
    "def main():\n",
    "    N,M = map(int,input().split())\n",
    "    S = input()\n",
    "    T = input()\n",
    "    # dp: Sの何文字目まで一致させることができるか\n",
    "    dp = 0\n",
    "    # 現在一番上に置いてるものは右端まで全てあってるか\n",
    "    flag = False\n",
    "    for i in range(N-M+1):\n",
    "        if i == 0:\n",
    "            if S[0] != T[0]:\n",
    "                print(\"No\")\n",
    "                return\n",
    "        # 左から何文字\n",
    "        tmp = 0\n",
    "        # dpから何文字\n",
    "        tmp_2 = dp-i\n",
    "        for j in range(M):\n",
    "            if tmp == j and S[i+j] == T[j]:\n",
    "                tmp += 1\n",
    "        for j in range(dp-i,M):\n",
    "            if tmp_2 == j and S[i+j] == T[j]:\n",
    "                tmp_2 += 1\n",
    "        # 今Sの左端から一致しているところまでtmpの左端から全て一致してたら上に置く，そうでなければ下に置く\n",
    "        if dp < i+tmp:\n",
    "            dp = i+tmp\n",
    "            if tmp == M:\n",
    "                flag = True\n",
    "            else:\n",
    "                flag = False\n",
    "        else:\n",
    "            if flag and dp < i+tmp_2:\n",
    "                dp = tmp_2+i\n",
    "                if tmp_2 == M:\n",
    "                    flag = True\n",
    "                else:\n",
    "                    flag = False\n",
    "        if dp <= i:\n",
    "            print(\"No\")\n",
    "            return\n",
    "    if dp == N:\n",
    "        print(\"Yes\")\n",
    "    else:\n",
    "        print(\"No\")\n",
    "\n",
    "if __name__ == \"__main__\":\n",
    "    main()"
   ]
  },
  {
   "cell_type": "code",
   "execution_count": null,
   "metadata": {},
   "outputs": [],
   "source": [
    "def main():\n",
    "    N,M = map(int,input().split())\n",
    "    S = list(input())\n",
    "    T = list(input())\n",
    "    # 今Sの何文字目を見てるか\n",
    "    i = 0\n",
    "    # すでに使ったi\n",
    "    seen = set()\n",
    "    while i <= N-M:\n",
    "        if i in seen:\n",
    "            i += 1\n",
    "            continue\n",
    "        flag = True\n",
    "        for j in range(M):\n",
    "            if S[i+j] != T[j] and S[i+j] != \"#\":\n",
    "                flag = False\n",
    "                break\n",
    "        if flag:\n",
    "            for j in range(M):\n",
    "                S[i+j] = \"#\"\n",
    "            seen.add(i)\n",
    "            i = max(0,i-M+1)\n",
    "            continue\n",
    "        i += 1\n",
    "    for i in range(N):\n",
    "        if S[i] != \"#\":\n",
    "            print(\"No\")\n",
    "            return\n",
    "    print(\"Yes\")\n",
    "\n",
    "if __name__ == \"__main__\":\n",
    "    main()"
   ]
  },
  {
   "cell_type": "code",
   "execution_count": null,
   "metadata": {},
   "outputs": [],
   "source": []
  }
 ],
 "metadata": {
  "kernelspec": {
   "display_name": "Python 3",
   "language": "python",
   "name": "python3"
  },
  "language_info": {
   "codemirror_mode": {
    "name": "ipython",
    "version": 3
   },
   "file_extension": ".py",
   "mimetype": "text/x-python",
   "name": "python",
   "nbconvert_exporter": "python",
   "pygments_lexer": "ipython3",
   "version": "3.11.1"
  }
 },
 "nbformat": 4,
 "nbformat_minor": 2
}
