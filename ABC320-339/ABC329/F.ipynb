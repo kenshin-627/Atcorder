{
 "cells": [
  {
   "cell_type": "code",
   "execution_count": 4,
   "metadata": {},
   "outputs": [
    {
     "name": "stdout",
     "output_type": "stream",
     "text": [
      "[{1}, {1}, {1}, {2}, {2}, {3}]\n"
     ]
    }
   ],
   "source": [
    "def main():\n",
    "    N,Q = map(int,input().split())\n",
    "    C = [set()] + list(map(lambda x: set([int(x)]),input().split()))\n",
    "    for _ in [0]*Q:\n",
    "        a,b = map(int,input().split())\n",
    "        if len(C[a]) <= len(C[b]):\n",
    "            C[b] |= C[a]\n",
    "            C[a] = set()\n",
    "        else:\n",
    "            C[a] |= C[b]\n",
    "            C[b] = set()\n",
    "            C[a],C[b] = C[b],C[a]\n",
    "        print(len(C[b]))\n",
    "\n",
    "if __name__ == \"__main__\":\n",
    "    main()"
   ]
  },
  {
   "cell_type": "code",
   "execution_count": null,
   "metadata": {},
   "outputs": [],
   "source": []
  }
 ],
 "metadata": {
  "kernelspec": {
   "display_name": "Python 3",
   "language": "python",
   "name": "python3"
  },
  "language_info": {
   "codemirror_mode": {
    "name": "ipython",
    "version": 3
   },
   "file_extension": ".py",
   "mimetype": "text/x-python",
   "name": "python",
   "nbconvert_exporter": "python",
   "pygments_lexer": "ipython3",
   "version": "3.11.1"
  }
 },
 "nbformat": 4,
 "nbformat_minor": 2
}
