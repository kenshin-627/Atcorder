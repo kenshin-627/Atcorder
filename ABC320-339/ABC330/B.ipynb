{
 "cells": [
  {
   "cell_type": "code",
   "execution_count": null,
   "metadata": {},
   "outputs": [],
   "source": [
    "def main():\n",
    "    N,L,R = map(int,input().split())\n",
    "    A = list(map(int,input().split()))\n",
    "    ans = []\n",
    "    for a in A:\n",
    "        if L <= a <= R:\n",
    "            ans.append(a)\n",
    "        elif a < L:\n",
    "            ans.append(L)\n",
    "        else:\n",
    "            ans.append(R)\n",
    "    print(*ans)\n",
    "\n",
    "if __name__ == \"__main__\":\n",
    "    main()"
   ]
  }
 ],
 "metadata": {
  "language_info": {
   "name": "python"
  }
 },
 "nbformat": 4,
 "nbformat_minor": 2
}
