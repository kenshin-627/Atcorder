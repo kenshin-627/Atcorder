{
 "cells": [
  {
   "cell_type": "code",
   "execution_count": null,
   "metadata": {},
   "outputs": [],
   "source": [
    "import math\n",
    "\n",
    "def main():\n",
    "    D = int(input())\n",
    "    ans = float('inf')\n",
    "    for i in range(D):\n",
    "        if i**2 > D:\n",
    "            break\n",
    "        tmp = int(math.sqrt(D - i**2))\n",
    "        if abs(D - i**2 - (tmp-1)**2) < ans:\n",
    "            ans = abs(D - i**2 - (tmp-1)**2)\n",
    "        if abs(D - i**2 - tmp**2) < ans:\n",
    "            ans = abs(D - i**2 - tmp**2)\n",
    "        if abs(D - i**2 - (tmp+1)**2) < ans:\n",
    "            ans = abs(D - i**2 - (tmp+1)**2)\n",
    "    print(ans)\n",
    "\n",
    "if __name__ == \"__main__\":\n",
    "    main()"
   ]
  }
 ],
 "metadata": {
  "language_info": {
   "name": "python"
  }
 },
 "nbformat": 4,
 "nbformat_minor": 2
}
