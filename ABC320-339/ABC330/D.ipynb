{
 "cells": [
  {
   "cell_type": "code",
   "execution_count": null,
   "metadata": {},
   "outputs": [],
   "source": [
    "from collections import defaultdict\n",
    "\n",
    "def main():\n",
    "    N = int(input())\n",
    "    S = []\n",
    "    # i行目に何個oがあるか\n",
    "    cnt_i = defaultdict(int)\n",
    "    # j列目に何個oがあるか\n",
    "    cnt_j = defaultdict(int)\n",
    "    for i in range(N):\n",
    "        s = input()\n",
    "        for j in range(N):\n",
    "            if s[j] == 'o':\n",
    "                cnt_i[i] += 1\n",
    "                cnt_j[j] += 1\n",
    "        S.append(s)\n",
    "    ans = 0\n",
    "    for i in range(N):\n",
    "        for j in range(N):\n",
    "            if S[i][j] == 'o':\n",
    "                ans += (cnt_i[i]-1) * (cnt_j[j]-1)\n",
    "    print(ans)\n",
    "\n",
    "if __name__ == \"__main__\":\n",
    "    main()"
   ]
  }
 ],
 "metadata": {
  "language_info": {
   "name": "python"
  }
 },
 "nbformat": 4,
 "nbformat_minor": 2
}
