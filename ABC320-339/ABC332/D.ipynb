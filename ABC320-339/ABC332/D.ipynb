{
 "cells": [
  {
   "cell_type": "code",
   "execution_count": 9,
   "metadata": {},
   "outputs": [
    {
     "name": "stdout",
     "output_type": "stream",
     "text": [
      "0\n"
     ]
    }
   ],
   "source": [
    "from collections import defaultdict\n",
    "\n",
    "def main():\n",
    "    H,W = map(int,input().split())\n",
    "    A = [list(map(int,input().split())) for _ in range(H)]\n",
    "    B = [list(map(int,input().split())) for _ in range(H)]\n",
    "    ans = 0\n",
    "    # 行を交換\n",
    "    for i in range(H):\n",
    "        # Bのi行目のdict\n",
    "        i_dic = defaultdict(int)\n",
    "        for j in range(W):\n",
    "            i_dic[B[i][j]] += 1\n",
    "        # Aのj行目のdictが同じかどうか\n",
    "        for j in range(i,H):\n",
    "            j_dic = defaultdict(int)\n",
    "            for k in range(W):\n",
    "                j_dic[A[j][k]] += 1\n",
    "            if i_dic == j_dic:\n",
    "                ans += j-i\n",
    "                # Aのj行目をi行目にくるまで1行前と交換していく\n",
    "                while j > i:\n",
    "                    A[j],A[j-1] = A[j-1],A[j]\n",
    "                    j -= 1\n",
    "                break\n",
    "        else:\n",
    "            print(-1)\n",
    "            return\n",
    "    # 列を交換\n",
    "    for i in range(W):\n",
    "        # Bのi列目のdict\n",
    "        i_dic = defaultdict(int)\n",
    "        for j in range(H):\n",
    "            i_dic[B[j][i]] += 1\n",
    "        # Aのj列目のdictが同じかどうか\n",
    "        for j in range(i,W):\n",
    "            j_dic = defaultdict(int)\n",
    "            for k in range(H):\n",
    "                j_dic[A[k][j]] += 1\n",
    "            if i_dic == j_dic:\n",
    "                ans += j-i\n",
    "                # Aのj列目をi列目にくるまで1列前と交換していく\n",
    "                while j > i:\n",
    "                    for k in range(H):\n",
    "                        A[k][j],A[k][j-1] = A[k][j-1],A[k][j]\n",
    "                    j -= 1\n",
    "                break\n",
    "        else:\n",
    "            print(-1)\n",
    "            return\n",
    "    print(ans)\n",
    "\n",
    "if __name__ == \"__main__\":\n",
    "    main()"
   ]
  },
  {
   "cell_type": "code",
   "execution_count": null,
   "metadata": {},
   "outputs": [],
   "source": [
    "from itertools import permutations\n",
    "\n",
    "def main():\n",
    "    H,W = map(int,input().split())\n",
    "    A = [list(map(int,input().split())) for _ in range(H)]\n",
    "    B = [list(map(int,input().split())) for _ in range(H)]\n",
    "    ans = 10**18\n",
    "    for P in permutations(range(H)):\n",
    "        for Q in permutations(range(W)):\n",
    "            for i,p in enumerate(P):\n",
    "                for j,q in enumerate(Q):\n",
    "                    if A[p][q] != B[i][j]:\n",
    "                        break\n",
    "                else:\n",
    "                    continue\n",
    "                break\n",
    "            else:\n",
    "                # Pの転倒数\n",
    "                cnt = 0\n",
    "                for i in range(H):\n",
    "                    for j in range(i+1,H):\n",
    "                        if P[i] > P[j]:\n",
    "                            cnt += 1\n",
    "                # Qの転倒数\n",
    "                for i in range(W):\n",
    "                    for j in range(i+1,W):\n",
    "                        if Q[i] > Q[j]:\n",
    "                            cnt += 1\n",
    "                ans = min(ans,cnt)\n",
    "    if ans == 10**18:\n",
    "        print(-1)\n",
    "    else:\n",
    "        print(ans)\n",
    "\n",
    "if __name__ == \"__main__\":\n",
    "    main()"
   ]
  },
  {
   "cell_type": "code",
   "execution_count": null,
   "metadata": {},
   "outputs": [],
   "source": []
  }
 ],
 "metadata": {
  "kernelspec": {
   "display_name": "Python 3",
   "language": "python",
   "name": "python3"
  },
  "language_info": {
   "codemirror_mode": {
    "name": "ipython",
    "version": 3
   },
   "file_extension": ".py",
   "mimetype": "text/x-python",
   "name": "python",
   "nbconvert_exporter": "python",
   "pygments_lexer": "ipython3",
   "version": "3.11.1"
  }
 },
 "nbformat": 4,
 "nbformat_minor": 2
}
