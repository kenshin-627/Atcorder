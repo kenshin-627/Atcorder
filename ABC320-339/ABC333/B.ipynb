{
 "cells": [
  {
   "cell_type": "code",
   "execution_count": null,
   "metadata": {},
   "outputs": [],
   "source": [
    "def main():\n",
    "    dic = {\"A\": {\"B\": 1, \"C\": 2, \"D\": 2, \"E\": 1}, \"B\": {\"A\":1, \"C\":1, \"D\":2, \"E\":2}, \"C\": {\"A\":2, \"B\":1, \"D\":1, \"E\":2}, \"D\": {\"A\":2, \"B\":2, \"C\":1, \"E\":1}, \"E\": {\"A\":1, \"B\":2, \"C\":2, \"D\":1}}\n",
    "    S = input()\n",
    "    T = input()\n",
    "    if dic[S[0]][S[1]] == dic[T[0]][T[1]]:\n",
    "        print(\"Yes\")\n",
    "    else:\n",
    "        print(\"No\")\n",
    "\n",
    "if __name__ == \"__main__\":\n",
    "    main()"
   ]
  }
 ],
 "metadata": {
  "language_info": {
   "name": "python"
  }
 },
 "nbformat": 4,
 "nbformat_minor": 2
}
