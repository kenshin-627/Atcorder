{
 "cells": [
  {
   "cell_type": "code",
   "execution_count": 2,
   "metadata": {},
   "outputs": [
    {
     "name": "stdout",
     "output_type": "stream",
     "text": [
      "deque([2, 3])\n"
     ]
    }
   ],
   "source": [
    "from collections import deque\n",
    "from collections import defaultdict\n",
    "\n",
    "def main():\n",
    "    N = int(input())\n",
    "    adj_dict = defaultdict(list)\n",
    "    for _ in range(N-1):\n",
    "        a,b = map(int,input().split())\n",
    "        adj_dict[a].append(b)\n",
    "        adj_dict[b].append(a)\n",
    "    q = deque(adj_dict[1])\n",
    "    max_size = 0\n",
    "    while q:\n",
    "        q2 = deque()\n",
    "        st = q.popleft()\n",
    "        q2.append(st)\n",
    "        tmp = 1\n",
    "        seen = set([1,st])\n",
    "        while q2:\n",
    "            v = q2.popleft()\n",
    "            for u in adj_dict[v]:\n",
    "                if u not in seen:\n",
    "                    seen.add(u)\n",
    "                    q2.append(u)\n",
    "                    tmp += 1\n",
    "        if max_size < tmp:\n",
    "            max_size = tmp\n",
    "    print(N-max_size)\n",
    "\n",
    "if __name__ == \"__main__\":\n",
    "    main()"
   ]
  }
 ],
 "metadata": {
  "kernelspec": {
   "display_name": "Python 3",
   "language": "python",
   "name": "python3"
  },
  "language_info": {
   "codemirror_mode": {
    "name": "ipython",
    "version": 3
   },
   "file_extension": ".py",
   "mimetype": "text/x-python",
   "name": "python",
   "nbconvert_exporter": "python",
   "pygments_lexer": "ipython3",
   "version": "3.11.1"
  }
 },
 "nbformat": 4,
 "nbformat_minor": 2
}
