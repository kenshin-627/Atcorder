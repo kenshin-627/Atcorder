{
 "cells": [
  {
   "cell_type": "code",
   "execution_count": null,
   "metadata": {},
   "outputs": [],
   "source": [
    "from collections import defaultdict\n",
    "\n",
    "def main():\n",
    "    N = int(input())\n",
    "    tx = []\n",
    "    one_cnt = 0\n",
    "    for _ in range(N):\n",
    "        tmp = list(map(int, input().split()))\n",
    "        if tmp[0] == 1:\n",
    "            one_cnt += 1\n",
    "        tx.append(tmp)\n",
    "    one_list = [0]*one_cnt\n",
    "    ans_K = 0\n",
    "    tmp_K = 0\n",
    "    # 必要なポーションの数\n",
    "    portion_dict = defaultdict(int)\n",
    "    for t,x in reversed(tx):\n",
    "        if t == 1:\n",
    "            one_cnt -= 1\n",
    "            # 拾うならone_list[one_cnt]を1にする\n",
    "            if portion_dict[x] < 0:\n",
    "                portion_dict[x] += 1\n",
    "                one_list[one_cnt] = 1\n",
    "                tmp_K -= 1\n",
    "        else:\n",
    "            portion_dict[x] -= 1\n",
    "            tmp_K += 1\n",
    "            if ans_K < tmp_K:\n",
    "                ans_K = tmp_K\n",
    "    for key,value in portion_dict.items():\n",
    "        if value < 0:\n",
    "            print(-1)\n",
    "            return\n",
    "    print(ans_K)\n",
    "    print(*one_list)\n",
    "\n",
    "if __name__ == \"__main__\":\n",
    "    main()"
   ]
  }
 ],
 "metadata": {
  "language_info": {
   "name": "python"
  }
 },
 "nbformat": 4,
 "nbformat_minor": 2
}
