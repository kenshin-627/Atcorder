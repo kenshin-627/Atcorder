{
 "cells": [
  {
   "cell_type": "code",
   "execution_count": null,
   "metadata": {},
   "outputs": [],
   "source": [
    "from itertools import accumulate\n",
    "\n",
    "def main():\n",
    "    N,K = map(int,input().split())\n",
    "    A = list(map(int,input().split()))\n",
    "    if K % 2 == 0:\n",
    "        ans = 0\n",
    "        for i in range(K):\n",
    "            if i % 2 == 0:\n",
    "                ans -= A[i]\n",
    "            else:\n",
    "                ans += A[i]\n",
    "        print(ans)\n",
    "    else:\n",
    "        # 左右から何組作るか\n",
    "        left_list = []\n",
    "        right_list = []\n",
    "        for i in range(0,K-1,2):\n",
    "            left_list.append(A[i+1]-A[i])\n",
    "            right_list.append(A[i+2]-A[i+1])\n",
    "        left_acc = list(accumulate(left_list))\n",
    "        right_acc = reversed(list(accumulate(reversed(right_list))))\n",
    "        left_acc = [0] + left_acc\n",
    "        right_acc = list(right_acc) + [0]\n",
    "        ans = float(\"inf\")\n",
    "        for l,r in zip(left_acc,right_acc):\n",
    "            ans = min(ans,l+r)\n",
    "        print(ans)\n",
    "\n",
    "if __name__ == \"__main__\":\n",
    "    main()"
   ]
  }
 ],
 "metadata": {
  "language_info": {
   "name": "python"
  }
 },
 "nbformat": 4,
 "nbformat_minor": 2
}
