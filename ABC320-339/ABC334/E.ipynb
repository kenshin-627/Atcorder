{
 "cells": [
  {
   "cell_type": "code",
   "execution_count": 2,
   "metadata": {},
   "outputs": [
    {
     "name": "stdout",
     "output_type": "stream",
     "text": [
      "2\n"
     ]
    }
   ],
   "source": [
    "# UnionFind\n",
    "# n: 要素数 (0~n-1)\n",
    "# parents: 各要素の親要素の番号を格納するリスト(要素が根の場合はそのグループの要素数を返す)\n",
    "# find(x): 要素xが属するグループの根を返す\n",
    "# union(x, y): 要素xが属するグループと要素yが属するグループとを併合する\n",
    "# size(x): 要素xが属するグループのサイズ(要素数)を返す\n",
    "# same(x, y): 要素x, yが同じグループに属するかどうかを返す\n",
    "# members(x): 要素xが属するグループに属する要素をリストで返す\n",
    "# roots(): 全ての根の要素をリストで返す\n",
    "# group_count(): グループの数を返す\n",
    "# all_group_members(): {根: そのグループに含まれる要素のリスト, ....}のdefaultdictを返す\n",
    "# __str__(): print()での表示用\n",
    "from collections import defaultdict\n",
    "\n",
    "class UnionFind():\n",
    "    def __init__(self, n):\n",
    "        self.n = n\n",
    "        self.parents = [-1] * n\n",
    "\n",
    "    def find(self, x):\n",
    "        if self.parents[x] < 0:\n",
    "            return x\n",
    "        else:\n",
    "            self.parents[x] = self.find(self.parents[x])\n",
    "            return self.parents[x]\n",
    "\n",
    "    def union(self, x, y):\n",
    "        x = self.find(x)\n",
    "        y = self.find(y)\n",
    "\n",
    "        if x == y:\n",
    "            return\n",
    "\n",
    "        self.parents[x] += self.parents[y]\n",
    "        self.parents[y] = x\n",
    "\n",
    "    def size(self, x):\n",
    "        return -self.parents[self.find(x)]\n",
    "\n",
    "    def same(self, x, y):\n",
    "        return self.find(x) == self.find(y)\n",
    "\n",
    "    def members(self, x):\n",
    "        root = self.find(x)\n",
    "        return [i for i in range(self.n) if self.find(i) == root]\n",
    "\n",
    "    def roots(self):\n",
    "        return [i for i, x in enumerate(self.parents) if x < 0]\n",
    "\n",
    "    def group_count(self):\n",
    "        return len(self.roots())\n",
    "\n",
    "    def all_group_members(self):\n",
    "        group_members = defaultdict(list)\n",
    "        for member in range(self.n):\n",
    "            group_members[self.find(member)].append(member)\n",
    "        return group_members\n",
    "\n",
    "    def __str__(self):\n",
    "        return '\\n'.join(f'{r}: {m}' for r, m in self.all_group_members().items())\n",
    "    \n",
    "def main():\n",
    "    H,W = map(int,input().split())\n",
    "    mod = 998244353\n",
    "    S = []\n",
    "    for _ in range(H):\n",
    "        S.append(input())\n",
    "    uf = UnionFind(H*W)\n",
    "    red_cnt = 0\n",
    "    for i in range(H):\n",
    "        for j in range(W):\n",
    "            if S[i][j] == \".\":\n",
    "                red_cnt += 1\n",
    "                continue\n",
    "            if i+1 < H and S[i+1][j] == \"#\":\n",
    "                uf.union(i*W+j,(i+1)*W+j)\n",
    "            if j+1 < W and S[i][j+1] == \"#\":\n",
    "                uf.union(i*W+j,i*W+j+1)\n",
    "    group = uf.group_count() - red_cnt\n",
    "    ans_sum = group * red_cnt\n",
    "    for i in range(H):\n",
    "        for j in range(W):\n",
    "            if S[i][j] == \"#\":\n",
    "                continue\n",
    "            around_green = set()\n",
    "            if i+1 < H and S[i+1][j] == \"#\":\n",
    "                around_green.add(uf.find((i+1)*W+j))\n",
    "            if j+1 < W and S[i][j+1] == \"#\":\n",
    "                around_green.add(uf.find(i*W+j+1))\n",
    "            if i-1 >= 0 and S[i-1][j] == \"#\":\n",
    "                around_green.add(uf.find((i-1)*W+j))\n",
    "            if j-1 >= 0 and S[i][j-1] == \"#\":\n",
    "                around_green.add(uf.find(i*W+j-1))\n",
    "            ans_sum -= (len(around_green) - 1)\n",
    "    print(ans_sum * pow(red_cnt,-1,mod) % mod)\n",
    "\n",
    "if __name__ == \"__main__\":\n",
    "    main()"
   ]
  },
  {
   "cell_type": "code",
   "execution_count": 5,
   "metadata": {},
   "outputs": [
    {
     "name": "stdout",
     "output_type": "stream",
     "text": [
      "499122178\n"
     ]
    }
   ],
   "source": [
    "mod = 998244353\n",
    "# 3/2 を mod998244353で出力\n",
    "print(6*pow(4,-1,mod)%mod)"
   ]
  },
  {
   "cell_type": "code",
   "execution_count": null,
   "metadata": {},
   "outputs": [],
   "source": []
  }
 ],
 "metadata": {
  "kernelspec": {
   "display_name": "Python 3",
   "language": "python",
   "name": "python3"
  },
  "language_info": {
   "codemirror_mode": {
    "name": "ipython",
    "version": 3
   },
   "file_extension": ".py",
   "mimetype": "text/x-python",
   "name": "python",
   "nbconvert_exporter": "python",
   "pygments_lexer": "ipython3",
   "version": "3.11.1"
  }
 },
 "nbformat": 4,
 "nbformat_minor": 2
}
