{
 "cells": [
  {
   "cell_type": "code",
   "execution_count": null,
   "metadata": {},
   "outputs": [],
   "source": [
    "def main():\n",
    "    N,Q = map(int,input().split())\n",
    "    xy = [(i,0) for i in range(N,0,-1)]\n",
    "    for _ in range(Q):\n",
    "        num, cp = input().split()\n",
    "        if num == \"1\":\n",
    "            last = xy[-1]\n",
    "            if cp == \"R\":\n",
    "                xy.append((last[0]+1, last[1]))\n",
    "            elif cp == \"L\":\n",
    "                xy.append((last[0]-1, last[1]))\n",
    "            elif cp == \"U\":\n",
    "                xy.append((last[0], last[1]+1))\n",
    "            elif cp == \"D\":\n",
    "                xy.append((last[0], last[1]-1))\n",
    "        else:\n",
    "            cp = int(cp)\n",
    "            print(xy[-cp][0], xy[-cp][1])\n",
    "\n",
    "if __name__ == \"__main__\":\n",
    "    main()"
   ]
  },
  {
   "cell_type": "code",
   "execution_count": 21,
   "metadata": {},
   "outputs": [
    {
     "name": "stdout",
     "output_type": "stream",
     "text": [
      "[2, 1]\n"
     ]
    }
   ],
   "source": [
    "class Deque:\n",
    "    '''\n",
    "    ランダムアクセスが O(1) のdeque\n",
    "    pushの上限がn回\n",
    "    '''\n",
    "    def __init__(self, n:int, list_:list = []):\n",
    "        self.deq = [0]*n + list_ + [0]*n\n",
    "        self.left = n - 1\n",
    "        self.right = n + len(list_)\n",
    "\n",
    "    def push_left(self, x):\n",
    "        assert 0 <= self.left\n",
    "        self.deq[self.left] = x\n",
    "        self.left -= 1\n",
    "\n",
    "    def push_right(self, x):\n",
    "        assert self.right < len(self.deq)\n",
    "        self.deq[self.right] = x\n",
    "        self.right += 1\n",
    "\n",
    "    def pop_left(self):\n",
    "        self.left += 1\n",
    "        assert self.left < self.right\n",
    "        return self.deq[self.left]\n",
    "    \n",
    "    def pop_right(self):\n",
    "        self.right -= 1\n",
    "        assert self.left < self.right\n",
    "        return self.deq[self.right]\n",
    "    \n",
    "    # 左からx番目の要素にアクセス(0-indexed，xが負の場合は右からのアクセス，-1は右端)\n",
    "    def at(self, x:int):\n",
    "        # 要素数\n",
    "        n = self.right - self.left - 1\n",
    "        assert -n <= x < n\n",
    "        if 0 <= x:\n",
    "            return self.deq[self.left+x+1]\n",
    "        else:\n",
    "            return self.deq[self.right+x]\n",
    "        \n",
    "    def to_list(self):\n",
    "        return self.deq[self.left+1:self.right]\n",
    "\n",
    "def main():\n",
    "    N,Q = map(int,input().split())\n",
    "    deq = Deque(Q, [(i,0) for i in range(1,N+1)])\n",
    "    for _ in range(Q):\n",
    "        num, cp = input().split()\n",
    "        if num == \"1\":\n",
    "            head = deq.at(0)\n",
    "            if cp == \"R\":\n",
    "                deq.push_left((head[0]+1, head[1]))\n",
    "            elif cp == \"L\":\n",
    "                deq.push_left((head[0]-1, head[1]))\n",
    "            elif cp == \"U\":\n",
    "                deq.push_left((head[0], head[1]+1))\n",
    "            elif cp == \"D\":\n",
    "                deq.push_left((head[0], head[1]-1))\n",
    "        else:\n",
    "            cp = int(cp) - 1\n",
    "            print(*deq.at(cp))\n",
    "\n",
    "if __name__ == \"__main__\":\n",
    "    main()"
   ]
  }
 ],
 "metadata": {
  "kernelspec": {
   "display_name": "Python 3",
   "language": "python",
   "name": "python3"
  },
  "language_info": {
   "codemirror_mode": {
    "name": "ipython",
    "version": 3
   },
   "file_extension": ".py",
   "mimetype": "text/x-python",
   "name": "python",
   "nbconvert_exporter": "python",
   "pygments_lexer": "ipython3",
   "version": "3.11.1"
  }
 },
 "nbformat": 4,
 "nbformat_minor": 2
}
