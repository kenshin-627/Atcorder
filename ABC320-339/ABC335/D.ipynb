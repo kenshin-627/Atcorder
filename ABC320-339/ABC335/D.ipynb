{
 "cells": [
  {
   "cell_type": "code",
   "execution_count": 9,
   "metadata": {},
   "outputs": [
    {
     "name": "stdout",
     "output_type": "stream",
     "text": [
      "1 2 3 4 5\n",
      "16 17 18 19 6\n",
      "15 24 T 20 7\n",
      "14 23 22 21 8\n",
      "13 12 11 10 9\n"
     ]
    }
   ],
   "source": [
    "def main():\n",
    "    N = int(input())\n",
    "    ans = [[0]*N for _ in range(N)]\n",
    "    sum_ = 0\n",
    "    now = [0,0]\n",
    "    next_ = \"R\"\n",
    "    tmp = [N-1,2]\n",
    "    sum_ += 1\n",
    "    ans[now[0]][now[1]] = str(sum_)\n",
    "    while sum_ <= N*N:\n",
    "        tmp_ = tmp[0]\n",
    "        while tmp_ > 0:\n",
    "            if next_ == \"R\":\n",
    "                now[1] += 1\n",
    "            elif next_ == \"L\":\n",
    "                now[1] -= 1\n",
    "            elif next_ == \"U\":\n",
    "                now[0] -= 1\n",
    "            elif next_ == \"D\":\n",
    "                now[0] += 1\n",
    "            sum_ += 1\n",
    "            tmp_ -= 1\n",
    "            if now[0] == N//2 and now[1] == N//2:\n",
    "                ans[now[0]][now[1]] = \"T\"\n",
    "                for a in ans:\n",
    "                    print(\" \".join(a))\n",
    "                return\n",
    "            ans[now[0]][now[1]] = str(sum_)\n",
    "        if next_ == \"R\":\n",
    "            next_ = \"D\"\n",
    "        elif next_ == \"D\":\n",
    "            next_ = \"L\"\n",
    "        elif next_ == \"L\":\n",
    "            next_ = \"U\"\n",
    "        elif next_ == \"U\":\n",
    "            next_ = \"R\"\n",
    "        if tmp[1] == 0:\n",
    "            tmp[0] -= 1\n",
    "            tmp[1] = 1\n",
    "        else:\n",
    "            tmp[1] -= 1\n",
    "\n",
    "if __name__ == \"__main__\":\n",
    "    main()"
   ]
  },
  {
   "cell_type": "code",
   "execution_count": null,
   "metadata": {},
   "outputs": [],
   "source": []
  }
 ],
 "metadata": {
  "kernelspec": {
   "display_name": "Python 3",
   "language": "python",
   "name": "python3"
  },
  "language_info": {
   "codemirror_mode": {
    "name": "ipython",
    "version": 3
   },
   "file_extension": ".py",
   "mimetype": "text/x-python",
   "name": "python",
   "nbconvert_exporter": "python",
   "pygments_lexer": "ipython3",
   "version": "3.11.1"
  }
 },
 "nbformat": 4,
 "nbformat_minor": 2
}
