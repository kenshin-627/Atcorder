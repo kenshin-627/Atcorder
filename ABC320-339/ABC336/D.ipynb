{
 "cells": [
  {
   "cell_type": "code",
   "execution_count": 8,
   "metadata": {},
   "outputs": [],
   "source": [
    "def main():\n",
    "    N = int(input())\n",
    "    if N == 1 or N == 2:\n",
    "        print(1)\n",
    "        exit()\n",
    "    A = list(map(int, input().split()))\n",
    "    A_left = [1]\n",
    "    for a in A[1:]:\n",
    "        if A_left[-1] < a:\n",
    "            A_left.append(A_left[-1] + 1)\n",
    "        else:\n",
    "            A_left.append(a)\n",
    "    A_right = [1]\n",
    "    for a in A[::-1][1:]:\n",
    "        if A_right[-1] < a:\n",
    "            A_right.append(A_right[-1] + 1)\n",
    "        else:\n",
    "            A_right.append(a)\n",
    "    A_right = A_right[::-1]\n",
    "    A_min = [min(a, b) for a, b in zip(A_left, A_right)]\n",
    "    print(max(A_min))\n",
    "\n",
    "if __name__ == \"__main__\":\n",
    "    main()"
   ]
  },
  {
   "cell_type": "code",
   "execution_count": null,
   "metadata": {},
   "outputs": [],
   "source": []
  }
 ],
 "metadata": {
  "kernelspec": {
   "display_name": "Python 3",
   "language": "python",
   "name": "python3"
  },
  "language_info": {
   "codemirror_mode": {
    "name": "ipython",
    "version": 3
   },
   "file_extension": ".py",
   "mimetype": "text/x-python",
   "name": "python",
   "nbconvert_exporter": "python",
   "pygments_lexer": "ipython3",
   "version": "3.11.1"
  }
 },
 "nbformat": 4,
 "nbformat_minor": 2
}
