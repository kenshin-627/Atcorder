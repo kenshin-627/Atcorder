{
 "cells": [
  {
   "cell_type": "code",
   "execution_count": 1,
   "metadata": {},
   "outputs": [
    {
     "name": "stdout",
     "output_type": "stream",
     "text": [
      "10\n"
     ]
    }
   ],
   "source": [
    "from functools import lru_cache\n",
    "# import pypyjit\n",
    "# pypyjit.set_param('max_unroll_recursion=-1') # pypyの再帰高速化\n",
    "import sys\n",
    "sys.setrecursionlimit(10**9) # 再帰関数の呼び出し制限\n",
    "sys.set_int_max_str_digits(10**9) # int,str変換の10進数での最大桁数を指定\n",
    "# input = sys.stdin.readline\n",
    "from decimal import Decimal\n",
    "from functools import cmp_to_key\n",
    "from collections import Counter\n",
    "from itertools import permutations\n",
    "from itertools import combinations\n",
    "from itertools import combinations_with_replacement\n",
    "from itertools import product\n",
    "from itertools import accumulate\n",
    "from itertools import groupby\n",
    "from itertools import pairwise\n",
    "from more_itertools import distribute\n",
    "from copy import deepcopy\n",
    "import networkx as nx\n",
    "import networkx.algorithms as nxa\n",
    "import numpy as np\n",
    "import math\n",
    "from collections import OrderedDict\n",
    "from sortedcontainers import SortedSet\n",
    "from sortedcontainers import SortedList\n",
    "from sortedcontainers import SortedDict\n",
    "from heapq import *\n",
    "from bisect import *\n",
    "from collections import deque\n",
    "from collections import defaultdict\n",
    "\n",
    "# 上位i桁の総和がjで，kで割った余りがlである数の個数\n",
    "# 次の桁をmとすると，上位i+1桁の総和がj+mで，kで割った余りが(l*10+m)%lである数の個数\n",
    "\n",
    "# 桁数は14(15)桁，総和は9*14=126種類，割る数は126種類，余りは126種類\n",
    "\n",
    "def main():\n",
    "    N = int(input())\n",
    "    dp = defaultdict(lambda: defaultdict(lambda: defaultdict(lambda: defaultdict(int))))\n",
    "    # N = 2024やったら，0~999，1000~1999，2000~2019，2020~2024に分ける(各桁の-1まで)\n",
    "    for i in range(1,len(str(N))):\n",
    "        for m in range(10):\n",
    "            if i == 1 and m == 0:\n",
    "                continue\n",
    "            for j in range(126):\n",
    "\n",
    "if __name__ == \"__main__\":\n",
    "    main()"
   ]
  },
  {
   "cell_type": "code",
   "execution_count": null,
   "metadata": {},
   "outputs": [],
   "source": []
  }
 ],
 "metadata": {
  "kernelspec": {
   "display_name": "Python 3",
   "language": "python",
   "name": "python3"
  },
  "language_info": {
   "codemirror_mode": {
    "name": "ipython",
    "version": 3
   },
   "file_extension": ".py",
   "mimetype": "text/x-python",
   "name": "python",
   "nbconvert_exporter": "python",
   "pygments_lexer": "ipython3",
   "version": "3.11.1"
  }
 },
 "nbformat": 4,
 "nbformat_minor": 2
}
