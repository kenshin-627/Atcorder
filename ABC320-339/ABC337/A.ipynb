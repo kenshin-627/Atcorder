{
 "cells": [
  {
   "cell_type": "code",
   "execution_count": null,
   "metadata": {},
   "outputs": [],
   "source": [
    "def main():\n",
    "    N = int(input())\n",
    "    X,Y = 0,0\n",
    "    for _ in range(N):\n",
    "        x,y = map(int,input().split())\n",
    "        X += x\n",
    "        Y += y\n",
    "    if X > Y:\n",
    "        print(\"Takahashi\")\n",
    "    elif X < Y:\n",
    "        print(\"Aoki\")\n",
    "    else:\n",
    "        print(\"Draw\")\n",
    "\n",
    "if __name__ == \"__main__\":\n",
    "    main()"
   ]
  }
 ],
 "metadata": {
  "language_info": {
   "name": "python"
  }
 },
 "nbformat": 4,
 "nbformat_minor": 2
}
