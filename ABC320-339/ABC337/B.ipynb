{
 "cells": [
  {
   "cell_type": "code",
   "execution_count": 2,
   "metadata": {},
   "outputs": [
    {
     "name": "stdout",
     "output_type": "stream",
     "text": [
      "[('a', <itertools._grouper object at 0x11a332b60>), ('b', <itertools._grouper object at 0x11a332740>), ('c', <itertools._grouper object at 0x11a3327a0>), ('a', <itertools._grouper object at 0x11a333f70>)]\n"
     ]
    }
   ],
   "source": [
    "def main():\n",
    "    S = input()\n",
    "    S_int = []\n",
    "    for s in S:\n",
    "        tmp = 0\n",
    "        if s == \"B\":\n",
    "            tmp = 1\n",
    "        elif s == \"C\":\n",
    "            tmp = 2\n",
    "        S_int.append(tmp)\n",
    "    now = 0\n",
    "    for s in S_int:\n",
    "        if now <= s:\n",
    "            now = s\n",
    "        else:\n",
    "            print(\"No\")\n",
    "            return\n",
    "    print(\"Yes\")\n",
    "\n",
    "if __name__ == \"__main__\":\n",
    "    main()"
   ]
  },
  {
   "cell_type": "code",
   "execution_count": null,
   "metadata": {},
   "outputs": [],
   "source": []
  }
 ],
 "metadata": {
  "kernelspec": {
   "display_name": "Python 3",
   "language": "python",
   "name": "python3"
  },
  "language_info": {
   "codemirror_mode": {
    "name": "ipython",
    "version": 3
   },
   "file_extension": ".py",
   "mimetype": "text/x-python",
   "name": "python",
   "nbconvert_exporter": "python",
   "pygments_lexer": "ipython3",
   "version": "3.11.1"
  }
 },
 "nbformat": 4,
 "nbformat_minor": 2
}
