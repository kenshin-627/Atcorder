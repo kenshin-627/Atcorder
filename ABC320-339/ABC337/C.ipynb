{
 "cells": [
  {
   "cell_type": "code",
   "execution_count": null,
   "metadata": {},
   "outputs": [],
   "source": [
    "from collections import defaultdict\n",
    "\n",
    "def main():\n",
    "    N = int(input())\n",
    "    A = list(map(int,input().split()))\n",
    "    gyaku = defaultdict(int)\n",
    "    for i in range(N):\n",
    "        gyaku[A[i]] = i+1\n",
    "    ans = []\n",
    "    now = -1\n",
    "    for i in range(N):\n",
    "        now = gyaku[now]\n",
    "        ans.append(now)\n",
    "    print(*ans)\n",
    "\n",
    "if __name__ == \"__main__\":\n",
    "    main()"
   ]
  }
 ],
 "metadata": {
  "language_info": {
   "name": "python"
  }
 },
 "nbformat": 4,
 "nbformat_minor": 2
}
