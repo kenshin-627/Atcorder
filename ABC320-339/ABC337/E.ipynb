{
 "cells": [
  {
   "cell_type": "code",
   "execution_count": 29,
   "metadata": {},
   "outputs": [
    {
     "name": "stdout",
     "output_type": "stream",
     "text": [
      "2\n",
      "1 3\n",
      "1 2\n",
      "3\n"
     ]
    }
   ],
   "source": [
    "import math\n",
    "\n",
    "def main():\n",
    "    N = int(input())\n",
    "    M = math.ceil(math.log2(N))\n",
    "    print(M, flush=True)\n",
    "    # 0~N-1までを2進数として配列の縦に格納\n",
    "    A = [[0] * N for _ in range(M)]\n",
    "    for i in range(N):\n",
    "        for j, x in enumerate(reversed(bin(i)[2:])):\n",
    "            A[-(j+1)][i] = int(x)\n",
    "    for i in range(M):\n",
    "        tmp = []\n",
    "        for j in range(N):\n",
    "            if A[i][j] == 1:\n",
    "                tmp.append(j+1)\n",
    "        print(len(tmp), *tmp, flush=True)\n",
    "    X = input()\n",
    "    # Xを2進数の配列を10進数に変換\n",
    "    print(int(X, 2)+1, flush=True)\n",
    "\n",
    "if __name__ == \"__main__\":\n",
    "    main()"
   ]
  },
  {
   "cell_type": "code",
   "execution_count": null,
   "metadata": {},
   "outputs": [],
   "source": []
  }
 ],
 "metadata": {
  "kernelspec": {
   "display_name": "Python 3",
   "language": "python",
   "name": "python3"
  },
  "language_info": {
   "codemirror_mode": {
    "name": "ipython",
    "version": 3
   },
   "file_extension": ".py",
   "mimetype": "text/x-python",
   "name": "python",
   "nbconvert_exporter": "python",
   "pygments_lexer": "ipython3",
   "version": "3.11.1"
  }
 },
 "nbformat": 4,
 "nbformat_minor": 2
}
