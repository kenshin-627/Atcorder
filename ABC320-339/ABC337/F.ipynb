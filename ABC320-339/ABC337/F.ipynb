{
 "cells": [
  {
   "cell_type": "code",
   "execution_count": 1,
   "metadata": {},
   "outputs": [
    {
     "ename": "ValueError",
     "evalue": "not enough values to unpack (expected 3, got 0)",
     "output_type": "error",
     "traceback": [
      "\u001b[0;31m---------------------------------------------------------------------------\u001b[0m",
      "\u001b[0;31mValueError\u001b[0m                                Traceback (most recent call last)",
      "Cell \u001b[0;32mIn[1], line 56\u001b[0m\n\u001b[1;32m     53\u001b[0m             tmp \u001b[38;5;241m-\u001b[39m\u001b[38;5;241m=\u001b[39m ball_per_c[tmp_neg][c_cnt[tmp_neg]]\n\u001b[1;32m     55\u001b[0m \u001b[38;5;28;01mif\u001b[39;00m \u001b[38;5;18m__name__\u001b[39m \u001b[38;5;241m==\u001b[39m \u001b[38;5;124m\"\u001b[39m\u001b[38;5;124m__main__\u001b[39m\u001b[38;5;124m\"\u001b[39m:\n\u001b[0;32m---> 56\u001b[0m     \u001b[43mmain\u001b[49m\u001b[43m(\u001b[49m\u001b[43m)\u001b[49m\n",
      "Cell \u001b[0;32mIn[1], line 6\u001b[0m, in \u001b[0;36mmain\u001b[0;34m()\u001b[0m\n\u001b[1;32m      5\u001b[0m \u001b[38;5;28;01mdef\u001b[39;00m \u001b[38;5;21mmain\u001b[39m():\n\u001b[0;32m----> 6\u001b[0m     N,M,K \u001b[38;5;241m=\u001b[39m \u001b[38;5;28mmap\u001b[39m(\u001b[38;5;28mint\u001b[39m,\u001b[38;5;28minput\u001b[39m()\u001b[38;5;241m.\u001b[39msplit())\n\u001b[1;32m      7\u001b[0m     C \u001b[38;5;241m=\u001b[39m \u001b[38;5;28mlist\u001b[39m(\u001b[38;5;28mmap\u001b[39m(\u001b[38;5;28mint\u001b[39m,\u001b[38;5;28minput\u001b[39m()\u001b[38;5;241m.\u001b[39msplit()))\n\u001b[1;32m      8\u001b[0m     \u001b[38;5;66;03m# 各ボールが何個あるか(maxでKまで)を記録\u001b[39;00m\n",
      "\u001b[0;31mValueError\u001b[0m: not enough values to unpack (expected 3, got 0)"
     ]
    }
   ],
   "source": [
    "from collections import defaultdict\n",
    "\n",
    "# 先頭からM種類になるまで取り出すときに何が入ってるかを記録する\n",
    "\n",
    "def main():\n",
    "    N,M,K = map(int,input().split())\n",
    "    C = list(map(int,input().split()))\n",
    "    # 各ボールが何個あるか(maxでKまで)を記録\n",
    "    ball_per_c = defaultdict(lambda: [0])\n",
    "    for c in C:\n",
    "        if ball_per_c[c][-1] < K:\n",
    "            ball_per_c[c][-1] += 1\n",
    "        else:\n",
    "            ball_per_c[c].append(1)\n",
    "    # 尺取で記録\n",
    "    r_list = []\n",
    "    cnt_dict = defaultdict(int)\n",
    "    key_cnt = 0\n",
    "    l = 0\n",
    "    r = 0\n",
    "    for _ in range(N):\n",
    "        tmp = []\n",
    "        tmp_pos = []\n",
    "        while key_cnt < M:\n",
    "            if cnt_dict[C[r]] % K == 0:\n",
    "                key_cnt += 1\n",
    "                tmp_pos.append(C[r])\n",
    "            cnt_dict[C[r]] += 1\n",
    "            r = (r+1)%N\n",
    "            if r == l:\n",
    "                break\n",
    "        tmp.append(tmp_pos)\n",
    "        cnt_dict[C[l]] -= 1\n",
    "        tmp_neg = -1\n",
    "        if cnt_dict[C[l]] % K == 0:\n",
    "            key_cnt -= 1\n",
    "            tmp_neg = C[l]\n",
    "            if cnt_dict[C[l]] == 0:\n",
    "                cnt_dict.pop(C[l])\n",
    "        tmp.append(tmp_neg)\n",
    "        r_list.append(tmp)\n",
    "        l = (l+1)%N\n",
    "    tmp = 0\n",
    "    c_cnt = [0] * (N+1)\n",
    "    for i in range(N):\n",
    "        tmp_pos, tmp_neg = r_list[i]\n",
    "        for c in tmp_pos:\n",
    "            tmp += ball_per_c[c][c_cnt[c]]\n",
    "            c_cnt[c] += 1\n",
    "        print(tmp)\n",
    "        if tmp_neg != -1:\n",
    "            c_cnt[tmp_neg] -= 1\n",
    "            tmp -= ball_per_c[tmp_neg][c_cnt[tmp_neg]]\n",
    "\n",
    "if __name__ == \"__main__\":\n",
    "    main()"
   ]
  },
  {
   "cell_type": "code",
   "execution_count": null,
   "metadata": {},
   "outputs": [],
   "source": []
  }
 ],
 "metadata": {
  "kernelspec": {
   "display_name": "Python 3",
   "language": "python",
   "name": "python3"
  },
  "language_info": {
   "codemirror_mode": {
    "name": "ipython",
    "version": 3
   },
   "file_extension": ".py",
   "mimetype": "text/x-python",
   "name": "python",
   "nbconvert_exporter": "python",
   "pygments_lexer": "ipython3",
   "version": "3.11.1"
  }
 },
 "nbformat": 4,
 "nbformat_minor": 2
}
