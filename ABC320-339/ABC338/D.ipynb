{
 "cells": [
  {
   "cell_type": "code",
   "execution_count": 2,
   "metadata": {},
   "outputs": [
    {
     "name": "stdout",
     "output_type": "stream",
     "text": [
      "4\n",
      "5\n",
      "5\n",
      "5\n",
      "5\n",
      "4\n",
      "4\n"
     ]
    }
   ],
   "source": [
    "from itertools import pairwise\n",
    "\n",
    "def main():\n",
    "    N,M = map(int,input().split())\n",
    "    X = list(map(int,input().split()))\n",
    "    kaisa = [0]*(N+1)\n",
    "    tokei_sum = 0\n",
    "    for x1,x2 in pairwise(X):\n",
    "        tokei = (x2-x1) % N\n",
    "        rev = (x1-x2) % N\n",
    "        tokei_sum += tokei\n",
    "        diff = rev-tokei\n",
    "        kaisa[x1] += diff\n",
    "        kaisa[x2] -= diff\n",
    "        if x2 < x1:\n",
    "            kaisa[1] += diff\n",
    "    min_sum = tokei_sum\n",
    "    for i in range(1,N+1):\n",
    "        tokei_sum += kaisa[i]\n",
    "        min_sum = min(min_sum,tokei_sum)\n",
    "    print(min_sum)\n",
    "\n",
    "if __name__ == \"__main__\":\n",
    "    main()"
   ]
  },
  {
   "cell_type": "code",
   "execution_count": 1,
   "metadata": {},
   "outputs": [
    {
     "name": "stdout",
     "output_type": "stream",
     "text": [
      "1 2\n",
      "2 3\n"
     ]
    }
   ],
   "source": [
    "from itertools import pairwise\n",
    "\n",
    "def main():\n",
    "    N,M = map(int,input().split())\n",
    "    X = list(map(int,input().split()))\n",
    "    kaisa = [0]*(N+1)\n",
    "    tokei_sum = 0\n",
    "    for x1,x2 in pairwise(X):\n",
    "        if x2 < x1:\n",
    "            x1,x2 = x2,x1\n",
    "        tokei = (x2-x1) % N\n",
    "        rev = (x1-x2) % N\n",
    "        tokei_sum += tokei\n",
    "        diff = rev-tokei\n",
    "        kaisa[x1] += diff\n",
    "        kaisa[x2] -= diff\n",
    "    min_sum = tokei_sum\n",
    "    for i in range(1,N+1):\n",
    "        tokei_sum += kaisa[i]\n",
    "        min_sum = min(min_sum,tokei_sum)\n",
    "    print(min_sum)\n",
    "\n",
    "if __name__ == \"__main__\":\n",
    "    main()"
   ]
  },
  {
   "cell_type": "code",
   "execution_count": null,
   "metadata": {},
   "outputs": [],
   "source": []
  }
 ],
 "metadata": {
  "kernelspec": {
   "display_name": "Python 3",
   "language": "python",
   "name": "python3"
  },
  "language_info": {
   "codemirror_mode": {
    "name": "ipython",
    "version": 3
   },
   "file_extension": ".py",
   "mimetype": "text/x-python",
   "name": "python",
   "nbconvert_exporter": "python",
   "pygments_lexer": "ipython3",
   "version": "3.11.1"
  }
 },
 "nbformat": 4,
 "nbformat_minor": 2
}
