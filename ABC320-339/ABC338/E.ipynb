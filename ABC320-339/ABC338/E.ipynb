{
 "cells": [
  {
   "cell_type": "code",
   "execution_count": 2,
   "metadata": {},
   "outputs": [
    {
     "name": "stdout",
     "output_type": "stream",
     "text": [
      "[(1, 3), (2, 3), (2, 4)]\n"
     ]
    }
   ],
   "source": [
    "from functools import lru_cache\n",
    "# import pypyjit\n",
    "# pypyjit.set_param('max_unroll_recursion=-1') # pypyの再帰高速化\n",
    "import sys\n",
    "sys.setrecursionlimit(10**9) # 再帰関数の呼び出し制限\n",
    "sys.set_int_max_str_digits(10**9) # int,str変換の10進数での最大桁数を指定\n",
    "# input = sys.stdin.readline\n",
    "from decimal import Decimal\n",
    "from functools import cmp_to_key\n",
    "from collections import Counter\n",
    "from itertools import permutations\n",
    "from itertools import combinations\n",
    "from itertools import combinations_with_replacement\n",
    "from itertools import product\n",
    "from itertools import accumulate\n",
    "from itertools import groupby\n",
    "from itertools import pairwise\n",
    "from more_itertools import distribute\n",
    "from copy import deepcopy\n",
    "import networkx as nx\n",
    "import networkx.algorithms as nxa\n",
    "import numpy as np\n",
    "import math\n",
    "from collections import OrderedDict\n",
    "from sortedcontainers import SortedSet\n",
    "from sortedcontainers import SortedList\n",
    "from sortedcontainers import SortedDict\n",
    "from heapq import *\n",
    "from bisect import *\n",
    "\n",
    "\n",
    "from collections import deque\n",
    "from collections import defaultdict\n",
    "\n",
    "def main():\n",
    "    N = int(input())\n",
    "    st_dict = defaultdict(list)\n",
    "    go_dict = defaultdict(list)\n",
    "    for _ in range(N):\n",
    "        a,b = map(int,input().split())\n",
    "        if b < a:\n",
    "            a,b = b,a\n",
    "        st_dict[a].append(b)\n",
    "        go_dict[b].append(a)\n",
    "    q = deque()\n",
    "    for i in range(1,2*N+1):\n",
    "        # 遠い方から入れて近い方から閉じるように\n",
    "        if i in go_dict:\n",
    "            starts = sorted(go_dict[i],reverse=True)\n",
    "            for start in starts:\n",
    "                if q and q[-1] == (start,i):\n",
    "                    q.pop()\n",
    "                else:\n",
    "                    print(\"Yes\")\n",
    "                    return\n",
    "        if i in st_dict:\n",
    "            ends = sorted(st_dict[i])\n",
    "            for end in ends:\n",
    "                q.append((i,end))\n",
    "    print(\"No\")\n",
    "\n",
    "if __name__ == \"__main__\":\n",
    "    main()"
   ]
  },
  {
   "cell_type": "code",
   "execution_count": null,
   "metadata": {},
   "outputs": [],
   "source": [
    "3"
   ]
  }
 ],
 "metadata": {
  "kernelspec": {
   "display_name": "Python 3",
   "language": "python",
   "name": "python3"
  },
  "language_info": {
   "codemirror_mode": {
    "name": "ipython",
    "version": 3
   },
   "file_extension": ".py",
   "mimetype": "text/x-python",
   "name": "python",
   "nbconvert_exporter": "python",
   "pygments_lexer": "ipython3",
   "version": "3.11.1"
  }
 },
 "nbformat": 4,
 "nbformat_minor": 2
}
