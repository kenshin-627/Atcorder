{
 "cells": [
  {
   "cell_type": "code",
   "execution_count": null,
   "metadata": {},
   "outputs": [],
   "source": [
    "# 右，下，左，上\n",
    "dx = [1,0,-1,0]\n",
    "dy = [0,1,0,-1]\n",
    "\n",
    "def main():\n",
    "    H,W,N = map(int, input().split())\n",
    "    hw = [[\".\"]*W for _ in range(H)]\n",
    "    i,j = 0,0\n",
    "    # 向き(初めは上)\n",
    "    d = 3\n",
    "    for _ in range(N):\n",
    "        if hw[i][j] == \".\":\n",
    "            hw[i][j] = \"#\"\n",
    "            d = (d+1)%4\n",
    "        else:\n",
    "            hw[i][j] = \".\"\n",
    "            d = (d-1)%4\n",
    "        i = (i+dy[d]) % H\n",
    "        j = (j+dx[d]) % W\n",
    "    print(\"\\n\".join([\"\".join(h) for h in hw]))\n",
    "\n",
    "if __name__ == \"__main__\":\n",
    "    main()"
   ]
  }
 ],
 "metadata": {
  "language_info": {
   "name": "python"
  }
 },
 "nbformat": 4,
 "nbformat_minor": 2
}
