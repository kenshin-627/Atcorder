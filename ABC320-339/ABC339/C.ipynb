{
 "cells": [
  {
   "cell_type": "code",
   "execution_count": null,
   "metadata": {},
   "outputs": [],
   "source": [
    "def main():\n",
    "    N = int(input())\n",
    "    A = list(map(int, input().split()))\n",
    "    tmp = 0\n",
    "    min_ = 0\n",
    "    for i in range(N):\n",
    "        tmp += A[i]\n",
    "        min_ = min(min_, tmp)\n",
    "    print(tmp - min_)\n",
    "\n",
    "if __name__ == \"__main__\":\n",
    "    main()"
   ]
  }
 ],
 "metadata": {
  "language_info": {
   "name": "python"
  }
 },
 "nbformat": 4,
 "nbformat_minor": 2
}
