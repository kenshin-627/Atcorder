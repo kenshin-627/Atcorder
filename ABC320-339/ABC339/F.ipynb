{
 "cells": [
  {
   "cell_type": "code",
   "execution_count": null,
   "metadata": {},
   "outputs": [],
   "source": [
    "from collections import defaultdict\n",
    "\n",
    "def main():\n",
    "    N = int(input())\n",
    "    A = []\n",
    "    dic = defaultdict(int)\n",
    "    for _ in range(N):\n",
    "        a = int(input())\n",
    "        dic[a] += 1\n",
    "        A.append(a)\n",
    "    ans = 0\n",
    "    for i in range(N):\n",
    "        for j in range(i,N):\n",
    "            tmp = A[i] * A[j]\n",
    "            if tmp in dic:\n",
    "                if i == j:\n",
    "                    ans += dic[tmp]\n",
    "                else:\n",
    "                    ans += dic[tmp] * 2\n",
    "    print(ans)\n",
    "\n",
    "if __name__ == \"__main__\":\n",
    "    main()"
   ]
  },
  {
   "cell_type": "code",
   "execution_count": null,
   "metadata": {},
   "outputs": [],
   "source": [
    "from collections import defaultdict\n",
    "\n",
    "def main():\n",
    "    N = int(input())\n",
    "    A = [[] for _ in range(10)]\n",
    "    A_dict = [defaultdict(int) for _ in range(10)]\n",
    "    prime = [1000000513, 1000000531, 1000000579, 1000000607, 1000000613, 1000000637, 1000000663, 1000000711, 1000000753, 1000000787]\n",
    "    for i in range(N):\n",
    "        a = int(input())\n",
    "        for j in range(10):\n",
    "            A[j].append(a % prime[j])\n",
    "            A_dict[j][a % prime[j]] += 1\n",
    "    ans = 0\n",
    "    for i in range(N):\n",
    "        for j in range(N):\n",
    "            tmp = 0\n",
    "            for k in range(10):\n",
    "                if A[k][i] * A[k][j] % prime[k] in A_dict[k]:\n",
    "                    if tmp == 0:\n",
    "                        tmp = A_dict[k][A[k][i] * A[k][j] % prime[k]]\n",
    "                else:\n",
    "                    break\n",
    "            else:\n",
    "                ans += tmp\n",
    "    print(ans)\n",
    "\n",
    "if __name__ == \"__main__\":\n",
    "    main()"
   ]
  },
  {
   "cell_type": "code",
   "execution_count": 78,
   "metadata": {},
   "outputs": [
    {
     "name": "stdout",
     "output_type": "stream",
     "text": [
      "[1000000513, 1000000531, 1000000579, 1000000607, 1000000613, 1000000637, 1000000663, 1000000711, 1000000753, 1000000787]\n"
     ]
    }
   ],
   "source": [
    "import sympy\n",
    "prime = []\n",
    "for i in range(10**9+500,10**10):\n",
    "    if sympy.isprime(i):\n",
    "        prime.append(i)\n",
    "        if len(prime) == 10:\n",
    "            break\n",
    "print(prime)"
   ]
  },
  {
   "cell_type": "code",
   "execution_count": null,
   "metadata": {},
   "outputs": [],
   "source": []
  }
 ],
 "metadata": {
  "kernelspec": {
   "display_name": "Python 3",
   "language": "python",
   "name": "python3"
  },
  "language_info": {
   "codemirror_mode": {
    "name": "ipython",
    "version": 3
   },
   "file_extension": ".py",
   "mimetype": "text/x-python",
   "name": "python",
   "nbconvert_exporter": "python",
   "pygments_lexer": "ipython3",
   "version": "3.11.1"
  }
 },
 "nbformat": 4,
 "nbformat_minor": 2
}
