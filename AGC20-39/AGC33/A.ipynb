{
 "cells": [
  {
   "cell_type": "code",
   "execution_count": 1,
   "metadata": {},
   "outputs": [
    {
     "name": "stdout",
     "output_type": "stream",
     "text": [
      "['...']\n",
      "[]\n",
      "[]\n"
     ]
    },
    {
     "ename": "TypeError",
     "evalue": "'<' not supported between instances of 'int' and 'str'",
     "output_type": "error",
     "traceback": [
      "\u001b[0;31m---------------------------------------------------------------------------\u001b[0m",
      "\u001b[0;31mTypeError\u001b[0m                                 Traceback (most recent call last)",
      "Cell \u001b[0;32mIn[1], line 76\u001b[0m\n\u001b[1;32m     73\u001b[0m     \u001b[39mprint\u001b[39m(max_d)\n\u001b[1;32m     75\u001b[0m \u001b[39mif\u001b[39;00m \u001b[39m__name__\u001b[39m \u001b[39m==\u001b[39m \u001b[39m\"\u001b[39m\u001b[39m__main__\u001b[39m\u001b[39m\"\u001b[39m:\n\u001b[0;32m---> 76\u001b[0m     main()\n",
      "Cell \u001b[0;32mIn[1], line 71\u001b[0m, in \u001b[0;36mmain\u001b[0;34m()\u001b[0m\n\u001b[1;32m     69\u001b[0m         \u001b[39mif\u001b[39;00m A[i][j] \u001b[39m==\u001b[39m \u001b[39m\"\u001b[39m\u001b[39m#\u001b[39m\u001b[39m\"\u001b[39m:\n\u001b[1;32m     70\u001b[0m             \u001b[39mcontinue\u001b[39;00m\n\u001b[0;32m---> 71\u001b[0m         \u001b[39mif\u001b[39;00m max_d \u001b[39m<\u001b[39;49m A[i][j]:\n\u001b[1;32m     72\u001b[0m             max_d \u001b[39m=\u001b[39m A[i][j]\n\u001b[1;32m     73\u001b[0m \u001b[39mprint\u001b[39m(max_d)\n",
      "\u001b[0;31mTypeError\u001b[0m: '<' not supported between instances of 'int' and 'str'"
     ]
    }
   ],
   "source": [
    "from functools import lru_cache\n",
    "import sys\n",
    "sys.setrecursionlimit(10**9)\n",
    "# input = sys.stdin.readline\n",
    "from decimal import Decimal\n",
    "from functools import cmp_to_key\n",
    "from collections import Counter\n",
    "from itertools import permutations\n",
    "from itertools import combinations\n",
    "from itertools import combinations_with_replacement\n",
    "from itertools import product\n",
    "from itertools import accumulate\n",
    "from itertools import groupby\n",
    "from copy import deepcopy\n",
    "import math\n",
    "import heapq\n",
    "from collections import OrderedDict\n",
    "import bisect\n",
    "from collections import deque\n",
    "from collections import defaultdict\n",
    "\n",
    "from collections import deque\n",
    "\n",
    "def main():\n",
    "    H,W = map(int,input().split())\n",
    "    A = []\n",
    "    # 黒の位置\n",
    "    black = []\n",
    "    for i in range(H):\n",
    "        AW = list(input())\n",
    "        for j,a in enumerate(AW):\n",
    "            if a == \"#\":\n",
    "                black.append((i,j,0))\n",
    "        A.append(AW)\n",
    "    # 各blackからの距離を計算\n",
    "    q = deque(black)\n",
    "    while q:\n",
    "        x,y,d = q.popleft()\n",
    "        # 上に行けるか\n",
    "        if x-1 >= 0:\n",
    "            if A[x-1][y] != \"#\":\n",
    "                if A[x-1][y] == \".\" or A[x-1][y] > d+1:\n",
    "                    A[x-1][y] = d+1\n",
    "                    q.append([x-1,y,d+1])\n",
    "        # 下に行けるか\n",
    "        if x+1 < H:\n",
    "            if A[x+1][y] != \"#\":\n",
    "                if A[x+1][y] == \".\" or A[x+1][y] > d+1:\n",
    "                    A[x+1][y] = d+1\n",
    "                    q.append([x+1,y,d+1])\n",
    "        # 左に行けるか\n",
    "        if y-1 >= 0:\n",
    "            if A[x][y-1] != \"#\":\n",
    "                if A[x][y-1] == \".\" or A[x][y-1] > d+1:\n",
    "                    A[x][y-1] = d+1\n",
    "                    q.append([x,y-1,d+1])\n",
    "        # 右に行けるか\n",
    "        if y+1 < W:\n",
    "            if A[x][y+1] != \"#\":\n",
    "                if A[x][y+1] == \".\" or A[x][y+1] > d+1:\n",
    "                    A[x][y+1] = d+1\n",
    "                    q.append([x,y+1,d+1])\n",
    "    max_d = 0\n",
    "    for i in range(H):\n",
    "        for j in range(W):\n",
    "            if A[i][j] == \"#\":\n",
    "                continue\n",
    "            if max_d < A[i][j]:\n",
    "                max_d = A[i][j]\n",
    "    print(max_d)\n",
    "    \n",
    "if __name__ == \"__main__\":\n",
    "    main()"
   ]
  },
  {
   "cell_type": "code",
   "execution_count": null,
   "metadata": {},
   "outputs": [],
   "source": []
  }
 ],
 "metadata": {
  "kernelspec": {
   "display_name": "Python 3",
   "language": "python",
   "name": "python3"
  },
  "language_info": {
   "codemirror_mode": {
    "name": "ipython",
    "version": 3
   },
   "file_extension": ".py",
   "mimetype": "text/x-python",
   "name": "python",
   "nbconvert_exporter": "python",
   "pygments_lexer": "ipython3",
   "version": "3.11.1"
  },
  "orig_nbformat": 4
 },
 "nbformat": 4,
 "nbformat_minor": 2
}
