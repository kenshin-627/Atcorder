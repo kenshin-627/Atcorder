{
 "cells": [
  {
   "cell_type": "code",
   "execution_count": 41,
   "metadata": {},
   "outputs": [
    {
     "name": "stdout",
     "output_type": "stream",
     "text": [
      "[[3], [1, 3]]\n",
      "[[4], [4, 2]]\n",
      "4 3 4 2 1 3 4 2 4 3\n"
     ]
    }
   ],
   "source": [
    "# from functools import lru_cache\n",
    "# import sys\n",
    "# sys.setrecursionlimit(10**9)\n",
    "# input = sys.stdin.readline\n",
    "from decimal import Decimal\n",
    "from functools import cmp_to_key\n",
    "from collections import Counter\n",
    "from itertools import permutations\n",
    "from itertools import combinations\n",
    "import math\n",
    "import heapq\n",
    "from collections import OrderedDict\n",
    "import bisect\n",
    "from collections import deque\n",
    "from collections import defaultdict\n",
    "\n",
    "def main():\n",
    "    N = int(input())\n",
    "    odd = []\n",
    "    even = []\n",
    "    if N % 2 == 0:\n",
    "        for i in range(N-1, 0, -2):\n",
    "            odd.append(list(range(i, N, 2)))\n",
    "        for i in range(N, 1, -2):\n",
    "            even.append(list(range(N, i-1, -2)))\n",
    "    else:\n",
    "        for i in range(N, 0, -2):\n",
    "            odd.append(list(range(i, N+1, 2)))\n",
    "        for i in range(N-1, 1, -2):\n",
    "            even.append(list(range(N-1, i-1, -2)))\n",
    "    ans = []\n",
    "    if N % 2 == 0:\n",
    "        for i in range(N//2):\n",
    "            ans += even[i]\n",
    "            ans += odd[i]\n",
    "        ans += even[-1]\n",
    "        for i in range(N//2-2, -1, -1):\n",
    "            ans += odd[i]\n",
    "            ans += even[i]\n",
    "    else:\n",
    "        for i in range(N//2):\n",
    "            ans += odd[i]\n",
    "            ans += even[i]\n",
    "        ans += odd[-1]\n",
    "        for i in range(N//2-1, -1, -1):\n",
    "            ans += even[i]\n",
    "            ans += odd[i]\n",
    "    if N % 2 == 0:\n",
    "        ans[-1], ans[-2] = ans[-2], ans[-1]\n",
    "    else:\n",
    "        ans[0], ans[1] = ans[1], ans[0]\n",
    "    print(*ans)\n",
    "    \n",
    "if __name__ == \"__main__\":\n",
    "    main()"
   ]
  },
  {
   "cell_type": "code",
   "execution_count": null,
   "metadata": {},
   "outputs": [],
   "source": []
  }
 ],
 "metadata": {
  "kernelspec": {
   "display_name": "Python 3",
   "language": "python",
   "name": "python3"
  },
  "language_info": {
   "codemirror_mode": {
    "name": "ipython",
    "version": 3
   },
   "file_extension": ".py",
   "mimetype": "text/x-python",
   "name": "python",
   "nbconvert_exporter": "python",
   "pygments_lexer": "ipython3",
   "version": "3.11.1"
  },
  "orig_nbformat": 4
 },
 "nbformat": 4,
 "nbformat_minor": 2
}
