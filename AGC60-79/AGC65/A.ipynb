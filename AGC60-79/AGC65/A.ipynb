{
 "cells": [
  {
   "cell_type": "code",
   "execution_count": 57,
   "metadata": {},
   "outputs": [
    {
     "name": "stdout",
     "output_type": "stream",
     "text": [
      "[[56, -32], [56, -32], [56, -120]]\n",
      "714\n"
     ]
    }
   ],
   "source": [
    "from functools import lru_cache\n",
    "import sys\n",
    "sys.setrecursionlimit(10**9) # 再帰関数の呼び出し制限\n",
    "sys.set_int_max_str_digits(10**9) # int,str変換の10進数での最大桁数を指定\n",
    "# input = sys.stdin.readline\n",
    "# import pypyjit\n",
    "# pypyjit.set_param('max_unroll_recursion=-1') # pypyの再帰高速化\n",
    "from decimal import Decimal\n",
    "from functools import cmp_to_key\n",
    "from collections import Counter\n",
    "from itertools import permutations\n",
    "from itertools import combinations\n",
    "from itertools import combinations_with_replacement\n",
    "from itertools import product\n",
    "from itertools import accumulate\n",
    "from itertools import groupby\n",
    "from itertools import pairwise\n",
    "from more_itertools import distribute\n",
    "from copy import deepcopy\n",
    "import networkx as nx\n",
    "import networkx.algorithms as nxa\n",
    "import numpy as np\n",
    "import math\n",
    "from collections import OrderedDict\n",
    "from sortedcontainers import SortedSet\n",
    "from sortedcontainers import SortedList\n",
    "from sortedcontainers import SortedDict\n",
    "from heapq import *\n",
    "from bisect import *\n",
    "from collections import deque\n",
    "from collections import defaultdict\n",
    "\n",
    "from collections import Counter\n",
    "from collections import deque\n",
    "from itertools import permutations\n",
    "from time import time\n",
    "\n",
    "def main():\n",
    "    st = time()\n",
    "    N,K = map(int,input().split())\n",
    "    A = list(map(lambda x: int(x)%K, input().split()))\n",
    "    A.sort()\n",
    "    # 同じ数字が入らないように降順にソート\n",
    "    cnt = Counter(A)\n",
    "    max_cnt = max(cnt.values())\n",
    "    ans_list = [deque() for _ in range(max_cnt)]\n",
    "    while A:\n",
    "        a = A.pop()\n",
    "        ans_list[0].append(a)\n",
    "        tmp = 0\n",
    "        while A and a == A[-1]:\n",
    "            tmp += 1\n",
    "            ans_list[tmp].append(A.pop())\n",
    "    ans = 0\n",
    "    # print(ans_list)\n",
    "    left_right = []\n",
    "    while ans_list:\n",
    "        q = ans_list.pop()\n",
    "        q_ = q.copy()\n",
    "        q_.appendleft(q_[-1])\n",
    "        min_num = 10**10\n",
    "        left_num, right_num = 0, 0\n",
    "        while len(q_) >= 2:\n",
    "            last = q_.pop()\n",
    "            tmp = (last - q_[-1]) % K\n",
    "            ans += tmp\n",
    "            if tmp < min_num:\n",
    "                min_num = tmp\n",
    "                left_num = last\n",
    "                right_num = q_[-1]\n",
    "        ans -= min_num\n",
    "        left_right.append([left_num, -right_num])\n",
    "    # print(ans)\n",
    "    # print(left_right)\n",
    "    min_num = 10**10\n",
    "    tmp_ans_max = 0\n",
    "    for left_right_p in permutations(left_right):\n",
    "        tmp_ans = 0\n",
    "        for i in range(len(left_right)):\n",
    "            tmp = (left_right_p[i][1] + left_right_p[(i+1)%len(left_right)][0]) % K\n",
    "            tmp_ans += tmp\n",
    "            if tmp < min_num:\n",
    "                min_num = tmp\n",
    "        tmp_ans -= min_num\n",
    "        if tmp_ans > tmp_ans_max:\n",
    "            tmp_ans_max = tmp_ans\n",
    "        if time() - st > 1.9:\n",
    "            break\n",
    "    ans += tmp_ans_max\n",
    "    print(ans)\n",
    "\n",
    "if __name__ == \"__main__\":\n",
    "    main()"
   ]
  },
  {
   "cell_type": "code",
   "execution_count": null,
   "metadata": {},
   "outputs": [],
   "source": [
    "0 1 2 3 6 8 11"
   ]
  },
  {
   "cell_type": "code",
   "execution_count": 6,
   "metadata": {},
   "outputs": [
    {
     "name": "stdout",
     "output_type": "stream",
     "text": [
      "20\n",
      "(2, 0, 2, 1, 2, 2, 2)\n"
     ]
    }
   ],
   "source": [
    "from itertools import permutations\n",
    "tmp = [0,2,1,2,2,2,2]\n",
    "max_score = 0\n",
    "max_list = []\n",
    "for P in permutations(tmp):\n",
    "    score = 0\n",
    "    for i in range(len(tmp)-1, 0, -1):\n",
    "        score += (P[i] - P[i-1]) % 10\n",
    "    if score > max_score:\n",
    "        max_score = score\n",
    "        max_list = P\n",
    "print(max_score)\n",
    "print(max_list)"
   ]
  },
  {
   "cell_type": "code",
   "execution_count": 33,
   "metadata": {},
   "outputs": [
    {
     "name": "stdout",
     "output_type": "stream",
     "text": [
      "714\n",
      "(56, 32, 56, 32, 11, 0, 120, 56, 32)\n"
     ]
    }
   ],
   "source": [
    "from itertools import permutations\n",
    "tmp = [56, 32, 56, 32, 11, 0, 120, 56, 32]\n",
    "max_score = 0\n",
    "max_list = []\n",
    "for P in permutations(tmp):\n",
    "    score = 0\n",
    "    for i in range(len(tmp)-1, 0, -1):\n",
    "        score += (P[i] - P[i-1]) % 123\n",
    "    if score > max_score:\n",
    "        max_score = score\n",
    "        max_list = P\n",
    "print(max_score)\n",
    "print(max_list)"
   ]
  },
  {
   "cell_type": "code",
   "execution_count": null,
   "metadata": {},
   "outputs": [],
   "source": [
    "56 32 56 32 11 0 120 56 32"
   ]
  },
  {
   "cell_type": "code",
   "execution_count": 64,
   "metadata": {},
   "outputs": [
    {
     "name": "stdout",
     "output_type": "stream",
     "text": [
      "363\n",
      "363\n"
     ]
    }
   ],
   "source": [
    "score = 0\n",
    "P = [11, 34, 56, 0, 32, 100, 78, 5]\n",
    "for i in range(len(P)-1, 0, -1):\n",
    "    score += (P[i] - P[i-1]) % 123\n",
    "print(score)\n",
    "print(P[-1] - P[0] + 3*123)"
   ]
  },
  {
   "cell_type": "code",
   "execution_count": 53,
   "metadata": {},
   "outputs": [
    {
     "data": {
      "text/plain": [
       "[120, 56, 56, 56, 32, 32, 32, 11, 0]"
      ]
     },
     "execution_count": 53,
     "metadata": {},
     "output_type": "execute_result"
    }
   ],
   "source": [
    "a = [56, 32, 56, 32, 11, 0, 120, 56, 32]\n",
    "a.sort(reverse=True)\n",
    "a"
   ]
  },
  {
   "cell_type": "code",
   "execution_count": 54,
   "metadata": {},
   "outputs": [
    {
     "name": "stdout",
     "output_type": "stream",
     "text": [
      "714\n",
      "(56, 32, 120, 56, 32, 11, 0, 56, 32)\n"
     ]
    }
   ],
   "source": [
    "from itertools import permutations\n",
    "tmp = [120, 56, 56, 56, 32, 32, 32, 11, 0]\n",
    "max_score = 0\n",
    "max_list = []\n",
    "for P in permutations(tmp):\n",
    "    score = 0\n",
    "    for i in range(len(tmp)-1, 0, -1):\n",
    "        score += (P[i] - P[i-1]) % 123\n",
    "    if score > max_score:\n",
    "        max_score = score\n",
    "        max_list = P\n",
    "print(max_score)\n",
    "print(max_list)"
   ]
  },
  {
   "cell_type": "code",
   "execution_count": null,
   "metadata": {},
   "outputs": [],
   "source": []
  }
 ],
 "metadata": {
  "kernelspec": {
   "display_name": "Python 3",
   "language": "python",
   "name": "python3"
  },
  "language_info": {
   "codemirror_mode": {
    "name": "ipython",
    "version": 3
   },
   "file_extension": ".py",
   "mimetype": "text/x-python",
   "name": "python",
   "nbconvert_exporter": "python",
   "pygments_lexer": "ipython3",
   "version": "3.11.1"
  }
 },
 "nbformat": 4,
 "nbformat_minor": 2
}
