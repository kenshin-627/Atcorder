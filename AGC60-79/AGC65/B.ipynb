{
 "cells": [
  {
   "cell_type": "code",
   "execution_count": null,
   "metadata": {},
   "outputs": [],
   "source": [
    "from functools import lru_cache\n",
    "import sys\n",
    "sys.setrecursionlimit(10**9) # 再帰関数の呼び出し制限\n",
    "sys.set_int_max_str_digits(10**9) # int,str変換の10進数での最大桁数を指定\n",
    "# input = sys.stdin.readline\n",
    "# import pypyjit\n",
    "# pypyjit.set_param('max_unroll_recursion=-1') # pypyの再帰高速化\n",
    "from decimal import Decimal\n",
    "from functools import cmp_to_key\n",
    "from collections import Counter\n",
    "from itertools import permutations\n",
    "from itertools import combinations\n",
    "from itertools import combinations_with_replacement\n",
    "from itertools import product\n",
    "from itertools import accumulate\n",
    "from itertools import groupby\n",
    "from itertools import pairwise\n",
    "from more_itertools import distribute\n",
    "from copy import deepcopy\n",
    "import networkx as nx\n",
    "import networkx.algorithms as nxa\n",
    "import numpy as np\n",
    "import math\n",
    "from collections import OrderedDict\n",
    "from sortedcontainers import SortedSet\n",
    "from sortedcontainers import SortedList\n",
    "from sortedcontainers import SortedDict\n",
    "from heapq import *\n",
    "from bisect import *\n",
    "from collections import deque\n",
    "from collections import defaultdict\n",
    "\n",
    "def main():\n",
    "\n",
    "if __name__ == \"__main__\":\n",
    "    main()"
   ]
  },
  {
   "cell_type": "code",
   "execution_count": 3,
   "metadata": {},
   "outputs": [
    {
     "name": "stdout",
     "output_type": "stream",
     "text": [
      "[4, 6, 3, 1]\n"
     ]
    }
   ],
   "source": [
    "MOD = 10**9 + 7\n",
    "\n",
    "def count_ways_to_match_p_and_q(N, P):\n",
    "    # 初期化\n",
    "    dp = [0] * (N + 1)\n",
    "    dp[0] = 1\n",
    "\n",
    "    # Pの要素を順に処理\n",
    "    for i in range(1, N + 1):\n",
    "        new_dp = [0] * (N + 1)\n",
    "\n",
    "        # Qの位置を順に処理\n",
    "        for j in range(0, N + 1):\n",
    "            # iを削除せずにそのまま次の位置に移動する場合\n",
    "            new_dp[j] = (new_dp[j] + dp[j]) % MOD\n",
    "\n",
    "            # iを削除し、自由な位置に挿入する場合\n",
    "            if j < N:\n",
    "                new_dp[j + 1] = (new_dp[j + 1] + dp[j]) % MOD\n",
    "\n",
    "            # iを削除し、任意の位置に挿入する場合\n",
    "            if j > 0:\n",
    "                new_dp[j - 1] = (new_dp[j - 1] + dp[j] * j) % MOD\n",
    "\n",
    "        dp = new_dp\n",
    "\n",
    "    return dp\n",
    "\n",
    "# 入力例\n",
    "N = int(input())\n",
    "P = list(map(int, input().split()))\n",
    "\n",
    "# 結果を出力\n",
    "result = count_ways_to_match_p_and_q(N, P)\n",
    "print(result)\n"
   ]
  },
  {
   "cell_type": "code",
   "execution_count": null,
   "metadata": {},
   "outputs": [],
   "source": []
  }
 ],
 "metadata": {
  "kernelspec": {
   "display_name": "Python 3",
   "language": "python",
   "name": "python3"
  },
  "language_info": {
   "codemirror_mode": {
    "name": "ipython",
    "version": 3
   },
   "file_extension": ".py",
   "mimetype": "text/x-python",
   "name": "python",
   "nbconvert_exporter": "python",
   "pygments_lexer": "ipython3",
   "version": "3.11.1"
  }
 },
 "nbformat": 4,
 "nbformat_minor": 2
}
