{
 "cells": [
  {
   "cell_type": "code",
   "execution_count": 19,
   "id": "ea19042a",
   "metadata": {},
   "outputs": [
    {
     "name": "stdout",
     "output_type": "stream",
     "text": [
      "1\n",
      "2 4 6\n",
      "1\n"
     ]
    }
   ],
   "source": [
    "def main():\n",
    "    T = int(input())\n",
    "    for _ in [0]*T:\n",
    "        x,y,z = sorted(map(int, input().split()))\n",
    "        dx = z-x\n",
    "        dy = z-y\n",
    "        if dx%2 != 0 or dy%2 != 0 or (dx+dy)%6 != 0:\n",
    "            print(-1)\n",
    "            continue\n",
    "        if dy == 0:\n",
    "            print(dx//3)\n",
    "            continue\n",
    "        ans = 0\n",
    "        if dx//4 >= dy//2:\n",
    "            # 限界までわる\n",
    "            ans = dy // 2\n",
    "            ans += (dx-4*ans) // 3\n",
    "        else:\n",
    "            # 同じになるまでわってから6ずつわる\n",
    "            ans = (dx-dy) // 2\n",
    "            ans += (dy-2*ans) // 3\n",
    "        print(ans)\n",
    "    \n",
    "if __name__ == \"__main__\":\n",
    "    main()"
   ]
  },
  {
   "cell_type": "code",
   "execution_count": null,
   "id": "62e140cb",
   "metadata": {},
   "outputs": [],
   "source": []
  }
 ],
 "metadata": {
  "kernelspec": {
   "display_name": "Python 3 (ipykernel)",
   "language": "python",
   "name": "python3"
  },
  "language_info": {
   "codemirror_mode": {
    "name": "ipython",
    "version": 3
   },
   "file_extension": ".py",
   "mimetype": "text/x-python",
   "name": "python",
   "nbconvert_exporter": "python",
   "pygments_lexer": "ipython3",
   "version": "3.9.6"
  }
 },
 "nbformat": 4,
 "nbformat_minor": 5
}
