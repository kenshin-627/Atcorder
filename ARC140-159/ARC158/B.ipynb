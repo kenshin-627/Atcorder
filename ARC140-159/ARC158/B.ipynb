{
 "cells": [
  {
   "cell_type": "code",
   "execution_count": 21,
   "id": "c99f13e6",
   "metadata": {},
   "outputs": [
    {
     "name": "stdout",
     "output_type": "stream",
     "text": [
      "5\n",
      "1 2 3 4 5\n",
      "0.2\n",
      "1.0\n"
     ]
    }
   ],
   "source": [
    "from itertools import combinations\n",
    "import bisect\n",
    "\n",
    "def main():\n",
    "    N = int(input())\n",
    "    xN = sorted([*map(int, input().split())])\n",
    "    ind_0 = bisect.bisect(xN, 0)\n",
    "    tmp1 = xN[:ind_0]\n",
    "    tmp2 = xN[ind_0:]\n",
    "    tmp1.sort(reverse=True)\n",
    "    tmp2.sort(reverse=True)\n",
    "    tmp1.extend(tmp2)\n",
    "    new_x = []\n",
    "    if len(tmp1) <= 6:\n",
    "        new_x = tmp1\n",
    "    else:\n",
    "        for i in range(3):\n",
    "            new_x.append(tmp1[i])\n",
    "            new_x.append(tmp1[-i-1])\n",
    "    max_num = -float(\"inf\")\n",
    "    min_num = float(\"inf\")\n",
    "    for x,y,z in combinations(new_x, 3):\n",
    "        tmp = (x+y+z) / (x*y*z)\n",
    "        max_num = max(max_num, tmp)\n",
    "        min_num = min(min_num, tmp)\n",
    "    print(min_num)\n",
    "    print(max_num)\n",
    "    \n",
    "if __name__ == \"__main__\":\n",
    "    main()"
   ]
  },
  {
   "cell_type": "code",
   "execution_count": null,
   "id": "0b1b279f",
   "metadata": {},
   "outputs": [],
   "source": []
  }
 ],
 "metadata": {
  "kernelspec": {
   "display_name": "Python 3 (ipykernel)",
   "language": "python",
   "name": "python3"
  },
  "language_info": {
   "codemirror_mode": {
    "name": "ipython",
    "version": 3
   },
   "file_extension": ".py",
   "mimetype": "text/x-python",
   "name": "python",
   "nbconvert_exporter": "python",
   "pygments_lexer": "ipython3",
   "version": "3.9.6"
  }
 },
 "nbformat": 4,
 "nbformat_minor": 5
}
