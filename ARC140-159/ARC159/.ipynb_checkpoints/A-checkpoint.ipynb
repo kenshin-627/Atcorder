{
 "cells": [
  {
   "cell_type": "code",
   "execution_count": 14,
   "id": "b1b2ca94",
   "metadata": {},
   "outputs": [
    {
     "name": "stdout",
     "output_type": "stream",
     "text": [
      "4 10000000\n",
      "0 0 0 0\n",
      "0 0 0 0\n",
      "0 0 0 0\n",
      "0 0 0 0\n",
      "1\n",
      "1 40000000\n",
      "-1\n"
     ]
    }
   ],
   "source": [
    "from collections import deque\n",
    "from collections import defaultdict\n",
    "\n",
    "def main():\n",
    "    N,K = map(int, input().split())\n",
    "    adj_dict = defaultdict(list)\n",
    "    for i in range(N):\n",
    "        aN = [j for j,a in enumerate(input().split()) if a == \"1\"]\n",
    "        adj_dict[i] = aN\n",
    "    Q = int(input())\n",
    "    for _ in range(Q):\n",
    "        s,t = map(lambda x: (int(x)-1)%N, input().split())\n",
    "        ans = 1\n",
    "        q = deque([s, -1])\n",
    "        seen = set()\n",
    "        while q:\n",
    "            now_node = q.popleft()\n",
    "            if now_node == -1:\n",
    "                if len(q) == 0:\n",
    "                    print(-1)\n",
    "                    break\n",
    "                q.append(-1)\n",
    "                ans += 1\n",
    "                continue\n",
    "            next_nodes = adj_dict[now_node]\n",
    "            for next_node in next_nodes:\n",
    "                if next_node in seen:\n",
    "                    continue\n",
    "                if next_node == t:\n",
    "                    print(ans)\n",
    "                    break\n",
    "                seen.add(next_node)\n",
    "                q.append(next_node)\n",
    "            else:\n",
    "                continue\n",
    "            break\n",
    "    \n",
    "if __name__ == \"__main__\":\n",
    "    main()"
   ]
  },
  {
   "cell_type": "code",
   "execution_count": 7,
   "id": "ded4e14f",
   "metadata": {},
   "outputs": [
    {
     "name": "stdout",
     "output_type": "stream",
     "text": [
      "{1}\n",
      "0\n"
     ]
    }
   ],
   "source": [
    "a = set([1])\n",
    "print(a)\n",
    "i = 0\n",
    "while i != 1:\n",
    "    print(i)\n",
    "    if i == 0:\n",
    "        break\n",
    "    i += 1\n",
    "else:\n",
    "    print(\"a\")"
   ]
  },
  {
   "cell_type": "code",
   "execution_count": null,
   "id": "4c16a639",
   "metadata": {},
   "outputs": [],
   "source": []
  }
 ],
 "metadata": {
  "kernelspec": {
   "display_name": "Python 3 (ipykernel)",
   "language": "python",
   "name": "python3"
  },
  "language_info": {
   "codemirror_mode": {
    "name": "ipython",
    "version": 3
   },
   "file_extension": ".py",
   "mimetype": "text/x-python",
   "name": "python",
   "nbconvert_exporter": "python",
   "pygments_lexer": "ipython3",
   "version": "3.9.6"
  }
 },
 "nbformat": 4,
 "nbformat_minor": 5
}
