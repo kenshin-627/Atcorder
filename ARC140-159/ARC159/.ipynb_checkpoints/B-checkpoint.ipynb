{
 "cells": [
  {
   "cell_type": "code",
   "execution_count": 75,
   "id": "1cfd1e6d",
   "metadata": {},
   "outputs": [
    {
     "name": "stdout",
     "output_type": "stream",
     "text": [
      "15 9\n",
      "2\n"
     ]
    }
   ],
   "source": [
    "import math\n",
    "\n",
    "# 素因数のリストを返す\n",
    "def prime(n):\n",
    "    prime_list = []\n",
    "    for p in range(2, int(n ** 0.5) + 1):\n",
    "        if n % p == 0:\n",
    "            prime_list.append(p)\n",
    "            while n % p == 0:\n",
    "                n //= p\n",
    "    # n が1より大きい数字として残っていれば、素数\n",
    "    if n != 1:\n",
    "        prime_list.append(n)\n",
    "    return prime_list\n",
    "\n",
    "def main():\n",
    "    A,B = map(int, input().split())\n",
    "    if A < B:\n",
    "        A,B = B,A\n",
    "    if A == B:\n",
    "        print(1)\n",
    "        return\n",
    "    ans = 0\n",
    "    while (A > 0 and B > 0):\n",
    "        if A-B == 1:\n",
    "            ans += min(A, B)\n",
    "            break\n",
    "        else:\n",
    "            g = math.gcd(A,B)\n",
    "            A = A // g\n",
    "            B = B // g\n",
    "            if A-B == 1:\n",
    "                ans += min(A,B)\n",
    "                break\n",
    "            prime_list = prime(A-B)\n",
    "            t = float(\"inf\")\n",
    "            for p in prime_list:\n",
    "                t = min(t, B%p)\n",
    "            A -= t\n",
    "            B -= t\n",
    "            ans += t\n",
    "    print(ans)\n",
    "    \n",
    "if __name__ == \"__main__\":\n",
    "    main()"
   ]
  },
  {
   "cell_type": "code",
   "execution_count": null,
   "id": "d5fe199f",
   "metadata": {},
   "outputs": [],
   "source": []
  }
 ],
 "metadata": {
  "kernelspec": {
   "display_name": "Python 3 (ipykernel)",
   "language": "python",
   "name": "python3"
  },
  "language_info": {
   "codemirror_mode": {
    "name": "ipython",
    "version": 3
   },
   "file_extension": ".py",
   "mimetype": "text/x-python",
   "name": "python",
   "nbconvert_exporter": "python",
   "pygments_lexer": "ipython3",
   "version": "3.9.6"
  }
 },
 "nbformat": 4,
 "nbformat_minor": 5
}
