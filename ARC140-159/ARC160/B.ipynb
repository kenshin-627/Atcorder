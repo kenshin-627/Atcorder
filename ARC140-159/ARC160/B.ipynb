{
 "cells": [
  {
   "cell_type": "code",
   "execution_count": 2,
   "metadata": {},
   "outputs": [
    {
     "name": "stdout",
     "output_type": "stream",
     "text": [
      "1\n",
      "4\n",
      "17\n",
      "727512986\n"
     ]
    }
   ],
   "source": [
    "import math\n",
    "\n",
    "def main():\n",
    "    T = int(input())\n",
    "    MOD = 998244353\n",
    "    for _ in range(T):\n",
    "        N = int(input())\n",
    "        ans = 0\n",
    "        # x <= y <= z\n",
    "        for y in range(1, int(math.sqrt(N))+1):\n",
    "            z_max = N // y\n",
    "            # x < y < z\n",
    "            ans += (z_max - y) * (y - 1) * 6\n",
    "            # x = y < z\n",
    "            ans += (z_max - y) * 3\n",
    "            # x < y = z\n",
    "            ans += (y - 1) * 3\n",
    "            # x = y = z\n",
    "            ans += 1\n",
    "            ans %= MOD\n",
    "        print(ans)\n",
    "    \n",
    "if __name__ == \"__main__\":\n",
    "    main()"
   ]
  },
  {
   "cell_type": "code",
   "execution_count": null,
   "metadata": {},
   "outputs": [],
   "source": []
  }
 ],
 "metadata": {
  "kernelspec": {
   "display_name": "Python 3",
   "language": "python",
   "name": "python3"
  },
  "language_info": {
   "codemirror_mode": {
    "name": "ipython",
    "version": 3
   },
   "file_extension": ".py",
   "mimetype": "text/x-python",
   "name": "python",
   "nbconvert_exporter": "python",
   "pygments_lexer": "ipython3",
   "version": "3.9.6"
  },
  "orig_nbformat": 4
 },
 "nbformat": 4,
 "nbformat_minor": 2
}
