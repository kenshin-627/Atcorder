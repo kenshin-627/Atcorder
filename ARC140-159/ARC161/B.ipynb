{
 "cells": [
  {
   "cell_type": "code",
   "execution_count": 6,
   "metadata": {},
   "outputs": [
    {
     "name": "stdout",
     "output_type": "stream",
     "text": [
      "14\n",
      "161\n",
      "-1\n",
      "936748722493063168\n"
     ]
    }
   ],
   "source": [
    "def main():\n",
    "    T = int(input())\n",
    "    for _ in [0]*T:\n",
    "        N = int(input())\n",
    "        if N < 7:\n",
    "            print(-1)\n",
    "            continue\n",
    "        # N を2進数に変換して、1の数を数える\n",
    "        # 1の数が3個以下ならNを−１する\n",
    "        bin_N = bin(N)\n",
    "        while bin_N.count(\"1\") < 3:\n",
    "            N -= 1\n",
    "            bin_N = bin(N)\n",
    "        ans = \"\"\n",
    "        cnt_1 = 0\n",
    "        for i, bi in enumerate(bin_N[2:]):\n",
    "            if bi == \"1\":\n",
    "                cnt_1 += 1\n",
    "                ans += \"1\"\n",
    "            else:\n",
    "                ans += \"0\"\n",
    "            if cnt_1 == 3:\n",
    "                ans += \"0\"* (len(bin_N) - i - 3)\n",
    "                break\n",
    "        print(int(ans,2))\n",
    "    \n",
    "if __name__ == \"__main__\":\n",
    "    main()"
   ]
  },
  {
   "cell_type": "code",
   "execution_count": null,
   "metadata": {},
   "outputs": [],
   "source": []
  }
 ],
 "metadata": {
  "kernelspec": {
   "display_name": "Python 3",
   "language": "python",
   "name": "python3"
  },
  "language_info": {
   "codemirror_mode": {
    "name": "ipython",
    "version": 3
   },
   "file_extension": ".py",
   "mimetype": "text/x-python",
   "name": "python",
   "nbconvert_exporter": "python",
   "pygments_lexer": "ipython3",
   "version": "3.9.6"
  },
  "orig_nbformat": 4
 },
 "nbformat": 4,
 "nbformat_minor": 2
}
