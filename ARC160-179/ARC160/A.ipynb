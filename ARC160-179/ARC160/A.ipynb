{
 "cells": [
  {
   "cell_type": "code",
   "execution_count": 89,
   "metadata": {},
   "outputs": [
    {
     "name": "stdout",
     "output_type": "stream",
     "text": [
      "2 6 5 4 10 1 8 9 7 3\n"
     ]
    }
   ],
   "source": [
    "import bisect\n",
    "\n",
    "def main():\n",
    "    N,K = map(int,input().split())\n",
    "    A = [*map(int,input().split())]\n",
    "    A_sorted = []\n",
    "    ans = []\n",
    "    for i,a in enumerate(A):\n",
    "        # aより左側でaより小さい値の個数\n",
    "        ind = bisect.bisect_left(A_sorted,a)\n",
    "        A_sorted.insert(ind,a)\n",
    "        tmp = (N-1-i) * (N-i) // 2 + (a-ind+i)\n",
    "        L = i\n",
    "        R = 0\n",
    "        if K < (a-ind):\n",
    "            A_aft = sorted(A[i+1:])\n",
    "            R = A.index(A_aft[K-1])\n",
    "        elif (a-ind) <= K <= tmp:\n",
    "            K -= (a-ind-1)\n",
    "            continue\n",
    "        elif tmp < K:\n",
    "            K -= tmp\n",
    "            A_aft = sorted(A[i:])\n",
    "            A_aft_ind = A_aft.index(a)\n",
    "            R = A.index(A_aft[A_aft_ind + K])\n",
    "        ans += A[:L]\n",
    "        ans += A[L:R+1][::-1]\n",
    "        ans += A[R+1:]\n",
    "        break\n",
    "    if ans == []:\n",
    "        ans = A\n",
    "    print(\" \".join(map(str, ans)))\n",
    "\n",
    "if __name__ == \"__main__\":\n",
    "    main()"
   ]
  },
  {
   "cell_type": "code",
   "execution_count": 93,
   "metadata": {},
   "outputs": [
    {
     "name": "stdout",
     "output_type": "stream",
     "text": [
      "35\n",
      "6\n",
      "13\n",
      "21\n",
      "44\n",
      "30\n",
      "52\n",
      "23\n",
      "37\n",
      "28\n",
      "49\n",
      "30\n",
      "30\n",
      "46\n",
      "3\n",
      "8\n",
      "51\n",
      "39\n",
      "31\n",
      "18\n"
     ]
    }
   ],
   "source": [
    "from itertools import combinations\n",
    "import random\n",
    "\n",
    "for _ in range(20):\n",
    "    N = 10\n",
    "    # 1~10の整数を10こ重複なしで生成\n",
    "    A = random.sample(range(1, N+1), N)\n",
    "    # 1~10の整数を一つ選ぶ\n",
    "    K = random.randint(1, N*(N+1)//2)\n",
    "    print(K)\n",
    "\n",
    "    ans1 = []\n",
    "    for L in range(10):\n",
    "        for R in range(L, 10):\n",
    "            tmp = A[:L]\n",
    "            tmp += A[L:R+1][::-1]\n",
    "            tmp += A[R+1:]\n",
    "            ans1.append(tmp)\n",
    "    ans1 = sorted(ans1)[K-1]\n",
    "    # print(\"ans1\")\n",
    "    # print(ans1)\n",
    "\n",
    "    A_sorted = []\n",
    "    ans = []\n",
    "    for i,a in enumerate(A):\n",
    "        # aより左側でaより小さい値の個数\n",
    "        ind = bisect.bisect_left(A_sorted,a)\n",
    "        A_sorted.insert(ind,a)\n",
    "        tmp = (N-1-i) * (N-i) // 2 + (a-ind+i)\n",
    "        L = i\n",
    "        R = 0\n",
    "        if K < (a-ind):\n",
    "            A_aft = sorted(A[i+1:])\n",
    "            R = A.index(A_aft[K-1])\n",
    "        elif (a-ind) <= K <= tmp:\n",
    "            K -= (a-ind-1)\n",
    "            continue\n",
    "        elif tmp < K:\n",
    "            K -= tmp\n",
    "            A_aft = sorted(A[i:])\n",
    "            A_aft_ind = A_aft.index(a)\n",
    "            R = A.index(A_aft[A_aft_ind + K])\n",
    "        ans += A[:L]\n",
    "        ans += A[L:R+1][::-1]\n",
    "        ans += A[R+1:]\n",
    "        break\n",
    "    if ans == []:\n",
    "        ans = A\n",
    "    # print(\"ans\")\n",
    "    # print(ans)\n",
    "    # print(ans1 == ans)\n",
    "    # print()\n",
    "    if ans1 != ans:\n",
    "        print(A)\n",
    "        print(\"WA\")\n",
    "        print()\n",
    "        break"
   ]
  },
  {
   "cell_type": "code",
   "execution_count": null,
   "metadata": {},
   "outputs": [],
   "source": []
  }
 ],
 "metadata": {
  "kernelspec": {
   "display_name": "Python 3",
   "language": "python",
   "name": "python3"
  },
  "language_info": {
   "codemirror_mode": {
    "name": "ipython",
    "version": 3
   },
   "file_extension": ".py",
   "mimetype": "text/x-python",
   "name": "python",
   "nbconvert_exporter": "python",
   "pygments_lexer": "ipython3",
   "version": "3.9.6"
  },
  "orig_nbformat": 4
 },
 "nbformat": 4,
 "nbformat_minor": 2
}
