{
 "cells": [
  {
   "cell_type": "code",
   "execution_count": 14,
   "metadata": {},
   "outputs": [
    {
     "name": "stdout",
     "output_type": "stream",
     "text": [
      "Yes\n"
     ]
    }
   ],
   "source": [
    "def main():\n",
    "    N = int(input())\n",
    "    A = list(map(int, input().split()))\n",
    "    if N == 1:\n",
    "        print(\"Yes\")\n",
    "        return\n",
    "    A.sort()\n",
    "    bef = A[N // 2]\n",
    "    for i in range(1,N):\n",
    "        tmp = i // 2\n",
    "        if i % 2 == 0:\n",
    "            nex = N//2-tmp\n",
    "            if bef > A[nex]:\n",
    "                bef = A[nex]\n",
    "                continue\n",
    "            else:\n",
    "                print(\"No\")\n",
    "                return\n",
    "        else:\n",
    "            nex = N-1-tmp\n",
    "            if bef < A[nex]:\n",
    "                bef = A[nex]\n",
    "                continue\n",
    "            else:\n",
    "                print(\"No\")\n",
    "                return\n",
    "    print(\"Yes\")\n",
    "    \n",
    "if __name__ == \"__main__\":\n",
    "    main()"
   ]
  },
  {
   "cell_type": "code",
   "execution_count": null,
   "metadata": {},
   "outputs": [],
   "source": []
  }
 ],
 "metadata": {
  "kernelspec": {
   "display_name": "Python 3",
   "language": "python",
   "name": "python3"
  },
  "language_info": {
   "codemirror_mode": {
    "name": "ipython",
    "version": 3
   },
   "file_extension": ".py",
   "mimetype": "text/x-python",
   "name": "python",
   "nbconvert_exporter": "python",
   "pygments_lexer": "ipython3",
   "version": "3.9.6"
  },
  "orig_nbformat": 4
 },
 "nbformat": 4,
 "nbformat_minor": 2
}
