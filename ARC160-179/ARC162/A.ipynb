{
 "cells": [
  {
   "cell_type": "code",
   "execution_count": null,
   "metadata": {},
   "outputs": [],
   "source": [
    "def main():\n",
    "    T = int(input())\n",
    "    for _ in [0]*T:\n",
    "        N = int(input())\n",
    "        P = list(map(int, input().split()))\n",
    "        min_num = N+1\n",
    "        ans = 0\n",
    "        for p in P[::-1]:\n",
    "            if min_num > p:\n",
    "                min_num = p\n",
    "                ans += 1\n",
    "        print(ans)\n",
    "    \n",
    "if __name__ == \"__main__\":\n",
    "    main()"
   ]
  }
 ],
 "metadata": {
  "language_info": {
   "name": "python"
  },
  "orig_nbformat": 4
 },
 "nbformat": 4,
 "nbformat_minor": 2
}
