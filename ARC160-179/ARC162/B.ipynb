{
 "cells": [
  {
   "cell_type": "code",
   "execution_count": 20,
   "metadata": {},
   "outputs": [
    {
     "name": "stdout",
     "output_type": "stream",
     "text": [
      "Yes\n",
      "3 0\n",
      "4 1\n",
      "4 2\n",
      "4 2\n"
     ]
    }
   ],
   "source": [
    "from collections import Counter\n",
    "from itertools import permutations\n",
    "from itertools import combinations\n",
    "import math\n",
    "import heapq\n",
    "from collections import OrderedDict\n",
    "import bisect\n",
    "from collections import deque\n",
    "from collections import defaultdict\n",
    "\n",
    "# 数字が配列の何番目にあるかを記録する辞書\n",
    "ind_dict = defaultdict(int)\n",
    "\n",
    "# 配列のi,i+1番目の要素をj,j+1番目に入れてj以降を全部ずらす\n",
    "def slide_array(array, i, j):\n",
    "    tmp_1 = array[i]\n",
    "    tmp_2 = array[i+1]\n",
    "    if i > j:\n",
    "        for k in range(i+1,j+1,-1):\n",
    "            array[k] = array[k-2]\n",
    "            ind_dict[array[k]] = k\n",
    "    else:\n",
    "        for k in range(i,j):\n",
    "            array[k] = array[k+2]\n",
    "            ind_dict[array[k]] = k\n",
    "    array[j] = tmp_1\n",
    "    array[j+1] = tmp_2\n",
    "    ind_dict[tmp_1] = j\n",
    "    ind_dict[tmp_2] = j+1\n",
    "\n",
    "def main():\n",
    "    N = int(input())\n",
    "    P = list(map(int, input().split()))\n",
    "    for i in range(N):\n",
    "        ind_dict[P[i]] = i\n",
    "    ans = []\n",
    "    j = 0\n",
    "    while True:\n",
    "        if j == N:\n",
    "            # すべての要素が正しい位置にある\n",
    "            break\n",
    "        if P[j] == j+1:\n",
    "            j += 1\n",
    "            continue\n",
    "        # i番目の要素に正しい要素を入れる\n",
    "        i = ind_dict[j+1]\n",
    "        # 一番後ろやったら一個手前の要素にする\n",
    "        if i == N-1:\n",
    "            i -= 1\n",
    "        # i==jのとき配列が奇置換やからむり\n",
    "        if i == j:\n",
    "            print(\"No\")\n",
    "            return\n",
    "        # j番目の要素をi番目に入れる\n",
    "        slide_array(P, i, j)\n",
    "        ans.append((i+1, j))\n",
    "    print(\"Yes\")\n",
    "    print(len(ans))\n",
    "    for a in ans:\n",
    "        print(*a)\n",
    "    \n",
    "if __name__ == \"__main__\":\n",
    "    main()"
   ]
  },
  {
   "cell_type": "code",
   "execution_count": null,
   "metadata": {},
   "outputs": [],
   "source": []
  }
 ],
 "metadata": {
  "kernelspec": {
   "display_name": "Python 3",
   "language": "python",
   "name": "python3"
  },
  "language_info": {
   "codemirror_mode": {
    "name": "ipython",
    "version": 3
   },
   "file_extension": ".py",
   "mimetype": "text/x-python",
   "name": "python",
   "nbconvert_exporter": "python",
   "pygments_lexer": "ipython3",
   "version": "3.9.6"
  },
  "orig_nbformat": 4
 },
 "nbformat": 4,
 "nbformat_minor": 2
}
