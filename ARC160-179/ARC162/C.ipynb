{
 "cells": [
  {
   "cell_type": "code",
   "execution_count": null,
   "metadata": {},
   "outputs": [],
   "source": [
    "from collections import Counter\n",
    "from itertools import permutations\n",
    "from itertools import combinations\n",
    "import math\n",
    "import heapq\n",
    "from collections import OrderedDict\n",
    "import bisect\n",
    "from collections import deque\n",
    "from collections import defaultdict\n",
    "\n",
    "def main():\n",
    "    T = int(input())\n",
    "    for _ in [0]*T:\n",
    "        N,K = map(int,input().split())\n",
    "        P = list(map(int,input().split()))\n",
    "        A = list(map(int,input().split()))\n",
    "        p_dict = defaultdict(int)\n",
    "        for i in range(len(P)):\n",
    "            p_dict[P[i]] = i+2\n",
    "        \n",
    "    \n",
    "if __name__ == \"__main__\":\n",
    "    main()"
   ]
  }
 ],
 "metadata": {
  "language_info": {
   "name": "python"
  },
  "orig_nbformat": 4
 },
 "nbformat": 4,
 "nbformat_minor": 2
}
