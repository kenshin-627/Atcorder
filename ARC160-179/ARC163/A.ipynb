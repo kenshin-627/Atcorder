{
 "cells": [
  {
   "cell_type": "code",
   "execution_count": 28,
   "metadata": {},
   "outputs": [
    {
     "name": "stdout",
     "output_type": "stream",
     "text": [
      "Yes\n"
     ]
    }
   ],
   "source": [
    "from functools import lru_cache\n",
    "import sys\n",
    "sys.setrecursionlimit(10**9)\n",
    "from decimal import Decimal\n",
    "from functools import cmp_to_key\n",
    "from collections import Counter\n",
    "from itertools import permutations\n",
    "from itertools import combinations\n",
    "import math\n",
    "import heapq\n",
    "from collections import OrderedDict\n",
    "import bisect\n",
    "from collections import deque\n",
    "from collections import defaultdict\n",
    "\n",
    "def main():\n",
    "    T = int(input())\n",
    "    for _ in [0]*T:\n",
    "        N = int(input())\n",
    "        S = input()\n",
    "        for s in S:\n",
    "            if s > S[0]:\n",
    "                print(\"Yes\")\n",
    "                break\n",
    "        else:\n",
    "            second_S0 = 0\n",
    "            for i,s in enumerate(S):\n",
    "                if s == S[0] and i != 0 and second_S0 == 0:\n",
    "                    second_S0 = i\n",
    "                    if i == 1 and N != 2:\n",
    "                        print(\"Yes\")\n",
    "                        break\n",
    "                    continue\n",
    "                if second_S0 != 0 and S[i-second_S0] < s:\n",
    "                    print(\"Yes\")\n",
    "                    break\n",
    "                elif second_S0 != 0 and S[i-second_S0] > s:\n",
    "                    second_S0 = 0\n",
    "                    continue\n",
    "                elif second_S0 != 0 and S[i-second_S0] == s:\n",
    "                    if i+1 == 2*second_S0 and i+1 != N:\n",
    "                        print(\"Yes\")\n",
    "                        break\n",
    "            else:\n",
    "                print(\"No\")\n",
    "\n",
    "if __name__ == \"__main__\":\n",
    "    main()"
   ]
  },
  {
   "cell_type": "code",
   "execution_count": 24,
   "metadata": {},
   "outputs": [
    {
     "name": "stdout",
     "output_type": "stream",
     "text": [
      "bbbbaccbbc\n",
      "Yes\n",
      "badddcbbbb\n",
      "Yes\n",
      "cbcaccaabc\n",
      "No\n",
      "addbcdbbaa\n",
      "Yes\n",
      "baacabcdca\n",
      "Yes\n",
      "abdcacdcdd\n",
      "Yes\n",
      "cdacdbbacb\n",
      "Yes\n",
      "ddccccaadb\n",
      "Yes\n",
      "dbadcddbbc\n",
      "Yes\n",
      "cbddbbbbaa\n",
      "Yes\n"
     ]
    }
   ],
   "source": [
    "import random\n",
    "\n",
    "def main():\n",
    "    # T = int(input())\n",
    "    T = 10\n",
    "    for _ in [0]*T:\n",
    "        # N = int(input())\n",
    "        # S = input()\n",
    "        N = 10\n",
    "        abcd = \"abcd\"\n",
    "        S = \"\".join([random.choice(abcd) for _ in [0]*N])\n",
    "        print(S)\n",
    "        for s in S:\n",
    "            if s > S[0]:\n",
    "                print(\"Yes\")\n",
    "                break\n",
    "        else:\n",
    "            second_S0 = 0\n",
    "            for i,s in enumerate(S):\n",
    "                if s == S[0] and i != 0 and second_S0 == 0:\n",
    "                    second_S0 = i\n",
    "                    if i == 1 and N != 2:\n",
    "                        print(\"Yes\")\n",
    "                        break\n",
    "                    continue\n",
    "                if second_S0 != 0 and S[i-second_S0] < s:\n",
    "                    print(\"Yes\")\n",
    "                    break\n",
    "                elif second_S0 != 0 and S[i-second_S0] > s:\n",
    "                    second_S0 = 0\n",
    "                    continue\n",
    "                elif second_S0 != 0 and S[i-second_S0] == s:\n",
    "                    if i+1 == 2*second_S0 and i+1 != N:\n",
    "                        print(\"Yes\")\n",
    "                        break\n",
    "            else:\n",
    "                print(\"No\")\n",
    "\n",
    "if __name__ == \"__main__\":\n",
    "    main()"
   ]
  }
 ],
 "metadata": {
  "kernelspec": {
   "display_name": "Python 3",
   "language": "python",
   "name": "python3"
  },
  "language_info": {
   "codemirror_mode": {
    "name": "ipython",
    "version": 3
   },
   "file_extension": ".py",
   "mimetype": "text/x-python",
   "name": "python",
   "nbconvert_exporter": "python",
   "pygments_lexer": "ipython3",
   "version": "3.11.1"
  },
  "orig_nbformat": 4
 },
 "nbformat": 4,
 "nbformat_minor": 2
}
