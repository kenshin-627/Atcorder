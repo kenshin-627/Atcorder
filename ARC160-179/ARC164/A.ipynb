{
 "cells": [
  {
   "cell_type": "code",
   "execution_count": 2,
   "metadata": {},
   "outputs": [
    {
     "name": "stdout",
     "output_type": "stream",
     "text": [
      "[1, 0, 0, 0, 2]\n"
     ]
    }
   ],
   "source": [
    "# from functools import lru_cache\n",
    "# import sys\n",
    "# sys.setrecursionlimit(10**9)\n",
    "# input = sys.stdin.readline\n",
    "from decimal import Decimal\n",
    "from functools import cmp_to_key\n",
    "from collections import Counter\n",
    "from itertools import permutations\n",
    "from itertools import combinations\n",
    "import math\n",
    "import heapq\n",
    "from collections import OrderedDict\n",
    "import bisect\n",
    "from collections import deque\n",
    "from collections import defaultdict\n",
    "\n",
    "def main():\n",
    "    T = int(input())\n",
    "    for _ in range(T):\n",
    "        N,K = map(int, input().split())\n",
    "        if (N-K) % 2 == 0 and N-K >= 0:\n",
    "            # Nを3進数にする\n",
    "            N_3 = []\n",
    "            while N > 0:\n",
    "                N_3.append(N%3)\n",
    "                N //= 3\n",
    "            if K >= sum(N_3):\n",
    "                print(\"Yes\")\n",
    "            else:\n",
    "                print(\"No\")\n",
    "        else:\n",
    "            print(\"No\")\n",
    "    \n",
    "if __name__ == \"__main__\":\n",
    "    main()"
   ]
  },
  {
   "cell_type": "code",
   "execution_count": null,
   "metadata": {},
   "outputs": [],
   "source": []
  }
 ],
 "metadata": {
  "kernelspec": {
   "display_name": "Python 3",
   "language": "python",
   "name": "python3"
  },
  "language_info": {
   "codemirror_mode": {
    "name": "ipython",
    "version": 3
   },
   "file_extension": ".py",
   "mimetype": "text/x-python",
   "name": "python",
   "nbconvert_exporter": "python",
   "pygments_lexer": "ipython3",
   "version": "3.11.1"
  },
  "orig_nbformat": 4
 },
 "nbformat": 4,
 "nbformat_minor": 2
}
