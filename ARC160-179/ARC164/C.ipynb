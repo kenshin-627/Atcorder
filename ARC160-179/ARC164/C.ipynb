{
 "cells": [
  {
   "cell_type": "code",
   "execution_count": 1,
   "metadata": {},
   "outputs": [
    {
     "ename": "ValueError",
     "evalue": "too many values to unpack (expected 2)",
     "output_type": "error",
     "traceback": [
      "\u001b[0;31m---------------------------------------------------------------------------\u001b[0m",
      "\u001b[0;31mValueError\u001b[0m                                Traceback (most recent call last)",
      "Cell \u001b[0;32mIn[1], line 24\u001b[0m\n\u001b[1;32m     21\u001b[0m         \u001b[39mprint\u001b[39m(a,b)\n\u001b[1;32m     23\u001b[0m \u001b[39mif\u001b[39;00m \u001b[39m__name__\u001b[39m \u001b[39m==\u001b[39m \u001b[39m\"\u001b[39m\u001b[39m__main__\u001b[39m\u001b[39m\"\u001b[39m:\n\u001b[0;32m---> 24\u001b[0m     main()\n",
      "Cell \u001b[0;32mIn[1], line 19\u001b[0m, in \u001b[0;36mmain\u001b[0;34m()\u001b[0m\n\u001b[1;32m     17\u001b[0m \u001b[39mdef\u001b[39;00m \u001b[39mmain\u001b[39m():\n\u001b[1;32m     18\u001b[0m     N \u001b[39m=\u001b[39m \u001b[39m5\u001b[39m\n\u001b[0;32m---> 19\u001b[0m     A,B \u001b[39m=\u001b[39m [[\u001b[39m166971716\u001b[39m, \u001b[39m552987438\u001b[39m],[\u001b[39m219878198\u001b[39m, \u001b[39m619875818\u001b[39m],[\u001b[39m918378176\u001b[39m, \u001b[39m518975015\u001b[39m],[\u001b[39m610749017\u001b[39m, \u001b[39m285601372\u001b[39m],[\u001b[39m701849287\u001b[39m, \u001b[39m307601390\u001b[39m]]\n\u001b[1;32m     20\u001b[0m     \u001b[39mfor\u001b[39;00m a,b \u001b[39min\u001b[39;00m \u001b[39mzip\u001b[39m(A,B):\n\u001b[1;32m     21\u001b[0m         \u001b[39mprint\u001b[39m(a,b)\n",
      "\u001b[0;31mValueError\u001b[0m: too many values to unpack (expected 2)"
     ]
    }
   ],
   "source": [
    "# from functools import lru_cache\n",
    "# import sys\n",
    "# sys.setrecursionlimit(10**9)\n",
    "# input = sys.stdin.readline\n",
    "from decimal import Decimal\n",
    "from functools import cmp_to_key\n",
    "from collections import Counter\n",
    "from itertools import permutations\n",
    "from itertools import combinations\n",
    "import math\n",
    "import heapq\n",
    "from collections import OrderedDict\n",
    "import bisect\n",
    "from collections import deque\n",
    "from collections import defaultdict\n",
    "\n",
    "def main():\n",
    "    N = int(input())\n",
    "    A,B = [],[]\n",
    "    ans = 0\n",
    "    min_diff = 10**10\n",
    "    # 大きい方が表の枚数\n",
    "    large_num = 0\n",
    "    # 表裏同じ数字のカードがあるか\n",
    "    same_num = False\n",
    "    for _ in range(N):\n",
    "        a,b = map(int,input().split())\n",
    "        A.append(a)\n",
    "        B.append(b)\n",
    "        min_diff = min(min_diff,abs(b-a))\n",
    "        ans += (max(a,b))\n",
    "        if a > b:\n",
    "            large_num += 1\n",
    "        if a == b:\n",
    "            same_num = True\n",
    "    if large_num % 2 == 1 and not same_num:\n",
    "        print(ans-min_diff)\n",
    "    else:\n",
    "        print(ans)\n",
    "    \n",
    "if __name__ == \"__main__\":\n",
    "    main()"
   ]
  },
  {
   "cell_type": "code",
   "execution_count": null,
   "metadata": {},
   "outputs": [],
   "source": []
  }
 ],
 "metadata": {
  "kernelspec": {
   "display_name": "Python 3",
   "language": "python",
   "name": "python3"
  },
  "language_info": {
   "codemirror_mode": {
    "name": "ipython",
    "version": 3
   },
   "file_extension": ".py",
   "mimetype": "text/x-python",
   "name": "python",
   "nbconvert_exporter": "python",
   "pygments_lexer": "ipython3",
   "version": "3.11.1"
  },
  "orig_nbformat": 4
 },
 "nbformat": 4,
 "nbformat_minor": 2
}
