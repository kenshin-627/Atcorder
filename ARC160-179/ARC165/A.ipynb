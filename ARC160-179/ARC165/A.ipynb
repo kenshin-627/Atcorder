{
 "cells": [
  {
   "cell_type": "code",
   "execution_count": 18,
   "metadata": {},
   "outputs": [
    {
     "ename": "TypeError",
     "evalue": "'float' object cannot be interpreted as an integer",
     "output_type": "error",
     "traceback": [
      "\u001b[0;31m---------------------------------------------------------------------------\u001b[0m",
      "\u001b[0;31mTypeError\u001b[0m                                 Traceback (most recent call last)",
      "\u001b[1;32m/Users/fujitakenshin/Ken/Atcorder/ARC160-179/ARC165/A.ipynb セル 1\u001b[0m line \u001b[0;36m4\n\u001b[1;32m     <a href='vscode-notebook-cell:/Users/fujitakenshin/Ken/Atcorder/ARC160-179/ARC165/A.ipynb#W0sZmlsZQ%3D%3D?line=44'>45</a>\u001b[0m             \u001b[39mprint\u001b[39m(\u001b[39m\"\u001b[39m\u001b[39mNo\u001b[39m\u001b[39m\"\u001b[39m)\n\u001b[1;32m     <a href='vscode-notebook-cell:/Users/fujitakenshin/Ken/Atcorder/ARC160-179/ARC165/A.ipynb#W0sZmlsZQ%3D%3D?line=46'>47</a>\u001b[0m \u001b[39mif\u001b[39;00m \u001b[39m__name__\u001b[39m \u001b[39m==\u001b[39m \u001b[39m\"\u001b[39m\u001b[39m__main__\u001b[39m\u001b[39m\"\u001b[39m:\n\u001b[0;32m---> <a href='vscode-notebook-cell:/Users/fujitakenshin/Ken/Atcorder/ARC160-179/ARC165/A.ipynb#W0sZmlsZQ%3D%3D?line=47'>48</a>\u001b[0m     main()\n",
      "\u001b[1;32m/Users/fujitakenshin/Ken/Atcorder/ARC160-179/ARC165/A.ipynb セル 1\u001b[0m line \u001b[0;36m3\n\u001b[1;32m     <a href='vscode-notebook-cell:/Users/fujitakenshin/Ken/Atcorder/ARC160-179/ARC165/A.ipynb#W0sZmlsZQ%3D%3D?line=30'>31</a>\u001b[0m \u001b[39m# Nが素因数を2つ以上持つときはYes\u001b[39;00m\n\u001b[1;32m     <a href='vscode-notebook-cell:/Users/fujitakenshin/Ken/Atcorder/ARC160-179/ARC165/A.ipynb#W0sZmlsZQ%3D%3D?line=31'>32</a>\u001b[0m num \u001b[39m=\u001b[39m \u001b[39m0\u001b[39m\n\u001b[0;32m---> <a href='vscode-notebook-cell:/Users/fujitakenshin/Ken/Atcorder/ARC160-179/ARC165/A.ipynb#W0sZmlsZQ%3D%3D?line=32'>33</a>\u001b[0m \u001b[39mfor\u001b[39;00m i \u001b[39min\u001b[39;00m \u001b[39mrange\u001b[39;49m(\u001b[39m2\u001b[39;49m, N_\u001b[39m*\u001b[39;49m\u001b[39m*\u001b[39;49m\u001b[39m0.5\u001b[39;49m\u001b[39m+\u001b[39;49m\u001b[39m1\u001b[39;49m):\n\u001b[1;32m     <a href='vscode-notebook-cell:/Users/fujitakenshin/Ken/Atcorder/ARC160-179/ARC165/A.ipynb#W0sZmlsZQ%3D%3D?line=33'>34</a>\u001b[0m     \u001b[39mprint\u001b[39m(N,i)\n\u001b[1;32m     <a href='vscode-notebook-cell:/Users/fujitakenshin/Ken/Atcorder/ARC160-179/ARC165/A.ipynb#W0sZmlsZQ%3D%3D?line=34'>35</a>\u001b[0m     \u001b[39mif\u001b[39;00m N \u001b[39m%\u001b[39m i \u001b[39m==\u001b[39m \u001b[39m0\u001b[39m:\n",
      "\u001b[0;31mTypeError\u001b[0m: 'float' object cannot be interpreted as an integer"
     ]
    }
   ],
   "source": [
    "def main():\n",
    "    T = int(input())\n",
    "    for _ in range(T):\n",
    "        N = int(input())\n",
    "        N_ = N\n",
    "        tmp = 0\n",
    "        for p in range(2, int(N ** 0.5) + 1):\n",
    "            cnt = 0\n",
    "            while N % p == 0:\n",
    "                cnt += 1\n",
    "                N //= p\n",
    "            tmp += p ** cnt\n",
    "        if N != 1:\n",
    "            tmp += N\n",
    "        if tmp >= N_:\n",
    "            print(\"No\")\n",
    "        else:\n",
    "            print(\"Yes\")\n",
    "    \n",
    "if __name__ == \"__main__\":\n",
    "    main()"
   ]
  },
  {
   "cell_type": "code",
   "execution_count": 10,
   "metadata": {},
   "outputs": [
    {
     "name": "stdout",
     "output_type": "stream",
     "text": [
      "Counter({998244353: 1})\n"
     ]
    }
   ],
   "source": [
    "from collections import Counter\n",
    "\n",
    "# 素因数分解を行う関数\n",
    "def prime_factorization(n):\n",
    "    # Counterクラスを呼び出してオブジェクト生成\n",
    "    counter = Counter()\n",
    "    \n",
    "    # 素数で割り切れるかの判定\n",
    "    for p in range(2, int(n ** 0.5) + 1):\n",
    "        # １回割り切れるごとに+1カウントしていく\n",
    "        while n % p == 0:\n",
    "            counter[p] += 1\n",
    "            n //= p\n",
    "    # n が1より大きい数字として残っていれば、素数\n",
    "    if n != 1:\n",
    "        counter[n] += 1\n",
    "    return counter\n",
    "a = 998244353\n",
    "print(prime_factorization(a))"
   ]
  },
  {
   "cell_type": "code",
   "execution_count": 3,
   "metadata": {},
   "outputs": [
    {
     "name": "stdout",
     "output_type": "stream",
     "text": [
      "2\n",
      "1 3\n",
      "2\n",
      "1 2\n",
      "1\n",
      "998244353\n",
      "1\n",
      "367\n"
     ]
    }
   ],
   "source": [
    "import math\n",
    "\n",
    "def find_combination(N):\n",
    "    # Nが偶数の場合、Nを素因数2で何回割ることができるかを求める\n",
    "    count = 0\n",
    "    while N % 2 == 0:\n",
    "        count += 1\n",
    "        N //= 2\n",
    "    \n",
    "    # Nを素因数2で割り尽くした後に残ったNをmとする\n",
    "    m = N\n",
    "    \n",
    "    # 素因数2で割った回数分、2のべき乗を要素に持つ数列を生成\n",
    "    combination = [2 ** i for i in range(count)]\n",
    "    \n",
    "    # mが1でない場合、mを要素に追加\n",
    "    if m > 1:\n",
    "        combination.append(m)\n",
    "    \n",
    "    return combination\n",
    "\n",
    "# テストケース数を取得\n",
    "T = int(input())\n",
    "for _ in range(T):\n",
    "    N = int(input())\n",
    "    \n",
    "    # 条件を満たす組み合わせを取得\n",
    "    combination = find_combination(N)\n",
    "    \n",
    "    # 結果を出力\n",
    "    print(len(combination))\n",
    "    print(*combination)\n"
   ]
  },
  {
   "cell_type": "code",
   "execution_count": 8,
   "metadata": {},
   "outputs": [
    {
     "name": "stdout",
     "output_type": "stream",
     "text": [
      "False\n"
     ]
    }
   ],
   "source": [
    "def can_sum(N, A):\n",
    "    # 初期化: 0からNまでのブール値を格納するリストを作成し、初期値をFalseに設定します。\n",
    "    dp = [False] * (N + 1)\n",
    "    dp[0] = True  # 0を作成するのは常に可能です。\n",
    "\n",
    "    for i in range(N + 1):\n",
    "        if dp[i]:\n",
    "            for num in A:\n",
    "                if i + num <= N:\n",
    "                    dp[i + num] = True\n",
    "\n",
    "    return dp[N]\n",
    "\n",
    "# 例\n",
    "A = [2,4]\n",
    "N = 7\n",
    "result = can_sum(N, A)\n",
    "print(result)  # True (2 + 2 + 3 = 7)"
   ]
  },
  {
   "cell_type": "code",
   "execution_count": null,
   "metadata": {},
   "outputs": [],
   "source": []
  }
 ],
 "metadata": {
  "kernelspec": {
   "display_name": "Python 3",
   "language": "python",
   "name": "python3"
  },
  "language_info": {
   "codemirror_mode": {
    "name": "ipython",
    "version": 3
   },
   "file_extension": ".py",
   "mimetype": "text/x-python",
   "name": "python",
   "nbconvert_exporter": "python",
   "pygments_lexer": "ipython3",
   "version": "3.11.1"
  },
  "orig_nbformat": 4
 },
 "nbformat": 4,
 "nbformat_minor": 2
}
