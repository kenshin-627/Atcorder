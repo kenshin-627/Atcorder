{
 "cells": [
  {
   "cell_type": "code",
   "execution_count": 8,
   "metadata": {},
   "outputs": [
    {
     "name": "stdout",
     "output_type": "stream",
     "text": [
      "6\n"
     ]
    }
   ],
   "source": [
    "from collections import Counter\n",
    "\n",
    "# 素因数分解を行う関数\n",
    "def prime_factorization(n):\n",
    "    # Counterクラスを呼び出してオブジェクト生成\n",
    "    counter = Counter()\n",
    "    \n",
    "    # 素数で割り切れるかの判定\n",
    "    for p in range(2, int(n ** 0.5) + 1):\n",
    "        # １回割り切れるごとに+1カウントしていく\n",
    "        while n % p == 0:\n",
    "            counter[p] += 1\n",
    "            n //= p\n",
    "    # n が1より大きい数字として残っていれば、素数\n",
    "    if n != 1:\n",
    "        counter[n] += 1\n",
    "    return counter\n",
    "\n",
    "def main():\n",
    "    A,B = map(int,input().split())\n",
    "    mod = 998244353\n",
    "    # 指数が最も小さい素数の指数とその素数を求める\n",
    "    min_exponent = float(\"inf\")\n",
    "    min_prime = 0\n",
    "    for prime, exponent in prime_factorization(A).items():\n",
    "        if min_exponent > exponent:\n",
    "            min_exponent = exponent\n",
    "            min_prime = prime\n",
    "    mult_exponent = 1\n",
    "    for prime, exponent in prime_factorization(A).items():\n",
    "        if min_prime == prime:\n",
    "            continue\n",
    "        mult_exponent = (mult_exponent * (exponent*B + 1))\n",
    "    min_exponent_b = (min_exponent*B)\n",
    "    sum_min_exponent_b = ((min_exponent_b*(min_exponent_b+1))//2)\n",
    "    print(((sum_min_exponent_b * mult_exponent) // min_exponent) % mod)\n",
    "    \n",
    "if __name__ == \"__main__\":\n",
    "    main()"
   ]
  },
  {
   "cell_type": "code",
   "execution_count": null,
   "metadata": {},
   "outputs": [],
   "source": []
  }
 ],
 "metadata": {
  "kernelspec": {
   "display_name": "Python 3",
   "language": "python",
   "name": "python3"
  },
  "language_info": {
   "codemirror_mode": {
    "name": "ipython",
    "version": 3
   },
   "file_extension": ".py",
   "mimetype": "text/x-python",
   "name": "python",
   "nbconvert_exporter": "python",
   "pygments_lexer": "ipython3",
   "version": "3.11.1"
  },
  "orig_nbformat": 4
 },
 "nbformat": 4,
 "nbformat_minor": 2
}
