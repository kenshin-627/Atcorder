{
 "cells": [
  {
   "cell_type": "code",
   "execution_count": 3,
   "metadata": {},
   "outputs": [
    {
     "name": "stdout",
     "output_type": "stream",
     "text": [
      "defaultdict(<class 'int'>, {0: 0, 1: 1, 2: 1, 3: 2, 4: 2})\n",
      "defaultdict(<class 'list'>, {1: [1, 2], 2: [3, 4]})\n"
     ]
    }
   ],
   "source": [
    "from collections import defaultdict\n",
    "\n",
    "def main():\n",
    "    N = int(input())\n",
    "    A = list(map(int, input().split()))\n",
    "    P = list(map(lambda x:int(x)-1, input().split()))\n",
    "    dist_dict = defaultdict(int)\n",
    "    dist_to_list = defaultdict(list)\n",
    "    dist_to_list[0].append(0)\n",
    "    for i in range(N-1):\n",
    "        dist_dict[i+1] = dist_dict[P[i]] + 1\n",
    "        dist_to_list[dist_dict[i+1]].append(i+1)\n",
    "    keys = sorted(dist_to_list.keys())\n",
    "    while keys:\n",
    "        key = keys.pop()\n",
    "        tmp_sum = 0\n",
    "        for i in dist_to_list[key]:\n",
    "            tmp_sum += A[i]\n",
    "        if tmp_sum < 0:\n",
    "            print(\"-\")\n",
    "            return\n",
    "        elif tmp_sum > 0:\n",
    "            print(\"+\")\n",
    "            return\n",
    "    print(0)\n",
    "\n",
    "if __name__ == \"__main__\":\n",
    "    main()"
   ]
  },
  {
   "cell_type": "code",
   "execution_count": null,
   "metadata": {},
   "outputs": [],
   "source": []
  }
 ],
 "metadata": {
  "kernelspec": {
   "display_name": "Python 3",
   "language": "python",
   "name": "python3"
  },
  "language_info": {
   "codemirror_mode": {
    "name": "ipython",
    "version": 3
   },
   "file_extension": ".py",
   "mimetype": "text/x-python",
   "name": "python",
   "nbconvert_exporter": "python",
   "pygments_lexer": "ipython3",
   "version": "3.11.1"
  }
 },
 "nbformat": 4,
 "nbformat_minor": 2
}
