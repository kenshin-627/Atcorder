{
 "cells": [
  {
   "cell_type": "code",
   "execution_count": 11,
   "metadata": {},
   "outputs": [
    {
     "name": "stdout",
     "output_type": "stream",
     "text": [
      "[0, 2, 3, 4]\n",
      "[3, 4, 5, 7]\n",
      "18\n"
     ]
    }
   ],
   "source": [
    "from bisect import *\n",
    "from collections import defaultdict\n",
    "\n",
    "def main():\n",
    "    N = int(input())\n",
    "    A = list(map(int, input().split()))\n",
    "    for i,a in enumerate(A):\n",
    "        if i >= a:\n",
    "            print(0)\n",
    "            return\n",
    "        if A[a-1] != a:\n",
    "            print(0)\n",
    "            return\n",
    "    head = []\n",
    "    tail = []\n",
    "    num2idx = defaultdict(list)\n",
    "    for i in range(N):\n",
    "        num2idx[A[i]].append(i)\n",
    "    for key in num2idx:\n",
    "        head.append(num2idx[key][0])\n",
    "        tail.append(num2idx[key][-1])\n",
    "    head.sort()\n",
    "    tail.sort()\n",
    "    tmp = 0\n",
    "    ans = 1\n",
    "    for t in tail:\n",
    "        idx = bisect_right(head, t)\n",
    "        ans = ans * (idx - tmp) % 998244353\n",
    "        tmp += 1\n",
    "    print(ans)\n",
    "\n",
    "if __name__ == \"__main__\":\n",
    "    main()"
   ]
  },
  {
   "cell_type": "code",
   "execution_count": null,
   "metadata": {},
   "outputs": [],
   "source": []
  }
 ],
 "metadata": {
  "kernelspec": {
   "display_name": "Python 3",
   "language": "python",
   "name": "python3"
  },
  "language_info": {
   "codemirror_mode": {
    "name": "ipython",
    "version": 3
   },
   "file_extension": ".py",
   "mimetype": "text/x-python",
   "name": "python",
   "nbconvert_exporter": "python",
   "pygments_lexer": "ipython3",
   "version": "3.11.1"
  }
 },
 "nbformat": 4,
 "nbformat_minor": 2
}
