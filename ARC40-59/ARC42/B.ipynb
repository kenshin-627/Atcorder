{
 "cells": [
  {
   "cell_type": "code",
   "execution_count": 5,
   "metadata": {},
   "outputs": [
    {
     "name": "stdout",
     "output_type": "stream",
     "text": [
      "1 2 2 3\n",
      "2 3 3 4\n"
     ]
    }
   ],
   "source": [
    "from functools import lru_cache\n",
    "import sys\n",
    "sys.setrecursionlimit(10**9)\n",
    "# input = sys.stdin.readline\n",
    "from decimal import Decimal\n",
    "from functools import cmp_to_key\n",
    "from collections import Counter\n",
    "from itertools import permutations\n",
    "from itertools import combinations\n",
    "from itertools import combinations_with_replacement\n",
    "from itertools import product\n",
    "from itertools import accumulate\n",
    "from itertools import groupby\n",
    "from copy import deepcopy\n",
    "import math\n",
    "import heapq\n",
    "from collections import OrderedDict\n",
    "import bisect\n",
    "from collections import deque\n",
    "from collections import defaultdict\n",
    "\n",
    "import math\n",
    "from itertools import pairwise\n",
    "import numpy as np\n",
    "\n",
    "def main():\n",
    "    xy = np.array(list(map(int,input().split())))\n",
    "    N = int(input())\n",
    "    xys = []\n",
    "    for _ in range(N):\n",
    "        xys.append(list(map(int,input().split())))\n",
    "    xys.append(xys[0])\n",
    "    xys = pairwise(xys)\n",
    "    ans = float(\"inf\")\n",
    "    for xy1,xy2 in xys:\n",
    "        xy1 = np.array(xy1)\n",
    "        xy2 = np.array(xy2)\n",
    "        x1,y1 = xy1\n",
    "        x2,y2 = xy2\n",
    "        # xyからxy1,xy2へのベクトル\n",
    "        xy_to_xy1 = xy1 - xy\n",
    "        xy_to_xy2 = xy2 - xy\n",
    "        # xy1からxy2へのベクトル\n",
    "        xy1_to_xy2 = xy2 - xy1\n",
    "        # xy1_to_xy2と，xy_to_xy1,xy_to_xy2の内積の符号が違うなら間に垂線を引ける\n",
    "        if xy1_to_xy2 @ xy_to_xy1 * xy1_to_xy2 @ xy_to_xy2 <= 0:\n",
    "            a = (y2-y1)\n",
    "            b = -(x2-x1)\n",
    "            c = -(a*x1+b*y1)\n",
    "            ans = min(ans, abs(a*xy[0]+b*xy[1]+c)/math.sqrt(a**2+b**2))\n",
    "        else:\n",
    "            ans = min(ans, np.linalg.norm(xy1-xy), np.linalg.norm(xy2-xy))\n",
    "    print(ans)\n",
    "    \n",
    "if __name__ == \"__main__\":\n",
    "    main()"
   ]
  },
  {
   "cell_type": "code",
   "execution_count": 10,
   "metadata": {},
   "outputs": [
    {
     "name": "stdout",
     "output_type": "stream",
     "text": [
      "-5\n"
     ]
    }
   ],
   "source": [
    "import numpy as np\n",
    "a = np.array([0,5])\n",
    "b = np.array([1,-1])\n",
    "print(a@b)"
   ]
  },
  {
   "cell_type": "code",
   "execution_count": null,
   "metadata": {},
   "outputs": [],
   "source": []
  }
 ],
 "metadata": {
  "kernelspec": {
   "display_name": "Python 3",
   "language": "python",
   "name": "python3"
  },
  "language_info": {
   "codemirror_mode": {
    "name": "ipython",
    "version": 3
   },
   "file_extension": ".py",
   "mimetype": "text/x-python",
   "name": "python",
   "nbconvert_exporter": "python",
   "pygments_lexer": "ipython3",
   "version": "3.11.1"
  },
  "orig_nbformat": 4
 },
 "nbformat": 4,
 "nbformat_minor": 2
}
