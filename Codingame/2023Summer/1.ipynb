{
 "cells": [
  {
   "cell_type": "code",
   "execution_count": null,
   "metadata": {},
   "outputs": [],
   "source": [
    "from json import dumps, loads\n",
    "from typing import List\n",
    "\n",
    "\n",
    "def best_remaining_mutant(mutant_scores: dict, threshold: int) -> str:\n",
    "    max_score = 0\n",
    "    name = \"\"\n",
    "    for mutant, score in mutant_scores.items():\n",
    "        if score > max_score and score <= threshold:\n",
    "            max_score = score\n",
    "            name = mutant\n",
    "    return name"
   ]
  }
 ],
 "metadata": {
  "language_info": {
   "name": "python"
  },
  "orig_nbformat": 4
 },
 "nbformat": 4,
 "nbformat_minor": 2
}
