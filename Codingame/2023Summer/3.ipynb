{
 "cells": [
  {
   "cell_type": "code",
   "execution_count": 19,
   "metadata": {},
   "outputs": [],
   "source": [
    "from json import dumps, loads\n",
    "from typing import List\n",
    "from collections import defaultdict\n",
    "\n",
    "def merge_files(file_contents: List[str]) -> str:\n",
    "    name_to_detail = defaultdict(dict)\n",
    "    name = \"\"\n",
    "    for file_content in file_contents:\n",
    "        for file in file_content.split(\"\\n\"):\n",
    "            tmp = dict()\n",
    "            for key_value in file.split(\";\"):\n",
    "                key, value = key_value.split(\"=\")\n",
    "                if key == \"Name\":\n",
    "                    name = value\n",
    "                    if name not in name_to_detail:\n",
    "                        name_to_detail[name] = dict()\n",
    "                else:\n",
    "                    tmp[key] = value\n",
    "            for key, value in tmp.items():\n",
    "                name_to_detail[name][key] = value\n",
    "    ans_str = []\n",
    "    for name in sorted(name_to_detail.keys()):\n",
    "        tmp = f\"Name={name}\"\n",
    "        if name_to_detail[name] == {}:\n",
    "            ans_str.append(tmp)\n",
    "            continue\n",
    "        tmp += \";\"\n",
    "        tmp += \";\".join([f\"{key}={name_to_detail[name][key]}\" for key in sorted(name_to_detail[name].keys())])\n",
    "        ans_str.append(tmp)\n",
    "    ans_str = \"\\n\".join(ans_str)\n",
    "    return ans_str"
   ]
  },
  {
   "cell_type": "code",
   "execution_count": 20,
   "metadata": {},
   "outputs": [
    {
     "name": "stdout",
     "output_type": "stream",
     "text": [
      "['ab', '']\n"
     ]
    }
   ],
   "source": [
    "a = \"abc\"\n",
    "print(a.split(\"c\"))"
   ]
  },
  {
   "cell_type": "code",
   "execution_count": 22,
   "metadata": {},
   "outputs": [
    {
     "name": "stdout",
     "output_type": "stream",
     "text": [
      "{'Age': '23'}\n",
      "{}\n"
     ]
    },
    {
     "data": {
      "text/plain": [
       "'Name=abcAge=23\\nName=bcd'"
      ]
     },
     "execution_count": 22,
     "metadata": {},
     "output_type": "execute_result"
    }
   ],
   "source": [
    "merge_files([\"Name=bcd\\nName=abc\",\"Name=abc;Age=23\"])"
   ]
  },
  {
   "cell_type": "code",
   "execution_count": null,
   "metadata": {},
   "outputs": [],
   "source": []
  }
 ],
 "metadata": {
  "kernelspec": {
   "display_name": "Python 3",
   "language": "python",
   "name": "python3"
  },
  "language_info": {
   "codemirror_mode": {
    "name": "ipython",
    "version": 3
   },
   "file_extension": ".py",
   "mimetype": "text/x-python",
   "name": "python",
   "nbconvert_exporter": "python",
   "pygments_lexer": "ipython3",
   "version": "3.11.1"
  },
  "orig_nbformat": 4
 },
 "nbformat": 4,
 "nbformat_minor": 2
}
