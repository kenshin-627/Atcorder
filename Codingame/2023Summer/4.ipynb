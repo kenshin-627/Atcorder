{
 "cells": [
  {
   "cell_type": "code",
   "execution_count": 19,
   "metadata": {},
   "outputs": [],
   "source": [
    "from json import dumps, loads\n",
    "from typing import List\n",
    "\n",
    "\n",
    "def find_correct_path(instructions: List[str], target: List[int]) -> str:\n",
    "    tx,ty = target\n",
    "    d_dict = {\"R\":(1,0),\"L\":(-1,0),\"U\":(0,1),\"D\":(0,-1)}\n",
    "    r_dict = {\"R\":\"D\",\"D\":\"L\",\"L\":\"U\",\"U\":\"R\"}\n",
    "    l_dict = {\"R\":\"U\",\"U\":\"L\",\"L\":\"D\",\"D\":\"R\"}\n",
    "    ind = 0\n",
    "    inst = \"\"\n",
    "    for i in range(len(instructions)):\n",
    "        for j in [\"FORWARD\",\"TURN RIGHT\",\"TURN LEFT\",\"BACK\"]:\n",
    "            # i番目の命令をjに置き換える\n",
    "            x,y = 0,0\n",
    "            d = \"R\"\n",
    "            for k in range(len(instructions)):\n",
    "                if k == i:\n",
    "                    if j == \"FORWARD\":\n",
    "                        x += d_dict[d][0]\n",
    "                        y += d_dict[d][1]\n",
    "                    elif j == \"TURN RIGHT\":\n",
    "                        d = r_dict[d]\n",
    "                    elif j == \"TURN LEFT\":\n",
    "                        d = l_dict[d]\n",
    "                    elif j == \"BACK\":\n",
    "                        x -= d_dict[d][0]\n",
    "                        y -= d_dict[d][1]\n",
    "                else:\n",
    "                    if instructions[k] == \"FORWARD\":\n",
    "                        x += d_dict[d][0]\n",
    "                        y += d_dict[d][1]\n",
    "                    elif instructions[k] == \"TURN RIGHT\":\n",
    "                        d = r_dict[d]\n",
    "                    elif instructions[k] == \"TURN LEFT\":\n",
    "                        d = l_dict[d]\n",
    "                    elif instructions[k] == \"BACK\":\n",
    "                        x -= d_dict[d][0]\n",
    "                        y -= d_dict[d][1]\n",
    "            if x == tx and y == ty:\n",
    "                ind = i+1\n",
    "                inst = j\n",
    "                break\n",
    "        else:\n",
    "            continue\n",
    "        break\n",
    "    return f\"Replace instruction {ind} with {inst}\""
   ]
  },
  {
   "cell_type": "code",
   "execution_count": 20,
   "metadata": {},
   "outputs": [
    {
     "data": {
      "text/plain": [
       "'Replace instruction 1 with TURN RIGHT'"
      ]
     },
     "execution_count": 20,
     "metadata": {},
     "output_type": "execute_result"
    }
   ],
   "source": [
    "a = [\"BACK\", \"TURN RIGHT\", \"FORWARD\", \"TURN RIGHT\", \"FORWARD\", \"FORWARD\", \"FORWARD\", \"FORWARD\"]\n",
    "b = [-1, 4]\n",
    "find_correct_path(a,b)"
   ]
  },
  {
   "cell_type": "code",
   "execution_count": null,
   "metadata": {},
   "outputs": [],
   "source": []
  }
 ],
 "metadata": {
  "kernelspec": {
   "display_name": "Python 3",
   "language": "python",
   "name": "python3"
  },
  "language_info": {
   "codemirror_mode": {
    "name": "ipython",
    "version": 3
   },
   "file_extension": ".py",
   "mimetype": "text/x-python",
   "name": "python",
   "nbconvert_exporter": "python",
   "pygments_lexer": "ipython3",
   "version": "3.11.1"
  },
  "orig_nbformat": 4
 },
 "nbformat": 4,
 "nbformat_minor": 2
}
