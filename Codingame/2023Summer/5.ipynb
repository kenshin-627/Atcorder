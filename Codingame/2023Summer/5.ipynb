{
 "cells": [
  {
   "cell_type": "code",
   "execution_count": null,
   "metadata": {},
   "outputs": [],
   "source": [
    "from json import dumps, loads\n",
    "from typing import List\n",
    "from collections import defaultdict\n",
    "from collections import deque\n",
    "\n",
    "def gear_balance(n_gears: int, connections: List[List[int]]) -> List[int]:\n",
    "    one = set()\n",
    "    two = set()\n",
    "    adj_dict = defaultdict(list)\n",
    "    for a, b in connections:\n",
    "        adj_dict[a].append(b)\n",
    "        adj_dict[b].append(a)\n",
    "    one.add(0)\n",
    "    q = deque([0])\n",
    "    seen = set(q)\n",
    "    while q:\n",
    "        now = q.popleft()\n",
    "        for nxt in adj_dict[now]:\n",
    "            if nxt not in seen:\n",
    "                seen.add(nxt)\n",
    "                if now in one:\n",
    "                    two.add(nxt)\n",
    "                else:\n",
    "                    one.add(nxt)\n",
    "                q.append(nxt)\n",
    "            else:\n",
    "                if now in one and nxt in one:\n",
    "                    return [-1,-1]\n",
    "                if now in two and nxt in two:\n",
    "                    return [-1,-1]\n",
    "    return [len(one), len(two)]\n"
   ]
  }
 ],
 "metadata": {
  "language_info": {
   "name": "python"
  },
  "orig_nbformat": 4
 },
 "nbformat": 4,
 "nbformat_minor": 2
}
