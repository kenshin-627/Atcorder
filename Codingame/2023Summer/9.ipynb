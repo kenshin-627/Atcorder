{
 "cells": [
  {
   "cell_type": "code",
   "execution_count": 4,
   "metadata": {},
   "outputs": [
    {
     "name": "stdout",
     "output_type": "stream",
     "text": [
      "0\n"
     ]
    }
   ],
   "source": [
    "import sys\n",
    "import math\n",
    "import random\n",
    "\n",
    "# Auto-generated code below aims at helping you parse\n",
    "# the standard input according to the problem statement.\n",
    "# game loop\n",
    "while True:\n",
    "    s = list(map(int, input().split()))\n",
    "    ans = \"\"\n",
    "    rnd = random.randint(0, 3)\n",
    "    if rnd == 0:\n",
    "        ans = \"UP\"\n",
    "    elif rnd == 1:\n",
    "        ans = \"DOWN\"\n",
    "    elif rnd == 2:\n",
    "        ans = \"LEFT\"\n",
    "    else:\n",
    "        ans = \"RIGHT\"\n",
    "    print(f\"{ans}\", file=sys.stderr, flush=True)\n",
    "    # print(f\"{s}\", file=sys.stderr, flush=True)"
   ]
  },
  {
   "cell_type": "code",
   "execution_count": null,
   "metadata": {},
   "outputs": [],
   "source": []
  }
 ],
 "metadata": {
  "kernelspec": {
   "display_name": "Python 3",
   "language": "python",
   "name": "python3"
  },
  "language_info": {
   "codemirror_mode": {
    "name": "ipython",
    "version": 3
   },
   "file_extension": ".py",
   "mimetype": "text/x-python",
   "name": "python",
   "nbconvert_exporter": "python",
   "pygments_lexer": "ipython3",
   "version": "3.11.1"
  },
  "orig_nbformat": 4
 },
 "nbformat": 4,
 "nbformat_minor": 2
}
