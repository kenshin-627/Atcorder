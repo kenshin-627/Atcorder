{
 "cells": [
  {
   "cell_type": "code",
   "execution_count": 10,
   "metadata": {},
   "outputs": [
    {
     "name": "stdout",
     "output_type": "stream",
     "text": [
      "5\n"
     ]
    }
   ],
   "source": [
    "from itertools import accumulate\n",
    "\n",
    "def main():\n",
    "    N,K = map(int,input().split())\n",
    "    A = list(map(int,input().split()))\n",
    "    mod = 10**9+7\n",
    "    dp = [0]*(K+1)\n",
    "    dp[0] = 1\n",
    "    for i in range(N):\n",
    "        dp = list(accumulate(dp))\n",
    "        dp = [dp[j]-dp[j-A[i]-1] if j-A[i]-1>=0 else dp[j] for j in range(K+1)]\n",
    "        dp = [dp[j]%mod for j in range(K+1)]\n",
    "    print(dp[K])\n",
    "\n",
    "if __name__ == \"__main__\":\n",
    "    main()"
   ]
  },
  {
   "cell_type": "code",
   "execution_count": null,
   "metadata": {},
   "outputs": [],
   "source": []
  }
 ],
 "metadata": {
  "kernelspec": {
   "display_name": "Python 3",
   "language": "python",
   "name": "python3"
  },
  "language_info": {
   "codemirror_mode": {
    "name": "ipython",
    "version": 3
   },
   "file_extension": ".py",
   "mimetype": "text/x-python",
   "name": "python",
   "nbconvert_exporter": "python",
   "pygments_lexer": "ipython3",
   "version": "3.11.1"
  }
 },
 "nbformat": 4,
 "nbformat_minor": 2
}
