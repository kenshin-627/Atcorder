{
 "cells": [
  {
   "cell_type": "code",
   "execution_count": null,
   "metadata": {},
   "outputs": [],
   "source": [
    "from functools import lru_cache\n",
    "import sys\n",
    "sys.setrecursionlimit(10**9)\n",
    "# input = sys.stdin.readline\n",
    "from decimal import Decimal\n",
    "from functools import cmp_to_key\n",
    "from collections import Counter\n",
    "from itertools import permutations\n",
    "from itertools import combinations\n",
    "from itertools import combinations_with_replacement\n",
    "from itertools import product\n",
    "from itertools import accumulate\n",
    "from itertools import groupby\n",
    "from itertools import pairwise\n",
    "from copy import deepcopy\n",
    "import networkx as nx\n",
    "import networkx.algorithms as nxa\n",
    "import numpy as np\n",
    "import math\n",
    "from heapq import *\n",
    "from collections import OrderedDict\n",
    "from bisect import *\n",
    "from collections import deque\n",
    "from collections import defaultdict\n",
    "\n",
    "def main():\n",
    "    N = int(input())\n",
    "    max_x = float(\"-inf\")\n",
    "    max_y = float(\"-inf\")\n",
    "    min_x = float(\"inf\")\n",
    "    min_y = float(\"inf\")\n",
    "    for _ in range(N):\n",
    "        x,y = map(int,input().split())\n",
    "        new_x = x+y\n",
    "        new_y = x-y\n",
    "        max_x = max(max_x,new_x)\n",
    "        max_y = max(max_y,new_y)\n",
    "        min_x = min(min_x,new_x)\n",
    "        min_y = min(min_y,new_y)\n",
    "    print(max(max_x-min_x,max_y-min_y))\n",
    "    \n",
    "if __name__ == \"__main__\":\n",
    "    main()"
   ]
  }
 ],
 "metadata": {
  "language_info": {
   "name": "python"
  },
  "orig_nbformat": 4
 },
 "nbformat": 4,
 "nbformat_minor": 2
}
