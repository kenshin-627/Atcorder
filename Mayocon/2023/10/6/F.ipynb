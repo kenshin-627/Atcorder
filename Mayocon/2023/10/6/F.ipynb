{
 "cells": [
  {
   "cell_type": "code",
   "execution_count": null,
   "metadata": {},
   "outputs": [],
   "source": [
    "from functools import lru_cache\n",
    "import sys\n",
    "sys.setrecursionlimit(10**9)\n",
    "# input = sys.stdin.readline\n",
    "from decimal import Decimal\n",
    "from functools import cmp_to_key\n",
    "from collections import Counter\n",
    "from itertools import permutations\n",
    "from itertools import combinations\n",
    "from itertools import combinations_with_replacement\n",
    "from itertools import product\n",
    "from itertools import accumulate\n",
    "from itertools import groupby\n",
    "from itertools import pairwise\n",
    "from copy import deepcopy\n",
    "import networkx as nx\n",
    "import networkx.algorithms as nxa\n",
    "import numpy as np\n",
    "import math\n",
    "from heapq import *\n",
    "from collections import OrderedDict\n",
    "from bisect import *\n",
    "from collections import deque\n",
    "from collections import defaultdict\n",
    "\n",
    "def main():\n",
    "    N,M = map(int,input().split())\n",
    "    # key: 数字, value: その数字が出てきたindexのリスト\n",
    "    num_to_index = defaultdict(list)\n",
    "    for i in range(N):\n",
    "        A,B = map(int,input().split())\n",
    "        num_to_index[A].append(i)\n",
    "        num_to_index[B].append(i)\n",
    "    ans_list = [0]*M\n",
    "    # left: 左端の数字，right: 右端の数字，removed:今までに消した数字が出てきたindexのセット\n",
    "    q = deque([[1,M,set()]])\n",
    "    ans_list[-1] = 1\n",
    "    while q:\n",
    "        left,right,removed = q.popleft()\n",
    "        # 左端を消しても大丈夫なら消す\n",
    "        for idx in num_to_index[left]:\n",
    "            \n",
    "    \n",
    "if __name__ == \"__main__\":\n",
    "    main()"
   ]
  }
 ],
 "metadata": {
  "language_info": {
   "name": "python"
  },
  "orig_nbformat": 4
 },
 "nbformat": 4,
 "nbformat_minor": 2
}
