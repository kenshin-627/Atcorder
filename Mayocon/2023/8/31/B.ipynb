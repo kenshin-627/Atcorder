{
 "cells": [
  {
   "cell_type": "code",
   "execution_count": 1,
   "metadata": {},
   "outputs": [],
   "source": [
    "from functools import lru_cache\n",
    "import sys\n",
    "sys.setrecursionlimit(10**9)\n",
    "# input = sys.stdin.readline\n",
    "from decimal import Decimal\n",
    "from functools import cmp_to_key\n",
    "from collections import Counter\n",
    "from itertools import permutations\n",
    "from itertools import combinations\n",
    "from itertools import combinations_with_replacement\n",
    "from copy import deepcopy\n",
    "import math\n",
    "import heapq\n",
    "from collections import OrderedDict\n",
    "import bisect\n",
    "from collections import deque\n",
    "from collections import defaultdict\n",
    "\n",
    "def main():\n",
    "    N,M = map(int,input().split())\n",
    "    S = []\n",
    "    for _ in range(N):\n",
    "        S.append(list(input()))\n",
    "    left_up = [[\"#\",\"#\",\"#\",\".\"],[\"#\",\"#\",\"#\",\".\"],[\"#\",\"#\",\"#\",\".\"],[\".\",\".\",\".\",\".\"]]\n",
    "    right_down = [[\".\",\".\",\".\",\".\"],[\".\",\"#\",\"#\",\"#\"],[\".\",\"#\",\"#\",\"#\"],[\".\",\"#\",\"#\",\"#\"]]\n",
    "    ans = []\n",
    "    for i in range(N-8):\n",
    "        for j in range(M-8):\n",
    "            tmp_lu = []\n",
    "            for s in S[i:i+4]:\n",
    "                tmp_lu.append(s[j:j+4])\n",
    "            tmp_rd = []\n",
    "            for s in S[i+5:i+9]:\n",
    "                tmp_rd.append(s[j+5:j+9])\n",
    "            if tmp_lu == left_up and tmp_rd == right_down:\n",
    "                ans.append((i+1,j+1))\n",
    "    for a in ans:\n",
    "        print(*a)\n",
    "    \n",
    "if __name__ == \"__main__\":\n",
    "    main()"
   ]
  },
  {
   "cell_type": "code",
   "execution_count": 7,
   "metadata": {},
   "outputs": [
    {
     "ename": "SyntaxError",
     "evalue": "invalid syntax (3012251075.py, line 2)",
     "output_type": "error",
     "traceback": [
      "\u001b[0;36m  Cell \u001b[0;32mIn[7], line 2\u001b[0;36m\u001b[0m\n\u001b[0;31m    print(a[(0:2,0:2)])\u001b[0m\n\u001b[0m              ^\u001b[0m\n\u001b[0;31mSyntaxError\u001b[0m\u001b[0;31m:\u001b[0m invalid syntax\n"
     ]
    }
   ],
   "source": [
    "a = [[1,2,3],[4,5,6],[7,8,9]]\n",
    "print(a[0:2])"
   ]
  },
  {
   "cell_type": "code",
   "execution_count": null,
   "metadata": {},
   "outputs": [],
   "source": []
  }
 ],
 "metadata": {
  "kernelspec": {
   "display_name": "Python 3",
   "language": "python",
   "name": "python3"
  },
  "language_info": {
   "codemirror_mode": {
    "name": "ipython",
    "version": 3
   },
   "file_extension": ".py",
   "mimetype": "text/x-python",
   "name": "python",
   "nbconvert_exporter": "python",
   "pygments_lexer": "ipython3",
   "version": "3.11.1"
  },
  "orig_nbformat": 4
 },
 "nbformat": 4,
 "nbformat_minor": 2
}
