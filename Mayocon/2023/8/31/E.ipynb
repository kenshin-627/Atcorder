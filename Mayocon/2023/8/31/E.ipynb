{
 "cells": [
  {
   "cell_type": "code",
   "execution_count": 15,
   "metadata": {},
   "outputs": [
    {
     "name": "stdout",
     "output_type": "stream",
     "text": [
      "[defaultdict(<class 'int'>, {}), defaultdict(<class 'int'>, {}), defaultdict(<class 'int'>, {'c': 1}), defaultdict(<class 'int'>, {'d': 1})]\n",
      "[defaultdict(<class 'int'>, {}), defaultdict(<class 'int'>, {}), defaultdict(<class 'int'>, {'c': 1, 'd': 1})]\n",
      "2\n"
     ]
    }
   ],
   "source": [
    "from functools import lru_cache\n",
    "import sys\n",
    "sys.setrecursionlimit(10**9)\n",
    "# input = sys.stdin.readline\n",
    "from decimal import Decimal\n",
    "from functools import cmp_to_key\n",
    "from collections import Counter\n",
    "from itertools import permutations\n",
    "from itertools import combinations\n",
    "from itertools import combinations_with_replacement\n",
    "from copy import deepcopy\n",
    "import math\n",
    "import heapq\n",
    "from collections import OrderedDict\n",
    "import bisect\n",
    "from collections import deque\n",
    "from collections import defaultdict\n",
    "\n",
    "def main():\n",
    "    H,W = map(int,input().split())\n",
    "    H_dict = [defaultdict(int) for _ in range(H)]\n",
    "    W_dict = [defaultdict(int) for _ in range(W)]\n",
    "    for i in range(H):\n",
    "        c = input()\n",
    "        for j in range(W):\n",
    "            H_dict[i][c[j]] += 1\n",
    "            W_dict[j][c[j]] += 1\n",
    "    while True:\n",
    "        flag = False\n",
    "        H_q = deque()\n",
    "        W_q = deque()\n",
    "        for i in range(H):\n",
    "            if len(H_dict[i]) == 1:\n",
    "                if list(H_dict[i].values())[0] > 1:\n",
    "                    H_q.append(i)\n",
    "                    flag = True\n",
    "        for j in range(W):\n",
    "            if len(W_dict[j]) == 1:\n",
    "                if list(W_dict[j].values())[0] > 1:\n",
    "                    W_q.append(j)\n",
    "                    flag = True\n",
    "        if not flag:\n",
    "            break\n",
    "        while H_q:\n",
    "            i = H_q.popleft()\n",
    "            for c in H_dict[i]:\n",
    "                for j in range(W):\n",
    "                    if c in W_dict[j]:\n",
    "                        W_dict[j][c] -= 1\n",
    "                        if W_dict[j][c] == 0:\n",
    "                            del W_dict[j][c]\n",
    "            H_dict[i].clear()\n",
    "        while W_q:\n",
    "            j = W_q.popleft()\n",
    "            for c in W_dict[j]:\n",
    "                for i in range(H):\n",
    "                    if c in H_dict[i]:\n",
    "                        H_dict[i][c] -= 1\n",
    "                        if H_dict[i][c] == 0:\n",
    "                            del H_dict[i][c]\n",
    "            W_dict[j].clear()\n",
    "    ans = 0\n",
    "    for i in range(H):\n",
    "        ans += sum(list(H_dict[i].values()))\n",
    "    print(ans)\n",
    "    \n",
    "if __name__ == \"__main__\":\n",
    "    main()"
   ]
  },
  {
   "cell_type": "code",
   "execution_count": 12,
   "metadata": {},
   "outputs": [
    {
     "name": "stdout",
     "output_type": "stream",
     "text": [
      "[1, 2]\n"
     ]
    }
   ],
   "source": [
    "from collections import defaultdict\n",
    "a = defaultdict(int)\n",
    "a[1] = 1\n",
    "a[2] = 2\n",
    "print(list(a.values()))\n"
   ]
  },
  {
   "cell_type": "code",
   "execution_count": null,
   "metadata": {},
   "outputs": [],
   "source": []
  }
 ],
 "metadata": {
  "kernelspec": {
   "display_name": "Python 3",
   "language": "python",
   "name": "python3"
  },
  "language_info": {
   "codemirror_mode": {
    "name": "ipython",
    "version": 3
   },
   "file_extension": ".py",
   "mimetype": "text/x-python",
   "name": "python",
   "nbconvert_exporter": "python",
   "pygments_lexer": "ipython3",
   "version": "3.11.1"
  },
  "orig_nbformat": 4
 },
 "nbformat": 4,
 "nbformat_minor": 2
}
