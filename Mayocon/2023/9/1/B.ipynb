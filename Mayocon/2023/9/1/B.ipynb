{
 "cells": [
  {
   "cell_type": "code",
   "execution_count": null,
   "metadata": {},
   "outputs": [],
   "source": [
    "from functools import lru_cache\n",
    "import sys\n",
    "sys.setrecursionlimit(10**9)\n",
    "# input = sys.stdin.readline\n",
    "from decimal import Decimal\n",
    "from functools import cmp_to_key\n",
    "from collections import Counter\n",
    "from itertools import permutations\n",
    "from itertools import combinations\n",
    "from itertools import combinations_with_replacement\n",
    "from copy import deepcopy\n",
    "import math\n",
    "import heapq\n",
    "from collections import OrderedDict\n",
    "import bisect\n",
    "from collections import deque\n",
    "from collections import defaultdict\n",
    "\n",
    "def main():\n",
    "    N = int(input())\n",
    "    SF = []\n",
    "    for i in range(N):\n",
    "        F,S = map(int,input().split())\n",
    "        SF.append((S,F))\n",
    "    SF.sort(reverse=True)\n",
    "    # 一番美味しいアイスの味\n",
    "    max_f = SF[0][1]\n",
    "    # 一番美味しいアイスの美味しさ\n",
    "    max_s = SF[0][0]\n",
    "    # トータル\n",
    "    total = 0\n",
    "    for s,f in SF[1:]:\n",
    "        if max_f == f:\n",
    "            total = max(total, max_s + s // 2)\n",
    "        else:\n",
    "            total = max(total, max_s + s)\n",
    "    print(total)\n",
    "    \n",
    "if __name__ == \"__main__\":\n",
    "    main()"
   ]
  }
 ],
 "metadata": {
  "language_info": {
   "name": "python"
  },
  "orig_nbformat": 4
 },
 "nbformat": 4,
 "nbformat_minor": 2
}
