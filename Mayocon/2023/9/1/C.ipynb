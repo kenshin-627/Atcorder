{
 "cells": [
  {
   "cell_type": "code",
   "execution_count": null,
   "metadata": {},
   "outputs": [],
   "source": [
    "from functools import lru_cache\n",
    "import sys\n",
    "sys.setrecursionlimit(10**9)\n",
    "# input = sys.stdin.readline\n",
    "from decimal import Decimal\n",
    "from functools import cmp_to_key\n",
    "from collections import Counter\n",
    "from itertools import permutations\n",
    "from itertools import combinations\n",
    "from itertools import combinations_with_replacement\n",
    "from copy import deepcopy\n",
    "import math\n",
    "import heapq\n",
    "from collections import OrderedDict\n",
    "import bisect\n",
    "from collections import deque\n",
    "from collections import defaultdict\n",
    "\n",
    "def main():\n",
    "    N,Y = map(int,input().split())\n",
    "    a,b,c = 0,0,0\n",
    "    # 全部1000円にする\n",
    "    c = Y//1000\n",
    "    if N == c:\n",
    "        print(a,b,c)\n",
    "        return\n",
    "    if c < N:\n",
    "        print(-1,-1,-1)\n",
    "        return\n",
    "    for i in range((c-N) // 4 + 1):\n",
    "        j = (c-N) - 4*i\n",
    "        if i < 2*j:\n",
    "            continue\n",
    "        if N-i+j < 0:\n",
    "            continue\n",
    "        print(j,i-2*j,N-i+j)\n",
    "        return\n",
    "    print(-1,-1,-1)\n",
    "    \n",
    "if __name__ == \"__main__\":\n",
    "    main()"
   ]
  }
 ],
 "metadata": {
  "language_info": {
   "name": "python"
  },
  "orig_nbformat": 4
 },
 "nbformat": 4,
 "nbformat_minor": 2
}
