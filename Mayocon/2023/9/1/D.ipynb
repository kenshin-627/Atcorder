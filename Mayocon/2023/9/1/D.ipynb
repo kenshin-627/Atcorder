{
 "cells": [
  {
   "cell_type": "code",
   "execution_count": null,
   "metadata": {},
   "outputs": [],
   "source": [
    "from collections import defaultdict\n",
    "\n",
    "def main():\n",
    "    N = int(input())\n",
    "    # 総獲得議席数\n",
    "    gain_seats = 0\n",
    "    # 総議席数\n",
    "    total_seats = 0\n",
    "    # [[n,m], ...]: n人鞍替えさせるとm議席獲得できる\n",
    "    num_gain_seats = []\n",
    "    for _ in [0]*N:\n",
    "        X,Y,Z = map(int, input().split())\n",
    "        total_seats += Z\n",
    "        if X-Y > 0:\n",
    "            gain_seats += Z\n",
    "        else:\n",
    "            num_gain_seats.append([(Y-X)//2+1, Z])\n",
    "    # 獲得しないといけない議席数\n",
    "    need_seats = (total_seats+1)//2\n",
    "    if gain_seats >= need_seats:\n",
    "        print(0)\n",
    "        return\n",
    "    # 獲得議席数が足りていたら，配列には追加せずに鞍替えさせた人数の最小値を保存しておく\n",
    "    min_num = float(\"inf\")\n",
    "    # dp[i]: i議席ちょうどを獲得するために必要な最小人数\n",
    "    dp = defaultdict(lambda: float(\"inf\"))\n",
    "    dp[gain_seats] = 0\n",
    "    for n,m in num_gain_seats:\n",
    "        keys = list(dp.keys())\n",
    "        # 更新候補\n",
    "        tmp = []\n",
    "        for key in keys:\n",
    "            if key+m >= need_seats:\n",
    "                if min_num > dp[key]+n:\n",
    "                    min_num = dp[key]+n\n",
    "            else:\n",
    "                tmp.append([key+m, dp[key]+n])\n",
    "        for key, n in tmp:\n",
    "            if dp[key] > n:\n",
    "                dp[key] = n\n",
    "    print(min_num)\n",
    "    \n",
    "if __name__ == \"__main__\":\n",
    "    main()"
   ]
  }
 ],
 "metadata": {
  "language_info": {
   "name": "python"
  },
  "orig_nbformat": 4
 },
 "nbformat": 4,
 "nbformat_minor": 2
}
