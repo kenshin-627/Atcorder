{
 "cells": [
  {
   "cell_type": "code",
   "execution_count": null,
   "metadata": {},
   "outputs": [],
   "source": [
    "from collections import defaultdict\n",
    "\n",
    "def main():\n",
    "    N = int(input())\n",
    "    # 各指数の最大値，max_p[i]: iの指数の最大値\n",
    "    max_p = defaultdict(int)\n",
    "    # 各指数の2番目に大きい値，second_p[i]: iの指数の2番目に大きい値\n",
    "    second_p = defaultdict(int)\n",
    "    # i番目の整数の因数分解，factor[i]: i番目の整数の因数分解\n",
    "    factor = defaultdict(list)\n",
    "    for i in range(N):\n",
    "        m = int(input())\n",
    "        for _ in range(m):\n",
    "            p,e = map(int,input().split())\n",
    "            factor[i].append((p,e))\n",
    "            if max_p[p] < e:\n",
    "                second_p[p] = max_p[p]\n",
    "                max_p[p] = e\n",
    "            elif second_p[p] < e:\n",
    "                second_p[p] = e\n",
    "    ans_set = set()\n",
    "    for i in range(N):\n",
    "        tmp = defaultdict(int)\n",
    "        for p,e in factor[i]:\n",
    "            if max_p[p] == e and second_p[p] != e:\n",
    "                tmp[p] = second_p[p]\n",
    "        ans_set.add(str(tmp))\n",
    "    # print(ans_set)\n",
    "    print(len(ans_set))\n",
    "    \n",
    "if __name__ == \"__main__\":\n",
    "    main()"
   ]
  }
 ],
 "metadata": {
  "kernelspec": {
   "display_name": "Python 3",
   "language": "python",
   "name": "python3"
  },
  "language_info": {
   "codemirror_mode": {
    "name": "ipython",
    "version": 3
   },
   "file_extension": ".py",
   "mimetype": "text/x-python",
   "name": "python",
   "nbconvert_exporter": "python",
   "pygments_lexer": "ipython3",
   "version": "3.11.1"
  },
  "orig_nbformat": 4
 },
 "nbformat": 4,
 "nbformat_minor": 2
}
