{
 "cells": [
  {
   "cell_type": "code",
   "execution_count": null,
   "metadata": {},
   "outputs": [],
   "source": [
    "from functools import lru_cache\n",
    "import sys\n",
    "sys.setrecursionlimit(10**9)\n",
    "# input = sys.stdin.readline\n",
    "from decimal import Decimal\n",
    "from functools import cmp_to_key\n",
    "from collections import Counter\n",
    "from itertools import permutations\n",
    "from itertools import combinations\n",
    "from itertools import combinations_with_replacement\n",
    "from itertools import product\n",
    "from itertools import accumulate\n",
    "from itertools import groupby\n",
    "from copy import deepcopy\n",
    "import math\n",
    "import heapq\n",
    "from collections import OrderedDict\n",
    "import bisect\n",
    "from collections import deque\n",
    "\n",
    "from collections import defaultdict\n",
    "\n",
    "def main():\n",
    "    N,Q = map(int,input().split())\n",
    "    adj_set = defaultdict(set)\n",
    "    for _ in [0]*Q:\n",
    "        T,A,B = map(int,input().split())\n",
    "        if T == 1:\n",
    "            adj_set[A].add(B)\n",
    "        elif T == 2:\n",
    "            adj_set[A].discard(B)\n",
    "        else:\n",
    "            if B in adj_set[A] and A in adj_set[B]:\n",
    "                print(\"Yes\")\n",
    "            else:\n",
    "                print(\"No\")\n",
    "    \n",
    "if __name__ == \"__main__\":\n",
    "    main()"
   ]
  }
 ],
 "metadata": {
  "language_info": {
   "name": "python"
  },
  "orig_nbformat": 4
 },
 "nbformat": 4,
 "nbformat_minor": 2
}
