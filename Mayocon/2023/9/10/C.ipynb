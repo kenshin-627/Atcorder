{
 "cells": [
  {
   "cell_type": "code",
   "execution_count": 2,
   "metadata": {},
   "outputs": [
    {
     "name": "stdout",
     "output_type": "stream",
     "text": [
      "[0, 1]\n",
      "[1, 0]\n",
      "No\n",
      "No\n",
      "No\n"
     ]
    }
   ],
   "source": [
    "from functools import lru_cache\n",
    "import sys\n",
    "sys.setrecursionlimit(10**9)\n",
    "# input = sys.stdin.readline\n",
    "from decimal import Decimal\n",
    "from functools import cmp_to_key\n",
    "from collections import Counter\n",
    "from itertools import permutations\n",
    "from itertools import combinations\n",
    "from itertools import combinations_with_replacement\n",
    "from itertools import product\n",
    "from itertools import accumulate\n",
    "from itertools import groupby\n",
    "from copy import deepcopy\n",
    "import math\n",
    "import heapq\n",
    "from collections import OrderedDict\n",
    "import bisect\n",
    "from collections import deque\n",
    "from collections import defaultdict\n",
    "\n",
    "def main():\n",
    "    S = input()\n",
    "    T = input()\n",
    "    # 前からSとTを比較していく\n",
    "    before = []\n",
    "    for i in range(len(T)):\n",
    "        if S[i] == \"?\" or T[i] == \"?\":\n",
    "            before.append(1)\n",
    "        elif S[i] == T[i]:\n",
    "            before.append(1)\n",
    "        else:\n",
    "            before.append(0)\n",
    "    # 後ろからSとTを比較していく\n",
    "    after = []\n",
    "    for i in range(len(T)):\n",
    "        if S[-i-1] == \"?\" or T[-i-1] == \"?\":\n",
    "            after.append(1)\n",
    "        elif S[-i-1] == T[-i-1]:\n",
    "            after.append(1)\n",
    "        else:\n",
    "            after.append(0)\n",
    "    after = after[::-1]\n",
    "    bef_num = 0\n",
    "    aft_num = sum(after)\n",
    "    for i in range(len(T)+1):\n",
    "        # 前からi文字，後ろからlen(T)-i文字を比較する\n",
    "        if i == 0:\n",
    "            if aft_num == len(T):\n",
    "                print(\"Yes\")\n",
    "            else:\n",
    "                print(\"No\")\n",
    "            continue\n",
    "        if before[i-1] == 1:\n",
    "            bef_num += 1\n",
    "        if after[i-1] == 1:\n",
    "            aft_num -= 1\n",
    "        if bef_num + aft_num == len(T):\n",
    "            print(\"Yes\")\n",
    "        else:\n",
    "            print(\"No\")\n",
    "\n",
    "    \n",
    "if __name__ == \"__main__\":\n",
    "    main()"
   ]
  },
  {
   "cell_type": "code",
   "execution_count": null,
   "metadata": {},
   "outputs": [],
   "source": []
  }
 ],
 "metadata": {
  "kernelspec": {
   "display_name": "Python 3",
   "language": "python",
   "name": "python3"
  },
  "language_info": {
   "codemirror_mode": {
    "name": "ipython",
    "version": 3
   },
   "file_extension": ".py",
   "mimetype": "text/x-python",
   "name": "python",
   "nbconvert_exporter": "python",
   "pygments_lexer": "ipython3",
   "version": "3.11.1"
  },
  "orig_nbformat": 4
 },
 "nbformat": 4,
 "nbformat_minor": 2
}
