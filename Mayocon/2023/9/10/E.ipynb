{
 "cells": [
  {
   "cell_type": "code",
   "execution_count": null,
   "metadata": {},
   "outputs": [],
   "source": [
    "from functools import lru_cache\n",
    "import sys\n",
    "sys.setrecursionlimit(10**9)\n",
    "# input = sys.stdin.readline\n",
    "from decimal import Decimal\n",
    "from functools import cmp_to_key\n",
    "from collections import Counter\n",
    "from itertools import permutations\n",
    "from itertools import combinations\n",
    "from itertools import combinations_with_replacement\n",
    "from itertools import product\n",
    "from itertools import accumulate\n",
    "from itertools import groupby\n",
    "from copy import deepcopy\n",
    "import math\n",
    "import heapq\n",
    "from collections import OrderedDict\n",
    "import bisect\n",
    "from collections import deque\n",
    "from collections import defaultdict\n",
    "\n",
    "def main():\n",
    "    A,B,C = map(int,input().split())\n",
    "    dp = [[[0 for _ in range(101)] for _ in range(101)] for _ in range(101)]\n",
    "    for i in range(100):\n",
    "        for j in range(100):\n",
    "            dp[i][j][100] = 0\n",
    "            dp[i][100][j] = 0\n",
    "            dp[100][i][j] = 0\n",
    "    for i in range(99,A-1,-1):\n",
    "        for j in range(99,B-1,-1):\n",
    "            for k in range(99,C-1,-1):\n",
    "                # Aがi枚、Bがj枚、Cがk枚のときの遷移\n",
    "                # Aが選ばれる確率\n",
    "                p_a = (i/(i+j+k))\n",
    "                # Bが選ばれる確率\n",
    "                p_b = (j/(i+j+k))\n",
    "                # Cが選ばれる確率\n",
    "                p_c = (k/(i+j+k))\n",
    "                dp[i][j][k] = p_a*(dp[i+1][j][k]+1) + p_b*(dp[i][j+1][k]+1) + p_c*(dp[i][j][k+1]+1)\n",
    "    print(dp[A][B][C])\n",
    "    \n",
    "if __name__ == \"__main__\":\n",
    "    main()\n"
   ]
  }
 ],
 "metadata": {
  "language_info": {
   "name": "python"
  },
  "orig_nbformat": 4
 },
 "nbformat": 4,
 "nbformat_minor": 2
}
