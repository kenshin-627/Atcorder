{
 "cells": [
  {
   "cell_type": "code",
   "execution_count": null,
   "metadata": {},
   "outputs": [],
   "source": [
    "import math\n",
    "\n",
    "def main():\n",
    "    N,A,B = map(int,input().split())\n",
    "    U = list(map(int,input().split()))\n",
    "    U.sort(reverse=True)\n",
    "    if U[0] == U[A-1]:\n",
    "        C = U.count(U[0])\n",
    "        ans = 0\n",
    "        for i in range(A,min(C,B)+1):\n",
    "            ans += math.comb(C,i)\n",
    "        print(U[0])\n",
    "        print(ans)\n",
    "        return\n",
    "    print(sum(U[:A])/A)\n",
    "    C = U.count(U[A-1])\n",
    "    D = 0\n",
    "    for i in range(N):\n",
    "        if U[i] == U[A-1]:\n",
    "            D = i\n",
    "            break\n",
    "    print(math.comb(C,A-D))\n",
    "    \n",
    "if __name__ == \"__main__\":\n",
    "    main()"
   ]
  }
 ],
 "metadata": {
  "language_info": {
   "name": "python"
  },
  "orig_nbformat": 4
 },
 "nbformat": 4,
 "nbformat_minor": 2
}
