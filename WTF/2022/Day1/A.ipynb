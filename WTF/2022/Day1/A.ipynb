{
 "cells": [
  {
   "cell_type": "code",
   "execution_count": null,
   "metadata": {},
   "outputs": [],
   "source": [
    "def main():\n",
    "    N,M,A,B = map(int,input().split())\n",
    "    X = list(map(int,input().split()))\n",
    "    X_cnt = [0]*(N)\n",
    "    for x in X:\n",
    "        X_cnt[x-1] += 1\n",
    "    if A <= B:\n",
    "        print(N)\n",
    "        return\n",
    "    attack_num = A-B\n",
    "    ans = 0\n",
    "    X_cnt = sorted(X_cnt)\n",
    "    for cnt in X_cnt:\n",
    "        if B < cnt:\n",
    "            break\n",
    "        B -= cnt\n",
    "        ans += 1\n",
    "    print(ans + max(0,N-ans-attack_num))\n",
    "    \n",
    "if __name__ == \"__main__\":\n",
    "    main()"
   ]
  },
  {
   "cell_type": "code",
   "execution_count": 17,
   "metadata": {},
   "outputs": [
    {
     "name": "stdout",
     "output_type": "stream",
     "text": [
      "Counter({0: 3, 2: 2, 1: 1})\n",
      "{0: 3, 1: 1, 2: 2, 3: 0}\n"
     ]
    }
   ],
   "source": [
    "from collections import Counter\n",
    "\n",
    "def main():\n",
    "    N,M,A,B = map(int,input().split())\n",
    "    X = list(map(int,input().split()))\n",
    "    X_cnt = Counter(X)\n",
    "    X_cnt = sorted({k:X_cnt[k] for k in range(1,N+1)}.values())\n",
    "    attack_num = A-B\n",
    "    ans = 0\n",
    "    for cnt in X_cnt:\n",
    "        if B < cnt:\n",
    "            break\n",
    "        B -= cnt\n",
    "        ans += 1\n",
    "    print(ans + max(0,N-ans-attack_num))\n",
    "    \n",
    "if __name__ == \"__main__\":\n",
    "    main()"
   ]
  },
  {
   "cell_type": "code",
   "execution_count": null,
   "metadata": {},
   "outputs": [],
   "source": []
  }
 ],
 "metadata": {
  "kernelspec": {
   "display_name": "Python 3",
   "language": "python",
   "name": "python3"
  },
  "language_info": {
   "codemirror_mode": {
    "name": "ipython",
    "version": 3
   },
   "file_extension": ".py",
   "mimetype": "text/x-python",
   "name": "python",
   "nbconvert_exporter": "python",
   "pygments_lexer": "ipython3",
   "version": "3.11.1"
  },
  "orig_nbformat": 4
 },
 "nbformat": 4,
 "nbformat_minor": 2
}
