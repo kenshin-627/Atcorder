{
 "cells": [
  {
   "cell_type": "code",
   "execution_count": 4,
   "id": "f81877d6",
   "metadata": {},
   "outputs": [
    {
     "name": "stdout",
     "output_type": "stream",
     "text": [
      "20 1000\n",
      "4\n",
      "51 69 102 127 233 295 350 388 417 466 469 523 553 587 720 739 801 855 926 954\n",
      "170\n",
      "170\n"
     ]
    }
   ],
   "source": [
    "def main():\n",
    "    # N: 切れ目の数\n",
    "    # L: 羊羹の長さ\n",
    "    N,L = map(int, input().split())\n",
    "    # K: 切れ目を何個選ぶか(K+1個に分ける)\n",
    "    K = int(input())\n",
    "    # AN: 各切れ目の左端からの距離\n",
    "    AN = [*map(int, input().split())]\n",
    "    AN.append(L)\n",
    "    for i in range(N, 0, -1):\n",
    "        AN[i] = AN[i] - AN[i-1]\n",
    "    left = 0\n",
    "    right = L\n",
    "    while(left < right):\n",
    "        mid = (left+right+1) // 2\n",
    "        if devide(AN, K+1, mid):\n",
    "            left = mid\n",
    "        else:\n",
    "            right = mid - 1\n",
    "    print(left)\n",
    "    \n",
    "    \n",
    "# 貪欲法でa個の長さb以上のピースに分割可能か Trueなら可能\n",
    "def devide(AN, a, b):\n",
    "    devide_num = 0\n",
    "    tmp = 0\n",
    "    for A in AN:\n",
    "        tmp += A\n",
    "        if tmp >= b:\n",
    "            tmp = 0\n",
    "            devide_num += 1\n",
    "            if devide_num >= a:\n",
    "                return True\n",
    "    return False\n",
    "    \n",
    "if __name__ == \"__main__\":\n",
    "    main()"
   ]
  },
  {
   "cell_type": "code",
   "execution_count": null,
   "id": "dff1efdb",
   "metadata": {},
   "outputs": [],
   "source": []
  }
 ],
 "metadata": {
  "kernelspec": {
   "display_name": "Python 3 (ipykernel)",
   "language": "python",
   "name": "python3"
  },
  "language_info": {
   "codemirror_mode": {
    "name": "ipython",
    "version": 3
   },
   "file_extension": ".py",
   "mimetype": "text/x-python",
   "name": "python",
   "nbconvert_exporter": "python",
   "pygments_lexer": "ipython3",
   "version": "3.9.6"
  }
 },
 "nbformat": 4,
 "nbformat_minor": 5
}
