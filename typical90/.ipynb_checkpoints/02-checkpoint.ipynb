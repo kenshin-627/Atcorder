{
 "cells": [
  {
   "cell_type": "code",
   "execution_count": 3,
   "id": "f66c5444",
   "metadata": {},
   "outputs": [
    {
     "name": "stdout",
     "output_type": "stream",
     "text": [
      "10\n",
      "((((()))))\n",
      "(((()())))\n",
      "(((())()))\n",
      "(((()))())\n",
      "(((())))()\n",
      "((()(())))\n",
      "((()()()))\n",
      "((()())())\n",
      "((()()))()\n",
      "((())(()))\n",
      "((())()())\n",
      "((())())()\n",
      "((()))(())\n",
      "((()))()()\n",
      "(()((())))\n",
      "(()(()()))\n",
      "(()(())())\n",
      "(()(()))()\n",
      "(()()(()))\n",
      "(()()()())\n",
      "(()()())()\n",
      "(()())(())\n",
      "(()())()()\n",
      "(())((()))\n",
      "(())(()())\n",
      "(())(())()\n",
      "(())()(())\n",
      "(())()()()\n",
      "()(((())))\n",
      "()((()()))\n",
      "()((())())\n",
      "()((()))()\n",
      "()(()(()))\n",
      "()(()()())\n",
      "()(()())()\n",
      "()(())(())\n",
      "()(())()()\n",
      "()()((()))\n",
      "()()(()())\n",
      "()()(())()\n",
      "()()()(())\n",
      "()()()()()\n"
     ]
    }
   ],
   "source": [
    "from itertools import combinations\n",
    "\n",
    "def main():\n",
    "    N = int(input())\n",
    "    if N % 2 == 0:\n",
    "        N_list = [*range(0,N)]\n",
    "        for i in combinations(N_list, N//2):\n",
    "            tmp = 0\n",
    "            for j in range(N):\n",
    "                if j in i:\n",
    "                    tmp += 1\n",
    "                else:\n",
    "                    tmp -= 1\n",
    "                if tmp < 0:\n",
    "                    break\n",
    "            else:\n",
    "                show_brackets(N, i)\n",
    "\n",
    "# 長さNの括弧だけでできた文字列の表示\n",
    "# タプルで渡されるiの位置に左括弧をそれ以外に右括弧を表示\n",
    "def show_brackets(N, lefts):\n",
    "    ans = \"\"\n",
    "    for i in range(N):\n",
    "        if i in lefts:\n",
    "            ans += \"(\"\n",
    "        else:\n",
    "            ans += \")\"\n",
    "    print(ans)\n",
    "    \n",
    "if __name__ == \"__main__\":\n",
    "    main()"
   ]
  },
  {
   "cell_type": "code",
   "execution_count": null,
   "id": "23649019",
   "metadata": {},
   "outputs": [],
   "source": []
  }
 ],
 "metadata": {
  "kernelspec": {
   "display_name": "Python 3 (ipykernel)",
   "language": "python",
   "name": "python3"
  },
  "language_info": {
   "codemirror_mode": {
    "name": "ipython",
    "version": 3
   },
   "file_extension": ".py",
   "mimetype": "text/x-python",
   "name": "python",
   "nbconvert_exporter": "python",
   "pygments_lexer": "ipython3",
   "version": "3.9.6"
  }
 },
 "nbformat": 4,
 "nbformat_minor": 5
}
