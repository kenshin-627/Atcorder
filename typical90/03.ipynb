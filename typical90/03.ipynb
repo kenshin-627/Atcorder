{
 "cells": [
  {
   "cell_type": "code",
   "execution_count": 1,
   "id": "33603b3f",
   "metadata": {},
   "outputs": [
    {
     "name": "stdout",
     "output_type": "stream",
     "text": [
      "4\n",
      "1 2\n",
      "2 3\n",
      "4 2\n",
      "[[], [2], [1, 3, 4], [2], [2]]\n"
     ]
    }
   ],
   "source": [
    "from itertools import combinations\n",
    "from itertools import permutations\n",
    "import bisect\n",
    "from collections import Counter\n",
    "from collections import deque\n",
    "from collections import defaultdict\n",
    "\n",
    "def main():\n",
    "    N = int(input())\n",
    "    adj_list = [[] for _ in range(N+1)]\n",
    "    for _ in range(N-1):\n",
    "        A,B = map(int, input().split())\n",
    "        adj_list[A].append(B)\n",
    "        adj_list[B].append(A)\n",
    "    print(adj_list)\n",
    "\n",
    "def BFS(adjacency_list, x):\n",
    "    # i番目の頂点の深さ 一番上の頂点は深さ0\n",
    "    depth_dict = defaultdict(int)\n",
    "    # 今後探索する頂点\n",
    "    dq_search = deque([x])\n",
    "    # 探索した頂点\n",
    "    seen_node = set()\n",
    "    seen_node.add(x)\n",
    "    while(dq_search):\n",
    "        now_node = dq_search.popleft()\n",
    "        for next_node in adjacency_list[now_node]:\n",
    "            if next_node not in seen_node:\n",
    "                depth_dict[next_node] = depth_dict[now_node] + 1\n",
    "                dq_search.append(next_node)\n",
    "                seen_node[next_node] = 1\n",
    "    depth_items = depth_dict.items()\n",
    "    return max(depth_dict)\n",
    "    \n",
    "if __name__ == \"__main__\":\n",
    "    main()"
   ]
  },
  {
   "cell_type": "code",
   "execution_count": 6,
   "id": "c593344f",
   "metadata": {},
   "outputs": [
    {
     "name": "stdout",
     "output_type": "stream",
     "text": [
      "dict_items([(5, 2), (3, 4)])\n",
      "(5, 2)\n"
     ]
    }
   ],
   "source": [
    "from collections import deque\n",
    "from collections import defaultdict\n",
    "a = defaultdict(int)\n",
    "a[5] = 2\n",
    "a[3] = 4\n",
    "print(a.items())\n",
    "a_items = a.items()\n",
    "print(max(a_items))"
   ]
  },
  {
   "cell_type": "code",
   "execution_count": null,
   "id": "b8338e52",
   "metadata": {},
   "outputs": [],
   "source": []
  }
 ],
 "metadata": {
  "kernelspec": {
   "display_name": "Python 3 (ipykernel)",
   "language": "python",
   "name": "python3"
  },
  "language_info": {
   "codemirror_mode": {
    "name": "ipython",
    "version": 3
   },
   "file_extension": ".py",
   "mimetype": "text/x-python",
   "name": "python",
   "nbconvert_exporter": "python",
   "pygments_lexer": "ipython3",
   "version": "3.9.6"
  }
 },
 "nbformat": 4,
 "nbformat_minor": 5
}
