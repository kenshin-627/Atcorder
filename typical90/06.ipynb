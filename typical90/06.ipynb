{
 "cells": [
  {
   "cell_type": "code",
   "execution_count": 28,
   "metadata": {},
   "outputs": [
    {
     "name": "stdout",
     "output_type": "stream",
     "text": [
      "cba\n"
     ]
    }
   ],
   "source": [
    "from collections import deque\n",
    "from collections import defaultdict\n",
    "\n",
    "def main():\n",
    "    N,K = map(int,input().split())\n",
    "    S = input()\n",
    "    # Sの文字をkeyとして、その文字が後ろから何文字目に出現するかをvalueとする辞書を作成\n",
    "    str_to_index = defaultdict(deque)\n",
    "    for i,s in enumerate(S):\n",
    "        str_to_index[s].append(N-i)\n",
    "    S_sort = sorted(set(S))\n",
    "    ans = []\n",
    "    # 今見てる文字が後ろから何番目か\n",
    "    idx = float(\"inf\")\n",
    "    while K > 0:\n",
    "        for s in S_sort:\n",
    "            if len(str_to_index[s]) == 0:\n",
    "                continue\n",
    "            while str_to_index[s][0] >= idx:\n",
    "                str_to_index[s].popleft()\n",
    "                if len(str_to_index[s]) == 0:\n",
    "                    break\n",
    "            if len(str_to_index[s]) == 0:\n",
    "                continue\n",
    "            if str_to_index[s][0] >= K:\n",
    "                ans.append(s)\n",
    "                idx = str_to_index[s].popleft()\n",
    "                K -= 1\n",
    "                break\n",
    "    print(\"\".join(ans))\n",
    "    \n",
    "if __name__ == \"__main__\":\n",
    "    main()"
   ]
  },
  {
   "cell_type": "code",
   "execution_count": null,
   "metadata": {},
   "outputs": [],
   "source": []
  }
 ],
 "metadata": {
  "kernelspec": {
   "display_name": "Python 3",
   "language": "python",
   "name": "python3"
  },
  "language_info": {
   "codemirror_mode": {
    "name": "ipython",
    "version": 3
   },
   "file_extension": ".py",
   "mimetype": "text/x-python",
   "name": "python",
   "nbconvert_exporter": "python",
   "pygments_lexer": "ipython3",
   "version": "3.11.1"
  }
 },
 "nbformat": 4,
 "nbformat_minor": 2
}
